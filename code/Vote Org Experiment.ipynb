{
 "cells": [
  {
   "cell_type": "markdown",
   "metadata": {},
   "source": [
    "# Vote Org"
   ]
  },
  {
   "cell_type": "markdown",
   "metadata": {},
   "source": [
    "|   About the script    |                                         |\n",
    "| ----------- | --------------------------------------- |\n",
    "| Last update |  Dec 4 2019 |\n",
    "| Experiment  | Vote.org Hustle SMS GOTV Test Result  |\n",
    "| Dataset     | merge `raw_messages_hustle.csv` and `vdo_hustle_gotv_outcome including phone number for merging purposes.csv`|"
   ]
  },
  {
   "cell_type": "markdown",
   "metadata": {},
   "source": [
    "\n",
    "|    Available covariates   |      |\n",
    "| ----------- | --------------------------------------- |\n",
    "| 2 General Elections Turnout|  2008, 2012  |\n",
    "|demographical Profile|  age, gender, race, marrige|\n",
    "| Vote Propensity | predicted by logit regression using voting history |"
   ]
  },
  {
   "cell_type": "code",
   "execution_count": 1,
   "metadata": {},
   "outputs": [],
   "source": [
    "# load libraries\n",
    "\n",
    "# data cleaning and reshape\n",
    "import pandas as pd\n",
    "import numpy as np\n",
    "\n",
    "# caculate standard error\n",
    "from scipy.stats import sem\n",
    "\n",
    "# regression\n",
    "import statsmodels.api as sm\n",
    "# regression use formualar\n",
    "import statsmodels.formula.api as smf\n",
    "# regression with clustered standard error\n",
    "import econtools.metrics as mt\n",
    "\n",
    "# plot display\n",
    "%matplotlib inline\n",
    "import seaborn as sns\n",
    "import matplotlib.pyplot as plt\n",
    "\n",
    "# supress warning inline\n",
    "import warnings\n",
    "warnings.filterwarnings('ignore')\n",
    "\n",
    "# display and export regression table\n",
    "from stargazer.stargazer import Stargazer\n",
    "\n",
    "# display latex and html table\n",
    "from IPython.display import Latex\n",
    "from IPython.display import HTML"
   ]
  },
  {
   "cell_type": "code",
   "execution_count": 2,
   "metadata": {},
   "outputs": [],
   "source": [
    "# set random seed to ensure the following code and result is replicable\n",
    "np.random.seed(2019)"
   ]
  },
  {
   "cell_type": "code",
   "execution_count": 4,
   "metadata": {},
   "outputs": [],
   "source": [
    "df = pd.read_csv('../../Machine Learing HTE/1_data/org_hustle/org_hustle_add.csv')"
   ]
  },
  {
   "cell_type": "code",
   "execution_count": 3,
   "metadata": {
    "scrolled": true
   },
   "outputs": [],
   "source": [
    "# df =pd.read_csv(\"../../Machine Learing HTE/1_data/org_hustle/vdo_hustle_gotv_outcome including phone number for merging purposes.csv\")"
   ]
  },
  {
   "cell_type": "markdown",
   "metadata": {},
   "source": [
    "## clean dataset"
   ]
  },
  {
   "cell_type": "code",
   "execution_count": 4,
   "metadata": {},
   "outputs": [],
   "source": [
    "def p_latex(x, cap):\n",
    "    latex_string = '\\\\begin{table}[ht]\\\\centering\\n\\\\caption{' + cap +'}\\n'  \n",
    "    latex_string = latex_string+x.to_latex().\\\n",
    "    replace('\\\\toprule','\\\\hline\\\\hline\\\\\\\\[-1em]').\\\n",
    "    replace('\\\\bottomrule', '\\\\hline \\\\hline') +'\\\\end{table}'\n",
    "    return Latex(latex_string)"
   ]
  },
  {
   "cell_type": "code",
   "execution_count": 5,
   "metadata": {},
   "outputs": [],
   "source": [
    "a = pd.crosstab(df.dma_name.str.extract('([A-Z]{2})', expand = False), df.gender)"
   ]
  },
  {
   "cell_type": "code",
   "execution_count": 6,
   "metadata": {},
   "outputs": [],
   "source": [
    "a = a.sort_values('Female', ascending=False).\\\n",
    "rename_axis(index={'dma_name': 'States'},\n",
    "             columns = {'gender': 'Gender'})"
   ]
  },
  {
   "cell_type": "code",
   "execution_count": 7,
   "metadata": {},
   "outputs": [
    {
     "data": {
      "text/latex": [
       "\\begin{table}[ht]\\centering\n",
       "\\caption{Vote.org Experiment Target}\n",
       "\\begin{tabular}{lrrr}\n",
       "\\hline\\hline\\\\[-1em]\n",
       "Gender &  Female &   Male &  Unknown \\\\\n",
       "States &         &        &          \\\\\n",
       "\\midrule\n",
       "PA     &  252586 &  72008 &     7191 \\\\\n",
       "OH     &  176282 &  41039 &     9150 \\\\\n",
       "AZ     &  139573 &  61339 &    11197 \\\\\n",
       "MO     &  113607 &  25190 &     6861 \\\\\n",
       "WI     &  104456 &  13365 &     4815 \\\\\n",
       "NV     &   59068 &  25097 &     4853 \\\\\n",
       "UT     &   44748 &  10067 &     3509 \\\\\n",
       "KY     &    5442 &    564 &      138 \\\\\n",
       "MN     &    5330 &    290 &       85 \\\\\n",
       "WV     &    5198 &    552 &       87 \\\\\n",
       "NY     &    1488 &    201 &       15 \\\\\n",
       "NM     &     750 &    306 &      125 \\\\\n",
       "IN     &     424 &     39 &        4 \\\\\n",
       "DC     &     166 &     13 &        1 \\\\\n",
       "NE     &      60 &      1 &        0 \\\\\n",
       "MI     &      33 &      3 &        0 \\\\\n",
       "\\hline \\hline\n",
       "\\end{tabular}\n",
       "\\end{table}"
      ],
      "text/plain": [
       "<IPython.core.display.Latex object>"
      ]
     },
     "execution_count": 7,
     "metadata": {},
     "output_type": "execute_result"
    }
   ],
   "source": [
    "p_latex(a, 'Vote.org Experiment Target')"
   ]
  },
  {
   "cell_type": "code",
   "execution_count": 8,
   "metadata": {},
   "outputs": [],
   "source": [
    "#create assigned to texting condition variable\n",
    "df['treat_binary'] = np.where(df.assign_treat == \"Control\", 0, 1)"
   ]
  },
  {
   "cell_type": "code",
   "execution_count": 9,
   "metadata": {},
   "outputs": [],
   "source": [
    "df['voted']= np.where(df.vf_g2016.isna(), 0, 1)"
   ]
  },
  {
   "cell_type": "code",
   "execution_count": 10,
   "metadata": {},
   "outputs": [],
   "source": [
    "df.vf_g2008 = np.where(df.vf_g2008.isna(), 0, 1)\n",
    "df.vf_g2012 = np.where(df.vf_g2012.isna(), 0, 1)"
   ]
  },
  {
   "cell_type": "code",
   "execution_count": 11,
   "metadata": {},
   "outputs": [],
   "source": [
    "for c in ['gender','race', 'marital_status']:\n",
    "    drop_level = c+'_'+df[c].unique()[0]    \n",
    "    dummy=pd.get_dummies(df[c],prefix=c).drop(labels=drop_level,axis=1)\n",
    "    df=pd.concat([df,dummy], axis=1)"
   ]
  },
  {
   "cell_type": "code",
   "execution_count": 12,
   "metadata": {},
   "outputs": [
    {
     "data": {
      "text/plain": [
       "0.5225400806416879"
      ]
     },
     "execution_count": 12,
     "metadata": {},
     "output_type": "execute_result"
    }
   ],
   "source": [
    "df.voted.mean()"
   ]
  },
  {
   "cell_type": "code",
   "execution_count": 13,
   "metadata": {},
   "outputs": [
    {
     "data": {
      "text/plain": [
       "Index(['voterfile_id', 'hh_id', 'turnout_score', 'age', 'age_blk', 'gender',\n",
       "       'race', 'marital_status', 'dma', 'dma_name', 'dma_count', 'hh_n',\n",
       "       'multi_person_hh', 'hh_rep', 'assign_treat', 'strata', 'vf_g2008',\n",
       "       'vf_g2012', 'vf_g2016', 'phone_number', 'treat_binary', 'voted',\n",
       "       'gender_Male', 'gender_Unknown', 'race_AAPI', 'race_Black',\n",
       "       'race_Hispanic', 'race_Other', 'marital_status_Married',\n",
       "       'marital_status_Unknown'],\n",
       "      dtype='object')"
      ]
     },
     "execution_count": 13,
     "metadata": {},
     "output_type": "execute_result"
    }
   ],
   "source": [
    "df.columns"
   ]
  },
  {
   "cell_type": "code",
   "execution_count": 14,
   "metadata": {},
   "outputs": [],
   "source": [
    "df['assignment'] = df.assign_treat.replace( to_replace=['Plan Plus Poll', 'Plan Only', 'Control', 'Poll Location'],\n",
    "    value=['Polling location', 'Plan-making', 'Control', 'Polling location'])"
   ]
  },
  {
   "cell_type": "code",
   "execution_count": 15,
   "metadata": {},
   "outputs": [],
   "source": [
    "# description of assignment and compliance\n",
    "def f(x):\n",
    "    d = {}\n",
    "    d['Group Size'] = x['assignment'].count()\n",
    "    d['Proportion to Subject Pool'] =  x['assignment'].count()/df.shape[0] \n",
    "    d['Turnout'] = x['voted'].mean()\n",
    "\n",
    "    return pd.Series(d, index=[ 'Group Size',\n",
    "                               'Proportion to Subject Pool',\n",
    "                              'Turnout'])"
   ]
  },
  {
   "cell_type": "code",
   "execution_count": 16,
   "metadata": {},
   "outputs": [],
   "source": [
    "c = df[['assignment','voted']].groupby('assignment').apply(f).rename_axis(\"Assignment\").rename(index={0: 'control',\n",
    "                                                                                         1: 'treatment'})"
   ]
  },
  {
   "cell_type": "code",
   "execution_count": 17,
   "metadata": {
    "scrolled": true
   },
   "outputs": [
    {
     "data": {
      "text/html": [
       "<div>\n",
       "<style scoped>\n",
       "    .dataframe tbody tr th:only-of-type {\n",
       "        vertical-align: middle;\n",
       "    }\n",
       "\n",
       "    .dataframe tbody tr th {\n",
       "        vertical-align: top;\n",
       "    }\n",
       "\n",
       "    .dataframe thead th {\n",
       "        text-align: right;\n",
       "    }\n",
       "</style>\n",
       "<table border=\"1\" class=\"dataframe\">\n",
       "  <thead>\n",
       "    <tr style=\"text-align: right;\">\n",
       "      <th></th>\n",
       "      <th>Group Size</th>\n",
       "      <th>Proportion to Subject Pool</th>\n",
       "      <th>Turnout</th>\n",
       "    </tr>\n",
       "    <tr>\n",
       "      <th>Assignment</th>\n",
       "      <th></th>\n",
       "      <th></th>\n",
       "      <th></th>\n",
       "    </tr>\n",
       "  </thead>\n",
       "  <tbody>\n",
       "    <tr>\n",
       "      <th>Control</th>\n",
       "      <td>301920.0</td>\n",
       "      <td>0.250075</td>\n",
       "      <td>0.521194</td>\n",
       "    </tr>\n",
       "    <tr>\n",
       "      <th>Plan-making</th>\n",
       "      <td>301751.0</td>\n",
       "      <td>0.249935</td>\n",
       "      <td>0.520519</td>\n",
       "    </tr>\n",
       "    <tr>\n",
       "      <th>Polling location</th>\n",
       "      <td>603645.0</td>\n",
       "      <td>0.499989</td>\n",
       "      <td>0.524224</td>\n",
       "    </tr>\n",
       "  </tbody>\n",
       "</table>\n",
       "</div>"
      ],
      "text/plain": [
       "                  Group Size  Proportion to Subject Pool   Turnout\n",
       "Assignment                                                        \n",
       "Control             301920.0                    0.250075  0.521194\n",
       "Plan-making         301751.0                    0.249935  0.520519\n",
       "Polling location    603645.0                    0.499989  0.524224"
      ]
     },
     "execution_count": 17,
     "metadata": {},
     "output_type": "execute_result"
    }
   ],
   "source": [
    "c"
   ]
  },
  {
   "cell_type": "code",
   "execution_count": 18,
   "metadata": {},
   "outputs": [
    {
     "data": {
      "text/latex": [
       "\\begin{table}[ht]\\centering\n",
       "\\caption{Treatment Assignment in Vote.org Experiment}\n",
       "\\begin{tabular}{lrrr}\n",
       "\\hline\\hline\\\\[-1em]\n",
       "{} &  Group Size &  Proportion to Subject Pool &   Turnout \\\\\n",
       "Assignment       &             &                             &           \\\\\n",
       "\\midrule\n",
       "Control          &    301920.0 &                    0.250075 &  0.521194 \\\\\n",
       "Plan-making      &    301751.0 &                    0.249935 &  0.520519 \\\\\n",
       "Polling location &    603645.0 &                    0.499989 &  0.524224 \\\\\n",
       "\\hline \\hline\n",
       "\\end{tabular}\n",
       "\\end{table}"
      ],
      "text/plain": [
       "<IPython.core.display.Latex object>"
      ]
     },
     "execution_count": 18,
     "metadata": {},
     "output_type": "execute_result"
    }
   ],
   "source": [
    "p_latex(c, 'Treatment Assignment in Vote.org Experiment')"
   ]
  },
  {
   "cell_type": "code",
   "execution_count": 19,
   "metadata": {},
   "outputs": [],
   "source": [
    "# description of assignment and compliance\n",
    "def f(x):\n",
    "    d = {}\n",
    "    d['Group Size'] = x['treat_binary'].count()\n",
    "    d['Proportion to Subject Pool'] =  x['treat_binary'].count()/df.shape[0] \n",
    "    d['Turnout'] = x['voted'].mean()\n",
    "\n",
    "    return pd.Series(d, index=[ 'Group Size',\n",
    "                               'Proportion to Subject Pool',\n",
    "                              'Turnout'])"
   ]
  },
  {
   "cell_type": "code",
   "execution_count": 20,
   "metadata": {},
   "outputs": [],
   "source": [
    "b = df[['treat_binary','voted']].groupby('treat_binary').apply(f).rename_axis(\"Assignment\").rename(index={0: 'control',\n",
    "                                                                                         1: 'treatment'})"
   ]
  },
  {
   "cell_type": "code",
   "execution_count": 21,
   "metadata": {},
   "outputs": [
    {
     "data": {
      "text/latex": [
       "\\begin{table}[ht]\\centering\n",
       "\\caption{Receiving a Message in Vote.org Experiment}\n",
       "\\begin{tabular}{lrrr}\n",
       "\\hline\\hline\\\\[-1em]\n",
       "{} &  Group Size &  Proportion to Subject Pool &   Turnout \\\\\n",
       "Assignment &             &                             &           \\\\\n",
       "\\midrule\n",
       "control    &    301920.0 &                    0.250075 &  0.521194 \\\\\n",
       "treatment  &    905396.0 &                    0.749925 &  0.522989 \\\\\n",
       "\\hline \\hline\n",
       "\\end{tabular}\n",
       "\\end{table}"
      ],
      "text/plain": [
       "<IPython.core.display.Latex object>"
      ]
     },
     "execution_count": 21,
     "metadata": {},
     "output_type": "execute_result"
    }
   ],
   "source": [
    "p_latex(b, 'Receiving a Message in Vote.org Experiment')"
   ]
  },
  {
   "cell_type": "markdown",
   "metadata": {},
   "source": [
    "## Vote Propensity: The probability of voting based on vote history"
   ]
  },
  {
   "cell_type": "code",
   "execution_count": 22,
   "metadata": {},
   "outputs": [
    {
     "data": {
      "text/plain": [
       "(1207316, 31)"
      ]
     },
     "execution_count": 22,
     "metadata": {},
     "output_type": "execute_result"
    }
   ],
   "source": [
    "df.shape"
   ]
  },
  {
   "cell_type": "code",
   "execution_count": 23,
   "metadata": {},
   "outputs": [],
   "source": [
    "vote_list = ['vf_g2008','vf_g2012', \"age\",\n",
    "       'gender_Male', 'gender_Unknown', 'race_AAPI', 'race_Black',\n",
    "       'race_Hispanic', 'race_Other','marital_status_Married',\n",
    "       'marital_status_Unknown']\n",
    "\n",
    "pro_data = df.loc[:,[ 'treat_binary','voted', *vote_list]]"
   ]
  },
  {
   "cell_type": "code",
   "execution_count": 24,
   "metadata": {},
   "outputs": [],
   "source": [
    "y = pro_data[pro_data.treat_binary==0].voted.astype(int)\n",
    "\n",
    "X = pro_data[pro_data.treat_binary==0][vote_list]"
   ]
  },
  {
   "cell_type": "code",
   "execution_count": 25,
   "metadata": {},
   "outputs": [],
   "source": [
    "# Creat interaction term between vote histories\n",
    "from sklearn.preprocessing import PolynomialFeatures\n",
    "poly = PolynomialFeatures(interaction_only=True,include_bias = False)\n",
    "X_in = poly.fit_transform(X)\n",
    "\n",
    "from sklearn.linear_model import LogisticRegression\n",
    "#Note: logistic regression in sklearn is preset to be a regularization model with C=100).\n",
    "# C is the tuning parameter like alpha in Reidge and Lasso regression Reguilization\n",
    "logreg = LogisticRegression(C=1e90).fit(X_in, y)"
   ]
  },
  {
   "cell_type": "code",
   "execution_count": 26,
   "metadata": {},
   "outputs": [],
   "source": [
    "all_in=poly.fit_transform(pro_data[vote_list])\n",
    "\n",
    "vp = logreg.predict_proba(all_in)\n",
    "\n",
    "vp_df = pd.DataFrame(data={'vote_propensity': vp[:,1]}, index = pro_data.index)\n",
    "\n",
    "df = pd.merge(df, vp_df,left_index=True,\n",
    "    right_index=True,how='left')"
   ]
  },
  {
   "cell_type": "code",
   "execution_count": 27,
   "metadata": {},
   "outputs": [],
   "source": [
    "import matplotlib.pyplot as plt"
   ]
  },
  {
   "cell_type": "code",
   "execution_count": 7,
   "metadata": {
    "scrolled": false
   },
   "outputs": [
    {
     "data": {
      "image/png": "[encoded data removed]",
      "text/plain": [
       "<Figure size 648x432 with 1 Axes>"
      ]
     },
     "metadata": {
      "needs_background": "light"
     },
     "output_type": "display_data"
    }
   ],
   "source": [
    "import matplotlib.pylab as pylab\n",
    "params = {\n",
    "        'axes.labelsize': 'x-large',\n",
    "         'axes.titlesize':'x-large',\n",
    "         'xtick.labelsize':'x-large',\n",
    "         'ytick.labelsize':'x-large'}\n",
    "pylab.rcParams.update(params)\n",
    "plt.figure(figsize=(9,6))\n",
    "ax = plt.hist(df.vote_propensity, \n",
    "         30,color='#00838f')\n",
    "plt.xlabel(\"Vote Propensity\")\n",
    "plt.ylabel(\"Weighted Frequency\")\n",
    "plt.title(\"Vote Org Vote Propensity\") # You can comment this line out if you don't need title\n",
    "plt.show(ax)"
   ]
  },
  {
   "cell_type": "code",
   "execution_count": 16,
   "metadata": {},
   "outputs": [],
   "source": [
    "# Cut vote propensity score into 10 bins\n",
    "df['vp_10']=pd.cut(df.vote_propensity, np.arange(0,1.1,0.1))\n",
    "\n",
    "def get_bins_table():\n",
    "    pd.options.display.float_format = '{:.3%}'.format\n",
    "    a = df[['vp_10','voted','treat_binary']].\\\n",
    "    groupby(['vp_10',\"treat_binary\"]). \\\n",
    "    voted.agg([('Size','count'),\n",
    "              ('Turnout',np.mean),\n",
    "              ('Proportion', lambda x: x.count()/df[df.vote_propensity.isna()==False].shape[0])]).reset_index()\n",
    "    \n",
    "    b = df[['vp_10','voted','treat_binary']].\\\n",
    "    groupby(['vp_10',\"treat_binary\"]). \\\n",
    "    voted.agg([('Size','count'),\n",
    "              ('Turnout',np.mean)]).reset_index().groupby('vp_10').Turnout.agg([('Effect','diff')])\n",
    "    \n",
    "    r = pd.concat([a,b], axis=1)\n",
    "    r.rename(columns={'vp_10': 'Vote Propensity Range'}, inplace = True)\n",
    "    r.Effect.fillna(\" \", inplace=True)\n",
    "    r.treat_binary.replace([0,1],['Control', 'Treatment'], inplace=True)\n",
    "    return r"
   ]
  },
  {
   "cell_type": "code",
   "execution_count": 17,
   "metadata": {
    "scrolled": true
   },
   "outputs": [
    {
     "data": {
      "text/html": [
       "<div>\n",
       "<style scoped>\n",
       "    .dataframe tbody tr th:only-of-type {\n",
       "        vertical-align: middle;\n",
       "    }\n",
       "\n",
       "    .dataframe tbody tr th {\n",
       "        vertical-align: top;\n",
       "    }\n",
       "\n",
       "    .dataframe thead th {\n",
       "        text-align: right;\n",
       "    }\n",
       "</style>\n",
       "<table border=\"1\" class=\"dataframe\">\n",
       "  <thead>\n",
       "    <tr style=\"text-align: right;\">\n",
       "      <th></th>\n",
       "      <th>Vote Propensity Range</th>\n",
       "      <th>treat_binary</th>\n",
       "      <th>Size</th>\n",
       "      <th>Turnout</th>\n",
       "      <th>Proportion</th>\n",
       "      <th>Effect</th>\n",
       "    </tr>\n",
       "  </thead>\n",
       "  <tbody>\n",
       "    <tr>\n",
       "      <th>0</th>\n",
       "      <td>(0.1, 0.2]</td>\n",
       "      <td>Control</td>\n",
       "      <td>1367</td>\n",
       "      <td>22.970%</td>\n",
       "      <td>0.113%</td>\n",
       "      <td></td>\n",
       "    </tr>\n",
       "    <tr>\n",
       "      <th>1</th>\n",
       "      <td>(0.1, 0.2]</td>\n",
       "      <td>Treatment</td>\n",
       "      <td>4057</td>\n",
       "      <td>21.321%</td>\n",
       "      <td>0.336%</td>\n",
       "      <td>-1.649%</td>\n",
       "    </tr>\n",
       "    <tr>\n",
       "      <th>2</th>\n",
       "      <td>(0.2, 0.3]</td>\n",
       "      <td>Control</td>\n",
       "      <td>21207</td>\n",
       "      <td>29.693%</td>\n",
       "      <td>1.757%</td>\n",
       "      <td></td>\n",
       "    </tr>\n",
       "    <tr>\n",
       "      <th>3</th>\n",
       "      <td>(0.2, 0.3]</td>\n",
       "      <td>Treatment</td>\n",
       "      <td>63134</td>\n",
       "      <td>29.770%</td>\n",
       "      <td>5.229%</td>\n",
       "      <td>0.077%</td>\n",
       "    </tr>\n",
       "    <tr>\n",
       "      <th>4</th>\n",
       "      <td>(0.3, 0.4]</td>\n",
       "      <td>Control</td>\n",
       "      <td>88055</td>\n",
       "      <td>34.096%</td>\n",
       "      <td>7.293%</td>\n",
       "      <td></td>\n",
       "    </tr>\n",
       "    <tr>\n",
       "      <th>5</th>\n",
       "      <td>(0.3, 0.4]</td>\n",
       "      <td>Treatment</td>\n",
       "      <td>263367</td>\n",
       "      <td>34.246%</td>\n",
       "      <td>21.814%</td>\n",
       "      <td>0.150%</td>\n",
       "    </tr>\n",
       "    <tr>\n",
       "      <th>6</th>\n",
       "      <td>(0.4, 0.5]</td>\n",
       "      <td>Control</td>\n",
       "      <td>44083</td>\n",
       "      <td>44.745%</td>\n",
       "      <td>3.651%</td>\n",
       "      <td></td>\n",
       "    </tr>\n",
       "    <tr>\n",
       "      <th>7</th>\n",
       "      <td>(0.4, 0.5]</td>\n",
       "      <td>Treatment</td>\n",
       "      <td>132843</td>\n",
       "      <td>45.192%</td>\n",
       "      <td>11.003%</td>\n",
       "      <td>0.447%</td>\n",
       "    </tr>\n",
       "    <tr>\n",
       "      <th>8</th>\n",
       "      <td>(0.5, 0.6]</td>\n",
       "      <td>Control</td>\n",
       "      <td>36287</td>\n",
       "      <td>56.340%</td>\n",
       "      <td>3.006%</td>\n",
       "      <td></td>\n",
       "    </tr>\n",
       "    <tr>\n",
       "      <th>9</th>\n",
       "      <td>(0.5, 0.6]</td>\n",
       "      <td>Treatment</td>\n",
       "      <td>109045</td>\n",
       "      <td>56.545%</td>\n",
       "      <td>9.032%</td>\n",
       "      <td>0.205%</td>\n",
       "    </tr>\n",
       "    <tr>\n",
       "      <th>10</th>\n",
       "      <td>(0.6, 0.7]</td>\n",
       "      <td>Control</td>\n",
       "      <td>44417</td>\n",
       "      <td>65.180%</td>\n",
       "      <td>3.679%</td>\n",
       "      <td></td>\n",
       "    </tr>\n",
       "    <tr>\n",
       "      <th>11</th>\n",
       "      <td>(0.6, 0.7]</td>\n",
       "      <td>Treatment</td>\n",
       "      <td>133761</td>\n",
       "      <td>65.291%</td>\n",
       "      <td>11.079%</td>\n",
       "      <td>0.111%</td>\n",
       "    </tr>\n",
       "    <tr>\n",
       "      <th>12</th>\n",
       "      <td>(0.7, 0.8]</td>\n",
       "      <td>Control</td>\n",
       "      <td>48054</td>\n",
       "      <td>75.367%</td>\n",
       "      <td>3.980%</td>\n",
       "      <td></td>\n",
       "    </tr>\n",
       "    <tr>\n",
       "      <th>13</th>\n",
       "      <td>(0.7, 0.8]</td>\n",
       "      <td>Treatment</td>\n",
       "      <td>144905</td>\n",
       "      <td>75.421%</td>\n",
       "      <td>12.002%</td>\n",
       "      <td>0.054%</td>\n",
       "    </tr>\n",
       "    <tr>\n",
       "      <th>14</th>\n",
       "      <td>(0.8, 0.9]</td>\n",
       "      <td>Control</td>\n",
       "      <td>17783</td>\n",
       "      <td>83.181%</td>\n",
       "      <td>1.473%</td>\n",
       "      <td></td>\n",
       "    </tr>\n",
       "    <tr>\n",
       "      <th>15</th>\n",
       "      <td>(0.8, 0.9]</td>\n",
       "      <td>Treatment</td>\n",
       "      <td>52518</td>\n",
       "      <td>83.341%</td>\n",
       "      <td>4.350%</td>\n",
       "      <td>0.160%</td>\n",
       "    </tr>\n",
       "    <tr>\n",
       "      <th>16</th>\n",
       "      <td>(0.9, 1.0]</td>\n",
       "      <td>Control</td>\n",
       "      <td>667</td>\n",
       "      <td>89.355%</td>\n",
       "      <td>0.055%</td>\n",
       "      <td></td>\n",
       "    </tr>\n",
       "    <tr>\n",
       "      <th>17</th>\n",
       "      <td>(0.9, 1.0]</td>\n",
       "      <td>Treatment</td>\n",
       "      <td>1766</td>\n",
       "      <td>89.071%</td>\n",
       "      <td>0.146%</td>\n",
       "      <td>-0.284%</td>\n",
       "    </tr>\n",
       "  </tbody>\n",
       "</table>\n",
       "</div>"
      ],
      "text/plain": [
       "   Vote Propensity Range treat_binary    Size  Turnout  Proportion  Effect\n",
       "0             (0.1, 0.2]      Control    1367  22.970%      0.113%        \n",
       "1             (0.1, 0.2]    Treatment    4057  21.321%      0.336% -1.649%\n",
       "2             (0.2, 0.3]      Control   21207  29.693%      1.757%        \n",
       "3             (0.2, 0.3]    Treatment   63134  29.770%      5.229%  0.077%\n",
       "4             (0.3, 0.4]      Control   88055  34.096%      7.293%        \n",
       "5             (0.3, 0.4]    Treatment  263367  34.246%     21.814%  0.150%\n",
       "6             (0.4, 0.5]      Control   44083  44.745%      3.651%        \n",
       "7             (0.4, 0.5]    Treatment  132843  45.192%     11.003%  0.447%\n",
       "8             (0.5, 0.6]      Control   36287  56.340%      3.006%        \n",
       "9             (0.5, 0.6]    Treatment  109045  56.545%      9.032%  0.205%\n",
       "10            (0.6, 0.7]      Control   44417  65.180%      3.679%        \n",
       "11            (0.6, 0.7]    Treatment  133761  65.291%     11.079%  0.111%\n",
       "12            (0.7, 0.8]      Control   48054  75.367%      3.980%        \n",
       "13            (0.7, 0.8]    Treatment  144905  75.421%     12.002%  0.054%\n",
       "14            (0.8, 0.9]      Control   17783  83.181%      1.473%        \n",
       "15            (0.8, 0.9]    Treatment   52518  83.341%      4.350%  0.160%\n",
       "16            (0.9, 1.0]      Control     667  89.355%      0.055%        \n",
       "17            (0.9, 1.0]    Treatment    1766  89.071%      0.146% -0.284%"
      ]
     },
     "execution_count": 17,
     "metadata": {},
     "output_type": "execute_result"
    }
   ],
   "source": [
    "get_bins_table()"
   ]
  },
  {
   "cell_type": "code",
   "execution_count": 18,
   "metadata": {},
   "outputs": [
    {
     "data": {
      "text/latex": [
       "\\begin{table}[ht]\\centering\n",
       "\\caption{Crosstable of Vote Propensity and Turnout in Vote.org}\n",
       "\\begin{tabular}{llrrrl}\n",
       "\\hline\\hline\\\\[-1em]\n",
       "Vote Propensity Range & treat\\_binary &    Size &  Turnout &  Proportion &  Effect \\\\\n",
       "\\midrule\n",
       "           (0.1, 0.2] &      Control &    1367 &  22.970\\% &      0.113\\% &         \\\\\n",
       "           (0.1, 0.2] &    Treatment &    4057 &  21.321\\% &      0.336\\% & -1.649\\% \\\\\n",
       "           (0.2, 0.3] &      Control &   21207 &  29.693\\% &      1.757\\% &         \\\\\n",
       "           (0.2, 0.3] &    Treatment &   63134 &  29.770\\% &      5.229\\% &  0.077\\% \\\\\n",
       "           (0.3, 0.4] &      Control &   88055 &  34.096\\% &      7.293\\% &         \\\\\n",
       "           (0.3, 0.4] &    Treatment &  263367 &  34.246\\% &     21.814\\% &  0.150\\% \\\\\n",
       "           (0.4, 0.5] &      Control &   44083 &  44.745\\% &      3.651\\% &         \\\\\n",
       "           (0.4, 0.5] &    Treatment &  132843 &  45.192\\% &     11.003\\% &  0.447\\% \\\\\n",
       "           (0.5, 0.6] &      Control &   36287 &  56.340\\% &      3.006\\% &         \\\\\n",
       "           (0.5, 0.6] &    Treatment &  109045 &  56.545\\% &      9.032\\% &  0.205\\% \\\\\n",
       "           (0.6, 0.7] &      Control &   44417 &  65.180\\% &      3.679\\% &         \\\\\n",
       "           (0.6, 0.7] &    Treatment &  133761 &  65.291\\% &     11.079\\% &  0.111\\% \\\\\n",
       "           (0.7, 0.8] &      Control &   48054 &  75.367\\% &      3.980\\% &         \\\\\n",
       "           (0.7, 0.8] &    Treatment &  144905 &  75.421\\% &     12.002\\% &  0.054\\% \\\\\n",
       "           (0.8, 0.9] &      Control &   17783 &  83.181\\% &      1.473\\% &         \\\\\n",
       "           (0.8, 0.9] &    Treatment &   52518 &  83.341\\% &      4.350\\% &  0.160\\% \\\\\n",
       "           (0.9, 1.0] &      Control &     667 &  89.355\\% &      0.055\\% &         \\\\\n",
       "           (0.9, 1.0] &    Treatment &    1766 &  89.071\\% &      0.146\\% & -0.284\\% \\\\\n",
       "\\hline \\hline\n",
       "\\end{tabular}\n",
       "\\end{table}"
      ],
      "text/plain": [
       "<IPython.core.display.Latex object>"
      ]
     },
     "execution_count": 18,
     "metadata": {},
     "output_type": "execute_result"
    }
   ],
   "source": [
    "def p_latex(x, cap):\n",
    "    latex_string = '\\\\begin{table}[ht]\\\\centering\\n\\\\caption{' + cap +'}\\n'  \n",
    "    latex_string = latex_string+x.to_latex(index=False).\\\n",
    "    replace('\\\\toprule','\\\\hline\\\\hline\\\\\\\\[-1em]').\\\n",
    "    replace('\\\\bottomrule', '\\\\hline \\\\hline') +'\\\\end{table}'\n",
    "    return Latex(latex_string)\n",
    "\n",
    "p_latex(get_bins_table(),'Crosstable of Vote Propensity and Turnout in Vote.org')"
   ]
  },
  {
   "cell_type": "code",
   "execution_count": 31,
   "metadata": {},
   "outputs": [
    {
     "data": {
      "text/latex": [
       "\\begin{tabular}{lllrrrl}\n",
       "\\toprule\n",
       "{} & Vote Propensity Range & treat\\_binary &    Size &   Turnout &  Proportion &       Effect \\\\\n",
       "\\midrule\n",
       "0  &            (0.1, 0.2] &      Control &    1367 &  0.229700 &    0.001132 &              \\\\\n",
       "1  &            (0.1, 0.2] &    Treatment &    4057 &  0.213212 &    0.003360 &   -0.0164883 \\\\\n",
       "2  &            (0.2, 0.3] &      Control &   21346 &  0.297245 &    0.017681 &              \\\\\n",
       "3  &            (0.2, 0.3] &    Treatment &   63544 &  0.297872 &    0.052632 &  0.000626955 \\\\\n",
       "4  &            (0.3, 0.4] &      Control &   87802 &  0.340915 &    0.072725 &              \\\\\n",
       "5  &            (0.3, 0.4] &    Treatment &  262586 &  0.342440 &    0.217496 &   0.00152541 \\\\\n",
       "6  &            (0.4, 0.5] &      Control &   44181 &  0.447228 &    0.036594 &              \\\\\n",
       "7  &            (0.4, 0.5] &    Treatment &  133182 &  0.451765 &    0.110312 &   0.00453681 \\\\\n",
       "8  &            (0.5, 0.6] &      Control &   36277 &  0.563415 &    0.030048 &              \\\\\n",
       "9  &            (0.5, 0.6] &    Treatment &  108994 &  0.565297 &    0.090278 &   0.00188234 \\\\\n",
       "10 &            (0.6, 0.7] &      Control &   44386 &  0.651579 &    0.036764 &              \\\\\n",
       "11 &            (0.6, 0.7] &    Treatment &  133656 &  0.652780 &    0.110705 &   0.00120094 \\\\\n",
       "12 &            (0.7, 0.8] &      Control &   48137 &  0.753682 &    0.039871 &              \\\\\n",
       "13 &            (0.7, 0.8] &    Treatment &  145150 &  0.754220 &    0.120225 &  0.000537574 \\\\\n",
       "14 &            (0.8, 0.9] &      Control &   17759 &  0.831916 &    0.014709 &              \\\\\n",
       "15 &            (0.8, 0.9] &    Treatment &   52464 &  0.833410 &    0.043455 &   0.00149336 \\\\\n",
       "16 &            (0.9, 1.0] &      Control &     665 &  0.893233 &    0.000551 &              \\\\\n",
       "17 &            (0.9, 1.0] &    Treatment &    1763 &  0.891095 &    0.001460 &  -0.00213836 \\\\\n",
       "\\bottomrule\n",
       "\\end{tabular}\n"
      ],
      "text/plain": [
       "<IPython.core.display.Latex object>"
      ]
     },
     "execution_count": 31,
     "metadata": {},
     "output_type": "execute_result"
    }
   ],
   "source": [
    "# Vote trunout by vote propensity socre and treatment assignment\n",
    "Latex(get_bins_table().to_latex())"
   ]
  },
  {
   "cell_type": "markdown",
   "metadata": {},
   "source": [
    "## Balance Check"
   ]
  },
  {
   "cell_type": "code",
   "execution_count": 35,
   "metadata": {},
   "outputs": [],
   "source": [
    "prob_balance = []\n",
    "prob_balance.append(smf.ols(formula='treat_binary ~ vote_propensity ', data=df).fit())"
   ]
  },
  {
   "cell_type": "code",
   "execution_count": 36,
   "metadata": {},
   "outputs": [],
   "source": [
    "for var in ['gender','race', 'marital_status']:\n",
    "    formular = 'treat_binary ~ C('+var+')'\n",
    "    model = smf.ols(formular , df)\n",
    "    results = model.fit()\n",
    "    prob_balance.append(results)"
   ]
  },
  {
   "cell_type": "code",
   "execution_count": 37,
   "metadata": {},
   "outputs": [],
   "source": [
    "prob_balance.append(smf.ols('treat_binary ~vote_propensity+C(gender)+C(race)+C(marital_status)', data=df).\\\n",
    "fit(cov_type='cluster',cov_kwds={'groups':df['hh_id']}))"
   ]
  },
  {
   "cell_type": "code",
   "execution_count": 38,
   "metadata": {},
   "outputs": [
    {
     "data": {
      "text/html": [
       "Balance Check<br><table style=\"text-align:center\"><tr><td colspan=\"6\" style=\"border-bottom: 1px solid black\"></td></tr><tr><td style=\"text-align:left\"></td><td colspan=\"5\"><em>Dependent variable:</em></td></tr><tr><td style=\"text-align:left\"></td><tr><td colspan=\"1\">vote propensity</td><td colspan=\"1\">gender</td><td colspan=\"1\">race</td><td colspan=\"1\">marital_status</td><td colspan=\"1\">all</td></tr><tr><td style=\"text-align:left\"></td><td>(1)</td><td>(2)</td><td>(3)</td><td>(4)</td><td>(5)</td></tr><tr><td colspan=\"6\" style=\"border-bottom: 1px solid black\"></td></tr><tr><td style=\"text-align:left\">C(gender)[T.Male]</td><td></td><td>-0.0001<sup></sup></td><td></td><td></td><td>0.0002<sup></sup></td></tr><tr><td style=\"text-align:left\"></td><td></td><td>(0.001)</td><td></td><td></td><td>(0.0012)</td></tr><tr><td style=\"text-align:left\">C(gender)[T.Unknown]</td><td></td><td>0.0005<sup></sup></td><td></td><td></td><td>0.0008<sup></sup></td></tr><tr><td style=\"text-align:left\"></td><td></td><td>(0.002)</td><td></td><td></td><td>(0.0022)</td></tr><tr><td style=\"text-align:left\">C(marital_status)[T.Unknown]</td><td></td><td></td><td></td><td>-0.0011<sup></sup></td><td>-0.0012<sup></sup></td></tr><tr><td style=\"text-align:left\"></td><td></td><td></td><td></td><td>(0.0028)</td><td>(0.0029)</td></tr><tr><td style=\"text-align:left\">C(marital_status)[T.Unmarried]</td><td></td><td></td><td></td><td>-0.0001<sup></sup></td><td>-0.0001<sup></sup></td></tr><tr><td style=\"text-align:left\"></td><td></td><td></td><td></td><td>(0.0012)</td><td>(0.0015)</td></tr><tr><td style=\"text-align:left\">C(race)[T.Black]</td><td></td><td></td><td>0.0003<sup></sup></td><td></td><td>0.0003<sup></sup></td></tr><tr><td style=\"text-align:left\"></td><td></td><td></td><td>(0.0019)</td><td></td><td>(0.002)</td></tr><tr><td style=\"text-align:left\">C(race)[T.Hispanic]</td><td></td><td></td><td>0.0001<sup></sup></td><td></td><td>0.0002<sup></sup></td></tr><tr><td style=\"text-align:left\"></td><td></td><td></td><td>(0.0018)</td><td></td><td>(0.0019)</td></tr><tr><td style=\"text-align:left\">C(race)[T.Other]</td><td></td><td></td><td>0.0022<sup></sup></td><td></td><td>0.0023<sup></sup></td></tr><tr><td style=\"text-align:left\"></td><td></td><td></td><td>(0.003)</td><td></td><td>(0.0032)</td></tr><tr><td style=\"text-align:left\">C(race)[T.White]</td><td></td><td></td><td>0.0005<sup></sup></td><td></td><td>0.0007<sup></sup></td></tr><tr><td style=\"text-align:left\"></td><td></td><td></td><td>(0.0017)</td><td></td><td>(0.0019)</td></tr><tr><td style=\"text-align:left\">Intercept</td><td>0.7494<sup>***</sup></td><td>0.7499<sup>***</sup></td><td>0.7495<sup>***</sup></td><td>0.75<sup>***</sup></td><td>0.7488<sup>***</sup></td></tr><tr><td style=\"text-align:left\"></td><td>(0.0012)</td><td>(0.0005)</td><td>(0.0016)</td><td>(0.0011)</td><td>(0.0026)</td></tr><tr><td style=\"text-align:left\">vote_propensity</td><td>0.0009<sup></sup></td><td></td><td></td><td></td><td>0.0013<sup></sup></td></tr><tr><td style=\"text-align:left\"></td><td>(0.0022)</td><td></td><td></td><td></td><td>(0.0024)</td></tr><td colspan=\"6\" style=\"border-bottom: 1px solid black\"></td></tr><tr><td style=\"text-align: left\">Observations</td><td>1207316.0</td><td>1207316.0</td><td>1207316.0</td><td>1207316.0</td><td>1207316.0</td></tr><tr><td style=\"text-align: left\">R<sup>2</sup></td><td>0.0</td><td>0.0</td><td>0.0</td><td>0.0</td><td>0.0</td></tr><tr><td style=\"text-align: left\">Adjusted R<sup>2</sup></td><td>-0.0</td><td>-0.0</td><td>-0.0</td><td>-0.0</td><td>-0.0</td></tr><tr><td style=\"text-align: left\">Residual Std. Error</td><td>0.4331(df = 1207314.0)</td><td>0.4331(df = 1207313.0)</td><td>0.4331(df = 1207311.0)</td><td>0.4331(df = 1207313.0)</td><td>0.4331(df = 1207306.0)</td></tr><tr><td style=\"text-align: left\">F Statistic</td><td>0.1819<sup></sup>(df = 1.0; 1207314.0)</td><td>0.0373<sup></sup>(df = 2.0; 1207313.0)</td><td>0.1889<sup></sup>(df = 4.0; 1207311.0)</td><td>0.0897<sup></sup>(df = 2.0; 1207313.0)</td><td>[[0.1364]]<sup></sup>(df = 9.0; 1207306.0)</td></tr><tr><td colspan=\"6\" style=\"border-bottom: 1px solid black\"></td></tr><tr><td style=\"text-align: left\">Note:</td><td colspan=\"5\" style=\"text-align: right\"><em>p&lt;0.1</em>; <b>p&lt;0.05</b>; p&lt;0.01</td></tr></table>"
      ],
      "text/plain": [
       "<IPython.core.display.HTML object>"
      ]
     },
     "execution_count": 38,
     "metadata": {},
     "output_type": "execute_result"
    }
   ],
   "source": [
    "stargazer = Stargazer(prob_balance)\n",
    "stargazer.significant_digits(4)\n",
    "stargazer.title('Balance Check')\n",
    "stargazer.custom_columns(['vote propensity','gender','race', 'marital_status', 'all'], [1,1,1,1,1])\n",
    "\n",
    "HTML(stargazer.render_html())\n"
   ]
  },
  {
   "cell_type": "code",
   "execution_count": 39,
   "metadata": {},
   "outputs": [
    {
     "data": {
      "text/latex": [
       "\\begin{table}[!htbp] \\centering\n",
       "  \\caption{Balance Check}\n",
       "  \\label{}\n",
       "\\begin{tabular}{@{\\extracolsep{5pt}}lcc}\n",
       "\\\\[-1.8ex]\\hline\n",
       "\\hline \\\\[-1.8ex]\n",
       "& \\multicolumn{5}{c}{\\textit{Dependent variable:}} \\\n",
       "\\cr \\cline{5-6}\n",
       "\\\\[-1.8ex] & \\multicolumn{1}{c}{vote propensity} & \\multicolumn{1}{c}{gender} & \\multicolumn{1}{c}{race} & \\multicolumn{1}{c}{marital_status} & \\multicolumn{1}{c}{all}  \\\\\n",
       "\\\\[-1.8ex] & (1) & (2) & (3) & (4) & (5) \\\\\n",
       "\\hline \\\\[-1.8ex]\n",
       " C(gender)[T.Male] & & -0.0001$^{}$ & & & 0.0002$^{}$ \\\\\n",
       "  & & (0.001) & & & (0.0012) \\\\\n",
       "  & & & & & \\\\\n",
       " C(gender)[T.Unknown] & & 0.0005$^{}$ & & & 0.0008$^{}$ \\\\\n",
       "  & & (0.002) & & & (0.0022) \\\\\n",
       "  & & & & & \\\\\n",
       " C(marital_status)[T.Unknown] & & & & -0.0011$^{}$ & -0.0012$^{}$ \\\\\n",
       "  & & & & (0.0028) & (0.0029) \\\\\n",
       "  & & & & & \\\\\n",
       " C(marital_status)[T.Unmarried] & & & & -0.0001$^{}$ & -0.0001$^{}$ \\\\\n",
       "  & & & & (0.0012) & (0.0015) \\\\\n",
       "  & & & & & \\\\\n",
       " C(race)[T.Black] & & & 0.0003$^{}$ & & 0.0003$^{}$ \\\\\n",
       "  & & & (0.0019) & & (0.002) \\\\\n",
       "  & & & & & \\\\\n",
       " C(race)[T.Hispanic] & & & 0.0001$^{}$ & & 0.0002$^{}$ \\\\\n",
       "  & & & (0.0018) & & (0.0019) \\\\\n",
       "  & & & & & \\\\\n",
       " C(race)[T.Other] & & & 0.0022$^{}$ & & 0.0023$^{}$ \\\\\n",
       "  & & & (0.003) & & (0.0032) \\\\\n",
       "  & & & & & \\\\\n",
       " C(race)[T.White] & & & 0.0005$^{}$ & & 0.0007$^{}$ \\\\\n",
       "  & & & (0.0017) & & (0.0019) \\\\\n",
       "  & & & & & \\\\\n",
       " Intercept & 0.7494$^{***}$ & 0.7499$^{***}$ & 0.7495$^{***}$ & 0.75$^{***}$ & 0.7488$^{***}$ \\\\\n",
       "  & (0.0012) & (0.0005) & (0.0016) & (0.0011) & (0.0026) \\\\\n",
       "  & & & & & \\\\\n",
       " vote_propensity & 0.0009$^{}$ & & & & 0.0013$^{}$ \\\\\n",
       "  & (0.0022) & & & & (0.0024) \\\\\n",
       "  & & & & & \\\\\n",
       "\\hline \\\\[-1.8ex]\n",
       " Observations & 1207316.0 & 1207316.0 & 1207316.0 & 1207316.0 & 1207316.0 \\\\\n",
       " R${2}$ & 0.0 & 0.0 & 0.0 & 0.0 & 0.0 \\\\\n",
       " Adjusted R${2}$ & -0.0 & -0.0 & -0.0 & -0.0 & -0.0 \\\\\n",
       " Residual Std. Error & 0.4331(df = 1207314.0) & 0.4331(df = 1207313.0) & 0.4331(df = 1207311.0) & 0.4331(df = 1207313.0) & 0.4331(df = 1207306.0)  \\\\\n",
       " F Statistic & 0.1819$^{}$ (df = 1.0; 1207314.0) & 0.0373$^{}$ (df = 2.0; 1207313.0) & 0.1889$^{}$ (df = 4.0; 1207311.0) & 0.0897$^{}$ (df = 2.0; 1207313.0) & [[0.1364]]$^{}$ (df = 9.0; 1207306.0) \\\\\n",
       "\\hline\n",
       "\\hline \\\\[-1.8ex]\n",
       "\\textit{Note:} & \\multicolumn{5}{r}{$^{*}$p$<$0.1; $^{**}$p$<$0.05; $^{***}$p$<$0.01} \\\\\n",
       "\\end{tabular}\n",
       "\\end{table}"
      ],
      "text/plain": [
       "<IPython.core.display.Latex object>"
      ]
     },
     "execution_count": 39,
     "metadata": {},
     "output_type": "execute_result"
    }
   ],
   "source": [
    "Latex(stargazer.render_latex())"
   ]
  },
  {
   "cell_type": "code",
   "execution_count": 40,
   "metadata": {},
   "outputs": [],
   "source": [
    "df.to_csv('../../Machine Learing HTE/1_data/org_hustle/org_hustle_add.csv', index=False)"
   ]
  },
  {
   "cell_type": "markdown",
   "metadata": {},
   "source": [
    "## Main Result"
   ]
  },
  {
   "cell_type": "code",
   "execution_count": 10,
   "metadata": {},
   "outputs": [],
   "source": [
    "ols_cluster = smf.ols(formula='voted ~ treat_binary',\n",
    "               data=df).fit(cov_type = 'cluster', cov_kwds={'groups': df['hh_id']})"
   ]
  },
  {
   "cell_type": "code",
   "execution_count": 11,
   "metadata": {},
   "outputs": [],
   "source": [
    "# Categorize variable in formular\n",
    "ols_report = smf.ols(formula='voted ~ treat_binary+age+C(gender)+C(race)+C(marital_status)+vf_g2008+vf_g2012+turnout_score',\n",
    "               data=df).fit(cov_type = 'cluster', cov_kwds={'groups': df['hh_id']})"
   ]
  },
  {
   "cell_type": "code",
   "execution_count": 12,
   "metadata": {},
   "outputs": [],
   "source": [
    "stargazer = Stargazer([ols_cluster, ols_report])\n",
    "stargazer.significant_digits(4)\n",
    "stargazer.custom_columns(['OLS', 'Reported Result'], [1,1])\n",
    "stargazer.covariate_order(['Intercept', 'treat_binary'])\n",
    "stargazer.title('Main Effect')"
   ]
  },
  {
   "cell_type": "code",
   "execution_count": 13,
   "metadata": {
    "scrolled": true
   },
   "outputs": [
    {
     "data": {
      "text/html": [
       "Main Effect<br><table style=\"text-align:center\"><tr><td colspan=\"3\" style=\"border-bottom: 1px solid black\"></td></tr><tr><td style=\"text-align:left\"></td><td colspan=\"2\"><em>Dependent variable:</em></td></tr><tr><td style=\"text-align:left\"></td><tr><td colspan=\"1\">OLS</td><td colspan=\"1\">Reported Result</td></tr><tr><td style=\"text-align:left\"></td><td>(1)</td><td>(2)</td></tr><tr><td colspan=\"3\" style=\"border-bottom: 1px solid black\"></td></tr><tr><td style=\"text-align:left\">Intercept</td><td>0.5212<sup>***</sup></td><td>0.0923<sup>***</sup></td></tr><tr><td style=\"text-align:left\"></td><td>(0.0009)</td><td>(0.0036)</td></tr><tr><td style=\"text-align:left\">treat_binary</td><td>0.0018<sup>*</sup></td><td>0.0014<sup></sup></td></tr><tr><td style=\"text-align:left\"></td><td>(0.0011)</td><td>(0.0009)</td></tr><td colspan=\"3\" style=\"border-bottom: 1px solid black\"></td></tr><tr><td style=\"text-align: left\">Observations</td><td>1207316.0</td><td>1207316.0</td></tr><tr><td style=\"text-align: left\">R<sup>2</sup></td><td>0.0</td><td>0.2103</td></tr><tr><td style=\"text-align: left\">Adjusted R<sup>2</sup></td><td>0.0</td><td>0.2103</td></tr><tr><td style=\"text-align: left\">Residual Std. Error</td><td>0.4995(df = 1207314.0)</td><td>0.4439(df = 1207302.0)</td></tr><tr><td style=\"text-align: left\">F Statistic</td><td>[[2.8373]]<sup>*</sup>(df = 1.0; 1207314.0)</td><td>[[32586.2182]]<sup>***</sup>(df = 13.0; 1207302.0)</td></tr><tr><td colspan=\"3\" style=\"border-bottom: 1px solid black\"></td></tr><tr><td style=\"text-align: left\">Note:</td><td colspan=\"2\" style=\"text-align: right\"><em>p&lt;0.1</em>; <b>p&lt;0.05</b>; p&lt;0.01</td></tr></table>"
      ],
      "text/plain": [
       "<IPython.core.display.HTML object>"
      ]
     },
     "execution_count": 13,
     "metadata": {},
     "output_type": "execute_result"
    }
   ],
   "source": [
    "HTML(stargazer.render_html())"
   ]
  },
  {
   "cell_type": "code",
   "execution_count": 48,
   "metadata": {},
   "outputs": [
    {
     "data": {
      "text/latex": [
       "\\begin{table}[!htbp] \\centering\n",
       "  \\caption{Main Effect}\n",
       "  \\label{}\n",
       "\\begin{tabular}{@{\\extracolsep{5pt}}lcc}\n",
       "\\\\[-1.8ex]\\hline\n",
       "\\hline \\\\[-1.8ex]\n",
       "& \\multicolumn{2}{c}{\\textit{Dependent variable:}} \\\n",
       "\\cr \\cline{2-3}\n",
       "\\\\[-1.8ex] & \\multicolumn{1}{c}{OLS} & \\multicolumn{1}{c}{Reported Result}  \\\\\n",
       "\\\\[-1.8ex] & (1) & (2) \\\\\n",
       "\\hline \\\\[-1.8ex]\n",
       " Intercept & 0.5212$^{***}$ & 0.0923$^{***}$ \\\\\n",
       "  & (0.0009) & (0.0036) \\\\\n",
       "  & & \\\\\n",
       " treat_binary & 0.0018$^{*}$ & 0.0014$^{}$ \\\\\n",
       "  & (0.0011) & (0.0009) \\\\\n",
       "  & & \\\\\n",
       "\\hline \\\\[-1.8ex]\n",
       " Observations & 1207316.0 & 1207316.0 \\\\\n",
       " R${2}$ & 0.0 & 0.2103 \\\\\n",
       " Adjusted R${2}$ & 0.0 & 0.2103 \\\\\n",
       " Residual Std. Error & 0.4995(df = 1207314.0) & 0.4439(df = 1207302.0)  \\\\\n",
       " F Statistic & [[2.8373]]$^{*}$ (df = 1.0; 1207314.0) & [[32586.2182]]$^{***}$ (df = 13.0; 1207302.0) \\\\\n",
       "\\hline\n",
       "\\hline \\\\[-1.8ex]\n",
       "\\textit{Note:} & \\multicolumn{2}{r}{$^{*}$p$<$0.1; $^{**}$p$<$0.05; $^{***}$p$<$0.01} \\\\\n",
       "\\end{tabular}\n",
       "\\end{table}"
      ],
      "text/plain": [
       "<IPython.core.display.Latex object>"
      ]
     },
     "execution_count": 48,
     "metadata": {},
     "output_type": "execute_result"
    }
   ],
   "source": [
    "Latex(stargazer.render_latex())"
   ]
  },
  {
   "cell_type": "markdown",
   "metadata": {},
   "source": [
    "## Machine Learning"
   ]
  },
  {
   "cell_type": "markdown",
   "metadata": {},
   "source": [
    "Metalearners are binary treatment Conditional Average Treatment Effect (CATE) estimators, which build on base algorithms such as random forests (RFs), Bayesian additive regression trees (BARTs) to estimate the CATE.\n",
    "\n",
    "Following the recommendation in [paper](https://arxiv.org/pdf/1706.03461.pdf), we use the Random Forest as the base algorithm for the super-learner (T-learner and X-learner)\n",
    "\n",
    "Compute potential untreated outcome for treatment group, potential treated outcome for control group, and calculate individual treatment effects (ITEs)\n"
   ]
  },
  {
   "cell_type": "code",
   "execution_count": 32,
   "metadata": {},
   "outputs": [],
   "source": [
    "# Outcome: Voter Turn out in 2016\n",
    "Y = np.array(df['voted'].astype(int))\n",
    "\n",
    "# Treatment: Text Messaging\n",
    "T = np.array(df['treat_binary'].astype(int))\n",
    "\n",
    "# Covariates\n",
    "X =np.array(df[['vote_propensity']])\n",
    "\n",
    "# Meta Learner Library\n",
    "from econml.metalearners import XLearner\n",
    "# Base Algorithm Library\n",
    "from sklearn.ensemble import RandomForestRegressor, RandomForestClassifier, GradientBoostingRegressor\n",
    "\n",
    "import matplotlib.pyplot as plt\n",
    "import seaborn as sns\n",
    "\n",
    "n=X.shape[0]"
   ]
  },
  {
   "cell_type": "code",
   "execution_count": 33,
   "metadata": {},
   "outputs": [],
   "source": [
    "# Instantiate X learner\n",
    "controls_model = GradientBoostingRegressor(n_estimators=100, \n",
    "                                           max_depth=6, \n",
    "                                           min_samples_leaf=int(n/1000))\n",
    "treated_model = GradientBoostingRegressor(n_estimators=100, \n",
    "                                          max_depth=6, \n",
    "                                          min_samples_leaf=int(n/1000))\n",
    "propensity_model = RandomForestClassifier(n_estimators=100, \n",
    "                                          max_depth=6, \n",
    "                                        min_samples_leaf=int(n/1000),\n",
    "                                        class_weight='balanced_subsample')\n",
    "X_learner = XLearner(controls_model=controls_model, \n",
    "                     treated_model=treated_model, \n",
    "                     propensity_model=propensity_model)\n",
    "# Train X_learner\n",
    "X_learner.fit(Y, T, X)\n",
    "# Estimate treatment effects on test data\n",
    "X_te = X_learner.effect(X)"
   ]
  },
  {
   "cell_type": "markdown",
   "metadata": {},
   "source": [
    "## Cross tables vote propensity and estimated CATE"
   ]
  },
  {
   "cell_type": "code",
   "execution_count": 2,
   "metadata": {},
   "outputs": [],
   "source": [
    "learner_df = pd.read_csv('../../Machine Learing HTE/1_data/org_hustle/org_hustle_with_ITEs.csv')"
   ]
  },
  {
   "cell_type": "code",
   "execution_count": 4,
   "metadata": {},
   "outputs": [],
   "source": [
    "def p_latex(x, cap):\n",
    "    latex_string = '\\\\begin{table}[ht]\\\\centering\\n\\\\caption{' + cap +'}\\n'  \n",
    "    latex_string = latex_string+x.to_latex().\\\n",
    "    replace('\\\\toprule','\\\\hline\\\\hline\\\\\\\\[-1em]').\\\n",
    "    replace('\\\\bottomrule', '\\\\hline \\\\hline') +'\\\\end{table}'\n",
    "    return Latex(latex_string)"
   ]
  },
  {
   "cell_type": "code",
   "execution_count": 34,
   "metadata": {},
   "outputs": [],
   "source": [
    "learner_df = pd.DataFrame({'Propensity': X[:, 0],\n",
    "                          'ITE':X_te,\n",
    "                         'Treatment':T,\n",
    "                         'Turnout': Y,\n",
    "             'hh_id': df[df.voted.isna()==False]['hh_id']})"
   ]
  },
  {
   "cell_type": "code",
   "execution_count": 5,
   "metadata": {},
   "outputs": [],
   "source": [
    "learner_df['Propensity Range']=pd.cut(learner_df['Propensity'], np.arange(0,1.1,0.1))\n",
    "\n",
    "# Vote trunout by vote propensity socre and treatment assignment\n",
    "\n",
    "ct_ite = learner_df.\\\n",
    "groupby(['Propensity Range']).ITE. \\\n",
    "agg({\n",
    "     'ITE':[('Average ITE',np.mean),\n",
    "                         ('Group Size','count'),\n",
    "                         ('Proportion to Total', lambda x: x.size/1207316)]})"
   ]
  },
  {
   "cell_type": "code",
   "execution_count": 6,
   "metadata": {},
   "outputs": [
    {
     "data": {
      "text/latex": [
       "\\begin{table}[ht]\\centering\n",
       "\\caption{Cross table between vote propensity and estimated ITE (Vote.org)}\n",
       "\\begin{tabular}{lrrr}\n",
       "\\hline\\hline\\\\[-1em]\n",
       "{} & \\multicolumn{3}{l}{ITE} \\\\\n",
       "{} & Average ITE & Group Size & Proportion to Total \\\\\n",
       "Propensity Range &             &            &                     \\\\\n",
       "\\midrule\n",
       "(0.0, 0.1]       &        nan\\% &          0 &                nan\\% \\\\\n",
       "(0.1, 0.2]       &     -1.197\\% &       5424 &              0.449\\% \\\\\n",
       "(0.2, 0.3]       &      0.024\\% &      84890 &              7.031\\% \\\\\n",
       "(0.3, 0.4]       &      0.175\\% &     350388 &             29.022\\% \\\\\n",
       "(0.4, 0.5]       &      0.483\\% &     177363 &             14.691\\% \\\\\n",
       "(0.5, 0.6]       &      0.102\\% &     145271 &             12.033\\% \\\\\n",
       "(0.6, 0.7]       &      0.129\\% &     178042 &             14.747\\% \\\\\n",
       "(0.7, 0.8]       &      0.066\\% &     193287 &             16.010\\% \\\\\n",
       "(0.8, 0.9]       &      0.127\\% &      70223 &              5.816\\% \\\\\n",
       "(0.9, 1.0]       &      0.115\\% &       2428 &              0.201\\% \\\\\n",
       "\\hline \\hline\n",
       "\\end{tabular}\n",
       "\\end{table}"
      ],
      "text/plain": [
       "<IPython.core.display.Latex object>"
      ]
     },
     "execution_count": 6,
     "metadata": {},
     "output_type": "execute_result"
    }
   ],
   "source": [
    "pd.options.display.float_format = '{:.3%}'.format\n",
    "\n",
    "p_latex(ct_ite, \"Cross table between vote propensity and estimated ITE (Vote.org)\")"
   ]
  },
  {
   "cell_type": "markdown",
   "metadata": {},
   "source": [
    "## Fit on Estimated CATE"
   ]
  },
  {
   "cell_type": "code",
   "execution_count": 7,
   "metadata": {},
   "outputs": [
    {
     "data": {
      "text/html": [
       "Regress ITE on Vote Propensity (Vote.org)<br><table style=\"text-align:center\"><tr><td colspan=\"3\" style=\"border-bottom: 1px solid black\"></td></tr><tr><td style=\"text-align:left\"></td><td colspan=\"2\"><em>Dependent variable:</em></td></tr><tr><td style=\"text-align:left\"></td><tr><td style=\"text-align:left\"></td><td>(1)</td><td>(2)</td></tr><tr><td colspan=\"3\" style=\"border-bottom: 1px solid black\"></td></tr><tr><td style=\"text-align:left\">Propensity</td><td>-0.0017<sup>***</sup></td><td>0.0123<sup>***</sup></td></tr><tr><td style=\"text-align:left\"></td><td>(0.0001)</td><td>(0.0004)</td></tr><tr><td style=\"text-align:left\">Propensity_square</td><td></td><td>-0.0128<sup>***</sup></td></tr><tr><td style=\"text-align:left\"></td><td></td><td>(0.0004)</td></tr><tr><td style=\"text-align:left\">const</td><td>0.0025<sup>***</sup></td><td>-0.0008<sup>***</sup></td></tr><tr><td style=\"text-align:left\"></td><td>(0.0)</td><td>(0.0001)</td></tr><td colspan=\"3\" style=\"border-bottom: 1px solid black\"></td></tr><tr><td style=\"text-align: left\">Observations</td><td>1207316.0</td><td>1207316.0</td></tr><tr><td style=\"text-align: left\">R<sup>2</sup></td><td>0.0008</td><td>0.0019</td></tr><tr><td style=\"text-align: left\">Adjusted R<sup>2</sup></td><td>0.0008</td><td>0.0019</td></tr><tr><td style=\"text-align: left\">Residual Std. Error</td><td>0.0104(df = 1207314.0)</td><td>0.0104(df = 1207313.0)</td></tr><tr><td style=\"text-align: left\">F Statistic</td><td>[[996.541]]<sup>***</sup>(df = 1.0; 1207314.0)</td><td>[[1105.0057]]<sup>***</sup>(df = 2.0; 1207313.0)</td></tr><tr><td colspan=\"3\" style=\"border-bottom: 1px solid black\"></td></tr><tr><td style=\"text-align: left\">Note:</td><td colspan=\"2\" style=\"text-align: right\"><em>p&lt;0.1</em>; <b>p&lt;0.05</b>; p&lt;0.01</td></tr></table>"
      ],
      "text/plain": [
       "<IPython.core.display.HTML object>"
      ]
     },
     "execution_count": 7,
     "metadata": {},
     "output_type": "execute_result"
    }
   ],
   "source": [
    "learner_df['Propensity_square'] = learner_df.Propensity*learner_df.Propensity\n",
    "\n",
    "y = learner_df['ITE']\n",
    "\n",
    "X = learner_df[['Propensity']]\n",
    "X = sm.add_constant(X)\n",
    "\n",
    "ols = sm.OLS(y, X).fit(cov_type='cluster', cov_kwds={'groups': learner_df['hh_id']})\n",
    "\n",
    "X = learner_df[['Propensity_square','Propensity']]\n",
    "X = sm.add_constant(X)\n",
    "\n",
    "ols2 = sm.OLS(y, X).fit(cov_type='cluster', cov_kwds={'groups': learner_df['hh_id']})\n",
    "\n",
    "\n",
    "stargazer = Stargazer([ols, ols2])\n",
    "stargazer.significant_digits(4)\n",
    "stargazer.title('Regress ITE on Vote Propensity (Vote.org)')\n",
    "\n",
    "HTML(stargazer.render_html())"
   ]
  },
  {
   "cell_type": "code",
   "execution_count": 12,
   "metadata": {},
   "outputs": [
    {
     "data": {
      "text/plain": [
       "0.48046875"
      ]
     },
     "execution_count": 12,
     "metadata": {},
     "output_type": "execute_result"
    }
   ],
   "source": [
    "0.0123/(-2*(-0.0128))"
   ]
  },
  {
   "cell_type": "code",
   "execution_count": 8,
   "metadata": {},
   "outputs": [
    {
     "data": {
      "text/latex": [
       "\\begin{table}[!htbp] \\centering\n",
       "  \\caption{Regress ITE on Vote Propensity (Vote.org)}\n",
       "  \\label{}\n",
       "\\begin{tabular}{@{\\extracolsep{5pt}}lcc}\n",
       "\\\\[-1.8ex]\\hline\n",
       "\\hline \\\\[-1.8ex]\n",
       "& \\multicolumn{2}{c}{\\textit{Dependent variable:}} \\\n",
       "\\cr \\cline{2-3}\n",
       "\\\\[-1.8ex] & (1) & (2) \\\\\n",
       "\\hline \\\\[-1.8ex]\n",
       " Propensity & -0.0017$^{***}$ & 0.0123$^{***}$ \\\\\n",
       "  & (0.0001) & (0.0004) \\\\\n",
       "  & & \\\\\n",
       " Propensity_square & & -0.0128$^{***}$ \\\\\n",
       "  & & (0.0004) \\\\\n",
       "  & & \\\\\n",
       " const & 0.0025$^{***}$ & -0.0008$^{***}$ \\\\\n",
       "  & (0.0) & (0.0001) \\\\\n",
       "  & & \\\\\n",
       "\\hline \\\\[-1.8ex]\n",
       " Observations & 1207316.0 & 1207316.0 \\\\\n",
       " R${2}$ & 0.0008 & 0.0019 \\\\\n",
       " Adjusted R${2}$ & 0.0008 & 0.0019 \\\\\n",
       " Residual Std. Error & 0.0104(df = 1207314.0) & 0.0104(df = 1207313.0)  \\\\\n",
       " F Statistic & [[996.541]]$^{***}$ (df = 1.0; 1207314.0) & [[1105.0057]]$^{***}$ (df = 2.0; 1207313.0) \\\\\n",
       "\\hline\n",
       "\\hline \\\\[-1.8ex]\n",
       "\\textit{Note:} & \\multicolumn{2}{r}{$^{*}$p$<$0.1; $^{**}$p$<$0.05; $^{***}$p$<$0.01} \\\\\n",
       "\\end{tabular}\n",
       "\\end{table}"
      ],
      "text/plain": [
       "<IPython.core.display.Latex object>"
      ]
     },
     "execution_count": 8,
     "metadata": {},
     "output_type": "execute_result"
    }
   ],
   "source": [
    "Latex(stargazer.render_latex())"
   ]
  },
  {
   "cell_type": "code",
   "execution_count": 38,
   "metadata": {},
   "outputs": [],
   "source": [
    "learner_df.to_csv('../../Machine Learing HTE/1_data/org_hustle/org_hustle_with_ITEs.csv', index=False)"
   ]
  },
  {
   "cell_type": "code",
   "execution_count": 9,
   "metadata": {},
   "outputs": [],
   "source": [
    "import matplotlib.pylab as pylab\n",
    "params = {\n",
    "        'axes.labelsize': '18',\n",
    "         'axes.titlesize':'x-large',\n",
    "         'xtick.labelsize':'x-large',\n",
    "         'ytick.labelsize':'x-large'}\n",
    "pylab.rcParams.update(params)"
   ]
  },
  {
   "cell_type": "code",
   "execution_count": 10,
   "metadata": {},
   "outputs": [
    {
     "data": {
      "image/png": "[encoded data removed]",
      "text/plain": [
       "<Figure size 720x576 with 1 Axes>"
      ]
     },
     "metadata": {
      "needs_background": "light"
     },
     "output_type": "display_data"
    }
   ],
   "source": [
    "plt.figure(figsize=(10, 8))\n",
    "ax = sns.regplot(x='Propensity', y='ITE',\n",
    "                 data=learner_df, \n",
    "                 order=1,\n",
    "                 ci=100, \n",
    "                 marker=\"+\",\n",
    "                 scatter_kws={'color':'#9CCC65',\"s\": 50}, \n",
    "                 line_kws={'color':'#FF5722'})\n",
    "\n",
    "plt.xlabel(\"Vote Propensity\")\n",
    "plt.ylabel(\"Individual Treatment Effect (ITE)\")\n",
    "\n",
    "plt.title('ITE by Vote Propensity (Linear Fit)',\n",
    "          {'fontsize': 20,\n",
    "        'fontweight' : 5})\n",
    "plt.tight_layout()\n",
    "plt.savefig('Vote org with Line', dpi=800)"
   ]
  },
  {
   "cell_type": "code",
   "execution_count": 11,
   "metadata": {},
   "outputs": [
    {
     "data": {
      "image/png": "[encoded data removed]",
      "text/plain": [
       "<Figure size 720x576 with 1 Axes>"
      ]
     },
     "metadata": {
      "needs_background": "light"
     },
     "output_type": "display_data"
    }
   ],
   "source": [
    "plt.figure(figsize=(10, 8))\n",
    "ax = sns.regplot(x='Propensity', y='ITE',\n",
    "                 data=learner_df, \n",
    "                 order=2,\n",
    "                 ci=100, \n",
    "                 marker=\"+\",\n",
    "                 scatter_kws={'color':'#039be5',\"s\": 50}, \n",
    "                 line_kws={'color':'#FF5722'})\n",
    "\n",
    "plt.xlabel(\"Vote Propensity\")\n",
    "plt.ylabel(\"Individual Treatment Effect (ITE)\")\n",
    "\n",
    "plt.title('ITE by Vote Propensity',\n",
    "          {'fontsize': 20,\n",
    "        'fontweight' : 5})\n",
    "plt.tight_layout()\n",
    "plt.savefig('Vote org with Parabola', dpi=800)"
   ]
  },
  {
   "cell_type": "markdown",
   "metadata": {},
   "source": [
    "### Sigmoid Fit"
   ]
  },
  {
   "cell_type": "code",
   "execution_count": null,
   "metadata": {},
   "outputs": [],
   "source": []
  },
  {
   "cell_type": "code",
   "execution_count": 10,
   "metadata": {},
   "outputs": [
    {
     "data": {
      "text/plain": [
       "(array([ 13612., 117025., 285866., 171163.,  57408., 194266., 105791.,\n",
       "        174729.,  69732.,  17724.]),\n",
       " array([0.16066216, 0.23859447, 0.31652677, 0.39445908, 0.47239138,\n",
       "        0.55032369, 0.62825599, 0.7061883 , 0.7841206 , 0.86205291,\n",
       "        0.93998521]),\n",
       " <a list of 10 Patch objects>)"
      ]
     },
     "execution_count": 10,
     "metadata": {},
     "output_type": "execute_result"
    },
    {
     "data": {
      "image/png": "[encoded data removed]",
      "text/plain": [
       "<Figure size 432x288 with 1 Axes>"
      ]
     },
     "metadata": {
      "needs_background": "light"
     },
     "output_type": "display_data"
    }
   ],
   "source": [
    "plt.hist(learner_df.Propensity)"
   ]
  },
  {
   "cell_type": "code",
   "execution_count": 9,
   "metadata": {
    "scrolled": false
   },
   "outputs": [
    {
     "data": {
      "text/html": [
       "<div>\n",
       "<style scoped>\n",
       "    .dataframe tbody tr th:only-of-type {\n",
       "        vertical-align: middle;\n",
       "    }\n",
       "\n",
       "    .dataframe tbody tr th {\n",
       "        vertical-align: top;\n",
       "    }\n",
       "\n",
       "    .dataframe thead th {\n",
       "        text-align: right;\n",
       "    }\n",
       "</style>\n",
       "<table border=\"1\" class=\"dataframe\">\n",
       "  <thead>\n",
       "    <tr style=\"text-align: right;\">\n",
       "      <th></th>\n",
       "      <th>Propensity</th>\n",
       "      <th>ITE</th>\n",
       "      <th>Treatment</th>\n",
       "      <th>Turnout</th>\n",
       "      <th>hh_id</th>\n",
       "      <th>Propensity Range</th>\n",
       "      <th>Propensity_square</th>\n",
       "    </tr>\n",
       "  </thead>\n",
       "  <tbody>\n",
       "    <tr>\n",
       "      <th>0</th>\n",
       "      <td>0.354652</td>\n",
       "      <td>0.005716</td>\n",
       "      <td>1</td>\n",
       "      <td>0</td>\n",
       "      <td>3033 OLYMPIC CLUB DR43147</td>\n",
       "      <td>(0.3, 0.4]</td>\n",
       "      <td>0.125778</td>\n",
       "    </tr>\n",
       "    <tr>\n",
       "      <th>1</th>\n",
       "      <td>0.492310</td>\n",
       "      <td>-0.006049</td>\n",
       "      <td>1</td>\n",
       "      <td>0</td>\n",
       "      <td>16 CREEKWOOD DR63376</td>\n",
       "      <td>(0.4, 0.5]</td>\n",
       "      <td>0.242369</td>\n",
       "    </tr>\n",
       "    <tr>\n",
       "      <th>2</th>\n",
       "      <td>0.703032</td>\n",
       "      <td>-0.000663</td>\n",
       "      <td>0</td>\n",
       "      <td>0</td>\n",
       "      <td>7322 E NARANJA AVE85209</td>\n",
       "      <td>(0.7, 0.8]</td>\n",
       "      <td>0.494254</td>\n",
       "    </tr>\n",
       "    <tr>\n",
       "      <th>3</th>\n",
       "      <td>0.353765</td>\n",
       "      <td>0.002496</td>\n",
       "      <td>0</td>\n",
       "      <td>0</td>\n",
       "      <td>105 THOMAS DR17404</td>\n",
       "      <td>(0.3, 0.4]</td>\n",
       "      <td>0.125150</td>\n",
       "    </tr>\n",
       "    <tr>\n",
       "      <th>4</th>\n",
       "      <td>0.348812</td>\n",
       "      <td>0.021242</td>\n",
       "      <td>1</td>\n",
       "      <td>0</td>\n",
       "      <td>157 E GOODLAND ST53590</td>\n",
       "      <td>(0.3, 0.4]</td>\n",
       "      <td>0.121670</td>\n",
       "    </tr>\n",
       "  </tbody>\n",
       "</table>\n",
       "</div>"
      ],
      "text/plain": [
       "   Propensity       ITE  Treatment  Turnout                      hh_id  \\\n",
       "0    0.354652  0.005716          1        0  3033 OLYMPIC CLUB DR43147   \n",
       "1    0.492310 -0.006049          1        0       16 CREEKWOOD DR63376   \n",
       "2    0.703032 -0.000663          0        0    7322 E NARANJA AVE85209   \n",
       "3    0.353765  0.002496          0        0         105 THOMAS DR17404   \n",
       "4    0.348812  0.021242          1        0     157 E GOODLAND ST53590   \n",
       "\n",
       "  Propensity Range  Propensity_square  \n",
       "0       (0.3, 0.4]           0.125778  \n",
       "1       (0.4, 0.5]           0.242369  \n",
       "2       (0.7, 0.8]           0.494254  \n",
       "3       (0.3, 0.4]           0.125150  \n",
       "4       (0.3, 0.4]           0.121670  "
      ]
     },
     "execution_count": 9,
     "metadata": {},
     "output_type": "execute_result"
    }
   ],
   "source": [
    "learner_df.head()"
   ]
  },
  {
   "cell_type": "code",
   "execution_count": 13,
   "metadata": {},
   "outputs": [],
   "source": [
    "import numpy as np\n",
    "import matplotlib.pyplot as plt\n",
    "from scipy.optimize import curve_fit\n",
    "\n",
    "def sigmoid(x, a, b, c, d):\n",
    "    # a adjusts amplitude\n",
    "    # b adjusts y offset\n",
    "    # c adjusts x offset\n",
    "    # d adjusts slope\n",
    "    return ((a - b) / (1. + np.exp(x - (c / 2)) ** d)) + b\n",
    "\n",
    "\n",
    "xdata = np.array(learner_df.Propensity)\n",
    "ydata = np.array(learner_df.ITE)"
   ]
  },
  {
   "cell_type": "code",
   "execution_count": 14,
   "metadata": {
    "scrolled": true
   },
   "outputs": [
    {
     "data": {
      "text/plain": [
       "0.939985213741518"
      ]
     },
     "execution_count": 14,
     "metadata": {},
     "output_type": "execute_result"
    }
   ],
   "source": [
    "max(xdata)"
   ]
  },
  {
   "cell_type": "code",
   "execution_count": 17,
   "metadata": {},
   "outputs": [],
   "source": [
    "p0 = [ max(ydata),min(ydata),min(xdata), 1]"
   ]
  },
  {
   "cell_type": "code",
   "execution_count": null,
   "metadata": {},
   "outputs": [],
   "source": [
    "# fit the data\n",
    "popt, pcov = curve_fit(sigmoid, xdata, ydata, p0)"
   ]
  },
  {
   "cell_type": "code",
   "execution_count": null,
   "metadata": {},
   "outputs": [],
   "source": [
    "popt"
   ]
  },
  {
   "cell_type": "code",
   "execution_count": null,
   "metadata": {},
   "outputs": [],
   "source": [
    "plt.figure(figsize=(10, 8))\n",
    "# plot data\n",
    "plt.plot(xdata, ydata, '+',c='#039be5',label='data')\n",
    "\n",
    "# plot the result\n",
    "xdata_new = np.linspace(0, 1, 1000)\n",
    "plt.plot(xdata_new, sigmoid(xdata_new, *popt), 'r-', label='fit')\n",
    "\n",
    "plt.legend(loc='best')\n",
    "plt.xlabel(\"Vote Propensity\")\n",
    "plt.ylabel(\"Individual Treatment Effect (ITE)\")\n",
    "\n",
    "plt.title('Vote org AZ ITE by Vote Propensity (Sigmoid Fit)',\n",
    "          {'fontsize': 20,\n",
    "        'fontweight' : 5})\n",
    "plt.tight_layout()\n",
    "plt.show()"
   ]
  },
  {
   "cell_type": "code",
   "execution_count": 81,
   "metadata": {
    "scrolled": false
   },
   "outputs": [],
   "source": [
    "X = learner_df[['Propensity']]\n",
    "X = sm.add_constant(X)"
   ]
  },
  {
   "cell_type": "code",
   "execution_count": 82,
   "metadata": {},
   "outputs": [],
   "source": [
    "from sklearn.metrics import mean_squared_error"
   ]
  },
  {
   "cell_type": "code",
   "execution_count": 83,
   "metadata": {},
   "outputs": [],
   "source": [
    "ols_mse = mean_squared_error(ydata, np.array(ols.predict(X)))\n",
    "sig_mes = mean_squared_error(ydata, np.array(sigmoid(xdata, *popt)))"
   ]
  },
  {
   "cell_type": "code",
   "execution_count": 84,
   "metadata": {},
   "outputs": [
    {
     "data": {
      "text/plain": [
       "'linear fit MSE: 0.000105'"
      ]
     },
     "execution_count": 84,
     "metadata": {},
     "output_type": "execute_result"
    }
   ],
   "source": [
    "'linear fit MSE: {:.6f}'.format(ols_mse)"
   ]
  },
  {
   "cell_type": "code",
   "execution_count": 85,
   "metadata": {},
   "outputs": [
    {
     "data": {
      "text/plain": [
       "'Sigmoid fit MSE: 0.000105'"
      ]
     },
     "execution_count": 85,
     "metadata": {},
     "output_type": "execute_result"
    }
   ],
   "source": [
    "'Sigmoid fit MSE: {:.6f}'.format(sig_mes)"
   ]
  },
  {
   "cell_type": "code",
   "execution_count": 86,
   "metadata": {},
   "outputs": [
    {
     "data": {
      "text/plain": [
       "'Sigmoid fit reduce MSE by -0.00%'"
      ]
     },
     "execution_count": 86,
     "metadata": {},
     "output_type": "execute_result"
    }
   ],
   "source": [
    "'Sigmoid fit reduce MSE by {:.2%}'.format(1-sig_mes/ols_mse)"
   ]
  },
  {
   "cell_type": "code",
   "execution_count": 87,
   "metadata": {},
   "outputs": [
    {
     "data": {
      "image/png": "[encoded data removed]",
      "text/plain": [
       "<Figure size 720x576 with 1 Axes>"
      ]
     },
     "metadata": {
      "needs_background": "light"
     },
     "output_type": "display_data"
    }
   ],
   "source": [
    "plt.figure(figsize=(10, 8))\n",
    "# plot data\n",
    "plt.plot(xdata, ydata, '+',c='#039be5',label='data')\n",
    "\n",
    "# plot linear fit\n",
    "plt.plot(xdata, np.array(ols.predict(X)), '-',c='#7b1fa2', label='linear fit')\n",
    "\n",
    "# plot sigmoid fit\n",
    "xdata_new = np.linspace(0, 1, 1000)\n",
    "plt.plot(xdata_new, sigmoid(xdata_new, *popt), 'r-', label='sigmoid fit')\n",
    "\n",
    "\n",
    "plt.legend(loc='best')\n",
    "plt.xlabel(\"Vote Propensity\")\n",
    "plt.ylabel(\"Individual Treatment Effect (ITE)\")\n",
    "\n",
    "plt.title('Illinois ITE by Vote Propensity (linear & sigmoid Fit)',\n",
    "          {'fontsize': 20,\n",
    "        'fontweight' : 5})\n",
    "plt.tight_layout()\n",
    "plt.savefig('NGA IL with both fit', dpi=800)\n",
    "plt.show()"
   ]
  },
  {
   "cell_type": "markdown",
   "metadata": {},
   "source": [
    "# Simulation"
   ]
  },
  {
   "cell_type": "code",
   "execution_count": 3,
   "metadata": {},
   "outputs": [
    {
     "data": {
      "text/html": [
       "<div>\n",
       "<style scoped>\n",
       "    .dataframe tbody tr th:only-of-type {\n",
       "        vertical-align: middle;\n",
       "    }\n",
       "\n",
       "    .dataframe tbody tr th {\n",
       "        vertical-align: top;\n",
       "    }\n",
       "\n",
       "    .dataframe thead th {\n",
       "        text-align: right;\n",
       "    }\n",
       "</style>\n",
       "<table border=\"1\" class=\"dataframe\">\n",
       "  <thead>\n",
       "    <tr style=\"text-align: right;\">\n",
       "      <th></th>\n",
       "      <th>Propensity</th>\n",
       "      <th>ITE</th>\n",
       "      <th>Treatment</th>\n",
       "      <th>Turnout</th>\n",
       "      <th>hh_id</th>\n",
       "      <th>Propensity Range</th>\n",
       "      <th>Propensity_square</th>\n",
       "    </tr>\n",
       "  </thead>\n",
       "  <tbody>\n",
       "    <tr>\n",
       "      <th>0</th>\n",
       "      <td>0.354652</td>\n",
       "      <td>0.005716</td>\n",
       "      <td>1</td>\n",
       "      <td>0</td>\n",
       "      <td>3033 OLYMPIC CLUB DR43147</td>\n",
       "      <td>(0.3, 0.4]</td>\n",
       "      <td>0.125778</td>\n",
       "    </tr>\n",
       "    <tr>\n",
       "      <th>1</th>\n",
       "      <td>0.492310</td>\n",
       "      <td>-0.006049</td>\n",
       "      <td>1</td>\n",
       "      <td>0</td>\n",
       "      <td>16 CREEKWOOD DR63376</td>\n",
       "      <td>(0.4, 0.5]</td>\n",
       "      <td>0.242369</td>\n",
       "    </tr>\n",
       "    <tr>\n",
       "      <th>2</th>\n",
       "      <td>0.703032</td>\n",
       "      <td>-0.000663</td>\n",
       "      <td>0</td>\n",
       "      <td>0</td>\n",
       "      <td>7322 E NARANJA AVE85209</td>\n",
       "      <td>(0.7, 0.8]</td>\n",
       "      <td>0.494254</td>\n",
       "    </tr>\n",
       "    <tr>\n",
       "      <th>3</th>\n",
       "      <td>0.353765</td>\n",
       "      <td>0.002496</td>\n",
       "      <td>0</td>\n",
       "      <td>0</td>\n",
       "      <td>105 THOMAS DR17404</td>\n",
       "      <td>(0.3, 0.4]</td>\n",
       "      <td>0.125150</td>\n",
       "    </tr>\n",
       "    <tr>\n",
       "      <th>4</th>\n",
       "      <td>0.348812</td>\n",
       "      <td>0.021242</td>\n",
       "      <td>1</td>\n",
       "      <td>0</td>\n",
       "      <td>157 E GOODLAND ST53590</td>\n",
       "      <td>(0.3, 0.4]</td>\n",
       "      <td>0.121670</td>\n",
       "    </tr>\n",
       "  </tbody>\n",
       "</table>\n",
       "</div>"
      ],
      "text/plain": [
       "   Propensity       ITE  Treatment  Turnout                      hh_id  \\\n",
       "0    0.354652  0.005716          1        0  3033 OLYMPIC CLUB DR43147   \n",
       "1    0.492310 -0.006049          1        0       16 CREEKWOOD DR63376   \n",
       "2    0.703032 -0.000663          0        0    7322 E NARANJA AVE85209   \n",
       "3    0.353765  0.002496          0        0         105 THOMAS DR17404   \n",
       "4    0.348812  0.021242          1        0     157 E GOODLAND ST53590   \n",
       "\n",
       "  Propensity Range  Propensity_square  \n",
       "0       (0.3, 0.4]           0.125778  \n",
       "1       (0.4, 0.5]           0.242369  \n",
       "2       (0.7, 0.8]           0.494254  \n",
       "3       (0.3, 0.4]           0.125150  \n",
       "4       (0.3, 0.4]           0.121670  "
      ]
     },
     "execution_count": 3,
     "metadata": {},
     "output_type": "execute_result"
    }
   ],
   "source": [
    "learner_df.head()"
   ]
  },
  {
   "cell_type": "code",
   "execution_count": 4,
   "metadata": {},
   "outputs": [
    {
     "data": {
      "text/plain": [
       "1    905396\n",
       "0    301920\n",
       "Name: Treatment, dtype: int64"
      ]
     },
     "execution_count": 4,
     "metadata": {},
     "output_type": "execute_result"
    }
   ],
   "source": [
    "learner_df.Treatment.value_counts()"
   ]
  },
  {
   "cell_type": "code",
   "execution_count": 5,
   "metadata": {},
   "outputs": [],
   "source": [
    "sim = learner_df.sort_values('Propensity',ascending=False ).reset_index(drop=True)"
   ]
  },
  {
   "cell_type": "code",
   "execution_count": 6,
   "metadata": {
    "scrolled": true
   },
   "outputs": [
    {
     "data": {
      "text/plain": [
       "1    905396\n",
       "0    301920\n",
       "Name: Treatment, dtype: int64"
      ]
     },
     "execution_count": 6,
     "metadata": {},
     "output_type": "execute_result"
    }
   ],
   "source": [
    "sim.Treatment.value_counts()"
   ]
  },
  {
   "cell_type": "code",
   "execution_count": 7,
   "metadata": {
    "scrolled": true
   },
   "outputs": [
    {
     "data": {
      "text/plain": [
       "<matplotlib.axes._subplots.AxesSubplot at 0x12a058f60>"
      ]
     },
     "execution_count": 7,
     "metadata": {},
     "output_type": "execute_result"
    },
    {
     "data": {
      "image/png": "[encoded data removed]",
      "text/plain": [
       "<Figure size 432x288 with 1 Axes>"
      ]
     },
     "metadata": {
      "needs_background": "light"
     },
     "output_type": "display_data"
    }
   ],
   "source": [
    "sim.Propensity.plot('hist')"
   ]
  },
  {
   "cell_type": "code",
   "execution_count": 8,
   "metadata": {},
   "outputs": [],
   "source": [
    "sim.loc[0:905396,'sim_treat'] = 1\n",
    "\n",
    "sim.loc[905396:,'sim_treat'] = 0"
   ]
  },
  {
   "cell_type": "code",
   "execution_count": 9,
   "metadata": {},
   "outputs": [],
   "source": [
    "X = sim[['sim_treat']]\n",
    "\n",
    "X = sm.add_constant(X)\n",
    "\n",
    "y = sim['ITE']"
   ]
  },
  {
   "cell_type": "code",
   "execution_count": 10,
   "metadata": {},
   "outputs": [],
   "source": [
    "sm_az = sm.OLS(y, X).fit(cov_type='cluster', cov_kwds={'groups': sim['hh_id']})"
   ]
  },
  {
   "cell_type": "code",
   "execution_count": 11,
   "metadata": {},
   "outputs": [],
   "source": [
    "X = sim[['Treatment']]\n",
    "\n",
    "X = sm.add_constant(X)\n",
    "\n",
    "y = sim['ITE']"
   ]
  },
  {
   "cell_type": "code",
   "execution_count": 12,
   "metadata": {},
   "outputs": [],
   "source": [
    "ite_il = sm.OLS(y, X).fit(cov_type='cluster', cov_kwds={'groups': sim['hh_id']})"
   ]
  },
  {
   "cell_type": "code",
   "execution_count": 13,
   "metadata": {},
   "outputs": [
    {
     "data": {
      "text/html": [
       "ITE vs Simulation (Vote.org)<br><table style=\"text-align:center\"><tr><td colspan=\"3\" style=\"border-bottom: 1px solid black\"></td></tr><tr><td style=\"text-align:left\"></td><td colspan=\"2\"><em>Dependent variable:</em></td></tr><tr><td style=\"text-align:left\"></td><tr><td colspan=\"1\">Treatment Assignment</td><td colspan=\"1\">Optimized</td></tr><tr><td colspan=\"3\" style=\"border-bottom: 1px solid black\"></td></tr><tr><td style=\"text-align:left\">Intercept</td><td>0.0017<sup>***</sup></td><td>0.0013<sup>***</sup></td></tr><tr><td style=\"text-align:left\"></td><td>(0.0)</td><td>(0.0)</td></tr><tr><td style=\"text-align:left\">Treatment</td><td>0.0<sup></sup></td><td></td></tr><tr><td style=\"text-align:left\"></td><td>(0.0)</td><td></td></tr><tr><td style=\"text-align:left\">Optimized Alloaction</td><td></td><td>0.0005<sup>***</sup></td></tr><tr><td style=\"text-align:left\"></td><td></td><td>(0.0)</td></tr><td colspan=\"3\" style=\"border-bottom: 1px solid black\"></td></tr><tr><td style=\"text-align: left\">Observations</td><td>1207316.0</td><td>1207316.0</td></tr><tr><td style=\"text-align: left\">R<sup>2</sup></td><td>0.0</td><td>0.0005</td></tr><tr><td style=\"text-align: left\">Adjusted R<sup>2</sup></td><td>0.0</td><td>0.0005</td></tr><tr><td style=\"text-align: left\">Residual Std. Error</td><td>0.0104(df = 1207314.0)</td><td>0.0104(df = 1207314.0)</td></tr><tr><td style=\"text-align: left\">F Statistic</td><td>[[1.4121]]<sup></sup>(df = 1.0; 1207314.0)</td><td>[[492.0718]]<sup>***</sup>(df = 1.0; 1207314.0)</td></tr><tr><td colspan=\"3\" style=\"border-bottom: 1px solid black\"></td></tr><tr><td style=\"text-align: left\">Note:</td><td colspan=\"2\" style=\"text-align: right\"><em>p&lt;0.1</em>; <b>p&lt;0.05</b>; p&lt;0.01</td></tr></table>"
      ],
      "text/plain": [
       "<IPython.core.display.HTML object>"
      ]
     },
     "execution_count": 13,
     "metadata": {},
     "output_type": "execute_result"
    }
   ],
   "source": [
    "stargazer = Stargazer([ite_il,sm_az])\n",
    "stargazer.significant_digits(4)\n",
    "stargazer.title('ITE vs Simulation (Vote.org)')\n",
    "stargazer.covariate_order(['const',  'Treatment','sim_treat'])\n",
    "\n",
    "stargazer.rename_covariates({'const': 'Intercept',\n",
    "                            'sim_treat': 'Optimized Alloaction'})\n",
    "\n",
    "\n",
    "stargazer.custom_columns(['Treatment Assignment', 'Optimized'], [1,1])\n",
    "HTML(stargazer.render_html())"
   ]
  },
  {
   "cell_type": "code",
   "execution_count": 14,
   "metadata": {},
   "outputs": [
    {
     "data": {
      "text/latex": [
       "\\begin{table}[!htbp] \\centering\n",
       "  \\caption{ITE vs Simulation (Vote.org)}\n",
       "  \\label{}\n",
       "\\begin{tabular}{@{\\extracolsep{5pt}}lcc}\n",
       "\\\\[-1.8ex]\\hline\n",
       "\\hline \\\\[-1.8ex]\n",
       "& \\multicolumn{2}{c}{\\textit{Dependent variable:}} \\\n",
       "\\cr \\cline{2-3}\n",
       "\\\\[-1.8ex] & \\multicolumn{1}{c}{Treatment Assignment} & \\multicolumn{1}{c}{Optimized}  \\\\\n",
       "\\hline \\\\[-1.8ex]\n",
       " Intercept & 0.0017$^{***}$ & 0.0013$^{***}$ \\\\\n",
       "  & (0.0) & (0.0) \\\\\n",
       "  & & \\\\\n",
       " Treatment & 0.0$^{}$ & \\\\\n",
       "  & (0.0) & \\\\\n",
       "  & & \\\\\n",
       " Optimized Alloaction & & 0.0005$^{***}$ \\\\\n",
       "  & & (0.0) \\\\\n",
       "  & & \\\\\n",
       "\\hline \\\\[-1.8ex]\n",
       " Observations & 1207316.0 & 1207316.0 \\\\\n",
       " R${2}$ & 0.0 & 0.0005 \\\\\n",
       " Adjusted R${2}$ & 0.0 & 0.0005 \\\\\n",
       " Residual Std. Error & 0.0104(df = 1207314.0) & 0.0104(df = 1207314.0)  \\\\\n",
       " F Statistic & [[1.4121]]$^{}$ (df = 1.0; 1207314.0) & [[492.0718]]$^{***}$ (df = 1.0; 1207314.0) \\\\\n",
       "\\hline\n",
       "\\hline \\\\[-1.8ex]\n",
       "\\textit{Note:} & \\multicolumn{2}{r}{$^{*}$p$<$0.1; $^{**}$p$<$0.05; $^{***}$p$<$0.01} \\\\\n",
       "\\end{tabular}\n",
       "\\end{table}"
      ],
      "text/plain": [
       "<IPython.core.display.Latex object>"
      ]
     },
     "execution_count": 14,
     "metadata": {},
     "output_type": "execute_result"
    }
   ],
   "source": [
    "Latex(stargazer.render_latex())"
   ]
  },
  {
   "cell_type": "code",
   "execution_count": null,
   "metadata": {},
   "outputs": [],
   "source": []
  }
 ],
 "metadata": {
  "kernelspec": {
   "display_name": "Python 3",
   "language": "python",
   "name": "python3"
  },
  "language_info": {
   "codemirror_mode": {
    "name": "ipython",
    "version": 3
   },
   "file_extension": ".py",
   "mimetype": "text/x-python",
   "name": "python",
   "nbconvert_exporter": "python",
   "pygments_lexer": "ipython3",
   "version": "3.7.3"
  },
  "toc": {
   "base_numbering": 1,
   "nav_menu": {},
   "number_sections": true,
   "sideBar": true,
   "skip_h1_title": false,
   "title_cell": "Table of Contents",
   "title_sidebar": "Contents",
   "toc_cell": true,
   "toc_position": {},
   "toc_section_display": true,
   "toc_window_display": false
  }
 },
 "nbformat": 4,
 "nbformat_minor": 2
}
