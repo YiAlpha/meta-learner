{
 "cells": [
  {
   "cell_type": "markdown",
   "metadata": {},
   "source": [
    "# Initial Analysis Result"
   ]
  },
  {
   "cell_type": "markdown",
   "metadata": {},
   "source": [
    "|   About the script    |                                         |\n",
    "| ----------- | --------------------------------------- |\n",
    "| Last update |  Nov 23 2019  add comment|\n",
    "| Experiment  | AZ one; NGA IL; Vote.org (Hustle)|\n"
   ]
  },
  {
   "cell_type": "markdown",
   "metadata": {},
   "source": [
    "\n",
    "|    Available covariates   |      |\n",
    "| ----------- | --------------------------------------- |\n",
    "| Vote Propensity| computed based on available covariates|\n",
    "|Experiemnt indicator| indicates the data from which experiemnt|"
   ]
  },
  {
   "cell_type": "markdown",
   "metadata": {},
   "source": [
    "## Load library and datasets"
   ]
  },
  {
   "cell_type": "code",
   "execution_count": 1,
   "metadata": {},
   "outputs": [],
   "source": [
    "# load libraries\n",
    "\n",
    "# data cleaning and reshape\n",
    "import pandas as pd\n",
    "import numpy as np\n",
    "\n",
    "# caculate standard error\n",
    "from scipy.stats import sem\n",
    "\n",
    "# regression\n",
    "import statsmodels.api as sm\n",
    "# regression use formualar\n",
    "import statsmodels.formula.api as smf\n",
    "# regression with clustered standard error\n",
    "import econtools.metrics as mt\n",
    "\n",
    "# plot display\n",
    "%matplotlib inline\n",
    "import seaborn as sns\n",
    "import matplotlib.pyplot as plt\n",
    "\n",
    "# supress warning inline\n",
    "import warnings\n",
    "warnings.filterwarnings('ignore')\n",
    "\n",
    "# display and export regression table\n",
    "from stargazer.stargazer import Stargazer\n",
    "# display latex and html table\n",
    "from IPython.display import Latex\n",
    "from IPython.display import HTML"
   ]
  },
  {
   "cell_type": "code",
   "execution_count": 2,
   "metadata": {},
   "outputs": [],
   "source": [
    "# set random seed to ensure the following code and result is replicable\n",
    "np.random.seed(2019)"
   ]
  },
  {
   "cell_type": "markdown",
   "metadata": {},
   "source": [
    "### Read data"
   ]
  },
  {
   "cell_type": "code",
   "execution_count": 3,
   "metadata": {},
   "outputs": [],
   "source": [
    "# One Arizona \n",
    "AZ = pd.read_csv('../../Machine Learing HTE/1_data/az_one/AZ_one_with_ITEs.csv')"
   ]
  },
  {
   "cell_type": "code",
   "execution_count": 7,
   "metadata": {},
   "outputs": [],
   "source": [
    "# NextGen\n",
    "IL = pd.read_csv('../../Machine Learing HTE/1_data/nga_il/NGA_IL_with_ITEs.csv')"
   ]
  },
  {
   "cell_type": "code",
   "execution_count": 8,
   "metadata": {},
   "outputs": [],
   "source": [
    "# Vote.org\n",
    "Hustle = pd.read_csv('../../Machine Learing HTE/1_data/org_hustle/org_hustle_with_ITEs.csv')"
   ]
  },
  {
   "cell_type": "code",
   "execution_count": 9,
   "metadata": {},
   "outputs": [],
   "source": [
    "AZ['experiment'] = 'AZ_One'"
   ]
  },
  {
   "cell_type": "code",
   "execution_count": 10,
   "metadata": {
    "scrolled": true
   },
   "outputs": [],
   "source": [
    "IL['experiment'] = 'NGA_IL'"
   ]
  },
  {
   "cell_type": "code",
   "execution_count": 11,
   "metadata": {},
   "outputs": [],
   "source": [
    "Hustle['experiment'] = 'org_hustle'"
   ]
  },
  {
   "cell_type": "code",
   "execution_count": 12,
   "metadata": {
    "scrolled": true
   },
   "outputs": [
    {
     "data": {
      "text/html": [
       "<div>\n",
       "<style scoped>\n",
       "    .dataframe tbody tr th:only-of-type {\n",
       "        vertical-align: middle;\n",
       "    }\n",
       "\n",
       "    .dataframe tbody tr th {\n",
       "        vertical-align: top;\n",
       "    }\n",
       "\n",
       "    .dataframe thead th {\n",
       "        text-align: right;\n",
       "    }\n",
       "</style>\n",
       "<table border=\"1\" class=\"dataframe\">\n",
       "  <thead>\n",
       "    <tr style=\"text-align: right;\">\n",
       "      <th></th>\n",
       "      <th>Propensity</th>\n",
       "      <th>ITE</th>\n",
       "      <th>Treatment</th>\n",
       "      <th>Turnout</th>\n",
       "      <th>hh_id</th>\n",
       "      <th>Propensity Range</th>\n",
       "      <th>Propensity_square</th>\n",
       "      <th>experiment</th>\n",
       "    </tr>\n",
       "  </thead>\n",
       "  <tbody>\n",
       "    <tr>\n",
       "      <th>0</th>\n",
       "      <td>0.160607</td>\n",
       "      <td>-0.002783</td>\n",
       "      <td>1</td>\n",
       "      <td>0</td>\n",
       "      <td>61153.0</td>\n",
       "      <td>(0.1, 0.2]</td>\n",
       "      <td>0.025795</td>\n",
       "      <td>NGA_IL</td>\n",
       "    </tr>\n",
       "    <tr>\n",
       "      <th>1</th>\n",
       "      <td>0.077664</td>\n",
       "      <td>0.012406</td>\n",
       "      <td>1</td>\n",
       "      <td>0</td>\n",
       "      <td>160473.0</td>\n",
       "      <td>(0.0, 0.1]</td>\n",
       "      <td>0.006032</td>\n",
       "      <td>NGA_IL</td>\n",
       "    </tr>\n",
       "    <tr>\n",
       "      <th>2</th>\n",
       "      <td>1.000000</td>\n",
       "      <td>-0.474798</td>\n",
       "      <td>1</td>\n",
       "      <td>0</td>\n",
       "      <td>137591.0</td>\n",
       "      <td>(0.9, 1.0]</td>\n",
       "      <td>1.000000</td>\n",
       "      <td>NGA_IL</td>\n",
       "    </tr>\n",
       "    <tr>\n",
       "      <th>3</th>\n",
       "      <td>0.138696</td>\n",
       "      <td>0.004291</td>\n",
       "      <td>0</td>\n",
       "      <td>1</td>\n",
       "      <td>11275.0</td>\n",
       "      <td>(0.1, 0.2]</td>\n",
       "      <td>0.019237</td>\n",
       "      <td>NGA_IL</td>\n",
       "    </tr>\n",
       "    <tr>\n",
       "      <th>4</th>\n",
       "      <td>0.282955</td>\n",
       "      <td>-0.009993</td>\n",
       "      <td>1</td>\n",
       "      <td>0</td>\n",
       "      <td>52014.0</td>\n",
       "      <td>(0.2, 0.3]</td>\n",
       "      <td>0.080064</td>\n",
       "      <td>NGA_IL</td>\n",
       "    </tr>\n",
       "  </tbody>\n",
       "</table>\n",
       "</div>"
      ],
      "text/plain": [
       "   Propensity       ITE  Treatment  Turnout     hh_id Propensity Range  \\\n",
       "0    0.160607 -0.002783          1        0   61153.0       (0.1, 0.2]   \n",
       "1    0.077664  0.012406          1        0  160473.0       (0.0, 0.1]   \n",
       "2    1.000000 -0.474798          1        0  137591.0       (0.9, 1.0]   \n",
       "3    0.138696  0.004291          0        1   11275.0       (0.1, 0.2]   \n",
       "4    0.282955 -0.009993          1        0   52014.0       (0.2, 0.3]   \n",
       "\n",
       "   Propensity_square experiment  \n",
       "0           0.025795     NGA_IL  \n",
       "1           0.006032     NGA_IL  \n",
       "2           1.000000     NGA_IL  \n",
       "3           0.019237     NGA_IL  \n",
       "4           0.080064     NGA_IL  "
      ]
     },
     "execution_count": 12,
     "metadata": {},
     "output_type": "execute_result"
    }
   ],
   "source": [
    "IL.head()"
   ]
  },
  {
   "cell_type": "code",
   "execution_count": 13,
   "metadata": {
    "scrolled": true
   },
   "outputs": [
    {
     "data": {
      "text/html": [
       "<div>\n",
       "<style scoped>\n",
       "    .dataframe tbody tr th:only-of-type {\n",
       "        vertical-align: middle;\n",
       "    }\n",
       "\n",
       "    .dataframe tbody tr th {\n",
       "        vertical-align: top;\n",
       "    }\n",
       "\n",
       "    .dataframe thead th {\n",
       "        text-align: right;\n",
       "    }\n",
       "</style>\n",
       "<table border=\"1\" class=\"dataframe\">\n",
       "  <thead>\n",
       "    <tr style=\"text-align: right;\">\n",
       "      <th></th>\n",
       "      <th>Propensity</th>\n",
       "      <th>ITE</th>\n",
       "      <th>Treatment</th>\n",
       "      <th>Turnout</th>\n",
       "      <th>hh_id</th>\n",
       "      <th>Propensity_square</th>\n",
       "      <th>Propensity Range</th>\n",
       "      <th>experiment</th>\n",
       "    </tr>\n",
       "  </thead>\n",
       "  <tbody>\n",
       "    <tr>\n",
       "      <th>0</th>\n",
       "      <td>0.836493</td>\n",
       "      <td>0.009200</td>\n",
       "      <td>1</td>\n",
       "      <td>0</td>\n",
       "      <td>24321</td>\n",
       "      <td>0.699721</td>\n",
       "      <td>(0.8, 0.9]</td>\n",
       "      <td>AZ_One</td>\n",
       "    </tr>\n",
       "    <tr>\n",
       "      <th>1</th>\n",
       "      <td>0.549410</td>\n",
       "      <td>0.005665</td>\n",
       "      <td>1</td>\n",
       "      <td>0</td>\n",
       "      <td>54491</td>\n",
       "      <td>0.301851</td>\n",
       "      <td>(0.5, 0.6]</td>\n",
       "      <td>AZ_One</td>\n",
       "    </tr>\n",
       "    <tr>\n",
       "      <th>2</th>\n",
       "      <td>0.659421</td>\n",
       "      <td>0.004999</td>\n",
       "      <td>1</td>\n",
       "      <td>0</td>\n",
       "      <td>167763</td>\n",
       "      <td>0.434837</td>\n",
       "      <td>(0.6, 0.7]</td>\n",
       "      <td>AZ_One</td>\n",
       "    </tr>\n",
       "    <tr>\n",
       "      <th>3</th>\n",
       "      <td>0.549410</td>\n",
       "      <td>0.005665</td>\n",
       "      <td>1</td>\n",
       "      <td>0</td>\n",
       "      <td>233259</td>\n",
       "      <td>0.301851</td>\n",
       "      <td>(0.5, 0.6]</td>\n",
       "      <td>AZ_One</td>\n",
       "    </tr>\n",
       "    <tr>\n",
       "      <th>4</th>\n",
       "      <td>0.549410</td>\n",
       "      <td>0.005665</td>\n",
       "      <td>0</td>\n",
       "      <td>1</td>\n",
       "      <td>2300</td>\n",
       "      <td>0.301851</td>\n",
       "      <td>(0.5, 0.6]</td>\n",
       "      <td>AZ_One</td>\n",
       "    </tr>\n",
       "  </tbody>\n",
       "</table>\n",
       "</div>"
      ],
      "text/plain": [
       "   Propensity       ITE  Treatment  Turnout   hh_id  Propensity_square  \\\n",
       "0    0.836493  0.009200          1        0   24321           0.699721   \n",
       "1    0.549410  0.005665          1        0   54491           0.301851   \n",
       "2    0.659421  0.004999          1        0  167763           0.434837   \n",
       "3    0.549410  0.005665          1        0  233259           0.301851   \n",
       "4    0.549410  0.005665          0        1    2300           0.301851   \n",
       "\n",
       "  Propensity Range experiment  \n",
       "0       (0.8, 0.9]     AZ_One  \n",
       "1       (0.5, 0.6]     AZ_One  \n",
       "2       (0.6, 0.7]     AZ_One  \n",
       "3       (0.5, 0.6]     AZ_One  \n",
       "4       (0.5, 0.6]     AZ_One  "
      ]
     },
     "execution_count": 13,
     "metadata": {},
     "output_type": "execute_result"
    }
   ],
   "source": [
    "AZ.head()"
   ]
  },
  {
   "cell_type": "code",
   "execution_count": 14,
   "metadata": {},
   "outputs": [],
   "source": [
    "df = pd.concat([AZ, IL, Hustle])"
   ]
  },
  {
   "cell_type": "markdown",
   "metadata": {},
   "source": [
    "### check data set"
   ]
  },
  {
   "cell_type": "code",
   "execution_count": 15,
   "metadata": {},
   "outputs": [
    {
     "data": {
      "text/html": [
       "<div>\n",
       "<style scoped>\n",
       "    .dataframe tbody tr th:only-of-type {\n",
       "        vertical-align: middle;\n",
       "    }\n",
       "\n",
       "    .dataframe tbody tr th {\n",
       "        vertical-align: top;\n",
       "    }\n",
       "\n",
       "    .dataframe thead th {\n",
       "        text-align: right;\n",
       "    }\n",
       "</style>\n",
       "<table border=\"1\" class=\"dataframe\">\n",
       "  <thead>\n",
       "    <tr style=\"text-align: right;\">\n",
       "      <th>Treatment</th>\n",
       "      <th>0</th>\n",
       "      <th>1</th>\n",
       "    </tr>\n",
       "    <tr>\n",
       "      <th>experiment</th>\n",
       "      <th></th>\n",
       "      <th></th>\n",
       "    </tr>\n",
       "  </thead>\n",
       "  <tbody>\n",
       "    <tr>\n",
       "      <th>AZ_One</th>\n",
       "      <td>41113</td>\n",
       "      <td>185885</td>\n",
       "    </tr>\n",
       "    <tr>\n",
       "      <th>NGA_IL</th>\n",
       "      <td>94229</td>\n",
       "      <td>94257</td>\n",
       "    </tr>\n",
       "    <tr>\n",
       "      <th>org_hustle</th>\n",
       "      <td>301920</td>\n",
       "      <td>905396</td>\n",
       "    </tr>\n",
       "  </tbody>\n",
       "</table>\n",
       "</div>"
      ],
      "text/plain": [
       "Treatment        0       1\n",
       "experiment                \n",
       "AZ_One       41113  185885\n",
       "NGA_IL       94229   94257\n",
       "org_hustle  301920  905396"
      ]
     },
     "execution_count": 15,
     "metadata": {},
     "output_type": "execute_result"
    }
   ],
   "source": [
    "# non-compliance and attrition in One Arizona and NextGen\n",
    "pd.crosstab(index = df.experiment,\n",
    "           columns = [df.Treatment])"
   ]
  },
  {
   "cell_type": "code",
   "execution_count": 17,
   "metadata": {},
   "outputs": [
    {
     "data": {
      "image/png": "[encoded data removed]",
      "text/plain": [
       "<Figure size 648x432 with 1 Axes>"
      ]
     },
     "metadata": {
      "needs_background": "light"
     },
     "output_type": "display_data"
    }
   ],
   "source": [
    "# distribution of propensity score for pooled dataset\n",
    "\n",
    "import matplotlib.pylab as pylab\n",
    "params = {\n",
    "        'axes.labelsize': 'x-large',\n",
    "         'axes.titlesize':'x-large',\n",
    "         'xtick.labelsize':'x-large',\n",
    "         'ytick.labelsize':'x-large'}\n",
    "pylab.rcParams.update(params)\n",
    "\n",
    "plt.figure(figsize=(9,6))\n",
    "ax = plt.hist(df.Propensity, \n",
    "         30,color='#1565c0')\n",
    "plt.xlabel(\"Vote Propensity\")\n",
    "plt.ylabel(\"Weighted Frequency\")\n",
    "plt.title(\"Pooled Vote Propensity\") # You can comment this line out if you don't need title\n",
    "plt.show(ax)"
   ]
  },
  {
   "cell_type": "code",
   "execution_count": 19,
   "metadata": {},
   "outputs": [],
   "source": [
    "df['vp_10']=pd.cut(df['Propensity'], np.arange(0,1.1,0.1))"
   ]
  },
  {
   "cell_type": "markdown",
   "metadata": {},
   "source": [
    "## Vote Turnout and  Vote Propensity Crosstabs"
   ]
  },
  {
   "cell_type": "code",
   "execution_count": 20,
   "metadata": {},
   "outputs": [],
   "source": [
    "exp_dummy = pd.get_dummies(df.experiment).drop(columns=['AZ_One'])"
   ]
  },
  {
   "cell_type": "code",
   "execution_count": 21,
   "metadata": {},
   "outputs": [],
   "source": [
    "df = pd.concat([df,exp_dummy ], axis=1)"
   ]
  },
  {
   "cell_type": "code",
   "execution_count": 22,
   "metadata": {},
   "outputs": [
    {
     "data": {
      "text/plain": [
       "(1622800, 11)"
      ]
     },
     "execution_count": 22,
     "metadata": {},
     "output_type": "execute_result"
    }
   ],
   "source": [
    "df.shape"
   ]
  },
  {
   "cell_type": "markdown",
   "metadata": {},
   "source": [
    "### Overall"
   ]
  },
  {
   "cell_type": "code",
   "execution_count": 23,
   "metadata": {},
   "outputs": [],
   "source": [
    "def get_bins_overall():\n",
    "    pd.options.display.float_format = '{:.3%}'.format\n",
    "    a = df.loc[:, ['vp_10','Turnout','Treatment']].\\\n",
    "    groupby(['vp_10',\"Treatment\"]). \\\n",
    "    Turnout.agg([('Size','count'),\n",
    "              ('Turnout',np.mean)]).reset_index()\n",
    "    \n",
    "    b = df.loc[:, ['vp_10','Turnout','Treatment']].\\\n",
    "    groupby(['vp_10',\"Treatment\"]). \\\n",
    "    Turnout.agg([('Size','count'),\n",
    "              ('Turnout',np.mean)]).reset_index().groupby('vp_10').Turnout.agg([('Effect','diff')])\n",
    "    \n",
    "    r = pd.concat([a,b], axis=1)\n",
    "    r.rename( columns={'vp_10': 'Vote Propensity Range'}, inplace = True)\n",
    "    r.Effect.fillna(\" \", inplace=True)\n",
    "    r.Treatment.replace([0,1],['Control', 'Treatment'], inplace=True)\n",
    "    return r"
   ]
  },
  {
   "cell_type": "code",
   "execution_count": 24,
   "metadata": {},
   "outputs": [
    {
     "data": {
      "text/html": [
       "<table border=\"1\" class=\"dataframe\">\n",
       "  <thead>\n",
       "    <tr style=\"text-align: right;\">\n",
       "      <th>Vote Propensity Range</th>\n",
       "      <th>Treatment</th>\n",
       "      <th>Size</th>\n",
       "      <th>Turnout</th>\n",
       "      <th>Effect</th>\n",
       "    </tr>\n",
       "  </thead>\n",
       "  <tbody>\n",
       "    <tr>\n",
       "      <td>(0.0, 0.1]</td>\n",
       "      <td>Control</td>\n",
       "      <td>2230</td>\n",
       "      <td>5.740%</td>\n",
       "      <td></td>\n",
       "    </tr>\n",
       "    <tr>\n",
       "      <td>(0.0, 0.1]</td>\n",
       "      <td>Treatment</td>\n",
       "      <td>2617</td>\n",
       "      <td>25.029%</td>\n",
       "      <td>19.289%</td>\n",
       "    </tr>\n",
       "    <tr>\n",
       "      <td>(0.1, 0.2]</td>\n",
       "      <td>Control</td>\n",
       "      <td>33514</td>\n",
       "      <td>15.656%</td>\n",
       "      <td></td>\n",
       "    </tr>\n",
       "    <tr>\n",
       "      <td>(0.1, 0.2]</td>\n",
       "      <td>Treatment</td>\n",
       "      <td>36480</td>\n",
       "      <td>16.760%</td>\n",
       "      <td>1.104%</td>\n",
       "    </tr>\n",
       "    <tr>\n",
       "      <td>(0.2, 0.3]</td>\n",
       "      <td>Control</td>\n",
       "      <td>46122</td>\n",
       "      <td>27.278%</td>\n",
       "      <td></td>\n",
       "    </tr>\n",
       "    <tr>\n",
       "      <td>(0.2, 0.3]</td>\n",
       "      <td>Treatment</td>\n",
       "      <td>88455</td>\n",
       "      <td>28.663%</td>\n",
       "      <td>1.386%</td>\n",
       "    </tr>\n",
       "    <tr>\n",
       "      <td>(0.3, 0.4]</td>\n",
       "      <td>Control</td>\n",
       "      <td>99261</td>\n",
       "      <td>34.129%</td>\n",
       "      <td></td>\n",
       "    </tr>\n",
       "    <tr>\n",
       "      <td>(0.3, 0.4]</td>\n",
       "      <td>Treatment</td>\n",
       "      <td>274455</td>\n",
       "      <td>34.322%</td>\n",
       "      <td>0.193%</td>\n",
       "    </tr>\n",
       "    <tr>\n",
       "      <td>(0.4, 0.5]</td>\n",
       "      <td>Control</td>\n",
       "      <td>49424</td>\n",
       "      <td>44.770%</td>\n",
       "      <td></td>\n",
       "    </tr>\n",
       "    <tr>\n",
       "      <td>(0.4, 0.5]</td>\n",
       "      <td>Treatment</td>\n",
       "      <td>140045</td>\n",
       "      <td>45.166%</td>\n",
       "      <td>0.396%</td>\n",
       "    </tr>\n",
       "    <tr>\n",
       "      <td>(0.5, 0.6]</td>\n",
       "      <td>Control</td>\n",
       "      <td>65797</td>\n",
       "      <td>55.876%</td>\n",
       "      <td></td>\n",
       "    </tr>\n",
       "    <tr>\n",
       "      <td>(0.5, 0.6]</td>\n",
       "      <td>Treatment</td>\n",
       "      <td>224450</td>\n",
       "      <td>56.081%</td>\n",
       "      <td>0.204%</td>\n",
       "    </tr>\n",
       "    <tr>\n",
       "      <td>(0.6, 0.7]</td>\n",
       "      <td>Control</td>\n",
       "      <td>55130</td>\n",
       "      <td>65.106%</td>\n",
       "      <td></td>\n",
       "    </tr>\n",
       "    <tr>\n",
       "      <td>(0.6, 0.7]</td>\n",
       "      <td>Treatment</td>\n",
       "      <td>160842</td>\n",
       "      <td>65.399%</td>\n",
       "      <td>0.293%</td>\n",
       "    </tr>\n",
       "    <tr>\n",
       "      <td>(0.7, 0.8]</td>\n",
       "      <td>Control</td>\n",
       "      <td>55865</td>\n",
       "      <td>75.221%</td>\n",
       "      <td></td>\n",
       "    </tr>\n",
       "    <tr>\n",
       "      <td>(0.7, 0.8]</td>\n",
       "      <td>Treatment</td>\n",
       "      <td>164568</td>\n",
       "      <td>75.434%</td>\n",
       "      <td>0.214%</td>\n",
       "    </tr>\n",
       "    <tr>\n",
       "      <td>(0.8, 0.9]</td>\n",
       "      <td>Control</td>\n",
       "      <td>26345</td>\n",
       "      <td>83.538%</td>\n",
       "      <td></td>\n",
       "    </tr>\n",
       "    <tr>\n",
       "      <td>(0.8, 0.9]</td>\n",
       "      <td>Treatment</td>\n",
       "      <td>79544</td>\n",
       "      <td>83.649%</td>\n",
       "      <td>0.112%</td>\n",
       "    </tr>\n",
       "    <tr>\n",
       "      <td>(0.9, 1.0]</td>\n",
       "      <td>Control</td>\n",
       "      <td>3574</td>\n",
       "      <td>94.404%</td>\n",
       "      <td></td>\n",
       "    </tr>\n",
       "    <tr>\n",
       "      <td>(0.9, 1.0]</td>\n",
       "      <td>Treatment</td>\n",
       "      <td>14082</td>\n",
       "      <td>89.178%</td>\n",
       "      <td>-5.226%</td>\n",
       "    </tr>\n",
       "  </tbody>\n",
       "</table>"
      ],
      "text/plain": [
       "<IPython.core.display.HTML object>"
      ]
     },
     "execution_count": 24,
     "metadata": {},
     "output_type": "execute_result"
    }
   ],
   "source": [
    "HTML(get_bins_overall().to_html(index=False))"
   ]
  },
  {
   "cell_type": "markdown",
   "metadata": {},
   "source": [
    "### By Experiment"
   ]
  },
  {
   "cell_type": "code",
   "execution_count": 25,
   "metadata": {},
   "outputs": [],
   "source": [
    "def get_bins_table(exp):\n",
    "    pd.options.display.float_format = '{:.3%}'.format\n",
    "    a = df.loc[df.experiment==exp, ['vp_10','Turnout','Treatment']].\\\n",
    "    groupby(['vp_10',\"Treatment\"]). \\\n",
    "    Turnout.agg([('Size','count'),\n",
    "              ('Turnout',np.mean)]).reset_index()\n",
    "    \n",
    "    b = df.loc[df.experiment==exp, ['vp_10','Turnout','Treatment']].\\\n",
    "    groupby(['vp_10',\"Treatment\"]). \\\n",
    "    Turnout.agg([('Size','count'),\n",
    "              ('Turnout',np.mean)]).reset_index().groupby('vp_10').Turnout.agg([('Effect','diff')])\n",
    "    \n",
    "    r = pd.concat([a,b], axis=1)\n",
    "    r.rename( columns={'vp_10': 'Vote Propensity Range'}, inplace = True)\n",
    "    r.Effect.fillna(\" \", inplace=True)\n",
    "    r.Treatment.replace([0,1],['Control', 'Treatment'], inplace=True)\n",
    "    return r\n",
    "  "
   ]
  },
  {
   "cell_type": "markdown",
   "metadata": {},
   "source": [
    "#### Arizona One"
   ]
  },
  {
   "cell_type": "code",
   "execution_count": 26,
   "metadata": {
    "scrolled": true
   },
   "outputs": [
    {
     "data": {
      "text/html": [
       "<table border=\"1\" class=\"dataframe\">\n",
       "  <thead>\n",
       "    <tr style=\"text-align: right;\">\n",
       "      <th>Vote Propensity Range</th>\n",
       "      <th>Treatment</th>\n",
       "      <th>Size</th>\n",
       "      <th>Turnout</th>\n",
       "      <th>Effect</th>\n",
       "    </tr>\n",
       "  </thead>\n",
       "  <tbody>\n",
       "    <tr>\n",
       "      <td>(0.0, 0.1]</td>\n",
       "      <td>Control</td>\n",
       "      <td>61</td>\n",
       "      <td>1.639%</td>\n",
       "      <td></td>\n",
       "    </tr>\n",
       "    <tr>\n",
       "      <td>(0.0, 0.1]</td>\n",
       "      <td>Treatment</td>\n",
       "      <td>458</td>\n",
       "      <td>75.764%</td>\n",
       "      <td>74.125%</td>\n",
       "    </tr>\n",
       "    <tr>\n",
       "      <td>(0.1, 0.2]</td>\n",
       "      <td>Control</td>\n",
       "      <td>27</td>\n",
       "      <td>18.519%</td>\n",
       "      <td></td>\n",
       "    </tr>\n",
       "    <tr>\n",
       "      <td>(0.1, 0.2]</td>\n",
       "      <td>Treatment</td>\n",
       "      <td>221</td>\n",
       "      <td>66.516%</td>\n",
       "      <td>47.997%</td>\n",
       "    </tr>\n",
       "    <tr>\n",
       "      <td>(0.2, 0.3]</td>\n",
       "      <td>Control</td>\n",
       "      <td>64</td>\n",
       "      <td>18.750%</td>\n",
       "      <td></td>\n",
       "    </tr>\n",
       "    <tr>\n",
       "      <td>(0.2, 0.3]</td>\n",
       "      <td>Treatment</td>\n",
       "      <td>293</td>\n",
       "      <td>57.679%</td>\n",
       "      <td>38.929%</td>\n",
       "    </tr>\n",
       "    <tr>\n",
       "      <td>(0.3, 0.4]</td>\n",
       "      <td>Control</td>\n",
       "      <td>95</td>\n",
       "      <td>28.421%</td>\n",
       "      <td></td>\n",
       "    </tr>\n",
       "    <tr>\n",
       "      <td>(0.3, 0.4]</td>\n",
       "      <td>Treatment</td>\n",
       "      <td>430</td>\n",
       "      <td>65.116%</td>\n",
       "      <td>36.695%</td>\n",
       "    </tr>\n",
       "    <tr>\n",
       "      <td>(0.4, 0.5]</td>\n",
       "      <td>Control</td>\n",
       "      <td>495</td>\n",
       "      <td>42.424%</td>\n",
       "      <td></td>\n",
       "    </tr>\n",
       "    <tr>\n",
       "      <td>(0.4, 0.5]</td>\n",
       "      <td>Treatment</td>\n",
       "      <td>2173</td>\n",
       "      <td>47.676%</td>\n",
       "      <td>5.252%</td>\n",
       "    </tr>\n",
       "    <tr>\n",
       "      <td>(0.5, 0.6]</td>\n",
       "      <td>Control</td>\n",
       "      <td>24565</td>\n",
       "      <td>54.985%</td>\n",
       "      <td></td>\n",
       "    </tr>\n",
       "    <tr>\n",
       "      <td>(0.5, 0.6]</td>\n",
       "      <td>Treatment</td>\n",
       "      <td>110349</td>\n",
       "      <td>55.611%</td>\n",
       "      <td>0.626%</td>\n",
       "    </tr>\n",
       "    <tr>\n",
       "      <td>(0.6, 0.7]</td>\n",
       "      <td>Control</td>\n",
       "      <td>4681</td>\n",
       "      <td>66.076%</td>\n",
       "      <td></td>\n",
       "    </tr>\n",
       "    <tr>\n",
       "      <td>(0.6, 0.7]</td>\n",
       "      <td>Treatment</td>\n",
       "      <td>21354</td>\n",
       "      <td>66.493%</td>\n",
       "      <td>0.418%</td>\n",
       "    </tr>\n",
       "    <tr>\n",
       "      <td>(0.7, 0.8]</td>\n",
       "      <td>Control</td>\n",
       "      <td>3285</td>\n",
       "      <td>75.556%</td>\n",
       "      <td></td>\n",
       "    </tr>\n",
       "    <tr>\n",
       "      <td>(0.7, 0.8]</td>\n",
       "      <td>Treatment</td>\n",
       "      <td>14913</td>\n",
       "      <td>76.202%</td>\n",
       "      <td>0.646%</td>\n",
       "    </tr>\n",
       "    <tr>\n",
       "      <td>(0.8, 0.9]</td>\n",
       "      <td>Control</td>\n",
       "      <td>5303</td>\n",
       "      <td>85.046%</td>\n",
       "      <td></td>\n",
       "    </tr>\n",
       "    <tr>\n",
       "      <td>(0.8, 0.9]</td>\n",
       "      <td>Treatment</td>\n",
       "      <td>23786</td>\n",
       "      <td>84.525%</td>\n",
       "      <td>-0.522%</td>\n",
       "    </tr>\n",
       "    <tr>\n",
       "      <td>(0.9, 1.0]</td>\n",
       "      <td>Control</td>\n",
       "      <td>2537</td>\n",
       "      <td>95.349%</td>\n",
       "      <td></td>\n",
       "    </tr>\n",
       "    <tr>\n",
       "      <td>(0.9, 1.0]</td>\n",
       "      <td>Treatment</td>\n",
       "      <td>11908</td>\n",
       "      <td>89.990%</td>\n",
       "      <td>-5.359%</td>\n",
       "    </tr>\n",
       "  </tbody>\n",
       "</table>"
      ],
      "text/plain": [
       "<IPython.core.display.HTML object>"
      ]
     },
     "execution_count": 26,
     "metadata": {},
     "output_type": "execute_result"
    }
   ],
   "source": [
    "HTML(get_bins_table('AZ_One').to_html(index=False))"
   ]
  },
  {
   "cell_type": "markdown",
   "metadata": {},
   "source": [
    "#### NextGen"
   ]
  },
  {
   "cell_type": "code",
   "execution_count": 27,
   "metadata": {},
   "outputs": [
    {
     "data": {
      "text/html": [
       "<table border=\"1\" class=\"dataframe\">\n",
       "  <thead>\n",
       "    <tr style=\"text-align: right;\">\n",
       "      <th>Vote Propensity Range</th>\n",
       "      <th>Treatment</th>\n",
       "      <th>Size</th>\n",
       "      <th>Turnout</th>\n",
       "      <th>Effect</th>\n",
       "    </tr>\n",
       "  </thead>\n",
       "  <tbody>\n",
       "    <tr>\n",
       "      <td>(0.0, 0.1]</td>\n",
       "      <td>Control</td>\n",
       "      <td>2169</td>\n",
       "      <td>5.855%</td>\n",
       "      <td></td>\n",
       "    </tr>\n",
       "    <tr>\n",
       "      <td>(0.0, 0.1]</td>\n",
       "      <td>Treatment</td>\n",
       "      <td>2159</td>\n",
       "      <td>14.266%</td>\n",
       "      <td>8.411%</td>\n",
       "    </tr>\n",
       "    <tr>\n",
       "      <td>(0.1, 0.2]</td>\n",
       "      <td>Control</td>\n",
       "      <td>32120</td>\n",
       "      <td>15.342%</td>\n",
       "      <td></td>\n",
       "    </tr>\n",
       "    <tr>\n",
       "      <td>(0.1, 0.2]</td>\n",
       "      <td>Treatment</td>\n",
       "      <td>32202</td>\n",
       "      <td>15.844%</td>\n",
       "      <td>0.501%</td>\n",
       "    </tr>\n",
       "    <tr>\n",
       "      <td>(0.2, 0.3]</td>\n",
       "      <td>Control</td>\n",
       "      <td>24712</td>\n",
       "      <td>25.186%</td>\n",
       "      <td></td>\n",
       "    </tr>\n",
       "    <tr>\n",
       "      <td>(0.2, 0.3]</td>\n",
       "      <td>Treatment</td>\n",
       "      <td>24618</td>\n",
       "      <td>25.416%</td>\n",
       "      <td>0.230%</td>\n",
       "    </tr>\n",
       "    <tr>\n",
       "      <td>(0.3, 0.4]</td>\n",
       "      <td>Control</td>\n",
       "      <td>11364</td>\n",
       "      <td>34.468%</td>\n",
       "      <td></td>\n",
       "    </tr>\n",
       "    <tr>\n",
       "      <td>(0.3, 0.4]</td>\n",
       "      <td>Treatment</td>\n",
       "      <td>11439</td>\n",
       "      <td>34.959%</td>\n",
       "      <td>0.491%</td>\n",
       "    </tr>\n",
       "    <tr>\n",
       "      <td>(0.4, 0.5]</td>\n",
       "      <td>Control</td>\n",
       "      <td>4748</td>\n",
       "      <td>45.451%</td>\n",
       "      <td></td>\n",
       "    </tr>\n",
       "    <tr>\n",
       "      <td>(0.4, 0.5]</td>\n",
       "      <td>Treatment</td>\n",
       "      <td>4690</td>\n",
       "      <td>43.710%</td>\n",
       "      <td>-1.741%</td>\n",
       "    </tr>\n",
       "    <tr>\n",
       "      <td>(0.5, 0.6]</td>\n",
       "      <td>Control</td>\n",
       "      <td>4955</td>\n",
       "      <td>56.892%</td>\n",
       "      <td></td>\n",
       "    </tr>\n",
       "    <tr>\n",
       "      <td>(0.5, 0.6]</td>\n",
       "      <td>Treatment</td>\n",
       "      <td>5107</td>\n",
       "      <td>56.648%</td>\n",
       "      <td>-0.244%</td>\n",
       "    </tr>\n",
       "    <tr>\n",
       "      <td>(0.6, 0.7]</td>\n",
       "      <td>Control</td>\n",
       "      <td>6063</td>\n",
       "      <td>63.978%</td>\n",
       "      <td></td>\n",
       "    </tr>\n",
       "    <tr>\n",
       "      <td>(0.6, 0.7]</td>\n",
       "      <td>Treatment</td>\n",
       "      <td>5832</td>\n",
       "      <td>64.163%</td>\n",
       "      <td>0.185%</td>\n",
       "    </tr>\n",
       "    <tr>\n",
       "      <td>(0.7, 0.8]</td>\n",
       "      <td>Control</td>\n",
       "      <td>4443</td>\n",
       "      <td>73.374%</td>\n",
       "      <td></td>\n",
       "    </tr>\n",
       "    <tr>\n",
       "      <td>(0.7, 0.8]</td>\n",
       "      <td>Treatment</td>\n",
       "      <td>4505</td>\n",
       "      <td>73.296%</td>\n",
       "      <td>-0.078%</td>\n",
       "    </tr>\n",
       "    <tr>\n",
       "      <td>(0.8, 0.9]</td>\n",
       "      <td>Control</td>\n",
       "      <td>3283</td>\n",
       "      <td>82.973%</td>\n",
       "      <td></td>\n",
       "    </tr>\n",
       "    <tr>\n",
       "      <td>(0.8, 0.9]</td>\n",
       "      <td>Treatment</td>\n",
       "      <td>3294</td>\n",
       "      <td>82.240%</td>\n",
       "      <td>-0.732%</td>\n",
       "    </tr>\n",
       "    <tr>\n",
       "      <td>(0.9, 1.0]</td>\n",
       "      <td>Control</td>\n",
       "      <td>372</td>\n",
       "      <td>97.043%</td>\n",
       "      <td></td>\n",
       "    </tr>\n",
       "    <tr>\n",
       "      <td>(0.9, 1.0]</td>\n",
       "      <td>Treatment</td>\n",
       "      <td>411</td>\n",
       "      <td>65.937%</td>\n",
       "      <td>-31.106%</td>\n",
       "    </tr>\n",
       "  </tbody>\n",
       "</table>"
      ],
      "text/plain": [
       "<IPython.core.display.HTML object>"
      ]
     },
     "execution_count": 27,
     "metadata": {},
     "output_type": "execute_result"
    }
   ],
   "source": [
    "HTML(get_bins_table('NGA_IL').to_html(index=False))"
   ]
  },
  {
   "cell_type": "markdown",
   "metadata": {},
   "source": [
    "#### Vote.org"
   ]
  },
  {
   "cell_type": "code",
   "execution_count": 28,
   "metadata": {},
   "outputs": [
    {
     "data": {
      "text/html": [
       "<table border=\"1\" class=\"dataframe\">\n",
       "  <thead>\n",
       "    <tr style=\"text-align: right;\">\n",
       "      <th>Vote Propensity Range</th>\n",
       "      <th>Treatment</th>\n",
       "      <th>Size</th>\n",
       "      <th>Turnout</th>\n",
       "      <th>Effect</th>\n",
       "    </tr>\n",
       "  </thead>\n",
       "  <tbody>\n",
       "    <tr>\n",
       "      <td>(0.1, 0.2]</td>\n",
       "      <td>Control</td>\n",
       "      <td>1367</td>\n",
       "      <td>22.970%</td>\n",
       "      <td></td>\n",
       "    </tr>\n",
       "    <tr>\n",
       "      <td>(0.1, 0.2]</td>\n",
       "      <td>Treatment</td>\n",
       "      <td>4057</td>\n",
       "      <td>21.321%</td>\n",
       "      <td>-1.649%</td>\n",
       "    </tr>\n",
       "    <tr>\n",
       "      <td>(0.2, 0.3]</td>\n",
       "      <td>Control</td>\n",
       "      <td>21346</td>\n",
       "      <td>29.725%</td>\n",
       "      <td></td>\n",
       "    </tr>\n",
       "    <tr>\n",
       "      <td>(0.2, 0.3]</td>\n",
       "      <td>Treatment</td>\n",
       "      <td>63544</td>\n",
       "      <td>29.787%</td>\n",
       "      <td>0.063%</td>\n",
       "    </tr>\n",
       "    <tr>\n",
       "      <td>(0.3, 0.4]</td>\n",
       "      <td>Control</td>\n",
       "      <td>87802</td>\n",
       "      <td>34.091%</td>\n",
       "      <td></td>\n",
       "    </tr>\n",
       "    <tr>\n",
       "      <td>(0.3, 0.4]</td>\n",
       "      <td>Treatment</td>\n",
       "      <td>262586</td>\n",
       "      <td>34.244%</td>\n",
       "      <td>0.153%</td>\n",
       "    </tr>\n",
       "    <tr>\n",
       "      <td>(0.4, 0.5]</td>\n",
       "      <td>Control</td>\n",
       "      <td>44181</td>\n",
       "      <td>44.723%</td>\n",
       "      <td></td>\n",
       "    </tr>\n",
       "    <tr>\n",
       "      <td>(0.4, 0.5]</td>\n",
       "      <td>Treatment</td>\n",
       "      <td>133182</td>\n",
       "      <td>45.177%</td>\n",
       "      <td>0.454%</td>\n",
       "    </tr>\n",
       "    <tr>\n",
       "      <td>(0.5, 0.6]</td>\n",
       "      <td>Control</td>\n",
       "      <td>36277</td>\n",
       "      <td>56.341%</td>\n",
       "      <td></td>\n",
       "    </tr>\n",
       "    <tr>\n",
       "      <td>(0.5, 0.6]</td>\n",
       "      <td>Treatment</td>\n",
       "      <td>108994</td>\n",
       "      <td>56.530%</td>\n",
       "      <td>0.188%</td>\n",
       "    </tr>\n",
       "    <tr>\n",
       "      <td>(0.6, 0.7]</td>\n",
       "      <td>Control</td>\n",
       "      <td>44386</td>\n",
       "      <td>65.158%</td>\n",
       "      <td></td>\n",
       "    </tr>\n",
       "    <tr>\n",
       "      <td>(0.6, 0.7]</td>\n",
       "      <td>Treatment</td>\n",
       "      <td>133656</td>\n",
       "      <td>65.278%</td>\n",
       "      <td>0.120%</td>\n",
       "    </tr>\n",
       "    <tr>\n",
       "      <td>(0.7, 0.8]</td>\n",
       "      <td>Control</td>\n",
       "      <td>48137</td>\n",
       "      <td>75.368%</td>\n",
       "      <td></td>\n",
       "    </tr>\n",
       "    <tr>\n",
       "      <td>(0.7, 0.8]</td>\n",
       "      <td>Treatment</td>\n",
       "      <td>145150</td>\n",
       "      <td>75.422%</td>\n",
       "      <td>0.054%</td>\n",
       "    </tr>\n",
       "    <tr>\n",
       "      <td>(0.8, 0.9]</td>\n",
       "      <td>Control</td>\n",
       "      <td>17759</td>\n",
       "      <td>83.192%</td>\n",
       "      <td></td>\n",
       "    </tr>\n",
       "    <tr>\n",
       "      <td>(0.8, 0.9]</td>\n",
       "      <td>Treatment</td>\n",
       "      <td>52464</td>\n",
       "      <td>83.341%</td>\n",
       "      <td>0.149%</td>\n",
       "    </tr>\n",
       "    <tr>\n",
       "      <td>(0.9, 1.0]</td>\n",
       "      <td>Control</td>\n",
       "      <td>665</td>\n",
       "      <td>89.323%</td>\n",
       "      <td></td>\n",
       "    </tr>\n",
       "    <tr>\n",
       "      <td>(0.9, 1.0]</td>\n",
       "      <td>Treatment</td>\n",
       "      <td>1763</td>\n",
       "      <td>89.109%</td>\n",
       "      <td>-0.214%</td>\n",
       "    </tr>\n",
       "  </tbody>\n",
       "</table>"
      ],
      "text/plain": [
       "<IPython.core.display.HTML object>"
      ]
     },
     "execution_count": 28,
     "metadata": {},
     "output_type": "execute_result"
    }
   ],
   "source": [
    "HTML(get_bins_table('org_hustle').to_html(index=False))"
   ]
  },
  {
   "cell_type": "markdown",
   "metadata": {},
   "source": [
    "## Heterogeneous Treatment Effect by OLS"
   ]
  },
  {
   "cell_type": "markdown",
   "metadata": {},
   "source": [
    "### Pooled regression"
   ]
  },
  {
   "cell_type": "code",
   "execution_count": 29,
   "metadata": {},
   "outputs": [
    {
     "data": {
      "text/html": [
       "<div>\n",
       "<style scoped>\n",
       "    .dataframe tbody tr th:only-of-type {\n",
       "        vertical-align: middle;\n",
       "    }\n",
       "\n",
       "    .dataframe tbody tr th {\n",
       "        vertical-align: top;\n",
       "    }\n",
       "\n",
       "    .dataframe thead th {\n",
       "        text-align: right;\n",
       "    }\n",
       "</style>\n",
       "<table border=\"1\" class=\"dataframe\">\n",
       "  <thead>\n",
       "    <tr style=\"text-align: right;\">\n",
       "      <th></th>\n",
       "      <th>ITE</th>\n",
       "      <th>Propensity</th>\n",
       "      <th>Propensity Range</th>\n",
       "      <th>Propensity_square</th>\n",
       "      <th>Treatment</th>\n",
       "      <th>Turnout</th>\n",
       "      <th>experiment</th>\n",
       "      <th>hh_id</th>\n",
       "      <th>vp_10</th>\n",
       "      <th>NGA_IL</th>\n",
       "      <th>org_hustle</th>\n",
       "    </tr>\n",
       "  </thead>\n",
       "  <tbody>\n",
       "    <tr>\n",
       "      <th>0</th>\n",
       "      <td>0.920%</td>\n",
       "      <td>83.649%</td>\n",
       "      <td>(0.8, 0.9]</td>\n",
       "      <td>69.972%</td>\n",
       "      <td>1</td>\n",
       "      <td>0</td>\n",
       "      <td>AZ_One</td>\n",
       "      <td>24321</td>\n",
       "      <td>(0.8, 0.9]</td>\n",
       "      <td>0</td>\n",
       "      <td>0</td>\n",
       "    </tr>\n",
       "    <tr>\n",
       "      <th>1</th>\n",
       "      <td>0.567%</td>\n",
       "      <td>54.941%</td>\n",
       "      <td>(0.5, 0.6]</td>\n",
       "      <td>30.185%</td>\n",
       "      <td>1</td>\n",
       "      <td>0</td>\n",
       "      <td>AZ_One</td>\n",
       "      <td>54491</td>\n",
       "      <td>(0.5, 0.6]</td>\n",
       "      <td>0</td>\n",
       "      <td>0</td>\n",
       "    </tr>\n",
       "    <tr>\n",
       "      <th>2</th>\n",
       "      <td>0.500%</td>\n",
       "      <td>65.942%</td>\n",
       "      <td>(0.6, 0.7]</td>\n",
       "      <td>43.484%</td>\n",
       "      <td>1</td>\n",
       "      <td>0</td>\n",
       "      <td>AZ_One</td>\n",
       "      <td>167763</td>\n",
       "      <td>(0.6, 0.7]</td>\n",
       "      <td>0</td>\n",
       "      <td>0</td>\n",
       "    </tr>\n",
       "    <tr>\n",
       "      <th>3</th>\n",
       "      <td>0.567%</td>\n",
       "      <td>54.941%</td>\n",
       "      <td>(0.5, 0.6]</td>\n",
       "      <td>30.185%</td>\n",
       "      <td>1</td>\n",
       "      <td>0</td>\n",
       "      <td>AZ_One</td>\n",
       "      <td>233259</td>\n",
       "      <td>(0.5, 0.6]</td>\n",
       "      <td>0</td>\n",
       "      <td>0</td>\n",
       "    </tr>\n",
       "    <tr>\n",
       "      <th>4</th>\n",
       "      <td>0.567%</td>\n",
       "      <td>54.941%</td>\n",
       "      <td>(0.5, 0.6]</td>\n",
       "      <td>30.185%</td>\n",
       "      <td>0</td>\n",
       "      <td>1</td>\n",
       "      <td>AZ_One</td>\n",
       "      <td>2300</td>\n",
       "      <td>(0.5, 0.6]</td>\n",
       "      <td>0</td>\n",
       "      <td>0</td>\n",
       "    </tr>\n",
       "  </tbody>\n",
       "</table>\n",
       "</div>"
      ],
      "text/plain": [
       "     ITE  Propensity Propensity Range  Propensity_square  Treatment  Turnout  \\\n",
       "0 0.920%     83.649%       (0.8, 0.9]            69.972%          1        0   \n",
       "1 0.567%     54.941%       (0.5, 0.6]            30.185%          1        0   \n",
       "2 0.500%     65.942%       (0.6, 0.7]            43.484%          1        0   \n",
       "3 0.567%     54.941%       (0.5, 0.6]            30.185%          1        0   \n",
       "4 0.567%     54.941%       (0.5, 0.6]            30.185%          0        1   \n",
       "\n",
       "  experiment   hh_id       vp_10  NGA_IL  org_hustle  \n",
       "0     AZ_One   24321  (0.8, 0.9]       0           0  \n",
       "1     AZ_One   54491  (0.5, 0.6]       0           0  \n",
       "2     AZ_One  167763  (0.6, 0.7]       0           0  \n",
       "3     AZ_One  233259  (0.5, 0.6]       0           0  \n",
       "4     AZ_One    2300  (0.5, 0.6]       0           0  "
      ]
     },
     "execution_count": 29,
     "metadata": {},
     "output_type": "execute_result"
    }
   ],
   "source": [
    "df.head()"
   ]
  },
  {
   "cell_type": "code",
   "execution_count": 30,
   "metadata": {},
   "outputs": [],
   "source": [
    " def get_experiment_pool():\n",
    "    return smf.ols('Turnout ~ \\\n",
    "    Treatment + Propensity + Treatment * Propensity',data=df).\\\n",
    "    fit()"
   ]
  },
  {
   "cell_type": "code",
   "execution_count": 31,
   "metadata": {},
   "outputs": [],
   "source": [
    " def get_experiment_reg(exp):\n",
    "    return smf.ols('Turnout ~ \\\n",
    "    Treatment + Propensity + Treatment * Propensity',data=df[df.experiment==exp]).\\\n",
    "    fit()"
   ]
  },
  {
   "cell_type": "code",
   "execution_count": 32,
   "metadata": {
    "scrolled": true
   },
   "outputs": [],
   "source": [
    "pool = get_experiment_pool()"
   ]
  },
  {
   "cell_type": "code",
   "execution_count": 33,
   "metadata": {},
   "outputs": [],
   "source": [
    "az = get_experiment_reg('AZ_One')"
   ]
  },
  {
   "cell_type": "code",
   "execution_count": 34,
   "metadata": {},
   "outputs": [],
   "source": [
    "il = get_experiment_reg('NGA_IL')"
   ]
  },
  {
   "cell_type": "code",
   "execution_count": 35,
   "metadata": {},
   "outputs": [],
   "source": [
    "hu=get_experiment_reg('org_hustle')"
   ]
  },
  {
   "cell_type": "code",
   "execution_count": 36,
   "metadata": {},
   "outputs": [],
   "source": [
    "stargazer = Stargazer([pool,az,il, hu])\n",
    "stargazer.significant_digits(4)\n",
    "stargazer.title('Treatment by Experiment')\n",
    "stargazer.custom_columns(['Pooled','One Arizona', 'NextGen Climate','Vote.org'], [1,1,1,1])"
   ]
  },
  {
   "cell_type": "code",
   "execution_count": 38,
   "metadata": {},
   "outputs": [
    {
     "data": {
      "text/latex": [
       "\\begin{table}[!htbp] \\centering\n",
       "  \\caption{Treatment by Experiment}\n",
       "  \\label{}\n",
       "\\begin{tabular}{@{\\extracolsep{5pt}}lcccc}\n",
       "\\\\[-1.8ex]\\hline\n",
       "\\hline \\\\[-1.8ex]\n",
       "& \\multicolumn{4}{c}{\\textit{Dependent variable:}} \\\n",
       "\\cr \\cline{4-5}\n",
       "\\\\[-1.8ex] & \\multicolumn{1}{c}{Pooled} & \\multicolumn{1}{c}{One Arizona} & \\multicolumn{1}{c}{NextGen Climate} & \\multicolumn{1}{c}{Vote.org}  \\\\\n",
       "\\hline \\\\[-1.8ex]\n",
       " Intercept & -0.0004$^{}$ & -0.0035$^{}$ & 0.0005$^{}$ & -0.0009$^{}$ \\\\\n",
       "  & (0.0018) & (0.0107) & (0.0025) & (0.0026) \\\\\n",
       "  & & & & \\\\\n",
       " Propensity & 1.0009$^{***}$ & 1.0054$^{***}$ & 0.9986$^{***}$ & 1.0018$^{***}$ \\\\\n",
       "  & (0.0034) & (0.0163) & (0.0067) & (0.0047) \\\\\n",
       "  & & & & \\\\\n",
       " Treatment & 0.0122$^{***}$ & 0.1194$^{***}$ & 0.0177$^{***}$ & 0.0024$^{}$ \\\\\n",
       "  & (0.0022) & (0.0117) & (0.0036) & (0.003) \\\\\n",
       "  & & & & \\\\\n",
       " Treatment:Propensity & -0.0191$^{***}$ & -0.1791$^{***}$ & -0.0478$^{***}$ & -0.0014$^{}$ \\\\\n",
       "  & (0.0041) & (0.018) & (0.0094) & (0.0055) \\\\\n",
       "  & & & & \\\\\n",
       "\\hline \\\\[-1.8ex]\n",
       " Observations & 1622800.0 & 226998.0 & 188486.0 & 1207316.0 \\\\\n",
       " R${2}$ & 0.1489 & 0.0653 & 0.1858 & 0.1285 \\\\\n",
       " Adjusted R${2}$ & 0.1489 & 0.0653 & 0.1858 & 0.1285 \\\\\n",
       " Residual Std. Error & 0.461(df = 1622796.0) & 0.4632(df = 226994.0) & 0.4222(df = 188482.0) & 0.4663(df = 1207312.0)  \\\\\n",
       " F Statistic & 94640.7244$^{***}$ (df = 3.0; 1622796.0) & 5289.9472$^{***}$ (df = 3.0; 226994.0) & 14339.277$^{***}$ (df = 3.0; 188482.0) & 59327.2142$^{***}$ (df = 3.0; 1207312.0) \\\\\n",
       "\\hline\n",
       "\\hline \\\\[-1.8ex]\n",
       "\\textit{Note:} & \\multicolumn{4}{r}{$^{*}$p$<$0.1; $^{**}$p$<$0.05; $^{***}$p$<$0.01} \\\\\n",
       "\\end{tabular}\n",
       "\\end{table}"
      ],
      "text/plain": [
       "<IPython.core.display.Latex object>"
      ]
     },
     "execution_count": 38,
     "metadata": {},
     "output_type": "execute_result"
    }
   ],
   "source": [
    "Latex(stargazer.render_latex())"
   ]
  },
  {
   "cell_type": "code",
   "execution_count": 37,
   "metadata": {
    "scrolled": true
   },
   "outputs": [
    {
     "data": {
      "text/html": [
       "Treatment by Experiment<br><table style=\"text-align:center\"><tr><td colspan=\"5\" style=\"border-bottom: 1px solid black\"></td></tr><tr><td style=\"text-align:left\"></td><td colspan=\"4\"><em>Dependent variable:</em></td></tr><tr><td style=\"text-align:left\"></td><tr><td colspan=\"1\">Pooled</td><td colspan=\"1\">One Arizona</td><td colspan=\"1\">NextGen Climate</td><td colspan=\"1\">Vote.org</td></tr><tr><td colspan=\"5\" style=\"border-bottom: 1px solid black\"></td></tr><tr><td style=\"text-align:left\">Intercept</td><td>-0.0004<sup></sup></td><td>-0.0035<sup></sup></td><td>0.0005<sup></sup></td><td>-0.0009<sup></sup></td></tr><tr><td style=\"text-align:left\"></td><td>(0.0018)</td><td>(0.0107)</td><td>(0.0025)</td><td>(0.0026)</td></tr><tr><td style=\"text-align:left\">Propensity</td><td>1.0009<sup>***</sup></td><td>1.0054<sup>***</sup></td><td>0.9986<sup>***</sup></td><td>1.0018<sup>***</sup></td></tr><tr><td style=\"text-align:left\"></td><td>(0.0034)</td><td>(0.0163)</td><td>(0.0067)</td><td>(0.0047)</td></tr><tr><td style=\"text-align:left\">Treatment</td><td>0.0122<sup>***</sup></td><td>0.1194<sup>***</sup></td><td>0.0177<sup>***</sup></td><td>0.0024<sup></sup></td></tr><tr><td style=\"text-align:left\"></td><td>(0.0022)</td><td>(0.0117)</td><td>(0.0036)</td><td>(0.003)</td></tr><tr><td style=\"text-align:left\">Treatment:Propensity</td><td>-0.0191<sup>***</sup></td><td>-0.1791<sup>***</sup></td><td>-0.0478<sup>***</sup></td><td>-0.0014<sup></sup></td></tr><tr><td style=\"text-align:left\"></td><td>(0.0041)</td><td>(0.018)</td><td>(0.0094)</td><td>(0.0055)</td></tr><td colspan=\"5\" style=\"border-bottom: 1px solid black\"></td></tr><tr><td style=\"text-align: left\">Observations</td><td>1622800.0</td><td>226998.0</td><td>188486.0</td><td>1207316.0</td></tr><tr><td style=\"text-align: left\">R<sup>2</sup></td><td>0.1489</td><td>0.0653</td><td>0.1858</td><td>0.1285</td></tr><tr><td style=\"text-align: left\">Adjusted R<sup>2</sup></td><td>0.1489</td><td>0.0653</td><td>0.1858</td><td>0.1285</td></tr><tr><td style=\"text-align: left\">Residual Std. Error</td><td>0.461(df = 1622796.0)</td><td>0.4632(df = 226994.0)</td><td>0.4222(df = 188482.0)</td><td>0.4663(df = 1207312.0)</td></tr><tr><td style=\"text-align: left\">F Statistic</td><td>94640.7244<sup>***</sup>(df = 3.0; 1622796.0)</td><td>5289.9472<sup>***</sup>(df = 3.0; 226994.0)</td><td>14339.277<sup>***</sup>(df = 3.0; 188482.0)</td><td>59327.2142<sup>***</sup>(df = 3.0; 1207312.0)</td></tr><tr><td colspan=\"5\" style=\"border-bottom: 1px solid black\"></td></tr><tr><td style=\"text-align: left\">Note:</td><td colspan=\"4\" style=\"text-align: right\"><em>p&lt;0.1</em>; <b>p&lt;0.05</b>; p&lt;0.01</td></tr></table>"
      ],
      "text/plain": [
       "<IPython.core.display.HTML object>"
      ]
     },
     "execution_count": 37,
     "metadata": {},
     "output_type": "execute_result"
    }
   ],
   "source": [
    "HTML(stargazer.render_html())"
   ]
  },
  {
   "cell_type": "markdown",
   "metadata": {},
   "source": [
    "# X-learner to Compute Individual Treatment Effect (ITE)"
   ]
  },
  {
   "cell_type": "code",
   "execution_count": 39,
   "metadata": {},
   "outputs": [],
   "source": [
    "# Outcome: Voter Turn out in 2016\n",
    "Y = np.array(df['Turnout'].astype(int))\n",
    "# Treatment: Text Messaging\n",
    "T = np.array(df['Treatment'].astype(int)) \n",
    "# Covariates\n",
    "X =np.array(df[['Propensity','NGA_IL','org_hustle']])\n",
    "# Meta Learner Library\n",
    "from econml.metalearners import TLearner, SLearner, XLearner\n",
    "# Base Algorithm Library\n",
    "from sklearn.ensemble import RandomForestRegressor, RandomForestClassifier,GradientBoostingRegressor \n",
    "n=X.shape[0]\n",
    "import matplotlib.pyplot as plt"
   ]
  },
  {
   "cell_type": "code",
   "execution_count": 40,
   "metadata": {},
   "outputs": [],
   "source": [
    "# Instantiate X learner\n",
    "controls_model = GradientBoostingRegressor(n_estimators=100, \n",
    "                                           max_depth=6, \n",
    "                                           min_samples_leaf=int(n/1000))\n",
    "\n",
    "treated_model = GradientBoostingRegressor(n_estimators=100, \n",
    "                                          max_depth=6, \n",
    "                                          min_samples_leaf=int(n/1000))\n",
    "\n",
    "propensity_model = RandomForestClassifier(n_estimators=100, \n",
    "                                          max_depth=6, \n",
    "                                        min_samples_leaf=int(n/1000),\n",
    "                                        class_weight='balanced_subsample')\n",
    "\n",
    "X_learner = XLearner(controls_model=controls_model, \n",
    "                     treated_model=treated_model, \n",
    "                     propensity_model=propensity_model)\n",
    "# Train X_learner\n",
    "X_learner.fit(Y, T, X)\n",
    "# Estimate treatment effects on test data\n",
    "X_te = X_learner.effect(X)"
   ]
  },
  {
   "cell_type": "markdown",
   "metadata": {},
   "source": [
    "# Visulization: vote propensity vs. estimated ITE"
   ]
  },
  {
   "cell_type": "markdown",
   "metadata": {},
   "source": [
    "## T-learner"
   ]
  },
  {
   "cell_type": "code",
   "execution_count": 41,
   "metadata": {},
   "outputs": [],
   "source": [
    "learner_df =pd.DataFrame({'Vote Propensity': X[:, 0],\n",
    "                          'experiment': df.experiment,\n",
    "                          'Estimated ITE':X_te,\n",
    "                         'Treatment':T,\n",
    "                         'Turnout': Y})"
   ]
  },
  {
   "cell_type": "code",
   "execution_count": 42,
   "metadata": {},
   "outputs": [
    {
     "data": {
      "text/plain": [
       "(1622800, 5)"
      ]
     },
     "execution_count": 42,
     "metadata": {},
     "output_type": "execute_result"
    }
   ],
   "source": [
    "learner_df.shape"
   ]
  },
  {
   "cell_type": "code",
   "execution_count": 43,
   "metadata": {},
   "outputs": [],
   "source": [
    "learner_df.to_csv('../../Machine Learing HTE/1_data/pooled.csv')"
   ]
  },
  {
   "cell_type": "code",
   "execution_count": 21,
   "metadata": {},
   "outputs": [],
   "source": [
    "learner_df = pd.read_csv('../../Machine Learing HTE/1_data/pooled.csv')"
   ]
  },
  {
   "cell_type": "code",
   "execution_count": 22,
   "metadata": {},
   "outputs": [],
   "source": [
    "learner_df2 = pd.read_csv('../../Machine Learing HTE/1_data/pooled.csv')"
   ]
  },
  {
   "cell_type": "code",
   "execution_count": 23,
   "metadata": {},
   "outputs": [],
   "source": [
    "learner_df2.experiment = 'all'"
   ]
  },
  {
   "cell_type": "code",
   "execution_count": 27,
   "metadata": {},
   "outputs": [],
   "source": [
    "plot_df = pd.concat([learner_df, learner_df2 ], ignore_index=True)"
   ]
  },
  {
   "cell_type": "code",
   "execution_count": 30,
   "metadata": {},
   "outputs": [
    {
     "data": {
      "text/plain": [
       "array(['AZ_One', 'NGA_IL', 'org_hustle', 'all'], dtype=object)"
      ]
     },
     "execution_count": 30,
     "metadata": {},
     "output_type": "execute_result"
    }
   ],
   "source": [
    "plot_df.experiment.unique()"
   ]
  },
  {
   "cell_type": "code",
   "execution_count": 33,
   "metadata": {
    "scrolled": true
   },
   "outputs": [
    {
     "data": {
      "text/html": [
       "<div>\n",
       "<style scoped>\n",
       "    .dataframe tbody tr th:only-of-type {\n",
       "        vertical-align: middle;\n",
       "    }\n",
       "\n",
       "    .dataframe tbody tr th {\n",
       "        vertical-align: top;\n",
       "    }\n",
       "\n",
       "    .dataframe thead th {\n",
       "        text-align: right;\n",
       "    }\n",
       "</style>\n",
       "<table border=\"1\" class=\"dataframe\">\n",
       "  <thead>\n",
       "    <tr style=\"text-align: right;\">\n",
       "      <th></th>\n",
       "      <th>Unnamed: 0</th>\n",
       "      <th>Vote Propensity</th>\n",
       "      <th>experiment</th>\n",
       "      <th>Estimated ITE</th>\n",
       "      <th>Treatment</th>\n",
       "      <th>Turnout</th>\n",
       "    </tr>\n",
       "  </thead>\n",
       "  <tbody>\n",
       "    <tr>\n",
       "      <th>0</th>\n",
       "      <td>0</td>\n",
       "      <td>0.836493</td>\n",
       "      <td>AZ_One</td>\n",
       "      <td>0.004259</td>\n",
       "      <td>1</td>\n",
       "      <td>0</td>\n",
       "    </tr>\n",
       "    <tr>\n",
       "      <th>1</th>\n",
       "      <td>1</td>\n",
       "      <td>0.549410</td>\n",
       "      <td>AZ_One</td>\n",
       "      <td>0.005391</td>\n",
       "      <td>1</td>\n",
       "      <td>0</td>\n",
       "    </tr>\n",
       "    <tr>\n",
       "      <th>2</th>\n",
       "      <td>2</td>\n",
       "      <td>0.659421</td>\n",
       "      <td>AZ_One</td>\n",
       "      <td>0.005362</td>\n",
       "      <td>1</td>\n",
       "      <td>0</td>\n",
       "    </tr>\n",
       "    <tr>\n",
       "      <th>3</th>\n",
       "      <td>3</td>\n",
       "      <td>0.549410</td>\n",
       "      <td>AZ_One</td>\n",
       "      <td>0.005391</td>\n",
       "      <td>1</td>\n",
       "      <td>0</td>\n",
       "    </tr>\n",
       "    <tr>\n",
       "      <th>4</th>\n",
       "      <td>4</td>\n",
       "      <td>0.549410</td>\n",
       "      <td>AZ_One</td>\n",
       "      <td>0.005391</td>\n",
       "      <td>0</td>\n",
       "      <td>1</td>\n",
       "    </tr>\n",
       "  </tbody>\n",
       "</table>\n",
       "</div>"
      ],
      "text/plain": [
       "   Unnamed: 0  Vote Propensity experiment  Estimated ITE  Treatment  Turnout\n",
       "0           0         0.836493     AZ_One       0.004259          1        0\n",
       "1           1         0.549410     AZ_One       0.005391          1        0\n",
       "2           2         0.659421     AZ_One       0.005362          1        0\n",
       "3           3         0.549410     AZ_One       0.005391          1        0\n",
       "4           4         0.549410     AZ_One       0.005391          0        1"
      ]
     },
     "execution_count": 33,
     "metadata": {},
     "output_type": "execute_result"
    }
   ],
   "source": [
    "learner_df.head()"
   ]
  },
  {
   "cell_type": "code",
   "execution_count": null,
   "metadata": {},
   "outputs": [],
   "source": [
    "y = learner_df['ITE']\n",
    "\n",
    "X = learner_df[['Propensity']]\n",
    "X = sm.add_constant(X)\n",
    "\n",
    "ols = sm.OLS(y, X)"
   ]
  },
  {
   "cell_type": "code",
   "execution_count": 36,
   "metadata": {},
   "outputs": [],
   "source": [
    " def est_experiment_pool():\n",
    "    y = learner_df['Estimated ITE']\n",
    "\n",
    "    X = learner_df[['Vote Propensity']]\n",
    "    X = sm.add_constant(X)\n",
    "\n",
    "    return sm.OLS(y, X).fit()\n",
    "\n",
    " def est_experiment_reg(exp):\n",
    "    y = learner_df[learner_df.experiment==exp]['Estimated ITE']\n",
    "\n",
    "    X = learner_df[learner_df.experiment==exp][['Vote Propensity']]\n",
    "    X = sm.add_constant(X)\n",
    "\n",
    "    return sm.OLS(y, X).fit()"
   ]
  },
  {
   "cell_type": "code",
   "execution_count": 38,
   "metadata": {},
   "outputs": [
    {
     "data": {
      "text/html": [
       "Treatment by Experiment<br><table style=\"text-align:center\"><tr><td colspan=\"5\" style=\"border-bottom: 1px solid black\"></td></tr><tr><td style=\"text-align:left\"></td><td colspan=\"4\"><em>Dependent variable:</em></td></tr><tr><td style=\"text-align:left\"></td><tr><td colspan=\"1\">Pooled</td><td colspan=\"1\">One Arizona</td><td colspan=\"1\">NextGen Climate</td><td colspan=\"1\">Vote.org</td></tr><tr><td colspan=\"5\" style=\"border-bottom: 1px solid black\"></td></tr><tr><td style=\"text-align:left\">Vote Propensity</td><td>-0.0183<sup>***</sup></td><td>-0.1227<sup>***</sup></td><td>-0.0452<sup>***</sup></td><td>-0.0031<sup>***</sup></td></tr><tr><td style=\"text-align:left\"></td><td>(0.0001)</td><td>(0.0003)</td><td>(0.0002)</td><td>(0.0)</td></tr><tr><td style=\"text-align:left\">const</td><td>0.0116<sup>***</sup></td><td>0.0802<sup>***</sup></td><td>0.0187<sup>***</sup></td><td>0.0035<sup>***</sup></td></tr><tr><td style=\"text-align:left\"></td><td>(0.0)</td><td>(0.0002)</td><td>(0.0001)</td><td>(0.0)</td></tr><td colspan=\"5\" style=\"border-bottom: 1px solid black\"></td></tr><tr><td style=\"text-align: left\">Observations</td><td>1622800.0</td><td>226998.0</td><td>188486.0</td><td>1207316.0</td></tr><tr><td style=\"text-align: left\">R<sup>2</sup></td><td>0.0714</td><td>0.4654</td><td>0.1751</td><td>0.0078</td></tr><tr><td style=\"text-align: left\">Adjusted R<sup>2</sup></td><td>0.0714</td><td>0.4654</td><td>0.1751</td><td>0.0078</td></tr><tr><td style=\"text-align: left\">Residual Std. Error</td><td>0.0129(df = 1622798.0)</td><td>0.0187(df = 226996.0)</td><td>0.0203(df = 188484.0)</td><td>0.0062(df = 1207314.0)</td></tr><tr><td style=\"text-align: left\">F Statistic</td><td>124783.0387<sup>***</sup>(df = 1.0; 1622798.0)</td><td>197605.8146<sup>***</sup>(df = 1.0; 226996.0)</td><td>40009.8951<sup>***</sup>(df = 1.0; 188484.0)</td><td>9468.1683<sup>***</sup>(df = 1.0; 1207314.0)</td></tr><tr><td colspan=\"5\" style=\"border-bottom: 1px solid black\"></td></tr><tr><td style=\"text-align: left\">Note:</td><td colspan=\"4\" style=\"text-align: right\"><em>p&lt;0.1</em>; <b>p&lt;0.05</b>; p&lt;0.01</td></tr></table>"
      ],
      "text/plain": [
       "<IPython.core.display.HTML object>"
      ]
     },
     "execution_count": 38,
     "metadata": {},
     "output_type": "execute_result"
    }
   ],
   "source": [
    "HTML(stargazer.render_html())"
   ]
  },
  {
   "cell_type": "code",
   "execution_count": 37,
   "metadata": {},
   "outputs": [
    {
     "data": {
      "text/latex": [
       "\\begin{table}[!htbp] \\centering\n",
       "  \\caption{Treatment by Experiment}\n",
       "  \\label{}\n",
       "\\begin{tabular}{@{\\extracolsep{5pt}}lcccc}\n",
       "\\\\[-1.8ex]\\hline\n",
       "\\hline \\\\[-1.8ex]\n",
       "& \\multicolumn{4}{c}{\\textit{Dependent variable:}} \\\n",
       "\\cr \\cline{4-5}\n",
       "\\\\[-1.8ex] & \\multicolumn{1}{c}{Pooled} & \\multicolumn{1}{c}{One Arizona} & \\multicolumn{1}{c}{NextGen Climate} & \\multicolumn{1}{c}{Vote.org}  \\\\\n",
       "\\hline \\\\[-1.8ex]\n",
       " Vote Propensity & -0.0183$^{***}$ & -0.1227$^{***}$ & -0.0452$^{***}$ & -0.0031$^{***}$ \\\\\n",
       "  & (0.0001) & (0.0003) & (0.0002) & (0.0) \\\\\n",
       "  & & & & \\\\\n",
       " const & 0.0116$^{***}$ & 0.0802$^{***}$ & 0.0187$^{***}$ & 0.0035$^{***}$ \\\\\n",
       "  & (0.0) & (0.0002) & (0.0001) & (0.0) \\\\\n",
       "  & & & & \\\\\n",
       "\\hline \\\\[-1.8ex]\n",
       " Observations & 1622800.0 & 226998.0 & 188486.0 & 1207316.0 \\\\\n",
       " R${2}$ & 0.0714 & 0.4654 & 0.1751 & 0.0078 \\\\\n",
       " Adjusted R${2}$ & 0.0714 & 0.4654 & 0.1751 & 0.0078 \\\\\n",
       " Residual Std. Error & 0.0129(df = 1622798.0) & 0.0187(df = 226996.0) & 0.0203(df = 188484.0) & 0.0062(df = 1207314.0)  \\\\\n",
       " F Statistic & 124783.0387$^{***}$ (df = 1.0; 1622798.0) & 197605.8146$^{***}$ (df = 1.0; 226996.0) & 40009.8951$^{***}$ (df = 1.0; 188484.0) & 9468.1683$^{***}$ (df = 1.0; 1207314.0) \\\\\n",
       "\\hline\n",
       "\\hline \\\\[-1.8ex]\n",
       "\\textit{Note:} & \\multicolumn{4}{r}{$^{*}$p$<$0.1; $^{**}$p$<$0.05; $^{***}$p$<$0.01} \\\\\n",
       "\\end{tabular}\n",
       "\\end{table}"
      ],
      "text/plain": [
       "<IPython.core.display.Latex object>"
      ]
     },
     "execution_count": 37,
     "metadata": {},
     "output_type": "execute_result"
    }
   ],
   "source": [
    "\n",
    "\n",
    "\n",
    "pool = est_experiment_pool()\n",
    "\n",
    "az = est_experiment_reg('AZ_One')\n",
    "\n",
    "il = est_experiment_reg('NGA_IL')\n",
    "\n",
    "hu=est_experiment_reg('org_hustle')\n",
    "\n",
    "stargazer = Stargazer([pool,az,il, hu])\n",
    "stargazer.significant_digits(4)\n",
    "stargazer.title('Treatment by Experiment')\n",
    "stargazer.custom_columns(['Pooled','One Arizona', 'NextGen Climate','Vote.org'], [1,1,1,1])\n",
    "\n",
    "Latex(stargazer.render_latex())"
   ]
  },
  {
   "cell_type": "code",
   "execution_count": 32,
   "metadata": {},
   "outputs": [
    {
     "data": {
      "image/png": "[encoded data removed]",
      "text/plain": [
       "<Figure size 720x720 with 4 Axes>"
      ]
     },
     "metadata": {
      "needs_background": "light"
     },
     "output_type": "display_data"
    }
   ],
   "source": [
    "sns.lmplot(x='Vote Propensity', y='Estimated ITE',\n",
    "     col=\"experiment\", hue=\"experiment\",  \n",
    "                 data=plot_df,  col_wrap=2, height=5)\n",
    "plt.tight_layout()\n",
    "plt.savefig('ITE X-learner each',dpi=400)"
   ]
  },
  {
   "cell_type": "code",
   "execution_count": 9,
   "metadata": {},
   "outputs": [],
   "source": [
    "import matplotlib.pylab as pylab\n",
    "params = {\n",
    "        'axes.labelsize': '22',\n",
    "         'axes.titlesize':'22',\n",
    "         'xtick.labelsize':'22',\n",
    "         'ytick.labelsize':'22'}\n",
    "pylab.rcParams.update(params)"
   ]
  },
  {
   "cell_type": "code",
   "execution_count": 47,
   "metadata": {
    "scrolled": true
   },
   "outputs": [
    {
     "data": {
      "image/png": "[encoded data removed]",
      "text/plain": [
       "<Figure size 720x576 with 1 Axes>"
      ]
     },
     "metadata": {
      "needs_background": "light"
     },
     "output_type": "display_data"
    }
   ],
   "source": [
    "plt.figure(figsize=(10, 8))\n",
    "ax = sns.regplot(x='Vote Propensity', y='Estimated ITE',\n",
    "                 data=learner_df, \n",
    "                 order=2,\n",
    "                 ci=100, \n",
    "                 marker=\"+\",\n",
    "                 scatter_kws={'color':'#039be5',\"s\": 50}, \n",
    "                 line_kws={'color':'#FF5722'})\n",
    "\n",
    "plt.title('Treatment Effect Estimated by X-learner',\n",
    "          {'fontsize': 20,\n",
    "        'fontweight' : 5})\n",
    "plt.tight_layout()\n",
    "plt.savefig('ITE by Propensity with Parabola', dpi=800)"
   ]
  },
  {
   "cell_type": "code",
   "execution_count": 36,
   "metadata": {},
   "outputs": [
    {
     "name": "stdout",
     "output_type": "stream",
     "text": [
      "[NbConvertApp] Converting notebook pool.ipynb to latex\n",
      "[NbConvertApp] Support files will be in pool_files/\n",
      "[NbConvertApp] Making directory pool_files\n",
      "[NbConvertApp] Making directory pool_files\n",
      "[NbConvertApp] Making directory pool_files\n",
      "[NbConvertApp] Making directory pool_files\n",
      "[NbConvertApp] Making directory pool_files\n",
      "[NbConvertApp] Writing 32046 bytes to pool.tex\n"
     ]
    }
   ],
   "source": [
    "! jupyter nbconvert --to latex --template hidecode pool.ipynb"
   ]
  },
  {
   "cell_type": "code",
   "execution_count": null,
   "metadata": {},
   "outputs": [],
   "source": []
  }
 ],
 "metadata": {
  "kernelspec": {
   "display_name": "Python 3",
   "language": "python",
   "name": "python3"
  },
  "language_info": {
   "codemirror_mode": {
    "name": "ipython",
    "version": 3
   },
   "file_extension": ".py",
   "mimetype": "text/x-python",
   "name": "python",
   "nbconvert_exporter": "python",
   "pygments_lexer": "ipython3",
   "version": "3.7.3"
  }
 },
 "nbformat": 4,
 "nbformat_minor": 4
}
