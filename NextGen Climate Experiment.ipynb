{
 "cells": [
  {
   "cell_type": "markdown",
   "metadata": {},
   "source": [
    "# NextGen Climate Campaign"
   ]
  },
  {
   "cell_type": "markdown",
   "metadata": {},
   "source": [
    "|   About the script    |                                         |\n",
    "| ----------- | --------------------------------------- |\n",
    "| Last update |  Dec 4 2019 |\n",
    "| Experiment  | Illinois Text Message Experiment by NextGen Climate  |\n",
    "| Dataset     | Stata file provided: `nextgen_relay_sms_clean_vh.dta` |"
   ]
  },
  {
   "cell_type": "markdown",
   "metadata": {},
   "source": [
    "\n",
    "|    Available covariates   |      |\n",
    "| ----------- | --------------------------------------- |\n",
    "| 42 Elections Turnout| from year 2000 to year 2014 (general, primary, municipal) |\n",
    "|demographical Profile|  age, gender, race, party|\n",
    "| Vote Propensity | predicted by logit regression using voting history |"
   ]
  },
  {
   "cell_type": "code",
   "execution_count": 1,
   "metadata": {},
   "outputs": [],
   "source": [
    "# load libraries\n",
    "\n",
    "# data cleaning and reshape\n",
    "import pandas as pd\n",
    "import numpy as np\n",
    "\n",
    "# caculate standard error\n",
    "from scipy.stats import sem\n",
    "\n",
    "# regression\n",
    "import statsmodels.api as sm\n",
    "# regression use formualar\n",
    "import statsmodels.formula.api as smf\n",
    "# regression with clustered standard error\n",
    "import econtools.metrics as mt\n",
    "\n",
    "# plot display\n",
    "%matplotlib inline\n",
    "import seaborn as sns\n",
    "import matplotlib.pyplot as plt\n",
    "\n",
    "# supress warning inline\n",
    "import warnings\n",
    "warnings.filterwarnings('ignore')\n",
    "\n",
    "# display latex and html table\n",
    "from IPython.display import Latex\n",
    "from IPython.display import HTML"
   ]
  },
  {
   "cell_type": "code",
   "execution_count": 2,
   "metadata": {},
   "outputs": [
    {
     "name": "stdout",
     "output_type": "stream",
     "text": [
      "/Users/yy2633/Dropbox/Thesis (2019 Fall)/Analysis Code\r\n"
     ]
    }
   ],
   "source": [
    "!pwd"
   ]
  },
  {
   "cell_type": "code",
   "execution_count": 5,
   "metadata": {},
   "outputs": [],
   "source": [
    "#df = pd.read_csv('../../Machine Learing HTE/1_data/nga_il/nga_il_add.csv')"
   ]
  },
  {
   "cell_type": "code",
   "execution_count": 7,
   "metadata": {},
   "outputs": [],
   "source": [
    "# Read Stata DTA file\n",
    "import econtools\n",
    "df = econtools.read('../../Machine Learing HTE/1_data/nga_il/nextgen_relay_sms_clean_vh.dta')"
   ]
  },
  {
   "cell_type": "code",
   "execution_count": 3,
   "metadata": {},
   "outputs": [],
   "source": [
    "# set random seed to ensure the following code and result is replicable\n",
    "np.random.seed(2019)"
   ]
  },
  {
   "cell_type": "markdown",
   "metadata": {},
   "source": [
    "## Intervention Description"
   ]
  },
  {
   "cell_type": "markdown",
   "metadata": {},
   "source": [
    "During the 2016 general election, NextGen Climate conducted an experiment to assess whether peer-to-peer texting is effective at increasing voter turnout. NextGen Climate randomly assigned 94,257 individuals to receive a text message encouraging them to vote and 94,229 to a control group that received no outreach from NextGen Climate through Relay, the program they used for peer-to-peer texting."
   ]
  },
  {
   "cell_type": "code",
   "execution_count": 9,
   "metadata": {},
   "outputs": [
    {
     "data": {
      "text/plain": [
       "(188486, 146)"
      ]
     },
     "execution_count": 9,
     "metadata": {},
     "output_type": "execute_result"
    }
   ],
   "source": [
    "# Dimension of Data\n",
    "df.shape"
   ]
  },
  {
   "cell_type": "code",
   "execution_count": 10,
   "metadata": {},
   "outputs": [],
   "source": [
    "def p_latex(x, cap):\n",
    "    latex_string = '\\\\begin{table}[ht]\\\\centering\\n\\\\caption{' + cap +'}\\n'  \n",
    "    latex_string = latex_string+x.to_latex().\\\n",
    "    replace('\\\\toprule','\\\\hline\\\\hline\\\\\\\\[-1em]').\\\n",
    "    replace('\\\\bottomrule', '\\\\hline \\\\hline') +'\\\\end{table}'\n",
    "    return Latex(latex_string)"
   ]
  },
  {
   "cell_type": "code",
   "execution_count": 11,
   "metadata": {},
   "outputs": [],
   "source": [
    "# description of assignment and compliance\n",
    "def f(x):\n",
    "    d = {}\n",
    "    d['Group Size'] = x['treat_binary'].count()\n",
    "    d['Compliance Rate'] = ((x['treat_binary']==x['contacted']).sum())/x['contacted'].count()\n",
    "    d['Proportion to Subject Pool'] =  x['contacted'].count()/df.shape[0] \n",
    "\n",
    "    return pd.Series(d, index=[ 'Group Size',\n",
    "                               'Compliance Rate',\n",
    "                               'Proportion to Subject Pool'])"
   ]
  },
  {
   "cell_type": "code",
   "execution_count": 12,
   "metadata": {
    "scrolled": true
   },
   "outputs": [
    {
     "data": {
      "text/html": [
       "<div>\n",
       "<style scoped>\n",
       "    .dataframe tbody tr th:only-of-type {\n",
       "        vertical-align: middle;\n",
       "    }\n",
       "\n",
       "    .dataframe tbody tr th {\n",
       "        vertical-align: top;\n",
       "    }\n",
       "\n",
       "    .dataframe thead th {\n",
       "        text-align: right;\n",
       "    }\n",
       "</style>\n",
       "<table border=\"1\" class=\"dataframe\">\n",
       "  <thead>\n",
       "    <tr style=\"text-align: right;\">\n",
       "      <th></th>\n",
       "      <th>Group Size</th>\n",
       "      <th>Compliance Rate</th>\n",
       "      <th>Proportion to Subject Pool</th>\n",
       "    </tr>\n",
       "    <tr>\n",
       "      <th>Assignment</th>\n",
       "      <th></th>\n",
       "      <th></th>\n",
       "      <th></th>\n",
       "    </tr>\n",
       "  </thead>\n",
       "  <tbody>\n",
       "    <tr>\n",
       "      <th>control</th>\n",
       "      <td>94229.0</td>\n",
       "      <td>0.999682</td>\n",
       "      <td>0.499926</td>\n",
       "    </tr>\n",
       "    <tr>\n",
       "      <th>treatment</th>\n",
       "      <td>94257.0</td>\n",
       "      <td>0.952523</td>\n",
       "      <td>0.500074</td>\n",
       "    </tr>\n",
       "  </tbody>\n",
       "</table>\n",
       "</div>"
      ],
      "text/plain": [
       "            Group Size  Compliance Rate  Proportion to Subject Pool\n",
       "Assignment                                                         \n",
       "control        94229.0         0.999682                    0.499926\n",
       "treatment      94257.0         0.952523                    0.500074"
      ]
     },
     "execution_count": 12,
     "metadata": {},
     "output_type": "execute_result"
    }
   ],
   "source": [
    "df[['treat_binary',\n",
    "    'contacted',\n",
    "   'voted']].groupby('treat_binary').apply(f).rename_axis(\"Assignment\").rename(index={0: 'control',\n",
    "                                                                                         1: 'treatment'})"
   ]
  },
  {
   "cell_type": "code",
   "execution_count": 13,
   "metadata": {},
   "outputs": [],
   "source": [
    "to_p = df[['treat_binary',\n",
    "    'contacted',\n",
    "   'voted']].groupby('treat_binary').apply(f).rename_axis(\"Assignment\").rename(index={0: 'control',\n",
    "                                                                                         1: 'treatment'})"
   ]
  },
  {
   "cell_type": "code",
   "execution_count": 14,
   "metadata": {},
   "outputs": [
    {
     "data": {
      "text/latex": [
       "\\begin{table}[ht]\\centering\n",
       "\\caption{Non-compliance in NextGen Climate Campaign}\n",
       "\\begin{tabular}{lrrr}\n",
       "\\hline\\hline\\\\[-1em]\n",
       "{} &  Group Size &  Compliance Rate &  Proportion to Subject Pool \\\\\n",
       "Assignment &             &                  &                             \\\\\n",
       "\\midrule\n",
       "control    &     94229.0 &         0.999682 &                    0.499926 \\\\\n",
       "treatment  &     94257.0 &         0.952523 &                    0.500074 \\\\\n",
       "\\hline \\hline\n",
       "\\end{tabular}\n",
       "\\end{table}"
      ],
      "text/plain": [
       "<IPython.core.display.Latex object>"
      ]
     },
     "execution_count": 14,
     "metadata": {},
     "output_type": "execute_result"
    }
   ],
   "source": [
    "p_latex(to_p, 'Non-compliance in NextGen Climate Campaign')"
   ]
  },
  {
   "cell_type": "code",
   "execution_count": 15,
   "metadata": {},
   "outputs": [
    {
     "data": {
      "text/html": [
       "<div>\n",
       "<style scoped>\n",
       "    .dataframe tbody tr th:only-of-type {\n",
       "        vertical-align: middle;\n",
       "    }\n",
       "\n",
       "    .dataframe tbody tr th {\n",
       "        vertical-align: top;\n",
       "    }\n",
       "\n",
       "    .dataframe thead th {\n",
       "        text-align: right;\n",
       "    }\n",
       "</style>\n",
       "<table border=\"1\" class=\"dataframe\">\n",
       "  <thead>\n",
       "    <tr style=\"text-align: right;\">\n",
       "      <th></th>\n",
       "      <th>Assignment Group</th>\n",
       "      <th>Outcome Available</th>\n",
       "      <th>Outcome Available but non-compliance</th>\n",
       "      <th>Complaints</th>\n",
       "      <th>Outcome Mising Complaints</th>\n",
       "      <th>Complaints Outcome Available</th>\n",
       "    </tr>\n",
       "    <tr>\n",
       "      <th>Assignment</th>\n",
       "      <th></th>\n",
       "      <th></th>\n",
       "      <th></th>\n",
       "      <th></th>\n",
       "      <th></th>\n",
       "      <th></th>\n",
       "    </tr>\n",
       "  </thead>\n",
       "  <tbody>\n",
       "    <tr>\n",
       "      <th>control</th>\n",
       "      <td>94229</td>\n",
       "      <td>94229</td>\n",
       "      <td>30</td>\n",
       "      <td>94199</td>\n",
       "      <td>0</td>\n",
       "      <td>94199</td>\n",
       "    </tr>\n",
       "    <tr>\n",
       "      <th>treatment</th>\n",
       "      <td>94257</td>\n",
       "      <td>94257</td>\n",
       "      <td>4475</td>\n",
       "      <td>89782</td>\n",
       "      <td>0</td>\n",
       "      <td>89782</td>\n",
       "    </tr>\n",
       "  </tbody>\n",
       "</table>\n",
       "</div>"
      ],
      "text/plain": [
       "            Assignment Group  Outcome Available  \\\n",
       "Assignment                                        \n",
       "control                94229              94229   \n",
       "treatment              94257              94257   \n",
       "\n",
       "            Outcome Available but non-compliance  Complaints  \\\n",
       "Assignment                                                     \n",
       "control                                       30       94199   \n",
       "treatment                                   4475       89782   \n",
       "\n",
       "            Outcome Mising Complaints  Complaints Outcome Available  \n",
       "Assignment                                                           \n",
       "control                             0                         94199  \n",
       "treatment                           0                         89782  "
      ]
     },
     "execution_count": 15,
     "metadata": {},
     "output_type": "execute_result"
    }
   ],
   "source": [
    "# outcome missing by assignemnt and compliance\n",
    "def f(x):\n",
    "    d = {}\n",
    "    d['Assignment Group'] =  x['contacted'].count()\n",
    "    d['Outcome Available'] =  (x['voted'].isna()==False).sum()\n",
    "    d['Outcome Available but non-compliance'] =  ((pd.isnull(x['voted'])==False) & (x['treat_binary']!=x['contacted'])).sum()\n",
    "    d['Complaints'] = ((x['treat_binary']==x['contacted']).sum())\n",
    "    d['Outcome Mising Complaints'] = (pd.isnull(x['voted']) & (x['treat_binary']==x['contacted'])).sum()\n",
    "    d['Complaints Outcome Available'] = ((pd.isnull(x['voted'])==False) & (x['treat_binary']==x['contacted'])).sum()\n",
    "\n",
    "    return pd.Series(d, index=[ 'Assignment Group',\n",
    "                               'Outcome Available',\n",
    "                               'Outcome Available but non-compliance',\n",
    "                               'Complaints',\n",
    "                               'Outcome Mising Complaints',\n",
    "                              'Complaints Outcome Available'])\n",
    "\n",
    "df[['treat_binary',\n",
    "    'contacted',\n",
    "   'voted']].groupby('treat_binary').apply(f).rename_axis(\"Assignment\").rename(index={0: 'control',\n",
    "                                                                                         1: 'treatment'})"
   ]
  },
  {
   "cell_type": "markdown",
   "metadata": {},
   "source": [
    "Overall, we find that 32.50% of the treatment group voted while 32.26% of the control group did."
   ]
  },
  {
   "cell_type": "code",
   "execution_count": 16,
   "metadata": {},
   "outputs": [
    {
     "data": {
      "text/html": [
       "<div>\n",
       "<style scoped>\n",
       "    .dataframe tbody tr th:only-of-type {\n",
       "        vertical-align: middle;\n",
       "    }\n",
       "\n",
       "    .dataframe tbody tr th {\n",
       "        vertical-align: top;\n",
       "    }\n",
       "\n",
       "    .dataframe thead th {\n",
       "        text-align: right;\n",
       "    }\n",
       "</style>\n",
       "<table border=\"1\" class=\"dataframe\">\n",
       "  <thead>\n",
       "    <tr style=\"text-align: right;\">\n",
       "      <th></th>\n",
       "      <th>Turnout Rate</th>\n",
       "      <th>Assignment Group</th>\n",
       "    </tr>\n",
       "    <tr>\n",
       "      <th>Assignment</th>\n",
       "      <th></th>\n",
       "      <th></th>\n",
       "    </tr>\n",
       "  </thead>\n",
       "  <tbody>\n",
       "    <tr>\n",
       "      <th>control</th>\n",
       "      <td>0.322586</td>\n",
       "      <td>94229</td>\n",
       "    </tr>\n",
       "    <tr>\n",
       "      <th>treatment</th>\n",
       "      <td>0.324994</td>\n",
       "      <td>94257</td>\n",
       "    </tr>\n",
       "  </tbody>\n",
       "</table>\n",
       "</div>"
      ],
      "text/plain": [
       "            Turnout Rate  Assignment Group\n",
       "Assignment                                \n",
       "control         0.322586             94229\n",
       "treatment       0.324994             94257"
      ]
     },
     "execution_count": 16,
     "metadata": {},
     "output_type": "execute_result"
    }
   ],
   "source": [
    "# Turnout Comparison by Assignment\n",
    "# Subjects without turnout record are dropped\n",
    "df[df.voted.isna()==False][['treat_binary','contacted','voted']]. \\\n",
    "groupby('treat_binary')[\"voted\"].\\\n",
    "agg({'Turnout Rate':'mean',\n",
    "    'Assignment Group': 'count'}).\\\n",
    "rename_axis(\"Assignment\").\\\n",
    "rename(index={0: 'control',1: 'treatment'})"
   ]
  },
  {
   "cell_type": "code",
   "execution_count": 17,
   "metadata": {},
   "outputs": [],
   "source": [
    "to_p = df[df.voted.isna()==False][['treat_binary','contacted','voted']]. \\\n",
    "groupby('treat_binary')[\"voted\"].\\\n",
    "agg({'Turnout Rate':'mean',\n",
    "    'Assignment Group': 'count'}).\\\n",
    "rename_axis(\"Assignment\").\\\n",
    "rename(index={0: 'control',1: 'treatment'})"
   ]
  },
  {
   "cell_type": "code",
   "execution_count": 18,
   "metadata": {},
   "outputs": [
    {
     "data": {
      "text/latex": [
       "\\begin{table}[ht]\\centering\n",
       "\\caption{Turnout Comparison in NextGen Climate}\n",
       "\\begin{tabular}{lrr}\n",
       "\\hline\\hline\\\\[-1em]\n",
       "{} &  Turnout Rate &  Assignment Group \\\\\n",
       "Assignment &               &                   \\\\\n",
       "\\midrule\n",
       "control    &      0.322586 &             94229 \\\\\n",
       "treatment  &      0.324994 &             94257 \\\\\n",
       "\\hline \\hline\n",
       "\\end{tabular}\n",
       "\\end{table}"
      ],
      "text/plain": [
       "<IPython.core.display.Latex object>"
      ]
     },
     "execution_count": 18,
     "metadata": {},
     "output_type": "execute_result"
    }
   ],
   "source": [
    "p_latex(to_p, 'Turnout Comparison in NextGen Climate')"
   ]
  },
  {
   "cell_type": "markdown",
   "metadata": {},
   "source": [
    "## Vote Propensity: The probability of voting based on vote history"
   ]
  },
  {
   "cell_type": "code",
   "execution_count": 20,
   "metadata": {},
   "outputs": [],
   "source": [
    "# dummy variables for demographical covariates\n",
    "for c in ['party', 'sex', 'racename']:\n",
    "    drop_level = c+'_'+df[c].unique()[0]    \n",
    "    dummy=pd.get_dummies(df[c],prefix=c).drop(labels=drop_level,axis=1)\n",
    "    df=pd.concat([df,dummy], axis=1)"
   ]
  },
  {
   "cell_type": "code",
   "execution_count": 21,
   "metadata": {},
   "outputs": [],
   "source": [
    "vote_list = ['aprilmuniprimary13','aprilmunicipal13','aprilmunicipal09', 'aprilmunicipal07', 'aprilmunicipal05',\n",
    " 'aprilmunicipal03','febmunicipal15','febmunicipal11','febmunicipal09','febmunicipal07','febmunicipal05',\n",
    " 'febmunicipal03','general14','general12','general10','general08','general06','general04','general02','general00',\n",
    " 'municipal15','municipal09','municipal07','municipal05','municipal03','municipal01','municipalprimary15',\n",
    " 'municipalrunoff15','presprimary08','presprimary04','presprimary00','primary16','primary14','primary12','primary10',\n",
    " 'primary08','primary06','primary04','primary02','primary00','specialprimary15','specialprimary13','party_',\n",
    " 'party_D',\n",
    " 'party_R',\n",
    " 'sex_F',\n",
    " 'sex_U',\n",
    " 'racename_African-American',\n",
    " 'racename_Caucasian',\n",
    " 'racename_Central Asian',\n",
    " 'racename_East Asian',\n",
    " 'racename_Hispanic',\n",
    " 'racename_Jewish',\n",
    " 'racename_Middle Eastern',\n",
    " 'racename_Native American',\n",
    " 'racename_Pacific Islander',\n",
    " 'racename_South Asian']"
   ]
  },
  {
   "cell_type": "code",
   "execution_count": 22,
   "metadata": {},
   "outputs": [],
   "source": [
    "pro_data = df.loc[:,[ 'treat_binary','voted', *vote_list]]"
   ]
  },
  {
   "cell_type": "code",
   "execution_count": 23,
   "metadata": {},
   "outputs": [],
   "source": [
    "y = pro_data[pro_data.treat_binary==0].voted.astype(int)"
   ]
  },
  {
   "cell_type": "code",
   "execution_count": 24,
   "metadata": {
    "scrolled": true
   },
   "outputs": [],
   "source": [
    "X = pro_data[pro_data.treat_binary==0].loc[:,'aprilmuniprimary13':]"
   ]
  },
  {
   "cell_type": "code",
   "execution_count": 25,
   "metadata": {},
   "outputs": [],
   "source": [
    "# Creat interaction term between vote histories\n",
    "from sklearn.preprocessing import PolynomialFeatures\n",
    "poly = PolynomialFeatures(interaction_only=True,include_bias = False)\n",
    "X_in = poly.fit_transform(X)"
   ]
  },
  {
   "cell_type": "code",
   "execution_count": 26,
   "metadata": {},
   "outputs": [],
   "source": [
    "from sklearn.linear_model import LogisticRegression\n",
    "#Note: logistic regression in sklearn is preset to be a regularization model with C=100).\n",
    "# C is the tuning parameter like alpha in Reidge and Lasso regression Reguilization\n",
    "logreg = LogisticRegression(C=1e90).fit(X_in, y)"
   ]
  },
  {
   "cell_type": "code",
   "execution_count": 27,
   "metadata": {},
   "outputs": [],
   "source": [
    "all_in=poly.fit_transform(pro_data.loc[:,'aprilmuniprimary13':])"
   ]
  },
  {
   "cell_type": "code",
   "execution_count": 28,
   "metadata": {},
   "outputs": [],
   "source": [
    "vp = logreg.predict_proba(all_in)"
   ]
  },
  {
   "cell_type": "code",
   "execution_count": 29,
   "metadata": {},
   "outputs": [],
   "source": [
    "vp_df = pd.DataFrame(data={'vote_propensity': vp[:,1]}, index = pro_data.index)"
   ]
  },
  {
   "cell_type": "code",
   "execution_count": 30,
   "metadata": {},
   "outputs": [
    {
     "ename": "KeyError",
     "evalue": "\"['vote_propensity' 'vp_10'] not found in axis\"",
     "output_type": "error",
     "traceback": [
      "\u001b[0;31m----------------------------------------------------------------------\u001b[0m",
      "\u001b[0;31mKeyError\u001b[0m                             Traceback (most recent call last)",
      "\u001b[0;32m<ipython-input-30-10b768d318b4>\u001b[0m in \u001b[0;36m<module>\u001b[0;34m\u001b[0m\n\u001b[0;32m----> 1\u001b[0;31m \u001b[0mdf\u001b[0m\u001b[0;34m.\u001b[0m\u001b[0mdrop\u001b[0m\u001b[0;34m(\u001b[0m\u001b[0mcolumns\u001b[0m \u001b[0;34m=\u001b[0m \u001b[0;34m[\u001b[0m \u001b[0;34m'vote_propensity'\u001b[0m\u001b[0;34m,\u001b[0m \u001b[0;34m'vp_10'\u001b[0m\u001b[0;34m]\u001b[0m\u001b[0;34m,\u001b[0m \u001b[0minplace\u001b[0m \u001b[0;34m=\u001b[0m \u001b[0;32mTrue\u001b[0m\u001b[0;34m)\u001b[0m\u001b[0;34m\u001b[0m\u001b[0;34m\u001b[0m\u001b[0m\n\u001b[0m",
      "\u001b[0;32m~/anaconda3/envs/ml/lib/python3.7/site-packages/pandas/core/frame.py\u001b[0m in \u001b[0;36mdrop\u001b[0;34m(self, labels, axis, index, columns, level, inplace, errors)\u001b[0m\n\u001b[1;32m   3938\u001b[0m                                            \u001b[0mindex\u001b[0m\u001b[0;34m=\u001b[0m\u001b[0mindex\u001b[0m\u001b[0;34m,\u001b[0m \u001b[0mcolumns\u001b[0m\u001b[0;34m=\u001b[0m\u001b[0mcolumns\u001b[0m\u001b[0;34m,\u001b[0m\u001b[0;34m\u001b[0m\u001b[0;34m\u001b[0m\u001b[0m\n\u001b[1;32m   3939\u001b[0m                                            \u001b[0mlevel\u001b[0m\u001b[0;34m=\u001b[0m\u001b[0mlevel\u001b[0m\u001b[0;34m,\u001b[0m \u001b[0minplace\u001b[0m\u001b[0;34m=\u001b[0m\u001b[0minplace\u001b[0m\u001b[0;34m,\u001b[0m\u001b[0;34m\u001b[0m\u001b[0;34m\u001b[0m\u001b[0m\n\u001b[0;32m-> 3940\u001b[0;31m                                            errors=errors)\n\u001b[0m\u001b[1;32m   3941\u001b[0m \u001b[0;34m\u001b[0m\u001b[0m\n\u001b[1;32m   3942\u001b[0m     @rewrite_axis_style_signature('mapper', [('copy', True),\n",
      "\u001b[0;32m~/anaconda3/envs/ml/lib/python3.7/site-packages/pandas/core/generic.py\u001b[0m in \u001b[0;36mdrop\u001b[0;34m(self, labels, axis, index, columns, level, inplace, errors)\u001b[0m\n\u001b[1;32m   3778\u001b[0m         \u001b[0;32mfor\u001b[0m \u001b[0maxis\u001b[0m\u001b[0;34m,\u001b[0m \u001b[0mlabels\u001b[0m \u001b[0;32min\u001b[0m \u001b[0maxes\u001b[0m\u001b[0;34m.\u001b[0m\u001b[0mitems\u001b[0m\u001b[0;34m(\u001b[0m\u001b[0;34m)\u001b[0m\u001b[0;34m:\u001b[0m\u001b[0;34m\u001b[0m\u001b[0;34m\u001b[0m\u001b[0m\n\u001b[1;32m   3779\u001b[0m             \u001b[0;32mif\u001b[0m \u001b[0mlabels\u001b[0m \u001b[0;32mis\u001b[0m \u001b[0;32mnot\u001b[0m \u001b[0;32mNone\u001b[0m\u001b[0;34m:\u001b[0m\u001b[0;34m\u001b[0m\u001b[0;34m\u001b[0m\u001b[0m\n\u001b[0;32m-> 3780\u001b[0;31m                 \u001b[0mobj\u001b[0m \u001b[0;34m=\u001b[0m \u001b[0mobj\u001b[0m\u001b[0;34m.\u001b[0m\u001b[0m_drop_axis\u001b[0m\u001b[0;34m(\u001b[0m\u001b[0mlabels\u001b[0m\u001b[0;34m,\u001b[0m \u001b[0maxis\u001b[0m\u001b[0;34m,\u001b[0m \u001b[0mlevel\u001b[0m\u001b[0;34m=\u001b[0m\u001b[0mlevel\u001b[0m\u001b[0;34m,\u001b[0m \u001b[0merrors\u001b[0m\u001b[0;34m=\u001b[0m\u001b[0merrors\u001b[0m\u001b[0;34m)\u001b[0m\u001b[0;34m\u001b[0m\u001b[0;34m\u001b[0m\u001b[0m\n\u001b[0m\u001b[1;32m   3781\u001b[0m \u001b[0;34m\u001b[0m\u001b[0m\n\u001b[1;32m   3782\u001b[0m         \u001b[0;32mif\u001b[0m \u001b[0minplace\u001b[0m\u001b[0;34m:\u001b[0m\u001b[0;34m\u001b[0m\u001b[0;34m\u001b[0m\u001b[0m\n",
      "\u001b[0;32m~/anaconda3/envs/ml/lib/python3.7/site-packages/pandas/core/generic.py\u001b[0m in \u001b[0;36m_drop_axis\u001b[0;34m(self, labels, axis, level, errors)\u001b[0m\n\u001b[1;32m   3810\u001b[0m                 \u001b[0mnew_axis\u001b[0m \u001b[0;34m=\u001b[0m \u001b[0maxis\u001b[0m\u001b[0;34m.\u001b[0m\u001b[0mdrop\u001b[0m\u001b[0;34m(\u001b[0m\u001b[0mlabels\u001b[0m\u001b[0;34m,\u001b[0m \u001b[0mlevel\u001b[0m\u001b[0;34m=\u001b[0m\u001b[0mlevel\u001b[0m\u001b[0;34m,\u001b[0m \u001b[0merrors\u001b[0m\u001b[0;34m=\u001b[0m\u001b[0merrors\u001b[0m\u001b[0;34m)\u001b[0m\u001b[0;34m\u001b[0m\u001b[0;34m\u001b[0m\u001b[0m\n\u001b[1;32m   3811\u001b[0m             \u001b[0;32melse\u001b[0m\u001b[0;34m:\u001b[0m\u001b[0;34m\u001b[0m\u001b[0;34m\u001b[0m\u001b[0m\n\u001b[0;32m-> 3812\u001b[0;31m                 \u001b[0mnew_axis\u001b[0m \u001b[0;34m=\u001b[0m \u001b[0maxis\u001b[0m\u001b[0;34m.\u001b[0m\u001b[0mdrop\u001b[0m\u001b[0;34m(\u001b[0m\u001b[0mlabels\u001b[0m\u001b[0;34m,\u001b[0m \u001b[0merrors\u001b[0m\u001b[0;34m=\u001b[0m\u001b[0merrors\u001b[0m\u001b[0;34m)\u001b[0m\u001b[0;34m\u001b[0m\u001b[0;34m\u001b[0m\u001b[0m\n\u001b[0m\u001b[1;32m   3813\u001b[0m             \u001b[0mresult\u001b[0m \u001b[0;34m=\u001b[0m \u001b[0mself\u001b[0m\u001b[0;34m.\u001b[0m\u001b[0mreindex\u001b[0m\u001b[0;34m(\u001b[0m\u001b[0;34m**\u001b[0m\u001b[0;34m{\u001b[0m\u001b[0maxis_name\u001b[0m\u001b[0;34m:\u001b[0m \u001b[0mnew_axis\u001b[0m\u001b[0;34m}\u001b[0m\u001b[0;34m)\u001b[0m\u001b[0;34m\u001b[0m\u001b[0;34m\u001b[0m\u001b[0m\n\u001b[1;32m   3814\u001b[0m \u001b[0;34m\u001b[0m\u001b[0m\n",
      "\u001b[0;32m~/anaconda3/envs/ml/lib/python3.7/site-packages/pandas/core/indexes/base.py\u001b[0m in \u001b[0;36mdrop\u001b[0;34m(self, labels, errors)\u001b[0m\n\u001b[1;32m   4963\u001b[0m             \u001b[0;32mif\u001b[0m \u001b[0merrors\u001b[0m \u001b[0;34m!=\u001b[0m \u001b[0;34m'ignore'\u001b[0m\u001b[0;34m:\u001b[0m\u001b[0;34m\u001b[0m\u001b[0;34m\u001b[0m\u001b[0m\n\u001b[1;32m   4964\u001b[0m                 raise KeyError(\n\u001b[0;32m-> 4965\u001b[0;31m                     '{} not found in axis'.format(labels[mask]))\n\u001b[0m\u001b[1;32m   4966\u001b[0m             \u001b[0mindexer\u001b[0m \u001b[0;34m=\u001b[0m \u001b[0mindexer\u001b[0m\u001b[0;34m[\u001b[0m\u001b[0;34m~\u001b[0m\u001b[0mmask\u001b[0m\u001b[0;34m]\u001b[0m\u001b[0;34m\u001b[0m\u001b[0;34m\u001b[0m\u001b[0m\n\u001b[1;32m   4967\u001b[0m         \u001b[0;32mreturn\u001b[0m \u001b[0mself\u001b[0m\u001b[0;34m.\u001b[0m\u001b[0mdelete\u001b[0m\u001b[0;34m(\u001b[0m\u001b[0mindexer\u001b[0m\u001b[0;34m)\u001b[0m\u001b[0;34m\u001b[0m\u001b[0;34m\u001b[0m\u001b[0m\n",
      "\u001b[0;31mKeyError\u001b[0m: \"['vote_propensity' 'vp_10'] not found in axis\""
     ]
    }
   ],
   "source": [
    "df.drop(columns = [ 'vote_propensity', 'vp_10'], inplace = True)"
   ]
  },
  {
   "cell_type": "code",
   "execution_count": 31,
   "metadata": {},
   "outputs": [],
   "source": [
    "df = pd.merge(df, vp_df,left_index=True,\n",
    "    right_index=True,how='left')"
   ]
  },
  {
   "cell_type": "code",
   "execution_count": 40,
   "metadata": {
    "scrolled": true
   },
   "outputs": [
    {
     "data": {
      "image/png": "[encoded data removed]",
      "text/plain": [
       "<Figure size 648x432 with 1 Axes>"
      ]
     },
     "metadata": {
      "needs_background": "light"
     },
     "output_type": "display_data"
    }
   ],
   "source": [
    "import matplotlib.pylab as pylab\n",
    "params = {\n",
    "        'axes.labelsize': 'x-large',\n",
    "         'axes.titlesize':'x-large',\n",
    "         'xtick.labelsize':'x-large',\n",
    "         'ytick.labelsize':'x-large'}\n",
    "pylab.rcParams.update(params)\n",
    "plt.figure(figsize=(9,6))\n",
    "ax = plt.hist(df.vote_propensity, \n",
    "         30,color='#9e9d24')\n",
    "plt.xlabel(\"Vote Propensity\")\n",
    "plt.ylabel(\"Weighted Frequency\")\n",
    "plt.title(\"NextGen Climate Vote Propensity\") # You can comment this line out if you don't need title\n",
    "plt.show(ax)"
   ]
  },
  {
   "cell_type": "code",
   "execution_count": 33,
   "metadata": {},
   "outputs": [],
   "source": [
    "# Cut vote propensity score into 10 bins\n",
    "df['vp_10']=pd.cut(df.vote_propensity, np.arange(0,1.1,0.1))"
   ]
  },
  {
   "cell_type": "code",
   "execution_count": 34,
   "metadata": {},
   "outputs": [],
   "source": [
    "def get_bins_table():\n",
    "    pd.options.display.float_format = '{:.3%}'.format\n",
    "    a = df[['vp_10','voted','treat_binary']].\\\n",
    "    groupby(['vp_10',\"treat_binary\"]). \\\n",
    "    voted.agg([('Size','count'),\n",
    "              ('Turnout',np.mean),\n",
    "              ('Proportion', lambda x: x.count()/df[df.vote_propensity.isna()==False].shape[0])]).reset_index()\n",
    "    \n",
    "    b = df[['vp_10','voted','treat_binary']].\\\n",
    "    groupby(['vp_10',\"treat_binary\"]). \\\n",
    "    voted.agg([('Size','count'),\n",
    "              ('Turnout',np.mean)]).reset_index().groupby('vp_10').Turnout.agg([('Effect','diff')])\n",
    "    \n",
    "    r = pd.concat([a,b], axis=1)\n",
    "    r.rename(columns={'vp_10': 'Vote Propensity Range'}, inplace = True)\n",
    "    r.Effect.fillna(\" \", inplace=True)\n",
    "    r.treat_binary.replace([0,1],['Control', 'Treatment'], inplace=True)\n",
    "    return r\n",
    "  "
   ]
  },
  {
   "cell_type": "code",
   "execution_count": 35,
   "metadata": {
    "scrolled": false
   },
   "outputs": [
    {
     "data": {
      "text/html": [
       "<div>\n",
       "<style scoped>\n",
       "    .dataframe tbody tr th:only-of-type {\n",
       "        vertical-align: middle;\n",
       "    }\n",
       "\n",
       "    .dataframe tbody tr th {\n",
       "        vertical-align: top;\n",
       "    }\n",
       "\n",
       "    .dataframe thead th {\n",
       "        text-align: right;\n",
       "    }\n",
       "</style>\n",
       "<table border=\"1\" class=\"dataframe\">\n",
       "  <thead>\n",
       "    <tr style=\"text-align: right;\">\n",
       "      <th></th>\n",
       "      <th>Vote Propensity Range</th>\n",
       "      <th>treat_binary</th>\n",
       "      <th>Size</th>\n",
       "      <th>Turnout</th>\n",
       "      <th>Proportion</th>\n",
       "      <th>Effect</th>\n",
       "    </tr>\n",
       "  </thead>\n",
       "  <tbody>\n",
       "    <tr>\n",
       "      <th>0</th>\n",
       "      <td>(0.0, 0.1]</td>\n",
       "      <td>Control</td>\n",
       "      <td>2169</td>\n",
       "      <td>5.855%</td>\n",
       "      <td>1.151%</td>\n",
       "      <td></td>\n",
       "    </tr>\n",
       "    <tr>\n",
       "      <th>1</th>\n",
       "      <td>(0.0, 0.1]</td>\n",
       "      <td>Treatment</td>\n",
       "      <td>2159</td>\n",
       "      <td>14.266%</td>\n",
       "      <td>1.145%</td>\n",
       "      <td>8.411%</td>\n",
       "    </tr>\n",
       "    <tr>\n",
       "      <th>2</th>\n",
       "      <td>(0.1, 0.2]</td>\n",
       "      <td>Control</td>\n",
       "      <td>32120</td>\n",
       "      <td>15.342%</td>\n",
       "      <td>17.041%</td>\n",
       "      <td></td>\n",
       "    </tr>\n",
       "    <tr>\n",
       "      <th>3</th>\n",
       "      <td>(0.1, 0.2]</td>\n",
       "      <td>Treatment</td>\n",
       "      <td>32202</td>\n",
       "      <td>15.844%</td>\n",
       "      <td>17.085%</td>\n",
       "      <td>0.501%</td>\n",
       "    </tr>\n",
       "    <tr>\n",
       "      <th>4</th>\n",
       "      <td>(0.2, 0.3]</td>\n",
       "      <td>Control</td>\n",
       "      <td>24712</td>\n",
       "      <td>25.186%</td>\n",
       "      <td>13.111%</td>\n",
       "      <td></td>\n",
       "    </tr>\n",
       "    <tr>\n",
       "      <th>5</th>\n",
       "      <td>(0.2, 0.3]</td>\n",
       "      <td>Treatment</td>\n",
       "      <td>24618</td>\n",
       "      <td>25.416%</td>\n",
       "      <td>13.061%</td>\n",
       "      <td>0.230%</td>\n",
       "    </tr>\n",
       "    <tr>\n",
       "      <th>6</th>\n",
       "      <td>(0.3, 0.4]</td>\n",
       "      <td>Control</td>\n",
       "      <td>11364</td>\n",
       "      <td>34.468%</td>\n",
       "      <td>6.029%</td>\n",
       "      <td></td>\n",
       "    </tr>\n",
       "    <tr>\n",
       "      <th>7</th>\n",
       "      <td>(0.3, 0.4]</td>\n",
       "      <td>Treatment</td>\n",
       "      <td>11439</td>\n",
       "      <td>34.959%</td>\n",
       "      <td>6.069%</td>\n",
       "      <td>0.491%</td>\n",
       "    </tr>\n",
       "    <tr>\n",
       "      <th>8</th>\n",
       "      <td>(0.4, 0.5]</td>\n",
       "      <td>Control</td>\n",
       "      <td>4748</td>\n",
       "      <td>45.451%</td>\n",
       "      <td>2.519%</td>\n",
       "      <td></td>\n",
       "    </tr>\n",
       "    <tr>\n",
       "      <th>9</th>\n",
       "      <td>(0.4, 0.5]</td>\n",
       "      <td>Treatment</td>\n",
       "      <td>4690</td>\n",
       "      <td>43.710%</td>\n",
       "      <td>2.488%</td>\n",
       "      <td>-1.741%</td>\n",
       "    </tr>\n",
       "    <tr>\n",
       "      <th>10</th>\n",
       "      <td>(0.5, 0.6]</td>\n",
       "      <td>Control</td>\n",
       "      <td>4955</td>\n",
       "      <td>56.892%</td>\n",
       "      <td>2.629%</td>\n",
       "      <td></td>\n",
       "    </tr>\n",
       "    <tr>\n",
       "      <th>11</th>\n",
       "      <td>(0.5, 0.6]</td>\n",
       "      <td>Treatment</td>\n",
       "      <td>5107</td>\n",
       "      <td>56.648%</td>\n",
       "      <td>2.709%</td>\n",
       "      <td>-0.244%</td>\n",
       "    </tr>\n",
       "    <tr>\n",
       "      <th>12</th>\n",
       "      <td>(0.6, 0.7]</td>\n",
       "      <td>Control</td>\n",
       "      <td>6063</td>\n",
       "      <td>63.978%</td>\n",
       "      <td>3.217%</td>\n",
       "      <td></td>\n",
       "    </tr>\n",
       "    <tr>\n",
       "      <th>13</th>\n",
       "      <td>(0.6, 0.7]</td>\n",
       "      <td>Treatment</td>\n",
       "      <td>5832</td>\n",
       "      <td>64.163%</td>\n",
       "      <td>3.094%</td>\n",
       "      <td>0.185%</td>\n",
       "    </tr>\n",
       "    <tr>\n",
       "      <th>14</th>\n",
       "      <td>(0.7, 0.8]</td>\n",
       "      <td>Control</td>\n",
       "      <td>4443</td>\n",
       "      <td>73.374%</td>\n",
       "      <td>2.357%</td>\n",
       "      <td></td>\n",
       "    </tr>\n",
       "    <tr>\n",
       "      <th>15</th>\n",
       "      <td>(0.7, 0.8]</td>\n",
       "      <td>Treatment</td>\n",
       "      <td>4505</td>\n",
       "      <td>73.296%</td>\n",
       "      <td>2.390%</td>\n",
       "      <td>-0.078%</td>\n",
       "    </tr>\n",
       "    <tr>\n",
       "      <th>16</th>\n",
       "      <td>(0.8, 0.9]</td>\n",
       "      <td>Control</td>\n",
       "      <td>3283</td>\n",
       "      <td>82.973%</td>\n",
       "      <td>1.742%</td>\n",
       "      <td></td>\n",
       "    </tr>\n",
       "    <tr>\n",
       "      <th>17</th>\n",
       "      <td>(0.8, 0.9]</td>\n",
       "      <td>Treatment</td>\n",
       "      <td>3294</td>\n",
       "      <td>82.240%</td>\n",
       "      <td>1.748%</td>\n",
       "      <td>-0.732%</td>\n",
       "    </tr>\n",
       "    <tr>\n",
       "      <th>18</th>\n",
       "      <td>(0.9, 1.0]</td>\n",
       "      <td>Control</td>\n",
       "      <td>372</td>\n",
       "      <td>97.043%</td>\n",
       "      <td>0.197%</td>\n",
       "      <td></td>\n",
       "    </tr>\n",
       "    <tr>\n",
       "      <th>19</th>\n",
       "      <td>(0.9, 1.0]</td>\n",
       "      <td>Treatment</td>\n",
       "      <td>411</td>\n",
       "      <td>65.937%</td>\n",
       "      <td>0.218%</td>\n",
       "      <td>-31.106%</td>\n",
       "    </tr>\n",
       "  </tbody>\n",
       "</table>\n",
       "</div>"
      ],
      "text/plain": [
       "   Vote Propensity Range treat_binary   Size  Turnout  Proportion   Effect\n",
       "0             (0.0, 0.1]      Control   2169   5.855%      1.151%         \n",
       "1             (0.0, 0.1]    Treatment   2159  14.266%      1.145%   8.411%\n",
       "2             (0.1, 0.2]      Control  32120  15.342%     17.041%         \n",
       "3             (0.1, 0.2]    Treatment  32202  15.844%     17.085%   0.501%\n",
       "4             (0.2, 0.3]      Control  24712  25.186%     13.111%         \n",
       "5             (0.2, 0.3]    Treatment  24618  25.416%     13.061%   0.230%\n",
       "6             (0.3, 0.4]      Control  11364  34.468%      6.029%         \n",
       "7             (0.3, 0.4]    Treatment  11439  34.959%      6.069%   0.491%\n",
       "8             (0.4, 0.5]      Control   4748  45.451%      2.519%         \n",
       "9             (0.4, 0.5]    Treatment   4690  43.710%      2.488%  -1.741%\n",
       "10            (0.5, 0.6]      Control   4955  56.892%      2.629%         \n",
       "11            (0.5, 0.6]    Treatment   5107  56.648%      2.709%  -0.244%\n",
       "12            (0.6, 0.7]      Control   6063  63.978%      3.217%         \n",
       "13            (0.6, 0.7]    Treatment   5832  64.163%      3.094%   0.185%\n",
       "14            (0.7, 0.8]      Control   4443  73.374%      2.357%         \n",
       "15            (0.7, 0.8]    Treatment   4505  73.296%      2.390%  -0.078%\n",
       "16            (0.8, 0.9]      Control   3283  82.973%      1.742%         \n",
       "17            (0.8, 0.9]    Treatment   3294  82.240%      1.748%  -0.732%\n",
       "18            (0.9, 1.0]      Control    372  97.043%      0.197%         \n",
       "19            (0.9, 1.0]    Treatment    411  65.937%      0.218% -31.106%"
      ]
     },
     "execution_count": 35,
     "metadata": {},
     "output_type": "execute_result"
    }
   ],
   "source": [
    "get_bins_table()"
   ]
  },
  {
   "cell_type": "code",
   "execution_count": 43,
   "metadata": {},
   "outputs": [],
   "source": [
    "def p_latex(x, cap):\n",
    "    latex_string = '\\\\begin{table}[ht]\\\\centering\\n\\\\caption{' + cap +'}\\n'  \n",
    "    latex_string = latex_string+x.to_latex(index=False).\\\n",
    "    replace('\\\\toprule','\\\\hline\\\\hline\\\\\\\\[-1em]').\\\n",
    "    replace('\\\\bottomrule', '\\\\hline \\\\hline') +'\\\\end{table}'\n",
    "    return Latex(latex_string)"
   ]
  },
  {
   "cell_type": "code",
   "execution_count": 45,
   "metadata": {},
   "outputs": [
    {
     "data": {
      "text/latex": [
       "\\begin{table}[ht]\\centering\n",
       "\\caption{Crosstable of Vote Propensity and Turnout in NextGen Climate}\n",
       "\\begin{tabular}{llrrrl}\n",
       "\\hline\\hline\\\\[-1em]\n",
       "Vote Propensity Range & treat\\_binary &   Size &  Turnout &  Proportion &   Effect \\\\\n",
       "\\midrule\n",
       "           (0.0, 0.1] &      Control &   2169 &   5.855\\% &      1.151\\% &          \\\\\n",
       "           (0.0, 0.1] &    Treatment &   2159 &  14.266\\% &      1.145\\% &   8.411\\% \\\\\n",
       "           (0.1, 0.2] &      Control &  32120 &  15.342\\% &     17.041\\% &          \\\\\n",
       "           (0.1, 0.2] &    Treatment &  32202 &  15.844\\% &     17.085\\% &   0.501\\% \\\\\n",
       "           (0.2, 0.3] &      Control &  24712 &  25.186\\% &     13.111\\% &          \\\\\n",
       "           (0.2, 0.3] &    Treatment &  24618 &  25.416\\% &     13.061\\% &   0.230\\% \\\\\n",
       "           (0.3, 0.4] &      Control &  11364 &  34.468\\% &      6.029\\% &          \\\\\n",
       "           (0.3, 0.4] &    Treatment &  11439 &  34.959\\% &      6.069\\% &   0.491\\% \\\\\n",
       "           (0.4, 0.5] &      Control &   4748 &  45.451\\% &      2.519\\% &          \\\\\n",
       "           (0.4, 0.5] &    Treatment &   4690 &  43.710\\% &      2.488\\% &  -1.741\\% \\\\\n",
       "           (0.5, 0.6] &      Control &   4955 &  56.892\\% &      2.629\\% &          \\\\\n",
       "           (0.5, 0.6] &    Treatment &   5107 &  56.648\\% &      2.709\\% &  -0.244\\% \\\\\n",
       "           (0.6, 0.7] &      Control &   6063 &  63.978\\% &      3.217\\% &          \\\\\n",
       "           (0.6, 0.7] &    Treatment &   5832 &  64.163\\% &      3.094\\% &   0.185\\% \\\\\n",
       "           (0.7, 0.8] &      Control &   4443 &  73.374\\% &      2.357\\% &          \\\\\n",
       "           (0.7, 0.8] &    Treatment &   4505 &  73.296\\% &      2.390\\% &  -0.078\\% \\\\\n",
       "           (0.8, 0.9] &      Control &   3283 &  82.973\\% &      1.742\\% &          \\\\\n",
       "           (0.8, 0.9] &    Treatment &   3294 &  82.240\\% &      1.748\\% &  -0.732\\% \\\\\n",
       "           (0.9, 1.0] &      Control &    372 &  97.043\\% &      0.197\\% &          \\\\\n",
       "           (0.9, 1.0] &    Treatment &    411 &  65.937\\% &      0.218\\% & -31.106\\% \\\\\n",
       "\\hline \\hline\n",
       "\\end{tabular}\n",
       "\\end{table}"
      ],
      "text/plain": [
       "<IPython.core.display.Latex object>"
      ]
     },
     "execution_count": 45,
     "metadata": {},
     "output_type": "execute_result"
    }
   ],
   "source": [
    "p_latex(get_bins_table(),'Crosstable of Vote Propensity and Turnout in NextGen Climate')"
   ]
  },
  {
   "cell_type": "code",
   "execution_count": 44,
   "metadata": {
    "scrolled": true
   },
   "outputs": [
    {
     "data": {
      "text/latex": [
       "\\begin{tabular}{lllrrrl}\n",
       "\\toprule\n",
       "{} & Vote Propensity Range & treat\\_binary &   Size &  Turnout &  Proportion &   Effect \\\\\n",
       "\\midrule\n",
       "0  &            (0.0, 0.1] &      Control &   2169 &   5.855\\% &      1.151\\% &          \\\\\n",
       "1  &            (0.0, 0.1] &    Treatment &   2159 &  14.266\\% &      1.145\\% &   8.411\\% \\\\\n",
       "2  &            (0.1, 0.2] &      Control &  32120 &  15.342\\% &     17.041\\% &          \\\\\n",
       "3  &            (0.1, 0.2] &    Treatment &  32202 &  15.844\\% &     17.085\\% &   0.501\\% \\\\\n",
       "4  &            (0.2, 0.3] &      Control &  24712 &  25.186\\% &     13.111\\% &          \\\\\n",
       "5  &            (0.2, 0.3] &    Treatment &  24618 &  25.416\\% &     13.061\\% &   0.230\\% \\\\\n",
       "6  &            (0.3, 0.4] &      Control &  11364 &  34.468\\% &      6.029\\% &          \\\\\n",
       "7  &            (0.3, 0.4] &    Treatment &  11439 &  34.959\\% &      6.069\\% &   0.491\\% \\\\\n",
       "8  &            (0.4, 0.5] &      Control &   4748 &  45.451\\% &      2.519\\% &          \\\\\n",
       "9  &            (0.4, 0.5] &    Treatment &   4690 &  43.710\\% &      2.488\\% &  -1.741\\% \\\\\n",
       "10 &            (0.5, 0.6] &      Control &   4955 &  56.892\\% &      2.629\\% &          \\\\\n",
       "11 &            (0.5, 0.6] &    Treatment &   5107 &  56.648\\% &      2.709\\% &  -0.244\\% \\\\\n",
       "12 &            (0.6, 0.7] &      Control &   6063 &  63.978\\% &      3.217\\% &          \\\\\n",
       "13 &            (0.6, 0.7] &    Treatment &   5832 &  64.163\\% &      3.094\\% &   0.185\\% \\\\\n",
       "14 &            (0.7, 0.8] &      Control &   4443 &  73.374\\% &      2.357\\% &          \\\\\n",
       "15 &            (0.7, 0.8] &    Treatment &   4505 &  73.296\\% &      2.390\\% &  -0.078\\% \\\\\n",
       "16 &            (0.8, 0.9] &      Control &   3283 &  82.973\\% &      1.742\\% &          \\\\\n",
       "17 &            (0.8, 0.9] &    Treatment &   3294 &  82.240\\% &      1.748\\% &  -0.732\\% \\\\\n",
       "18 &            (0.9, 1.0] &      Control &    372 &  97.043\\% &      0.197\\% &          \\\\\n",
       "19 &            (0.9, 1.0] &    Treatment &    411 &  65.937\\% &      0.218\\% & -31.106\\% \\\\\n",
       "\\bottomrule\n",
       "\\end{tabular}\n"
      ],
      "text/plain": [
       "<IPython.core.display.Latex object>"
      ]
     },
     "execution_count": 44,
     "metadata": {},
     "output_type": "execute_result"
    }
   ],
   "source": [
    "# Vote trunout by vote propensity socre and treatment assignment\n",
    "Latex(get_bins_table().to_latex())"
   ]
  },
  {
   "cell_type": "markdown",
   "metadata": {},
   "source": [
    "## Balance Check"
   ]
  },
  {
   "cell_type": "code",
   "execution_count": 164,
   "metadata": {},
   "outputs": [],
   "source": [
    "# display and export regression table\n",
    "from stargazer.stargazer import Stargazer\n",
    "from IPython.core.display import HTML\n",
    "from IPython.display import Latex\n",
    "prob_balance = []"
   ]
  },
  {
   "cell_type": "code",
   "execution_count": 165,
   "metadata": {},
   "outputs": [],
   "source": [
    "prob_balance = []\n",
    "prob_balance.append(smf.ols(formula='treat_binary ~ vote_propensity ', data=df).fit())\n"
   ]
  },
  {
   "cell_type": "code",
   "execution_count": 166,
   "metadata": {},
   "outputs": [],
   "source": [
    "\n",
    "for var in ['party', 'sex', 'racename']:\n",
    "    formular = 'treat_binary ~ C('+var+')'\n",
    "    model = smf.ols(formular , df)\n",
    "    results = model.fit()\n",
    "    prob_balance.append(results)"
   ]
  },
  {
   "cell_type": "code",
   "execution_count": 167,
   "metadata": {},
   "outputs": [],
   "source": [
    "prob_balance.append(smf.ols('treat_binary ~vote_propensity+C(party)+C(sex)+C(racename)', data=df).\\\n",
    "fit(cov_type='cluster',cov_kwds={'groups':df['hh_id']}))"
   ]
  },
  {
   "cell_type": "code",
   "execution_count": 168,
   "metadata": {},
   "outputs": [
    {
     "data": {
      "text/html": [
       "Balance Check<br><table style=\"text-align:center\"><tr><td colspan=\"6\" style=\"border-bottom: 1px solid black\"></td></tr><tr><td style=\"text-align:left\"></td><td colspan=\"5\"><em>Dependent variable:</em></td></tr><tr><td style=\"text-align:left\"></td><tr><td colspan=\"1\">vote propensity</td><td colspan=\"1\">party</td><td colspan=\"1\">sex</td><td colspan=\"1\">race</td><td colspan=\"1\">all</td></tr><tr><td colspan=\"6\" style=\"border-bottom: 1px solid black\"></td></tr><tr><td style=\"text-align:left\">C(party)[T.D]</td><td></td><td>0.0026<sup></sup></td><td></td><td></td><td>0.0024<sup></sup></td></tr><tr><td style=\"text-align:left\"></td><td></td><td>(0.0071)</td><td></td><td></td><td>(0.0072)</td></tr><tr><td style=\"text-align:left\">C(party)[T.R]</td><td></td><td>0.0375<sup></sup></td><td></td><td></td><td>0.0376<sup></sup></td></tr><tr><td style=\"text-align:left\"></td><td></td><td>(0.0801)</td><td></td><td></td><td>(0.0798)</td></tr><tr><td style=\"text-align:left\">C(party)[T.U]</td><td></td><td>-0.0027<sup></sup></td><td></td><td></td><td>-0.0029<sup></sup></td></tr><tr><td style=\"text-align:left\"></td><td></td><td>(0.0024)</td><td></td><td></td><td>(0.0026)</td></tr><tr><td style=\"text-align:left\">C(racename)[T.Caucasian]</td><td></td><td></td><td></td><td>0.0023<sup></sup></td><td>0.0024<sup></sup></td></tr><tr><td style=\"text-align:left\"></td><td></td><td></td><td></td><td>(0.0038)</td><td>(0.004)</td></tr><tr><td style=\"text-align:left\">C(racename)[T.Central Asian]</td><td></td><td></td><td></td><td>0.045<sup></sup></td><td>0.0449<sup></sup></td></tr><tr><td style=\"text-align:left\"></td><td></td><td></td><td></td><td>(0.0394)</td><td>(0.04)</td></tr><tr><td style=\"text-align:left\">C(racename)[T.East Asian]</td><td></td><td></td><td></td><td>0.0093<sup></sup></td><td>0.0091<sup></sup></td></tr><tr><td style=\"text-align:left\"></td><td></td><td></td><td></td><td>(0.0088)</td><td>(0.0093)</td></tr><tr><td style=\"text-align:left\">C(racename)[T.Hispanic]</td><td></td><td></td><td></td><td>0.0028<sup></sup></td><td>0.0024<sup></sup></td></tr><tr><td style=\"text-align:left\"></td><td></td><td></td><td></td><td>(0.0046)</td><td>(0.0048)</td></tr><tr><td style=\"text-align:left\">C(racename)[T.Jewish]</td><td></td><td></td><td></td><td>-0.0072<sup></sup></td><td>-0.0072<sup></sup></td></tr><tr><td style=\"text-align:left\"></td><td></td><td></td><td></td><td>(0.0094)</td><td>(0.01)</td></tr><tr><td style=\"text-align:left\">C(racename)[T.Middle Eastern]</td><td></td><td></td><td></td><td>-0.0022<sup></sup></td><td>-0.003<sup></sup></td></tr><tr><td style=\"text-align:left\"></td><td></td><td></td><td></td><td>(0.0133)</td><td>(0.0142)</td></tr><tr><td style=\"text-align:left\">C(racename)[T.Native American]</td><td></td><td></td><td></td><td>0.0261<sup></sup></td><td>0.0268<sup></sup></td></tr><tr><td style=\"text-align:left\"></td><td></td><td></td><td></td><td>(0.035)</td><td>(0.0369)</td></tr><tr><td style=\"text-align:left\">C(racename)[T.Pacific Islander]</td><td></td><td></td><td></td><td>0.0455<sup></sup></td><td>0.0467<sup></sup></td></tr><tr><td style=\"text-align:left\"></td><td></td><td></td><td></td><td>(0.0494)</td><td>(0.053)</td></tr><tr><td style=\"text-align:left\">C(racename)[T.South Asian]</td><td></td><td></td><td></td><td>0.0092<sup></sup></td><td>0.009<sup></sup></td></tr><tr><td style=\"text-align:left\"></td><td></td><td></td><td></td><td>(0.0122)</td><td>(0.0133)</td></tr><tr><td style=\"text-align:left\">C(racename)[T.Uncoded]</td><td></td><td></td><td></td><td>-0.0021<sup></sup></td><td>-0.0023<sup></sup></td></tr><tr><td style=\"text-align:left\"></td><td></td><td></td><td></td><td>(0.0054)</td><td>(0.0056)</td></tr><tr><td style=\"text-align:left\">C(sex)[T.M]</td><td></td><td></td><td>0.0017<sup></sup></td><td></td><td>0.0016<sup></sup></td></tr><tr><td style=\"text-align:left\"></td><td></td><td></td><td>(0.0023)</td><td></td><td>(0.0023)</td></tr><tr><td style=\"text-align:left\">C(sex)[T.U]</td><td></td><td></td><td>0.1257<sup></sup></td><td></td><td>0.1262<sup>*</sup></td></tr><tr><td style=\"text-align:left\"></td><td></td><td></td><td>(0.0791)</td><td></td><td>(0.0765)</td></tr><tr><td style=\"text-align:left\">Intercept</td><td>0.5003<sup>***</sup></td><td>0.501<sup>***</sup></td><td>0.4993<sup>***</sup></td><td>0.4982<sup>***</sup></td><td>0.499<sup>***</sup></td></tr><tr><td style=\"text-align:left\"></td><td>(0.0022)</td><td>(0.0015)</td><td>(0.0016)</td><td>(0.0036)</td><td>(0.0045)</td></tr><tr><td style=\"text-align:left\">vote_propensity</td><td>-0.0006<sup></sup></td><td></td><td></td><td></td><td>-0.0017<sup></sup></td></tr><tr><td style=\"text-align:left\"></td><td>(0.0058)</td><td></td><td></td><td></td><td>(0.0062)</td></tr><td colspan=\"6\" style=\"border-bottom: 1px solid black\"></td></tr><tr><td style=\"text-align: left\">Observations</td><td>188486.0</td><td>188486.0</td><td>188486.0</td><td>188486.0</td><td>188486.0</td></tr><tr><td style=\"text-align: left\">R<sup>2</sup></td><td>0.0</td><td>0.0</td><td>0.0</td><td>0.0</td><td>0.0001</td></tr><tr><td style=\"text-align: left\">Adjusted R<sup>2</sup></td><td>-0.0</td><td>-0.0</td><td>0.0</td><td>-0.0</td><td>-0.0</td></tr><tr><td style=\"text-align: left\">Residual Std. Error</td><td>0.5(df = 188484.0)</td><td>0.5(df = 188482.0)</td><td>0.5(df = 188483.0)</td><td>0.5(df = 188475.0)</td><td>0.5(df = 188469.0)</td></tr><tr><td style=\"text-align: left\">F Statistic</td><td>0.0112<sup></sup>(df = 1.0; 188484.0)</td><td>0.5822<sup></sup>(df = 3.0; 188482.0)</td><td>1.5223<sup></sup>(df = 2.0; 188483.0)</td><td>0.628<sup></sup>(df = 10.0; 188475.0)</td><td>[[0.6757]]<sup></sup>(df = 16.0; 188469.0)</td></tr><tr><td colspan=\"6\" style=\"border-bottom: 1px solid black\"></td></tr><tr><td style=\"text-align: left\">Note:</td><td colspan=\"5\" style=\"text-align: right\"><em>p&lt;0.1</em>; <b>p&lt;0.05</b>; p&lt;0.01</td></tr></table>"
      ],
      "text/plain": [
       "<IPython.core.display.HTML object>"
      ]
     },
     "execution_count": 168,
     "metadata": {},
     "output_type": "execute_result"
    }
   ],
   "source": [
    "stargazer = Stargazer(prob_balance)\n",
    "stargazer.significant_digits(4)\n",
    "stargazer.title('Balance Check')\n",
    "stargazer.custom_columns(['vote propensity','party', 'sex', 'race', 'all'], [1,1,1,1,1])\n",
    "\n",
    "HTML(stargazer.render_html())"
   ]
  },
  {
   "cell_type": "code",
   "execution_count": 37,
   "metadata": {},
   "outputs": [],
   "source": [
    "df.to_csv('../../Machine Learing HTE/1_data/nga_il/nga_il_add.csv', index=False)"
   ]
  },
  {
   "cell_type": "markdown",
   "metadata": {},
   "source": [
    "## Main Result"
   ]
  },
  {
   "cell_type": "markdown",
   "metadata": {},
   "source": [
    "### OLS (without covariates, clustered SE)"
   ]
  },
  {
   "cell_type": "code",
   "execution_count": 42,
   "metadata": {},
   "outputs": [
    {
     "data": {
      "text/plain": [
       "0.32379064"
      ]
     },
     "execution_count": 42,
     "metadata": {},
     "output_type": "execute_result"
    }
   ],
   "source": [
    "df.voted.mean()"
   ]
  },
  {
   "cell_type": "code",
   "execution_count": 17,
   "metadata": {},
   "outputs": [],
   "source": [
    "# display and export regression table\n",
    "from stargazer.stargazer import Stargazer\n",
    "from IPython.core.display import HTML\n",
    "from IPython.display import Latex"
   ]
  },
  {
   "cell_type": "code",
   "execution_count": 27,
   "metadata": {
    "scrolled": true
   },
   "outputs": [],
   "source": [
    "ols_data= pd.concat([pro_data,df.hh_id], axis=1).dropna()"
   ]
  },
  {
   "cell_type": "code",
   "execution_count": 28,
   "metadata": {
    "scrolled": true
   },
   "outputs": [
    {
     "data": {
      "text/plain": [
       "(188486, 45)"
      ]
     },
     "execution_count": 28,
     "metadata": {},
     "output_type": "execute_result"
    }
   ],
   "source": [
    "ols_data.shape"
   ]
  },
  {
   "cell_type": "code",
   "execution_count": 29,
   "metadata": {
    "scrolled": true
   },
   "outputs": [
    {
     "data": {
      "text/html": [
       "Main Effect<br><table style=\"text-align:center\"><tr><td colspan=\"2\" style=\"border-bottom: 1px solid black\"></td></tr><tr><td style=\"text-align:left\"></td><td colspan=\"1\"><em>Dependent variable:</em></td></tr><tr><td style=\"text-align:left\"></td><tr><td style=\"text-align:left\"></td><td>(1)</td></tr><tr><td colspan=\"2\" style=\"border-bottom: 1px solid black\"></td></tr><tr><td style=\"text-align:left\">const</td><td>0.3226<sup>***</sup></td></tr><tr><td style=\"text-align:left\"></td><td>(0.0016)</td></tr><tr><td style=\"text-align:left\">treat_binary</td><td>0.0024<sup></sup></td></tr><tr><td style=\"text-align:left\"></td><td>(0.0022)</td></tr><td colspan=\"2\" style=\"border-bottom: 1px solid black\"></td></tr><tr><td style=\"text-align: left\">Observations</td><td>188486.0</td></tr><tr><td style=\"text-align: left\">R<sup>2</sup></td><td>0.0</td></tr><tr><td style=\"text-align: left\">Adjusted R<sup>2</sup></td><td>0.0</td></tr><tr><td style=\"text-align: left\">Residual Std. Error</td><td>0.4679(df = 188484.0)</td></tr><tr><td style=\"text-align: left\">F Statistic</td><td>[[1.2087]]<sup></sup>(df = 1.0; 188484.0)</td></tr><tr><td colspan=\"2\" style=\"border-bottom: 1px solid black\"></td></tr><tr><td style=\"text-align: left\">Note:</td><td colspan=\"1\" style=\"text-align: right\"><em>p&lt;0.1</em>; <b>p&lt;0.05</b>; p&lt;0.01</td></tr></table>"
      ],
      "text/plain": [
       "<IPython.core.display.HTML object>"
      ]
     },
     "execution_count": 29,
     "metadata": {},
     "output_type": "execute_result"
    }
   ],
   "source": [
    "X = ols_data[['treat_binary']]\n",
    "\n",
    "X = sm.add_constant(X)\n",
    "\n",
    "y = ols_data['voted']\n",
    "\n",
    "# use ipw for \n",
    "ols_cluster = sm.OLS(y, X).fit(cov_type='cluster', cov_kwds={'groups': ols_data['hh_id']})\n",
    "\n",
    "\n",
    "\n",
    "stargazer = Stargazer([ols_cluster])\n",
    "stargazer.significant_digits(4)\n",
    "stargazer.title('Main Effect')\n",
    "\n",
    "HTML(stargazer.render_html())"
   ]
  },
  {
   "cell_type": "markdown",
   "metadata": {},
   "source": [
    "### OLS (control voting history, clustered SE)"
   ]
  },
  {
   "cell_type": "code",
   "execution_count": 30,
   "metadata": {},
   "outputs": [],
   "source": [
    "X = ols_data[['treat_binary', *vote_list]]\n",
    "\n",
    "X = sm.add_constant(X)\n",
    "\n",
    "y = ols_data['voted']\n",
    "\n",
    "ols_hist = sm.OLS(y, X).fit(cov_type='cluster', cov_kwds={'groups': ols_data['hh_id']})"
   ]
  },
  {
   "cell_type": "code",
   "execution_count": 31,
   "metadata": {},
   "outputs": [],
   "source": [
    "X = ols_data[['treat_binary', 'general14' ,'general12', 'general08', 'primary16']]\n",
    "\n",
    "X = sm.add_constant(X)\n",
    "\n",
    "y = ols_data['voted']\n",
    "\n",
    "ols_report = sm.OLS(y, X).fit(cov_type='cluster', cov_kwds={'groups': ols_data['hh_id']})"
   ]
  },
  {
   "cell_type": "code",
   "execution_count": 32,
   "metadata": {
    "scrolled": true
   },
   "outputs": [
    {
     "data": {
      "text/html": [
       "Main Effect<br><table style=\"text-align:center\"><tr><td colspan=\"4\" style=\"border-bottom: 1px solid black\"></td></tr><tr><td style=\"text-align:left\"></td><td colspan=\"3\"><em>Dependent variable:</em></td></tr><tr><td style=\"text-align:left\"></td><tr><td colspan=\"1\">OLS</td><td colspan=\"1\">Control Past Vote</td><td colspan=\"1\">Reported Result</td></tr><tr><td style=\"text-align:left\"></td><td>(1)</td><td>(2)</td><td>(3)</td></tr><tr><td colspan=\"4\" style=\"border-bottom: 1px solid black\"></td></tr><tr><td style=\"text-align:left\">const</td><td>0.3226<sup>***</sup></td><td>0.2022<sup>***</sup></td><td>0.2054<sup>***</sup></td></tr><tr><td style=\"text-align:left\"></td><td>(0.0016)</td><td>(0.0016)</td><td>(0.0016)</td></tr><tr><td style=\"text-align:left\">treat_binary</td><td>0.0024<sup></sup></td><td>0.0027<sup></sup></td><td>0.0025<sup></sup></td></tr><tr><td style=\"text-align:left\"></td><td>(0.0022)</td><td>(0.002)</td><td>(0.002)</td></tr><td colspan=\"4\" style=\"border-bottom: 1px solid black\"></td></tr><tr><td style=\"text-align: left\">Observations</td><td>188486.0</td><td>188486.0</td><td>188486.0</td></tr><tr><td style=\"text-align: left\">R<sup>2</sup></td><td>0.0</td><td>0.1666</td><td>0.163</td></tr><tr><td style=\"text-align: left\">Adjusted R<sup>2</sup></td><td>0.0</td><td>0.1664</td><td>0.163</td></tr><tr><td style=\"text-align: left\">Residual Std. Error</td><td>0.4679(df = 188484.0)</td><td>0.4272(df = 188442.0)</td><td>0.4281(df = 188480.0)</td></tr><tr><td style=\"text-align: left\">F Statistic</td><td>[[1.2087]]<sup></sup>(df = 1.0; 188484.0)</td><td>[[887.3801]]<sup>***</sup>(df = 43.0; 188442.0)</td><td>[[7263.7981]]<sup>***</sup>(df = 5.0; 188480.0)</td></tr><tr><td colspan=\"4\" style=\"border-bottom: 1px solid black\"></td></tr><tr><td style=\"text-align: left\">Note:</td><td colspan=\"3\" style=\"text-align: right\"><em>p&lt;0.1</em>; <b>p&lt;0.05</b>; p&lt;0.01</td></tr></table>"
      ],
      "text/plain": [
       "<IPython.core.display.HTML object>"
      ]
     },
     "execution_count": 32,
     "metadata": {},
     "output_type": "execute_result"
    }
   ],
   "source": [
    "stargazer = Stargazer([ols_cluster, ols_hist, ols_report])\n",
    "stargazer.significant_digits(4)\n",
    "stargazer.custom_columns(['OLS', 'Control Past Vote', 'Reported Result'], [1,1,1])\n",
    "stargazer.covariate_order(['const', 'treat_binary'])\n",
    "stargazer.title('Main Effect')\n",
    "\n",
    "HTML(stargazer.render_html())"
   ]
  },
  {
   "cell_type": "code",
   "execution_count": 80,
   "metadata": {},
   "outputs": [
    {
     "data": {
      "text/plain": [
       "0.42721701386662464"
      ]
     },
     "execution_count": 80,
     "metadata": {},
     "output_type": "execute_result"
    }
   ],
   "source": [
    "((ols_hist.resid**2).sum()/188442.0)**0.5"
   ]
  },
  {
   "cell_type": "code",
   "execution_count": 79,
   "metadata": {},
   "outputs": [
    {
     "data": {
      "text/plain": [
       "0.42721701386662464"
      ]
     },
     "execution_count": 79,
     "metadata": {},
     "output_type": "execute_result"
    }
   ],
   "source": [
    "0.18251437693711575**0.5"
   ]
  },
  {
   "cell_type": "code",
   "execution_count": 34,
   "metadata": {},
   "outputs": [
    {
     "data": {
      "text/latex": [
       "\\begin{table}[!htbp] \\centering\n",
       "  \\caption{Mobilization Effect in NextGen Climate}\n",
       "  \\label{}\n",
       "\\begin{tabular}{@{\\extracolsep{5pt}}lcc}\n",
       "\\\\[-1.8ex]\\hline\n",
       "\\hline \\\\[-1.8ex]\n",
       "& \\multicolumn{2}{c}{\\textit{Dependent variable:}} \\\n",
       "\\cr \\cline{2-3}\n",
       "\\\\[-1.8ex] & \\multicolumn{1}{c}{OLS} & \\multicolumn{1}{c}{Control Past Vote}  \\\\\n",
       "\\\\[-1.8ex] & (1) & (2) \\\\\n",
       "\\hline \\\\[-1.8ex]\n",
       " const & 0.3226$^{***}$ & 0.2022$^{***}$ \\\\\n",
       "  & (0.0016) & (0.0016) \\\\\n",
       "  & & \\\\\n",
       " treat_binary & 0.0024$^{}$ & 0.0027$^{}$ \\\\\n",
       "  & (0.0022) & (0.002) \\\\\n",
       "  & & \\\\\n",
       "\\hline \\\\[-1.8ex]\n",
       " Observations & 188486.0 & 188486.0 \\\\\n",
       " R${2}$ & 0.0 & 0.1666 \\\\\n",
       " Adjusted R${2}$ & 0.0 & 0.1664 \\\\\n",
       " Residual Std. Error & 0.4679(df = 188484.0) & 0.4272(df = 188442.0)  \\\\\n",
       " F Statistic & [[1.2087]]$^{}$ (df = 1.0; 188484.0) & [[887.3801]]$^{***}$ (df = 43.0; 188442.0) \\\\\n",
       "\\hline\n",
       "\\hline \\\\[-1.8ex]\n",
       "\\textit{Note:} & \\multicolumn{2}{r}{$^{*}$p$<$0.1; $^{**}$p$<$0.05; $^{***}$p$<$0.01} \\\\\n",
       "\\end{tabular}\n",
       "\\end{table}"
      ],
      "text/plain": [
       "<IPython.core.display.Latex object>"
      ]
     },
     "execution_count": 34,
     "metadata": {},
     "output_type": "execute_result"
    }
   ],
   "source": [
    "stargazer = Stargazer([ols_cluster, ols_hist])\n",
    "stargazer.significant_digits(4)\n",
    "stargazer.custom_columns(['OLS', 'Control Past Vote'], [1,1])\n",
    "stargazer.covariate_order(['const', 'treat_binary'])\n",
    "stargazer.title('Mobilization Effect in NextGen Climate')\n",
    "\n",
    "Latex(stargazer.render_latex())"
   ]
  },
  {
   "cell_type": "markdown",
   "metadata": {},
   "source": [
    "### 2SLS (assignemnt as instrument, control vote history and clustered SE)"
   ]
  },
  {
   "cell_type": "code",
   "execution_count": 35,
   "metadata": {},
   "outputs": [],
   "source": [
    "from linearmodels.iv import IV2SLS"
   ]
  },
  {
   "cell_type": "code",
   "execution_count": 36,
   "metadata": {},
   "outputs": [],
   "source": [
    "iv1_data= pd.concat([df.hh_id,df.contacted,pro_data], axis=1).dropna()\n",
    "\n",
    "\n",
    "iv1_data['_cons'] = 1"
   ]
  },
  {
   "cell_type": "code",
   "execution_count": 37,
   "metadata": {},
   "outputs": [
    {
     "data": {
      "text/plain": [
       "Index(['hh_id', 'contacted', 'treat_binary', 'voted', 'aprilmuniprimary13',\n",
       "       'aprilmunicipal13', 'aprilmunicipal09', 'aprilmunicipal07',\n",
       "       'aprilmunicipal05', 'aprilmunicipal03', 'febmunicipal15',\n",
       "       'febmunicipal11', 'febmunicipal09', 'febmunicipal07', 'febmunicipal05',\n",
       "       'febmunicipal03', 'general14', 'general12', 'general10', 'general08',\n",
       "       'general06', 'general04', 'general02', 'general00', 'municipal15',\n",
       "       'municipal09', 'municipal07', 'municipal05', 'municipal03',\n",
       "       'municipal01', 'municipalprimary15', 'municipalrunoff15',\n",
       "       'presprimary08', 'presprimary04', 'presprimary00', 'primary16',\n",
       "       'primary14', 'primary12', 'primary10', 'primary08', 'primary06',\n",
       "       'primary04', 'primary02', 'primary00', 'specialprimary15',\n",
       "       'specialprimary13', '_cons'],\n",
       "      dtype='object')"
      ]
     },
     "execution_count": 37,
     "metadata": {},
     "output_type": "execute_result"
    }
   ],
   "source": [
    "iv1_data.columns"
   ]
  },
  {
   "cell_type": "code",
   "execution_count": 38,
   "metadata": {},
   "outputs": [],
   "source": [
    "# exogenous regressors\n",
    "iv1w = list(iv1_data.loc[:,'aprilmuniprimary13':'_cons'].head().columns)\n",
    "\n",
    "ivresult1=IV2SLS(dependent=iv1_data['voted'],\n",
    "            exog=iv1_data[iv1w],\n",
    "            endog=iv1_data['contacted'],\n",
    "            instruments=iv1_data[['treat_binary']]).fit(cov_type='clustered', \n",
    "                                                         clusters=iv1_data.hh_id)"
   ]
  },
  {
   "cell_type": "code",
   "execution_count": 46,
   "metadata": {},
   "outputs": [
    {
     "data": {
      "text/plain": [
       "Model F-statistic\n",
       "H0: All parameters ex. constant are zero\n",
       "Statistic: 38166.4994\n",
       "P-value: 0.0000\n",
       "Distributed: chi2(43)\n",
       "WaldTestStatistic, id: 0x1c1a883710"
      ]
     },
     "execution_count": 46,
     "metadata": {},
     "output_type": "execute_result"
    }
   ],
   "source": [
    "ivresult1.f_statistic"
   ]
  },
  {
   "cell_type": "code",
   "execution_count": 57,
   "metadata": {},
   "outputs": [],
   "source": [
    "from scipy.stats import sem"
   ]
  },
  {
   "cell_type": "markdown",
   "metadata": {},
   "source": [
    " the square root of the residual sum of squares divided by the residual degrees of freedom."
   ]
  },
  {
   "cell_type": "code",
   "execution_count": 82,
   "metadata": {},
   "outputs": [
    {
     "data": {
      "text/plain": [
       "0        -0.205672\n",
       "1        -0.205046\n",
       "2        -0.156168\n",
       "3         0.797762\n",
       "4        -0.355151\n",
       "            ...   \n",
       "188481   -0.202238\n",
       "188482    0.794954\n",
       "188483   -0.205046\n",
       "188484   -0.202238\n",
       "188485    0.794954\n",
       "Name: residual, Length: 188486, dtype: float64"
      ]
     },
     "execution_count": 82,
     "metadata": {},
     "output_type": "execute_result"
    }
   ],
   "source": [
    "ivresult1.resids"
   ]
  },
  {
   "cell_type": "code",
   "execution_count": 83,
   "metadata": {
    "scrolled": true
   },
   "outputs": [
    {
     "data": {
      "text/plain": [
       "0.42721943076929925"
      ]
     },
     "execution_count": 83,
     "metadata": {},
     "output_type": "execute_result"
    }
   ],
   "source": [
    "((ivresult1.resids**2).sum()/188442.0)**0.5"
   ]
  },
  {
   "cell_type": "code",
   "execution_count": 39,
   "metadata": {},
   "outputs": [
    {
     "data": {
      "text/plain": [
       "'R square: 0.1665968'"
      ]
     },
     "execution_count": 39,
     "metadata": {},
     "output_type": "execute_result"
    }
   ],
   "source": [
    "# Report the R square\n",
    "'R square: {:.7f}'.format(ivresult1.rsquared)"
   ]
  },
  {
   "cell_type": "code",
   "execution_count": 40,
   "metadata": {},
   "outputs": [
    {
     "data": {
      "text/plain": [
       "'Total N: 188486'"
      ]
     },
     "execution_count": 40,
     "metadata": {},
     "output_type": "execute_result"
    }
   ],
   "source": [
    "'Total N: {}'.format(ivresult1.nobs)"
   ]
  },
  {
   "cell_type": "code",
   "execution_count": 41,
   "metadata": {},
   "outputs": [
    {
     "name": "stdout",
     "output_type": "stream",
     "text": [
      "\n",
      ": boolean\n",
      "    use_inf_as_null had been deprecated and will be removed in a future\n",
      "    version. Use `use_inf_as_na` instead.\n",
      "\n"
     ]
    }
   ],
   "source": [
    "pd.reset_option('all')"
   ]
  },
  {
   "cell_type": "code",
   "execution_count": 42,
   "metadata": {},
   "outputs": [
    {
     "data": {
      "text/html": [
       "<div>\n",
       "<style scoped>\n",
       "    .dataframe tbody tr th:only-of-type {\n",
       "        vertical-align: middle;\n",
       "    }\n",
       "\n",
       "    .dataframe tbody tr th {\n",
       "        vertical-align: top;\n",
       "    }\n",
       "\n",
       "    .dataframe thead th {\n",
       "        text-align: right;\n",
       "    }\n",
       "</style>\n",
       "<table border=\"1\" class=\"dataframe\">\n",
       "  <thead>\n",
       "    <tr style=\"text-align: right;\">\n",
       "      <th></th>\n",
       "      <th>Parameter</th>\n",
       "      <th>Std. Err.</th>\n",
       "      <th>T-stat</th>\n",
       "      <th>P-value</th>\n",
       "      <th>Lower CI</th>\n",
       "      <th>Upper CI</th>\n",
       "    </tr>\n",
       "  </thead>\n",
       "  <tbody>\n",
       "    <tr>\n",
       "      <td>contacted</td>\n",
       "      <td>0.0028</td>\n",
       "      <td>0.0021</td>\n",
       "      <td>1.3424</td>\n",
       "      <td>0.1795</td>\n",
       "      <td>-0.0013</td>\n",
       "      <td>0.0069</td>\n",
       "    </tr>\n",
       "    <tr>\n",
       "      <td>_cons</td>\n",
       "      <td>0.2022</td>\n",
       "      <td>0.0016</td>\n",
       "      <td>128.0000</td>\n",
       "      <td>0.0000</td>\n",
       "      <td>0.1991</td>\n",
       "      <td>0.2053</td>\n",
       "    </tr>\n",
       "  </tbody>\n",
       "</table>\n",
       "</div>"
      ],
      "text/plain": [
       "           Parameter  Std. Err.    T-stat  P-value  Lower CI  Upper CI\n",
       "contacted     0.0028     0.0021    1.3424   0.1795   -0.0013    0.0069\n",
       "_cons         0.2022     0.0016  128.0000   0.0000    0.1991    0.2053"
      ]
     },
     "execution_count": 42,
     "metadata": {},
     "output_type": "execute_result"
    }
   ],
   "source": [
    "# coefficients\n",
    "pd.read_html(ivresult1.summary.tables[1].as_html(), header=0, index_col=0)[0].loc[['contacted','_cons'],:]"
   ]
  },
  {
   "cell_type": "markdown",
   "metadata": {},
   "source": [
    "## Machine Learning"
   ]
  },
  {
   "cell_type": "markdown",
   "metadata": {},
   "source": [
    "Metalearners are binary treatment Conditional Average Treatment Effect (CATE) estimators, which build on base algorithms such as random forests (RFs), Bayesian additive regression trees (BARTs) to estimate the CATE.\n",
    "\n",
    "Following the recommendation in [paper](https://arxiv.org/pdf/1706.03461.pdf), we use the Random Forest as the base algorithm for the super-learner (T-learner and X-learner)\n",
    "\n",
    "Compute potential untreated outcome for treatment group, potential treated outcome for control group, and calculate individual treatment effects (ITEs)"
   ]
  },
  {
   "cell_type": "code",
   "execution_count": 367,
   "metadata": {
    "code_folding": []
   },
   "outputs": [],
   "source": [
    "# Outcome: Voter Turn out in 2016\n",
    "Y = np.array(df['voted'].astype(int))\n",
    "\n",
    "# Treatment: Text Messaging\n",
    "T = np.array(df['treat_binary'].astype(int))\n",
    "\n",
    "# Covariates\n",
    "X =np.array(df[['vote_propensity']])\n",
    "\n",
    "# Meta Learner Library\n",
    "from econml.metalearners import XLearner\n",
    "# Base Algorithm Library\n",
    "from sklearn.ensemble import RandomForestRegressor, RandomForestClassifier, GradientBoostingRegressor\n",
    "\n",
    "import matplotlib.pyplot as plt\n",
    "import seaborn as sns\n",
    "\n",
    "n=X.shape[0]"
   ]
  },
  {
   "cell_type": "code",
   "execution_count": 368,
   "metadata": {},
   "outputs": [],
   "source": [
    "# Instantiate X learner\n",
    "controls_model = GradientBoostingRegressor(n_estimators=100, \n",
    "                                           max_depth=6, \n",
    "                                           min_samples_leaf=int(n/1000))\n",
    "treated_model = GradientBoostingRegressor(n_estimators=100, \n",
    "                                          max_depth=6, \n",
    "                                          min_samples_leaf=int(n/1000))\n",
    "propensity_model = RandomForestClassifier(n_estimators=100, \n",
    "                                          max_depth=6, \n",
    "                                        min_samples_leaf=int(n/1000),\n",
    "                                        class_weight='balanced_subsample')\n",
    "X_learner = XLearner(controls_model=controls_model, \n",
    "                     treated_model=treated_model, \n",
    "                     propensity_model=propensity_model)\n",
    "# Train X_learner\n",
    "X_learner.fit(Y, T, X)\n",
    "# Estimate treatment effects on test data\n",
    "X_te = X_learner.effect(X)"
   ]
  },
  {
   "cell_type": "code",
   "execution_count": 369,
   "metadata": {},
   "outputs": [],
   "source": [
    "X =np.array(df[['vote_propensity']])"
   ]
  },
  {
   "cell_type": "markdown",
   "metadata": {},
   "source": [
    "## Cross tables vote propensity and estimated CATE"
   ]
  },
  {
   "cell_type": "code",
   "execution_count": 5,
   "metadata": {},
   "outputs": [],
   "source": [
    "learner_df = pd.read_csv('../../Machine Learing HTE/1_data/nga_il/NGA_IL_with_ITEs.csv')"
   ]
  },
  {
   "cell_type": "code",
   "execution_count": null,
   "metadata": {},
   "outputs": [],
   "source": []
  },
  {
   "cell_type": "code",
   "execution_count": 6,
   "metadata": {},
   "outputs": [],
   "source": [
    "def p_latex(x, cap):\n",
    "    latex_string = '\\\\begin{table}[ht]\\\\centering\\n\\\\caption{' + cap +'}\\n'  \n",
    "    latex_string = latex_string+x.to_latex().\\\n",
    "    replace('\\\\toprule','\\\\hline\\\\hline\\\\\\\\[-1em]').\\\n",
    "    replace('\\\\bottomrule', '\\\\hline \\\\hline') +'\\\\end{table}'\n",
    "    return Latex(latex_string)"
   ]
  },
  {
   "cell_type": "code",
   "execution_count": 371,
   "metadata": {},
   "outputs": [],
   "source": [
    "learner_df = pd.DataFrame({'Propensity': X[:, 0],\n",
    "                          'ITE':X_te,\n",
    "                         'Treatment':T,\n",
    "                         'Turnout': Y,\n",
    "             'hh_id': df[df.voted.isna()==False]['hh_id']})"
   ]
  },
  {
   "cell_type": "code",
   "execution_count": 12,
   "metadata": {},
   "outputs": [],
   "source": [
    "learner_df['Propensity Range']=pd.cut(learner_df['Propensity'], np.arange(0,1.1,0.1))\n",
    "\n",
    "# Vote trunout by vote propensity socre and treatment assignment\n",
    "\n",
    "ct_ite = learner_df.\\\n",
    "groupby(['Propensity Range']).ITE. \\\n",
    "agg({\n",
    "     'ITE':[('Average Estimated ITE',np.mean),\n",
    "                         ('Group Size','count'),\n",
    "                         ('Proportion to Subject Pool', lambda x: x.size/226998)]})"
   ]
  },
  {
   "cell_type": "code",
   "execution_count": 13,
   "metadata": {},
   "outputs": [
    {
     "data": {
      "text/latex": [
       "\\begin{table}[ht]\\centering\n",
       "\\caption{Cross table between vote propensity and estimated ITE (NextGen Climate)}\n",
       "\\begin{tabular}{lrrr}\n",
       "\\hline\\hline\\\\[-1em]\n",
       "{} & \\multicolumn{3}{l}{ITE} \\\\\n",
       "{} & Average Estimated ITE & Group Size & Proportion to Subject Pool \\\\\n",
       "Propensity Range &                       &            &                            \\\\\n",
       "\\midrule\n",
       "(0.0, 0.1]       &                8.121\\% &       4328 &                     1.907\\% \\\\\n",
       "(0.1, 0.2]       &                0.498\\% &      64322 &                    28.336\\% \\\\\n",
       "(0.2, 0.3]       &                0.218\\% &      49330 &                    21.731\\% \\\\\n",
       "(0.3, 0.4]       &                0.364\\% &      22803 &                    10.045\\% \\\\\n",
       "(0.4, 0.5]       &               -1.324\\% &       9438 &                     4.158\\% \\\\\n",
       "(0.5, 0.6]       &               -0.337\\% &      10062 &                     4.433\\% \\\\\n",
       "(0.6, 0.7]       &                0.189\\% &      11895 &                     5.240\\% \\\\\n",
       "(0.7, 0.8]       &               -0.164\\% &       8948 &                     3.942\\% \\\\\n",
       "(0.8, 0.9]       &               -0.379\\% &       6577 &                     2.897\\% \\\\\n",
       "(0.9, 1.0]       &              -31.526\\% &        783 &                     0.345\\% \\\\\n",
       "\\hline \\hline\n",
       "\\end{tabular}\n",
       "\\end{table}"
      ],
      "text/plain": [
       "<IPython.core.display.Latex object>"
      ]
     },
     "execution_count": 13,
     "metadata": {},
     "output_type": "execute_result"
    }
   ],
   "source": [
    "pd.options.display.float_format = '{:.3%}'.format\n",
    "\n",
    "p_latex(ct_ite, \"Cross table between vote propensity and estimated ITE (NextGen Climate)\")"
   ]
  },
  {
   "cell_type": "markdown",
   "metadata": {},
   "source": [
    "## Fit on Estimated CATE"
   ]
  },
  {
   "cell_type": "code",
   "execution_count": 17,
   "metadata": {},
   "outputs": [],
   "source": [
    "# display and export regression table\n",
    "from stargazer.stargazer import Stargazer\n",
    "from IPython.core.display import HTML\n",
    "from IPython.display import Latex"
   ]
  },
  {
   "cell_type": "code",
   "execution_count": 14,
   "metadata": {},
   "outputs": [],
   "source": [
    "learner_df['Propensity_square'] = learner_df.Propensity*learner_df.Propensity\n",
    "\n",
    "y = learner_df['ITE']\n",
    "\n",
    "X = learner_df[['Propensity']]\n",
    "X = sm.add_constant(X)\n",
    "\n",
    "ols = sm.OLS(y, X).fit(cov_type='cluster', cov_kwds={'groups': learner_df['hh_id']})"
   ]
  },
  {
   "cell_type": "code",
   "execution_count": 37,
   "metadata": {},
   "outputs": [],
   "source": [
    "X = learner_df[['Propensity_square','Propensity']]\n",
    "X = sm.add_constant(X)\n",
    "\n",
    "ols2 = sm.OLS(y, X).fit(cov_type='cluster', cov_kwds={'groups': learner_df['hh_id']})"
   ]
  },
  {
   "cell_type": "code",
   "execution_count": 20,
   "metadata": {},
   "outputs": [
    {
     "data": {
      "text/html": [
       "Regress ITE on Vote Propensity (NextGen Climate)<br><table style=\"text-align:center\"><tr><td colspan=\"3\" style=\"border-bottom: 1px solid black\"></td></tr><tr><td style=\"text-align:left\"></td><td colspan=\"2\"><em>Dependent variable:</em></td></tr><tr><td style=\"text-align:left\"></td><tr><td style=\"text-align:left\"></td><td>(1)</td><td>(2)</td></tr><tr><td colspan=\"3\" style=\"border-bottom: 1px solid black\"></td></tr><tr><td style=\"text-align:left\">Propensity</td><td>-0.0457<sup>***</sup></td><td>-0.03<sup>***</sup></td></tr><tr><td style=\"text-align:left\"></td><td>(0.0009)</td><td>(0.0057)</td></tr><tr><td style=\"text-align:left\">Propensity_square</td><td></td><td>-0.0179<sup>**</sup></td></tr><tr><td style=\"text-align:left\"></td><td></td><td>(0.0072)</td></tr><tr><td style=\"text-align:left\">const</td><td>0.0171<sup>***</sup></td><td>0.0146<sup>***</sup></td></tr><tr><td style=\"text-align:left\"></td><td>(0.0002)</td><td>(0.0009)</td></tr><td colspan=\"3\" style=\"border-bottom: 1px solid black\"></td></tr><tr><td style=\"text-align: left\">Observations</td><td>188486.0</td><td>188486.0</td></tr><tr><td style=\"text-align: left\">R<sup>2</sup></td><td>0.0849</td><td>0.0854</td></tr><tr><td style=\"text-align: left\">Adjusted R<sup>2</sup></td><td>0.0849</td><td>0.0854</td></tr><tr><td style=\"text-align: left\">Residual Std. Error</td><td>0.031(df = 188484.0)</td><td>0.031(df = 188483.0)</td></tr><tr><td style=\"text-align: left\">F Statistic</td><td>[[2761.1104]]<sup>***</sup>(df = 1.0; 188484.0)</td><td>[[2777.9493]]<sup>***</sup>(df = 2.0; 188483.0)</td></tr><tr><td colspan=\"3\" style=\"border-bottom: 1px solid black\"></td></tr><tr><td style=\"text-align: left\">Note:</td><td colspan=\"2\" style=\"text-align: right\"><em>p&lt;0.1</em>; <b>p&lt;0.05</b>; p&lt;0.01</td></tr></table>"
      ],
      "text/plain": [
       "<IPython.core.display.HTML object>"
      ]
     },
     "execution_count": 20,
     "metadata": {},
     "output_type": "execute_result"
    }
   ],
   "source": [
    "\n",
    "stargazer = Stargazer([ols, ols2])\n",
    "stargazer.significant_digits(4)\n",
    "stargazer.title('Regress ITE on Vote Propensity (NextGen Climate)')\n",
    "\n",
    "HTML(stargazer.render_html())"
   ]
  },
  {
   "cell_type": "code",
   "execution_count": 21,
   "metadata": {
    "scrolled": true
   },
   "outputs": [
    {
     "data": {
      "text/latex": [
       "\\begin{table}[!htbp] \\centering\n",
       "  \\caption{Regress ITE on Vote Propensity (NextGen Climate)}\n",
       "  \\label{}\n",
       "\\begin{tabular}{@{\\extracolsep{5pt}}lcc}\n",
       "\\\\[-1.8ex]\\hline\n",
       "\\hline \\\\[-1.8ex]\n",
       "& \\multicolumn{2}{c}{\\textit{Dependent variable:}} \\\n",
       "\\cr \\cline{2-3}\n",
       "\\\\[-1.8ex] & (1) & (2) \\\\\n",
       "\\hline \\\\[-1.8ex]\n",
       " Propensity & -0.0457$^{***}$ & -0.03$^{***}$ \\\\\n",
       "  & (0.0009) & (0.0057) \\\\\n",
       "  & & \\\\\n",
       " Propensity_square & & -0.0179$^{**}$ \\\\\n",
       "  & & (0.0072) \\\\\n",
       "  & & \\\\\n",
       " const & 0.0171$^{***}$ & 0.0146$^{***}$ \\\\\n",
       "  & (0.0002) & (0.0009) \\\\\n",
       "  & & \\\\\n",
       "\\hline \\\\[-1.8ex]\n",
       " Observations & 188486.0 & 188486.0 \\\\\n",
       " R${2}$ & 0.0849 & 0.0854 \\\\\n",
       " Adjusted R${2}$ & 0.0849 & 0.0854 \\\\\n",
       " Residual Std. Error & 0.031(df = 188484.0) & 0.031(df = 188483.0)  \\\\\n",
       " F Statistic & [[2761.1104]]$^{***}$ (df = 1.0; 188484.0) & [[2777.9493]]$^{***}$ (df = 2.0; 188483.0) \\\\\n",
       "\\hline\n",
       "\\hline \\\\[-1.8ex]\n",
       "\\textit{Note:} & \\multicolumn{2}{r}{$^{*}$p$<$0.1; $^{**}$p$<$0.05; $^{***}$p$<$0.01} \\\\\n",
       "\\end{tabular}\n",
       "\\end{table}"
      ],
      "text/plain": [
       "<IPython.core.display.Latex object>"
      ]
     },
     "execution_count": 21,
     "metadata": {},
     "output_type": "execute_result"
    }
   ],
   "source": [
    "Latex(stargazer.render_latex())"
   ]
  },
  {
   "cell_type": "code",
   "execution_count": 377,
   "metadata": {},
   "outputs": [],
   "source": [
    "# learner_df.to_csv('../../Machine Learing HTE/1_data/nga_il/NGA_IL_with_ITEs.csv', index=False)"
   ]
  },
  {
   "cell_type": "code",
   "execution_count": 378,
   "metadata": {},
   "outputs": [],
   "source": [
    "learner_df.sort_values('Propensity', inplace = True)\n",
    "learner_df.reset_index(drop=True, inplace = True)"
   ]
  },
  {
   "cell_type": "code",
   "execution_count": 379,
   "metadata": {
    "scrolled": true
   },
   "outputs": [
    {
     "data": {
      "text/plain": [
       "(188486, 163)"
      ]
     },
     "execution_count": 379,
     "metadata": {},
     "output_type": "execute_result"
    }
   ],
   "source": [
    "df.shape"
   ]
  },
  {
   "cell_type": "code",
   "execution_count": 383,
   "metadata": {},
   "outputs": [
    {
     "data": {
      "text/html": [
       "<div>\n",
       "<style scoped>\n",
       "    .dataframe tbody tr th:only-of-type {\n",
       "        vertical-align: middle;\n",
       "    }\n",
       "\n",
       "    .dataframe tbody tr th {\n",
       "        vertical-align: top;\n",
       "    }\n",
       "\n",
       "    .dataframe thead th {\n",
       "        text-align: right;\n",
       "    }\n",
       "</style>\n",
       "<table border=\"1\" class=\"dataframe\">\n",
       "  <thead>\n",
       "    <tr style=\"text-align: right;\">\n",
       "      <th></th>\n",
       "      <th>Propensity</th>\n",
       "      <th>ITE</th>\n",
       "      <th>Treatment</th>\n",
       "      <th>Turnout</th>\n",
       "      <th>hh_id</th>\n",
       "      <th>Propensity Range</th>\n",
       "      <th>Propensity_square</th>\n",
       "    </tr>\n",
       "  </thead>\n",
       "  <tbody>\n",
       "    <tr>\n",
       "      <th>0</th>\n",
       "      <td>0.000%</td>\n",
       "      <td>22.479%</td>\n",
       "      <td>0</td>\n",
       "      <td>0</td>\n",
       "      <td>1031200.000%</td>\n",
       "      <td>(0.0, 0.1]</td>\n",
       "      <td>0.000%</td>\n",
       "    </tr>\n",
       "    <tr>\n",
       "      <th>1</th>\n",
       "      <td>0.000%</td>\n",
       "      <td>22.479%</td>\n",
       "      <td>0</td>\n",
       "      <td>0</td>\n",
       "      <td>16229100.000%</td>\n",
       "      <td>(0.0, 0.1]</td>\n",
       "      <td>0.000%</td>\n",
       "    </tr>\n",
       "    <tr>\n",
       "      <th>2</th>\n",
       "      <td>0.000%</td>\n",
       "      <td>22.479%</td>\n",
       "      <td>0</td>\n",
       "      <td>0</td>\n",
       "      <td>3564700.000%</td>\n",
       "      <td>(0.0, 0.1]</td>\n",
       "      <td>0.000%</td>\n",
       "    </tr>\n",
       "    <tr>\n",
       "      <th>3</th>\n",
       "      <td>0.000%</td>\n",
       "      <td>22.479%</td>\n",
       "      <td>1</td>\n",
       "      <td>1</td>\n",
       "      <td>6367300.000%</td>\n",
       "      <td>(0.0, 0.1]</td>\n",
       "      <td>0.000%</td>\n",
       "    </tr>\n",
       "    <tr>\n",
       "      <th>4</th>\n",
       "      <td>0.000%</td>\n",
       "      <td>22.479%</td>\n",
       "      <td>1</td>\n",
       "      <td>1</td>\n",
       "      <td>12791000.000%</td>\n",
       "      <td>(0.0, 0.1]</td>\n",
       "      <td>0.000%</td>\n",
       "    </tr>\n",
       "  </tbody>\n",
       "</table>\n",
       "</div>"
      ],
      "text/plain": [
       "   Propensity     ITE  Treatment  Turnout         hh_id Propensity Range  \\\n",
       "0      0.000% 22.479%          0        0  1031200.000%       (0.0, 0.1]   \n",
       "1      0.000% 22.479%          0        0 16229100.000%       (0.0, 0.1]   \n",
       "2      0.000% 22.479%          0        0  3564700.000%       (0.0, 0.1]   \n",
       "3      0.000% 22.479%          1        1  6367300.000%       (0.0, 0.1]   \n",
       "4      0.000% 22.479%          1        1 12791000.000%       (0.0, 0.1]   \n",
       "\n",
       "   Propensity_square  \n",
       "0             0.000%  \n",
       "1             0.000%  \n",
       "2             0.000%  \n",
       "3             0.000%  \n",
       "4             0.000%  "
      ]
     },
     "execution_count": 383,
     "metadata": {},
     "output_type": "execute_result"
    }
   ],
   "source": [
    "learner_df.head()"
   ]
  },
  {
   "cell_type": "code",
   "execution_count": 395,
   "metadata": {},
   "outputs": [
    {
     "data": {
      "text/html": [
       "<div>\n",
       "<style scoped>\n",
       "    .dataframe tbody tr th:only-of-type {\n",
       "        vertical-align: middle;\n",
       "    }\n",
       "\n",
       "    .dataframe tbody tr th {\n",
       "        vertical-align: top;\n",
       "    }\n",
       "\n",
       "    .dataframe thead th {\n",
       "        text-align: right;\n",
       "    }\n",
       "</style>\n",
       "<table border=\"1\" class=\"dataframe\">\n",
       "  <thead>\n",
       "    <tr style=\"text-align: right;\">\n",
       "      <th>Turnout</th>\n",
       "      <th>0</th>\n",
       "      <th>1</th>\n",
       "    </tr>\n",
       "    <tr>\n",
       "      <th>row_0</th>\n",
       "      <th></th>\n",
       "      <th></th>\n",
       "    </tr>\n",
       "  </thead>\n",
       "  <tbody>\n",
       "    <tr>\n",
       "      <th>0</th>\n",
       "      <td>57759</td>\n",
       "      <td>17354</td>\n",
       "    </tr>\n",
       "    <tr>\n",
       "      <th>1</th>\n",
       "      <td>6073</td>\n",
       "      <td>13043</td>\n",
       "    </tr>\n",
       "  </tbody>\n",
       "</table>\n",
       "</div>"
      ],
      "text/plain": [
       "Turnout      0      1\n",
       "row_0                \n",
       "0        57759  17354\n",
       "1         6073  13043"
      ]
     },
     "execution_count": 395,
     "metadata": {},
     "output_type": "execute_result"
    }
   ],
   "source": [
    "pd.crosstab(np.where(learner_df[learner_df.Treatment==0].Propensity>0.5,1,0),\n",
    "            learner_df[learner_df.Treatment==0].Turnout )"
   ]
  },
  {
   "cell_type": "code",
   "execution_count": 392,
   "metadata": {},
   "outputs": [
    {
     "data": {
      "text/html": [
       "<div>\n",
       "<style scoped>\n",
       "    .dataframe tbody tr th:only-of-type {\n",
       "        vertical-align: middle;\n",
       "    }\n",
       "\n",
       "    .dataframe tbody tr th {\n",
       "        vertical-align: top;\n",
       "    }\n",
       "\n",
       "    .dataframe thead th {\n",
       "        text-align: right;\n",
       "    }\n",
       "</style>\n",
       "<table border=\"1\" class=\"dataframe\">\n",
       "  <thead>\n",
       "    <tr style=\"text-align: right;\">\n",
       "      <th></th>\n",
       "      <th>mean</th>\n",
       "      <th>std</th>\n",
       "    </tr>\n",
       "    <tr>\n",
       "      <th>Turnout</th>\n",
       "      <th></th>\n",
       "      <th></th>\n",
       "    </tr>\n",
       "  </thead>\n",
       "  <tbody>\n",
       "    <tr>\n",
       "      <th>0</th>\n",
       "      <td>25.956%</td>\n",
       "      <td>15.607%</td>\n",
       "    </tr>\n",
       "    <tr>\n",
       "      <th>1</th>\n",
       "      <td>45.494%</td>\n",
       "      <td>23.567%</td>\n",
       "    </tr>\n",
       "  </tbody>\n",
       "</table>\n",
       "</div>"
      ],
      "text/plain": [
       "           mean     std\n",
       "Turnout                \n",
       "0       25.956% 15.607%\n",
       "1       45.494% 23.567%"
      ]
     },
     "execution_count": 392,
     "metadata": {},
     "output_type": "execute_result"
    }
   ],
   "source": [
    "learner_df[learner_df.Treatment==0].groupby('Turnout').Propensity.agg(['mean', 'std'])"
   ]
  },
  {
   "cell_type": "code",
   "execution_count": 386,
   "metadata": {},
   "outputs": [
    {
     "data": {
      "image/png": "[encoded data removed]",
      "text/plain": [
       "<Figure size 432x288 with 1 Axes>"
      ]
     },
     "metadata": {
      "needs_background": "light"
     },
     "output_type": "display_data"
    }
   ],
   "source": [
    "ax = sns.boxplot(x=\"Turnout\", y=\"Propensity\", data=learner_df[learner_df.Treatment==0])"
   ]
  },
  {
   "cell_type": "code",
   "execution_count": 547,
   "metadata": {},
   "outputs": [
    {
     "data": {
      "text/plain": [
       "0    186885\n",
       "1      1601\n",
       "dtype: int64"
      ]
     },
     "execution_count": 547,
     "metadata": {},
     "output_type": "execute_result"
    }
   ],
   "source": [
    "pd.Series(np.where(learner_df.Propensity>0.4, 0,\n",
    "                   np.where(learner_df.Propensity+learner_df.ITE<0.4, 0, 1))).value_counts()"
   ]
  },
  {
   "cell_type": "code",
   "execution_count": 549,
   "metadata": {},
   "outputs": [],
   "source": [
    "learner_df['distance']=np.where(learner_df.Propensity>0.4, -1,learner_df.Propensity+learner_df.ITE-0.4)"
   ]
  },
  {
   "cell_type": "code",
   "execution_count": 550,
   "metadata": {},
   "outputs": [
    {
     "data": {
      "text/plain": [
       "<matplotlib.collections.LineCollection at 0x151c85b70>"
      ]
     },
     "execution_count": 550,
     "metadata": {},
     "output_type": "execute_result"
    },
    {
     "data": {
      "image/png": "[encoded data removed]",
      "text/plain": [
       "<Figure size 720x576 with 1 Axes>"
      ]
     },
     "metadata": {
      "needs_background": "light"
     },
     "output_type": "display_data"
    }
   ],
   "source": [
    "plt.figure(figsize=(10, 8))\n",
    "plt.scatter(learner_df.index, learner_df.distance, alpha=0.3, s=3) \n",
    "plt.hlines(y=0, xmin=0.0, xmax=188486.0,\n",
    "           colors='black', linestyles='dashed')\n"
   ]
  },
  {
   "cell_type": "code",
   "execution_count": 551,
   "metadata": {},
   "outputs": [
    {
     "data": {
      "image/png": "[encoded data removed]",
      "text/plain": [
       "<Figure size 1440x864 with 1 Axes>"
      ]
     },
     "metadata": {
      "needs_background": "light"
     },
     "output_type": "display_data"
    }
   ],
   "source": [
    "plt.figure(figsize=(20, 12))\n",
    "\n",
    "plt.scatter(learner_df.index, learner_df.Propensity, label=\"origin\", alpha=0.3, s=3) \n",
    "plt.scatter(learner_df.index, learner_df.Propensity+learner_df.ITE, label=\"mobilized\", alpha=0.5, s=3) \n",
    "plt.hlines(y=0.4, xmin=0.0, xmax=188486,\n",
    "           colors='black', linestyles='dashed')\n",
    "plt.xlabel('')\n",
    "plt.ylabel('probability to turnout')\n",
    "plt.legend()\n",
    "plt.show()"
   ]
  },
  {
   "cell_type": "code",
   "execution_count": 22,
   "metadata": {},
   "outputs": [],
   "source": [
    "import matplotlib.pylab as pylab\n",
    "params = {\n",
    "        'axes.labelsize': '18',\n",
    "         'axes.titlesize':'x-large',\n",
    "         'xtick.labelsize':'x-large',\n",
    "         'ytick.labelsize':'x-large'}\n",
    "pylab.rcParams.update(params)"
   ]
  },
  {
   "cell_type": "code",
   "execution_count": 23,
   "metadata": {},
   "outputs": [
    {
     "data": {
      "image/png": "[encoded data removed]",
      "text/plain": [
       "<Figure size 720x576 with 1 Axes>"
      ]
     },
     "metadata": {
      "needs_background": "light"
     },
     "output_type": "display_data"
    }
   ],
   "source": [
    "plt.figure(figsize=(10, 8))\n",
    "ax = sns.regplot(x='Propensity', y='ITE',\n",
    "                 data=learner_df, \n",
    "                 order=1,\n",
    "                 ci=100, \n",
    "                 marker=\"+\",\n",
    "                 scatter_kws={'color':'#9CCC65',\"s\": 50}, \n",
    "                 line_kws={'color':'#FF5722'})\n",
    "ax.axhline(y = 0, color='black', linewidth=1, alpha=2,ls='--')\n",
    "plt.xlabel(\"Vote Propensity\")\n",
    "plt.ylabel(\"Individual Treatment Effect (ITE)\")\n",
    "\n",
    "plt.title('ITE by Vote Propensity (Linear Fit)',\n",
    "          {'fontsize': 20,\n",
    "        'fontweight' : 5})\n",
    "plt.tight_layout()\n",
    "plt.savefig('NGA IL with Line', dpi=800)"
   ]
  },
  {
   "cell_type": "code",
   "execution_count": 24,
   "metadata": {},
   "outputs": [
    {
     "data": {
      "image/png": "[encoded data removed]",
      "text/plain": [
       "<Figure size 720x576 with 1 Axes>"
      ]
     },
     "metadata": {
      "needs_background": "light"
     },
     "output_type": "display_data"
    }
   ],
   "source": [
    "plt.figure(figsize=(10, 8))\n",
    "ax = sns.regplot(x='Propensity', y='ITE',\n",
    "                 data=learner_df, \n",
    "                 order=2,\n",
    "                 ci=100, \n",
    "                 marker=\"+\",\n",
    "                 scatter_kws={'color':'#039be5',\"s\": 50}, \n",
    "                 line_kws={'color':'#FF5722'})\n",
    "ax.axhline(y = 0, color='black', linewidth=1, alpha=2,ls='--')\n",
    "\n",
    "plt.xlabel(\"Vote Propensity\")\n",
    "plt.ylabel(\"Individual Treatment Effect (ITE)\")\n",
    "\n",
    "plt.title('Illinois ITE by Vote Propensity',\n",
    "          {'fontsize': 20,\n",
    "        'fontweight' : 5})\n",
    "plt.tight_layout()\n",
    "plt.savefig('NGA IL with Parabola', dpi=800)"
   ]
  },
  {
   "cell_type": "markdown",
   "metadata": {},
   "source": [
    "### Sigmoid Fit"
   ]
  },
  {
   "cell_type": "code",
   "execution_count": 25,
   "metadata": {},
   "outputs": [],
   "source": [
    "import numpy as np\n",
    "import matplotlib.pyplot as plt\n",
    "from scipy.optimize import curve_fit\n",
    "\n",
    "def sigmoid(x, a, b, c, d):\n",
    "    # a adjusts amplitude\n",
    "    # b adjusts y offset\n",
    "    # c adjusts x offset\n",
    "    # d adjusts slope\n",
    "    return ((a - b) / (1. + np.exp(x - (c / 2)) ** d)) + b\n",
    "\n",
    "\n",
    "xdata = np.array(learner_df.Propensity)\n",
    "ydata = np.array(learner_df.ITE)\n",
    "\n",
    "\n",
    "p0 = [max(ydata), min(ydata),max(xdata), 1]\n",
    "\n",
    "# fit the data\n",
    "popt, pcov = curve_fit(sigmoid, xdata, ydata, p0)\n"
   ]
  },
  {
   "cell_type": "code",
   "execution_count": 27,
   "metadata": {},
   "outputs": [],
   "source": [
    "np.set_printoptions(suppress=True) #prevent numpy exponential \n",
    "                                   #notation on print, default False"
   ]
  },
  {
   "cell_type": "code",
   "execution_count": 28,
   "metadata": {},
   "outputs": [
    {
     "data": {
      "text/plain": [
       "array([ 0.00392146, -0.51692097,  1.88561321, 43.01471799])"
      ]
     },
     "execution_count": 28,
     "metadata": {},
     "output_type": "execute_result"
    }
   ],
   "source": [
    "popt"
   ]
  },
  {
   "cell_type": "code",
   "execution_count": 52,
   "metadata": {},
   "outputs": [
    {
     "data": {
      "image/png": "[encoded data removed]",
      "text/plain": [
       "<Figure size 720x576 with 1 Axes>"
      ]
     },
     "metadata": {
      "needs_background": "light"
     },
     "output_type": "display_data"
    }
   ],
   "source": [
    "plt.figure(figsize=(10, 8))\n",
    "# plot data\n",
    "plt.plot(xdata, ydata, '+',c='#039be5',label='data')\n",
    "\n",
    "\n",
    "# plot the result\n",
    "xdata_new = np.linspace(0, 1, 1000)\n",
    "plt.plot(xdata_new, sigmoid(xdata_new, *popt), 'r-', label='fit')\n",
    "plt.hlines(y=0, xmin=0.0, xmax=1.0,\n",
    "           colors='black', linestyles='dashed')\n",
    "plt.legend(loc='best')\n",
    "plt.xlabel(\"Vote Propensity\")\n",
    "plt.ylabel(\"Individual Treatment Effect (ITE)\")\n",
    "\n",
    "plt.title('Illinois ITE by Vote Propensity (Sigmoid Fit)',\n",
    "          {'fontsize': 20,\n",
    "        'fontweight' : 5})\n",
    "plt.tight_layout()\n",
    "plt.show()"
   ]
  },
  {
   "cell_type": "code",
   "execution_count": 30,
   "metadata": {},
   "outputs": [],
   "source": [
    "X = learner_df[['Propensity']]\n",
    "X = sm.add_constant(X)"
   ]
  },
  {
   "cell_type": "code",
   "execution_count": 31,
   "metadata": {},
   "outputs": [],
   "source": [
    "from sklearn.metrics import mean_squared_error"
   ]
  },
  {
   "cell_type": "code",
   "execution_count": 42,
   "metadata": {},
   "outputs": [
    {
     "data": {
      "text/plain": [
       "-0.47593124508470125"
      ]
     },
     "execution_count": 42,
     "metadata": {},
     "output_type": "execute_result"
    }
   ],
   "source": [
    "min(sigmoid(xdata, *popt))"
   ]
  },
  {
   "cell_type": "code",
   "execution_count": 32,
   "metadata": {},
   "outputs": [],
   "source": [
    "ols_mse = mean_squared_error(ydata, np.array(ols.predict(X)))\n",
    "sig_mes = mean_squared_error(ydata, np.array(sigmoid(xdata, *popt)))"
   ]
  },
  {
   "cell_type": "code",
   "execution_count": 39,
   "metadata": {},
   "outputs": [],
   "source": [
    "ols2_mse = mean_squared_error(ydata, np.array(ols2.predict(X)))"
   ]
  },
  {
   "cell_type": "code",
   "execution_count": 33,
   "metadata": {},
   "outputs": [
    {
     "data": {
      "text/plain": [
       "'linear fit MSE: 0.000963'"
      ]
     },
     "execution_count": 33,
     "metadata": {},
     "output_type": "execute_result"
    }
   ],
   "source": [
    "'linear fit MSE: {:.6f}'.format(ols_mse)"
   ]
  },
  {
   "cell_type": "code",
   "execution_count": 40,
   "metadata": {},
   "outputs": [
    {
     "data": {
      "text/plain": [
       "'linear2 fit MSE: 0.000963'"
      ]
     },
     "execution_count": 40,
     "metadata": {},
     "output_type": "execute_result"
    }
   ],
   "source": [
    "'linear2 fit MSE: {:.6f}'.format(ols2_mse)"
   ]
  },
  {
   "cell_type": "code",
   "execution_count": 34,
   "metadata": {},
   "outputs": [
    {
     "data": {
      "text/plain": [
       "'Sigmoid fit MSE: 0.000529'"
      ]
     },
     "execution_count": 34,
     "metadata": {},
     "output_type": "execute_result"
    }
   ],
   "source": [
    "'Sigmoid fit MSE: {:.6f}'.format(sig_mes)"
   ]
  },
  {
   "cell_type": "code",
   "execution_count": 41,
   "metadata": {},
   "outputs": [
    {
     "data": {
      "text/plain": [
       "'Sigmoid fit reduce MSE by 45.04%'"
      ]
     },
     "execution_count": 41,
     "metadata": {},
     "output_type": "execute_result"
    }
   ],
   "source": [
    "'Sigmoid fit reduce MSE by {:.2%}'.format(1-sig_mes/ols2_mse)"
   ]
  },
  {
   "cell_type": "code",
   "execution_count": 35,
   "metadata": {},
   "outputs": [
    {
     "data": {
      "text/plain": [
       "'Sigmoid fit reduce MSE by 45.07%'"
      ]
     },
     "execution_count": 35,
     "metadata": {},
     "output_type": "execute_result"
    }
   ],
   "source": [
    "'Sigmoid fit reduce MSE by {:.2%}'.format(1-sig_mes/ols_mse)"
   ]
  },
  {
   "cell_type": "code",
   "execution_count": 36,
   "metadata": {},
   "outputs": [
    {
     "data": {
      "image/png": "[encoded data removed]",
      "text/plain": [
       "<Figure size 720x576 with 1 Axes>"
      ]
     },
     "metadata": {
      "needs_background": "light"
     },
     "output_type": "display_data"
    }
   ],
   "source": [
    "plt.figure(figsize=(10, 8))\n",
    "# plot data\n",
    "plt.plot(xdata, ydata, '+',c='#039be5',label='data')\n",
    "\n",
    "# plot linear fit\n",
    "plt.plot(xdata, np.array(ols.predict(X)), '-',c='#7b1fa2', label='linear fit')\n",
    "\n",
    "# plot sigmoid fit\n",
    "xdata_new = np.linspace(0, 1, 1000)\n",
    "plt.plot(xdata_new, sigmoid(xdata_new, *popt), 'r-', label='sigmoid fit')\n",
    "\n",
    "plt.hlines(y=0, xmin=0.0, xmax=1.0,\n",
    "           colors='black', linestyles='dashed', label = 'no effect')\n",
    "plt.legend(loc='best')\n",
    "plt.xlabel(\"Vote Propensity\")\n",
    "plt.ylabel(\"Individual Treatment Effect (ITE)\")\n",
    "\n",
    "plt.title('Illinois ITE by Vote Propensity (linear & sigmoid Fit)',\n",
    "          {'fontsize': 20,\n",
    "        'fontweight' : 5})\n",
    "plt.tight_layout()\n",
    "plt.savefig('NGA IL with both fit', dpi=800)\n",
    "plt.show()"
   ]
  },
  {
   "cell_type": "markdown",
   "metadata": {},
   "source": [
    "# Simulation"
   ]
  },
  {
   "cell_type": "code",
   "execution_count": 4,
   "metadata": {},
   "outputs": [],
   "source": [
    "learner_df = pd.read_csv('../../Machine Learing HTE/1_data/nga_il/NGA_IL_with_ITEs.csv')"
   ]
  },
  {
   "cell_type": "code",
   "execution_count": 5,
   "metadata": {
    "scrolled": false
   },
   "outputs": [
    {
     "data": {
      "text/html": [
       "<div>\n",
       "<style scoped>\n",
       "    .dataframe tbody tr th:only-of-type {\n",
       "        vertical-align: middle;\n",
       "    }\n",
       "\n",
       "    .dataframe tbody tr th {\n",
       "        vertical-align: top;\n",
       "    }\n",
       "\n",
       "    .dataframe thead th {\n",
       "        text-align: right;\n",
       "    }\n",
       "</style>\n",
       "<table border=\"1\" class=\"dataframe\">\n",
       "  <thead>\n",
       "    <tr style=\"text-align: right;\">\n",
       "      <th></th>\n",
       "      <th>Propensity</th>\n",
       "      <th>ITE</th>\n",
       "      <th>Treatment</th>\n",
       "      <th>Turnout</th>\n",
       "      <th>hh_id</th>\n",
       "      <th>Propensity Range</th>\n",
       "      <th>Propensity_square</th>\n",
       "    </tr>\n",
       "  </thead>\n",
       "  <tbody>\n",
       "    <tr>\n",
       "      <th>0</th>\n",
       "      <td>0.160607</td>\n",
       "      <td>-0.002783</td>\n",
       "      <td>1</td>\n",
       "      <td>0</td>\n",
       "      <td>61153.0</td>\n",
       "      <td>(0.1, 0.2]</td>\n",
       "      <td>0.025795</td>\n",
       "    </tr>\n",
       "    <tr>\n",
       "      <th>1</th>\n",
       "      <td>0.077664</td>\n",
       "      <td>0.012406</td>\n",
       "      <td>1</td>\n",
       "      <td>0</td>\n",
       "      <td>160473.0</td>\n",
       "      <td>(0.0, 0.1]</td>\n",
       "      <td>0.006032</td>\n",
       "    </tr>\n",
       "    <tr>\n",
       "      <th>2</th>\n",
       "      <td>1.000000</td>\n",
       "      <td>-0.474798</td>\n",
       "      <td>1</td>\n",
       "      <td>0</td>\n",
       "      <td>137591.0</td>\n",
       "      <td>(0.9, 1.0]</td>\n",
       "      <td>1.000000</td>\n",
       "    </tr>\n",
       "    <tr>\n",
       "      <th>3</th>\n",
       "      <td>0.138696</td>\n",
       "      <td>0.004291</td>\n",
       "      <td>0</td>\n",
       "      <td>1</td>\n",
       "      <td>11275.0</td>\n",
       "      <td>(0.1, 0.2]</td>\n",
       "      <td>0.019237</td>\n",
       "    </tr>\n",
       "    <tr>\n",
       "      <th>4</th>\n",
       "      <td>0.282955</td>\n",
       "      <td>-0.009993</td>\n",
       "      <td>1</td>\n",
       "      <td>0</td>\n",
       "      <td>52014.0</td>\n",
       "      <td>(0.2, 0.3]</td>\n",
       "      <td>0.080064</td>\n",
       "    </tr>\n",
       "  </tbody>\n",
       "</table>\n",
       "</div>"
      ],
      "text/plain": [
       "   Propensity       ITE  Treatment  Turnout     hh_id Propensity Range  \\\n",
       "0    0.160607 -0.002783          1        0   61153.0       (0.1, 0.2]   \n",
       "1    0.077664  0.012406          1        0  160473.0       (0.0, 0.1]   \n",
       "2    1.000000 -0.474798          1        0  137591.0       (0.9, 1.0]   \n",
       "3    0.138696  0.004291          0        1   11275.0       (0.1, 0.2]   \n",
       "4    0.282955 -0.009993          1        0   52014.0       (0.2, 0.3]   \n",
       "\n",
       "   Propensity_square  \n",
       "0           0.025795  \n",
       "1           0.006032  \n",
       "2           1.000000  \n",
       "3           0.019237  \n",
       "4           0.080064  "
      ]
     },
     "execution_count": 5,
     "metadata": {},
     "output_type": "execute_result"
    }
   ],
   "source": [
    "learner_df.head()"
   ]
  },
  {
   "cell_type": "code",
   "execution_count": 563,
   "metadata": {},
   "outputs": [],
   "source": [
    "sim = learner_df.sort_values('distance',ascending=False ).reset_index(drop=True)"
   ]
  },
  {
   "cell_type": "code",
   "execution_count": 6,
   "metadata": {},
   "outputs": [],
   "source": [
    "sim = learner_df.sort_values('Propensity').reset_index(drop=True)"
   ]
  },
  {
   "cell_type": "code",
   "execution_count": 8,
   "metadata": {
    "scrolled": false
   },
   "outputs": [
    {
     "data": {
      "text/html": [
       "<div>\n",
       "<style scoped>\n",
       "    .dataframe tbody tr th:only-of-type {\n",
       "        vertical-align: middle;\n",
       "    }\n",
       "\n",
       "    .dataframe tbody tr th {\n",
       "        vertical-align: top;\n",
       "    }\n",
       "\n",
       "    .dataframe thead th {\n",
       "        text-align: right;\n",
       "    }\n",
       "</style>\n",
       "<table border=\"1\" class=\"dataframe\">\n",
       "  <thead>\n",
       "    <tr style=\"text-align: right;\">\n",
       "      <th></th>\n",
       "      <th>Propensity</th>\n",
       "      <th>ITE</th>\n",
       "      <th>Treatment</th>\n",
       "      <th>Turnout</th>\n",
       "      <th>hh_id</th>\n",
       "      <th>Propensity Range</th>\n",
       "      <th>Propensity_square</th>\n",
       "    </tr>\n",
       "  </thead>\n",
       "  <tbody>\n",
       "    <tr>\n",
       "      <th>188481</th>\n",
       "      <td>1.0</td>\n",
       "      <td>-0.474798</td>\n",
       "      <td>1</td>\n",
       "      <td>1</td>\n",
       "      <td>18135.0</td>\n",
       "      <td>(0.9, 1.0]</td>\n",
       "      <td>1.0</td>\n",
       "    </tr>\n",
       "    <tr>\n",
       "      <th>188482</th>\n",
       "      <td>1.0</td>\n",
       "      <td>-0.474798</td>\n",
       "      <td>1</td>\n",
       "      <td>0</td>\n",
       "      <td>5476.0</td>\n",
       "      <td>(0.9, 1.0]</td>\n",
       "      <td>1.0</td>\n",
       "    </tr>\n",
       "    <tr>\n",
       "      <th>188483</th>\n",
       "      <td>1.0</td>\n",
       "      <td>-0.474798</td>\n",
       "      <td>1</td>\n",
       "      <td>0</td>\n",
       "      <td>137591.0</td>\n",
       "      <td>(0.9, 1.0]</td>\n",
       "      <td>1.0</td>\n",
       "    </tr>\n",
       "    <tr>\n",
       "      <th>188484</th>\n",
       "      <td>1.0</td>\n",
       "      <td>-0.474798</td>\n",
       "      <td>1</td>\n",
       "      <td>0</td>\n",
       "      <td>123580.0</td>\n",
       "      <td>(0.9, 1.0]</td>\n",
       "      <td>1.0</td>\n",
       "    </tr>\n",
       "    <tr>\n",
       "      <th>188485</th>\n",
       "      <td>1.0</td>\n",
       "      <td>-0.474798</td>\n",
       "      <td>1</td>\n",
       "      <td>1</td>\n",
       "      <td>152581.0</td>\n",
       "      <td>(0.9, 1.0]</td>\n",
       "      <td>1.0</td>\n",
       "    </tr>\n",
       "  </tbody>\n",
       "</table>\n",
       "</div>"
      ],
      "text/plain": [
       "        Propensity       ITE  Treatment  Turnout     hh_id Propensity Range  \\\n",
       "188481         1.0 -0.474798          1        1   18135.0       (0.9, 1.0]   \n",
       "188482         1.0 -0.474798          1        0    5476.0       (0.9, 1.0]   \n",
       "188483         1.0 -0.474798          1        0  137591.0       (0.9, 1.0]   \n",
       "188484         1.0 -0.474798          1        0  123580.0       (0.9, 1.0]   \n",
       "188485         1.0 -0.474798          1        1  152581.0       (0.9, 1.0]   \n",
       "\n",
       "        Propensity_square  \n",
       "188481                1.0  \n",
       "188482                1.0  \n",
       "188483                1.0  \n",
       "188484                1.0  \n",
       "188485                1.0  "
      ]
     },
     "execution_count": 8,
     "metadata": {},
     "output_type": "execute_result"
    }
   ],
   "source": [
    "sim.tail()"
   ]
  },
  {
   "cell_type": "code",
   "execution_count": 9,
   "metadata": {
    "scrolled": false
   },
   "outputs": [
    {
     "data": {
      "text/plain": [
       "1    94257\n",
       "0    94229\n",
       "Name: Treatment, dtype: int64"
      ]
     },
     "execution_count": 9,
     "metadata": {},
     "output_type": "execute_result"
    }
   ],
   "source": [
    "sim.Treatment.value_counts()"
   ]
  },
  {
   "cell_type": "code",
   "execution_count": 10,
   "metadata": {},
   "outputs": [],
   "source": [
    "sim.loc[0:94257,'sim_treat'] = 1"
   ]
  },
  {
   "cell_type": "code",
   "execution_count": 11,
   "metadata": {},
   "outputs": [],
   "source": [
    "sim.loc[94257:,'sim_treat'] = 0"
   ]
  },
  {
   "cell_type": "code",
   "execution_count": 570,
   "metadata": {},
   "outputs": [],
   "source": [
    "sim['sim_result'] = sim.Propensity+sim.sim_treat*sim.ITE"
   ]
  },
  {
   "cell_type": "code",
   "execution_count": 571,
   "metadata": {},
   "outputs": [],
   "source": [
    "sim['result'] = sim.Propensity+sim.Treatment*sim.ITE"
   ]
  },
  {
   "cell_type": "code",
   "execution_count": 587,
   "metadata": {},
   "outputs": [
    {
     "data": {
      "text/html": [
       "<div>\n",
       "<style scoped>\n",
       "    .dataframe tbody tr th:only-of-type {\n",
       "        vertical-align: middle;\n",
       "    }\n",
       "\n",
       "    .dataframe tbody tr th {\n",
       "        vertical-align: top;\n",
       "    }\n",
       "\n",
       "    .dataframe thead th {\n",
       "        text-align: right;\n",
       "    }\n",
       "</style>\n",
       "<table border=\"1\" class=\"dataframe\">\n",
       "  <thead>\n",
       "    <tr style=\"text-align: right;\">\n",
       "      <th>col_0</th>\n",
       "      <th>0</th>\n",
       "      <th>1</th>\n",
       "    </tr>\n",
       "    <tr>\n",
       "      <th>Turnout</th>\n",
       "      <th></th>\n",
       "      <th></th>\n",
       "    </tr>\n",
       "  </thead>\n",
       "  <tbody>\n",
       "    <tr>\n",
       "      <th>0</th>\n",
       "      <td>94775</td>\n",
       "      <td>32681</td>\n",
       "    </tr>\n",
       "    <tr>\n",
       "      <th>1</th>\n",
       "      <td>22792</td>\n",
       "      <td>38238</td>\n",
       "    </tr>\n",
       "  </tbody>\n",
       "</table>\n",
       "</div>"
      ],
      "text/plain": [
       "col_0        0      1\n",
       "Turnout              \n",
       "0        94775  32681\n",
       "1        22792  38238"
      ]
     },
     "execution_count": 587,
     "metadata": {},
     "output_type": "execute_result"
    }
   ],
   "source": [
    "pd.crosstab(sim.Turnout, np.where(sim['result']>0.3,1,0))"
   ]
  },
  {
   "cell_type": "code",
   "execution_count": 538,
   "metadata": {
    "scrolled": false
   },
   "outputs": [
    {
     "data": {
      "text/html": [
       "<div>\n",
       "<style scoped>\n",
       "    .dataframe tbody tr th:only-of-type {\n",
       "        vertical-align: middle;\n",
       "    }\n",
       "\n",
       "    .dataframe tbody tr th {\n",
       "        vertical-align: top;\n",
       "    }\n",
       "\n",
       "    .dataframe thead th {\n",
       "        text-align: right;\n",
       "    }\n",
       "</style>\n",
       "<table border=\"1\" class=\"dataframe\">\n",
       "  <thead>\n",
       "    <tr style=\"text-align: right;\">\n",
       "      <th>col_0</th>\n",
       "      <th>0</th>\n",
       "      <th>1</th>\n",
       "    </tr>\n",
       "    <tr>\n",
       "      <th>Turnout</th>\n",
       "      <th></th>\n",
       "      <th></th>\n",
       "    </tr>\n",
       "  </thead>\n",
       "  <tbody>\n",
       "    <tr>\n",
       "      <th>0</th>\n",
       "      <td>109981</td>\n",
       "      <td>17475</td>\n",
       "    </tr>\n",
       "    <tr>\n",
       "      <th>1</th>\n",
       "      <td>30915</td>\n",
       "      <td>30115</td>\n",
       "    </tr>\n",
       "  </tbody>\n",
       "</table>\n",
       "</div>"
      ],
      "text/plain": [
       "col_0         0      1\n",
       "Turnout               \n",
       "0        109981  17475\n",
       "1         30915  30115"
      ]
     },
     "execution_count": 538,
     "metadata": {},
     "output_type": "execute_result"
    }
   ],
   "source": [
    "pd.crosstab(sim.Turnout, np.where(sim['result']>0.4,1,0))"
   ]
  },
  {
   "cell_type": "code",
   "execution_count": 12,
   "metadata": {},
   "outputs": [],
   "source": [
    "X = sim[['sim_treat']]\n",
    "\n",
    "X = sm.add_constant(X)\n",
    "\n",
    "y =  sim['ITE']"
   ]
  },
  {
   "cell_type": "code",
   "execution_count": 13,
   "metadata": {},
   "outputs": [],
   "source": [
    "sm_az = sm.OLS(y, X).fit(cov_type='cluster', cov_kwds={'groups': sim['hh_id']})"
   ]
  },
  {
   "cell_type": "code",
   "execution_count": 14,
   "metadata": {},
   "outputs": [],
   "source": [
    "X = sim[['Treatment']]\n",
    "\n",
    "X = sm.add_constant(X)\n",
    "\n",
    "y =  sim['ITE']\n"
   ]
  },
  {
   "cell_type": "code",
   "execution_count": 15,
   "metadata": {},
   "outputs": [],
   "source": [
    "ite_il = sm.OLS(y, X).fit(cov_type='cluster', cov_kwds={'groups': sim['hh_id']})"
   ]
  },
  {
   "cell_type": "code",
   "execution_count": 18,
   "metadata": {},
   "outputs": [],
   "source": [
    "# display and export regression table\n",
    "from stargazer.stargazer import Stargazer\n",
    "from IPython.core.display import HTML\n",
    "from IPython.display import Latex"
   ]
  },
  {
   "cell_type": "code",
   "execution_count": 33,
   "metadata": {},
   "outputs": [
    {
     "data": {
      "text/html": [
       "ITE vs Simulation (NextGen Climate)<br><table style=\"text-align:center\"><tr><td colspan=\"3\" style=\"border-bottom: 1px solid black\"></td></tr><tr><td style=\"text-align:left\"></td><td colspan=\"2\"><em>Dependent variable:</em></td></tr><tr><td style=\"text-align:left\"></td><tr><td colspan=\"1\">Treatment Assignment</td><td colspan=\"1\">Optimized</td></tr><tr><td colspan=\"3\" style=\"border-bottom: 1px solid black\"></td></tr><tr><td style=\"text-align:left\">Intercept</td><td>0.0024<sup>***</sup></td><td>-0.0025<sup>***</sup></td></tr><tr><td style=\"text-align:left\"></td><td>(0.0001)</td><td>(0.0001)</td></tr><tr><td style=\"text-align:left\">Treatment</td><td>-0.0002<sup></sup></td><td></td></tr><tr><td style=\"text-align:left\"></td><td>(0.0002)</td><td></td></tr><tr><td style=\"text-align:left\">Optimized Alloaction</td><td></td><td>0.0097<sup>***</sup></td></tr><tr><td style=\"text-align:left\"></td><td></td><td>(0.0001)</td></tr><td colspan=\"3\" style=\"border-bottom: 1px solid black\"></td></tr><tr><td style=\"text-align: left\">Observations</td><td>188486.0</td><td>188486.0</td></tr><tr><td style=\"text-align: left\">R<sup>2</sup></td><td>0.0</td><td>0.0222</td></tr><tr><td style=\"text-align: left\">Adjusted R<sup>2</sup></td><td>0.0</td><td>0.0222</td></tr><tr><td style=\"text-align: left\">Residual Std. Error</td><td>0.0324(df = 188484.0)</td><td>0.0321(df = 188484.0)</td></tr><tr><td style=\"text-align: left\">F Statistic</td><td>[[1.0515]]<sup></sup>(df = 1.0; 188484.0)</td><td>[[4172.3655]]<sup>***</sup>(df = 1.0; 188484.0)</td></tr><tr><td colspan=\"3\" style=\"border-bottom: 1px solid black\"></td></tr><tr><td style=\"text-align: left\">Note:</td><td colspan=\"2\" style=\"text-align: right\"><em>p&lt;0.1</em>; <b>p&lt;0.05</b>; p&lt;0.01</td></tr></table>"
      ],
      "text/plain": [
       "<IPython.core.display.HTML object>"
      ]
     },
     "execution_count": 33,
     "metadata": {},
     "output_type": "execute_result"
    }
   ],
   "source": [
    "stargazer = Stargazer([ite_il,sm_az])\n",
    "stargazer.significant_digits(4)\n",
    "stargazer.title('ITE vs Simulation (NextGen Climate)')\n",
    "stargazer.covariate_order(['const',  'Treatment','sim_treat'])\n",
    "\n",
    "stargazer.rename_covariates({'const': 'Intercept',\n",
    "                            'sim_treat': 'Optimized Alloaction'})\n",
    "\n",
    "\n",
    "stargazer.custom_columns(['Treatment Assignment', 'Optimized'], [1,1])\n",
    "HTML(stargazer.render_html())"
   ]
  },
  {
   "cell_type": "code",
   "execution_count": 34,
   "metadata": {
    "scrolled": false
   },
   "outputs": [
    {
     "data": {
      "text/latex": [
       "\\begin{table}[!htbp] \\centering\n",
       "  \\caption{ITE vs Simulation (NextGen Climate)}\n",
       "  \\label{}\n",
       "\\begin{tabular}{@{\\extracolsep{5pt}}lcc}\n",
       "\\\\[-1.8ex]\\hline\n",
       "\\hline \\\\[-1.8ex]\n",
       "& \\multicolumn{2}{c}{\\textit{Dependent variable:}} \\\n",
       "\\cr \\cline{2-3}\n",
       "\\\\[-1.8ex] & \\multicolumn{1}{c}{Treatment Assignment} & \\multicolumn{1}{c}{Optimized}  \\\\\n",
       "\\hline \\\\[-1.8ex]\n",
       " Intercept & 0.0024$^{***}$ & -0.0025$^{***}$ \\\\\n",
       "  & (0.0001) & (0.0001) \\\\\n",
       "  & & \\\\\n",
       " Treatment & -0.0002$^{}$ & \\\\\n",
       "  & (0.0002) & \\\\\n",
       "  & & \\\\\n",
       " Optimized Alloaction & & 0.0097$^{***}$ \\\\\n",
       "  & & (0.0001) \\\\\n",
       "  & & \\\\\n",
       "\\hline \\\\[-1.8ex]\n",
       " Observations & 188486.0 & 188486.0 \\\\\n",
       " R${2}$ & 0.0 & 0.0222 \\\\\n",
       " Adjusted R${2}$ & 0.0 & 0.0222 \\\\\n",
       " Residual Std. Error & 0.0324(df = 188484.0) & 0.0321(df = 188484.0)  \\\\\n",
       " F Statistic & [[1.0515]]$^{}$ (df = 1.0; 188484.0) & [[4172.3655]]$^{***}$ (df = 1.0; 188484.0) \\\\\n",
       "\\hline\n",
       "\\hline \\\\[-1.8ex]\n",
       "\\textit{Note:} & \\multicolumn{2}{r}{$^{*}$p$<$0.1; $^{**}$p$<$0.05; $^{***}$p$<$0.01} \\\\\n",
       "\\end{tabular}\n",
       "\\end{table}"
      ],
      "text/plain": [
       "<IPython.core.display.Latex object>"
      ]
     },
     "execution_count": 34,
     "metadata": {},
     "output_type": "execute_result"
    }
   ],
   "source": [
    "Latex(stargazer.render_latex())"
   ]
  },
  {
   "cell_type": "code",
   "execution_count": null,
   "metadata": {},
   "outputs": [],
   "source": [
    "result = learner_df.Propensity+learner_df.Propensity"
   ]
  },
  {
   "cell_type": "code",
   "execution_count": 94,
   "metadata": {},
   "outputs": [
    {
     "data": {
      "text/plain": [
       "Index(['Propensity', 'ITE', 'Treatment', 'Turnout', 'hh_id',\n",
       "       'Propensity Range', 'Propensity_square'],\n",
       "      dtype='object')"
      ]
     },
     "execution_count": 94,
     "metadata": {},
     "output_type": "execute_result"
    }
   ],
   "source": [
    "learner_df.columns"
   ]
  }
 ],
 "metadata": {
  "kernelspec": {
   "display_name": "Python 3",
   "language": "python",
   "name": "python3"
  },
  "language_info": {
   "codemirror_mode": {
    "name": "ipython",
    "version": 3
   },
   "file_extension": ".py",
   "mimetype": "text/x-python",
   "name": "python",
   "nbconvert_exporter": "python",
   "pygments_lexer": "ipython3",
   "version": "3.7.3"
  }
 },
 "nbformat": 4,
 "nbformat_minor": 2
}
