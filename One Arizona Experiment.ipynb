{
 "cells": [
  {
   "cell_type": "markdown",
   "metadata": {},
   "source": [
    "# One Arizona "
   ]
  },
  {
   "cell_type": "markdown",
   "metadata": {},
   "source": [
    "|   About the script    |                                         |\n",
    "| ----------- | --------------------------------------- |\n",
    "| Last update | Dec 4 2019                            |\n",
    "| Experiment  | One Arizona                                 |\n",
    "| Dataset     | csv file convert from full_results_file.dta using STATA |"
   ]
  },
  {
   "cell_type": "markdown",
   "metadata": {},
   "source": [
    "\n",
    "| Covariates Used   |      |\n",
    "| ----------- | --------------------------------------- |\n",
    "| Vote History| general, middle, party elections (2000 to 2014) |\n",
    "| Vote Propensity | predicted by logit regression using voting history |"
   ]
  },
  {
   "cell_type": "code",
   "execution_count": 2,
   "metadata": {},
   "outputs": [],
   "source": [
    "# load libraries\n",
    "\n",
    "# data cleaning and reshape\n",
    "import pandas as pd\n",
    "import numpy as np\n",
    "\n",
    "# caculate standard error\n",
    "from scipy.stats import sem\n",
    "\n",
    "# regression\n",
    "import statsmodels.api as sm\n",
    "# regression use formualar\n",
    "import statsmodels.formula.api as smf\n",
    "# regression with clustered standard error\n",
    "import econtools.metrics as mt\n",
    "\n",
    "# plot display\n",
    "%matplotlib inline\n",
    "import seaborn as sns\n",
    "import matplotlib.pyplot as plt\n",
    "\n",
    "# supress warning inline\n",
    "import warnings\n",
    "warnings.filterwarnings('ignore')\n",
    "\n",
    "# display and export regression table\n",
    "from stargazer.stargazer import Stargazer\n",
    "# display latex and html table\n",
    "from IPython.display import Latex\n",
    "from IPython.display import HTML"
   ]
  },
  {
   "cell_type": "code",
   "execution_count": 14,
   "metadata": {},
   "outputs": [],
   "source": [
    "# set random seed to ensure the following code and result is replicable\n",
    "np.random.seed(2019)"
   ]
  },
  {
   "cell_type": "code",
   "execution_count": 62,
   "metadata": {
    "scrolled": false
   },
   "outputs": [],
   "source": [
    "df=pd.read_csv('../../Machine Learing HTE/1_data/az_one/az_one_full.csv',encoding='latin1')"
   ]
  },
  {
   "cell_type": "code",
   "execution_count": 63,
   "metadata": {},
   "outputs": [
    {
     "data": {
      "text/plain": [
       "(250629, 83)"
      ]
     },
     "execution_count": 63,
     "metadata": {},
     "output_type": "execute_result"
    }
   ],
   "source": [
    "df.shape"
   ]
  },
  {
   "cell_type": "code",
   "execution_count": 64,
   "metadata": {},
   "outputs": [
    {
     "data": {
      "text/plain": [
       "Index(['uniqueid', 'vanid', 'dwid', 'address', 'city', 'state', 'zip',\n",
       "       'lastname', 'firstname', 'middlename', 'suffix', 'phonenumber',\n",
       "       'countyname', 'precinctname', 'regdate', 'newreg', 'pevlflag', 'hh_id',\n",
       "       'hh_size', 'treat_ind', 'ExpGroup', 'missing', 'vf_g2016', 'vf_g2014',\n",
       "       'vf_g2012', 'vf_g2010', 'vf_g2008', 'vf_g2006', 'vf_g2004', 'vf_g2002',\n",
       "       'vf_g2000', 'vf_p2014', 'vf_p2014_party', 'vf_p2012', 'vf_p2012_party',\n",
       "       'vf_p2010', 'vf_p2010_party', 'vf_p2008', 'vf_p2008_party', 'vf_p2006',\n",
       "       'vf_p2006_party', 'vf_p2004', 'vf_p2004_party', 'vf_p2002',\n",
       "       'vf_p2002_party', 'vf_p2000', 'vf_p2000_party', 'vf_m2015', 'vf_m2013',\n",
       "       'vf_m2012', 'vf_m2011', 'vf_m2010', 'vf_m2009', 'vf_m2007', 'vf_pp2016',\n",
       "       'vf_pp2016_party', 'vf_pp2012', 'vf_pp2008', 'vf_pp2008_party',\n",
       "       'vf_pp2004', 'vf_pp2000', 'univ', 'message_time1GOTV',\n",
       "       'message_text1GOTV', 'group_implementedGOTV', 'message_time1exp',\n",
       "       'message_text1exp', 'group_implemented_msgsexp',\n",
       "       'group_implemented_shortexp', 'group_implementedexp', 'hustleid',\n",
       "       '_text_log_merge', 'expgroup', 'leadsphonenumber', 'messagescount',\n",
       "       'messagerepliescountrepliedtomess', '_text_history_merge', 'phonetype',\n",
       "       '_phone_type_merge', 'treat_any_txt', 'prompt', 'qmark_in_text',\n",
       "       'got_any_text'],\n",
       "      dtype='object')"
      ]
     },
     "execution_count": 64,
     "metadata": {},
     "output_type": "execute_result"
    }
   ],
   "source": [
    "df.columns"
   ]
  },
  {
   "cell_type": "markdown",
   "metadata": {},
   "source": [
    "## Calculate probability of assignment under cluster and block assignment"
   ]
  },
  {
   "cell_type": "markdown",
   "metadata": {},
   "source": [
    "According to the assignment file '1_hustle_randomize.do', the researcher blocked three variables: `hh_size`, `newreg`, `pevlflag`."
   ]
  },
  {
   "cell_type": "code",
   "execution_count": 65,
   "metadata": {},
   "outputs": [],
   "source": [
    "# create block id\n",
    "df['block'] = df[['hh_size', 'newreg', 'pevlflag']].\\\n",
    "replace([np.nan], ['N']).\\\n",
    "reset_index(drop=True).groupby(['hh_size', 'newreg', 'pevlflag']).ngroup()"
   ]
  },
  {
   "cell_type": "code",
   "execution_count": 66,
   "metadata": {},
   "outputs": [
    {
     "data": {
      "text/html": [
       "<div>\n",
       "<style scoped>\n",
       "    .dataframe tbody tr th:only-of-type {\n",
       "        vertical-align: middle;\n",
       "    }\n",
       "\n",
       "    .dataframe tbody tr th {\n",
       "        vertical-align: top;\n",
       "    }\n",
       "\n",
       "    .dataframe thead th {\n",
       "        text-align: right;\n",
       "    }\n",
       "</style>\n",
       "<table border=\"1\" class=\"dataframe\">\n",
       "  <thead>\n",
       "    <tr style=\"text-align: right;\">\n",
       "      <th></th>\n",
       "      <th>block</th>\n",
       "      <th>prob</th>\n",
       "      <th>n</th>\n",
       "    </tr>\n",
       "  </thead>\n",
       "  <tbody>\n",
       "    <tr>\n",
       "      <th>0</th>\n",
       "      <td>0</td>\n",
       "      <td>0.818835</td>\n",
       "      <td>48707</td>\n",
       "    </tr>\n",
       "    <tr>\n",
       "      <th>1</th>\n",
       "      <td>1</td>\n",
       "      <td>0.819374</td>\n",
       "      <td>77010</td>\n",
       "    </tr>\n",
       "    <tr>\n",
       "      <th>2</th>\n",
       "      <td>2</td>\n",
       "      <td>0.818395</td>\n",
       "      <td>27257</td>\n",
       "    </tr>\n",
       "    <tr>\n",
       "      <th>3</th>\n",
       "      <td>3</td>\n",
       "      <td>0.819830</td>\n",
       "      <td>51407</td>\n",
       "    </tr>\n",
       "    <tr>\n",
       "      <th>4</th>\n",
       "      <td>4</td>\n",
       "      <td>0.819709</td>\n",
       "      <td>8352</td>\n",
       "    </tr>\n",
       "    <tr>\n",
       "      <th>5</th>\n",
       "      <td>5</td>\n",
       "      <td>0.818713</td>\n",
       "      <td>14234</td>\n",
       "    </tr>\n",
       "    <tr>\n",
       "      <th>6</th>\n",
       "      <td>6</td>\n",
       "      <td>0.820676</td>\n",
       "      <td>5211</td>\n",
       "    </tr>\n",
       "    <tr>\n",
       "      <th>7</th>\n",
       "      <td>7</td>\n",
       "      <td>0.821026</td>\n",
       "      <td>10497</td>\n",
       "    </tr>\n",
       "    <tr>\n",
       "      <th>8</th>\n",
       "      <td>8</td>\n",
       "      <td>0.823678</td>\n",
       "      <td>1176</td>\n",
       "    </tr>\n",
       "    <tr>\n",
       "      <th>9</th>\n",
       "      <td>9</td>\n",
       "      <td>0.810562</td>\n",
       "      <td>1920</td>\n",
       "    </tr>\n",
       "    <tr>\n",
       "      <th>10</th>\n",
       "      <td>10</td>\n",
       "      <td>0.824281</td>\n",
       "      <td>822</td>\n",
       "    </tr>\n",
       "    <tr>\n",
       "      <th>11</th>\n",
       "      <td>11</td>\n",
       "      <td>0.812727</td>\n",
       "      <td>1695</td>\n",
       "    </tr>\n",
       "    <tr>\n",
       "      <th>12</th>\n",
       "      <td>12</td>\n",
       "      <td>0.804734</td>\n",
       "      <td>305</td>\n",
       "    </tr>\n",
       "    <tr>\n",
       "      <th>13</th>\n",
       "      <td>13</td>\n",
       "      <td>0.833333</td>\n",
       "      <td>355</td>\n",
       "    </tr>\n",
       "    <tr>\n",
       "      <th>14</th>\n",
       "      <td>14</td>\n",
       "      <td>0.832117</td>\n",
       "      <td>193</td>\n",
       "    </tr>\n",
       "    <tr>\n",
       "      <th>15</th>\n",
       "      <td>15</td>\n",
       "      <td>0.808696</td>\n",
       "      <td>448</td>\n",
       "    </tr>\n",
       "    <tr>\n",
       "      <th>16</th>\n",
       "      <td>16</td>\n",
       "      <td>0.837838</td>\n",
       "      <td>150</td>\n",
       "    </tr>\n",
       "    <tr>\n",
       "      <th>17</th>\n",
       "      <td>17</td>\n",
       "      <td>0.783333</td>\n",
       "      <td>107</td>\n",
       "    </tr>\n",
       "    <tr>\n",
       "      <th>18</th>\n",
       "      <td>18</td>\n",
       "      <td>0.820513</td>\n",
       "      <td>127</td>\n",
       "    </tr>\n",
       "    <tr>\n",
       "      <th>19</th>\n",
       "      <td>19</td>\n",
       "      <td>0.862745</td>\n",
       "      <td>238</td>\n",
       "    </tr>\n",
       "    <tr>\n",
       "      <th>20</th>\n",
       "      <td>20</td>\n",
       "      <td>0.809524</td>\n",
       "      <td>91</td>\n",
       "    </tr>\n",
       "    <tr>\n",
       "      <th>21</th>\n",
       "      <td>21</td>\n",
       "      <td>0.850000</td>\n",
       "      <td>62</td>\n",
       "    </tr>\n",
       "    <tr>\n",
       "      <th>22</th>\n",
       "      <td>22</td>\n",
       "      <td>0.836735</td>\n",
       "      <td>82</td>\n",
       "    </tr>\n",
       "    <tr>\n",
       "      <th>23</th>\n",
       "      <td>23</td>\n",
       "      <td>0.873016</td>\n",
       "      <td>183</td>\n",
       "    </tr>\n",
       "  </tbody>\n",
       "</table>\n",
       "</div>"
      ],
      "text/plain": [
       "    block      prob      n\n",
       "0       0  0.818835  48707\n",
       "1       1  0.819374  77010\n",
       "2       2  0.818395  27257\n",
       "3       3  0.819830  51407\n",
       "4       4  0.819709   8352\n",
       "5       5  0.818713  14234\n",
       "6       6  0.820676   5211\n",
       "7       7  0.821026  10497\n",
       "8       8  0.823678   1176\n",
       "9       9  0.810562   1920\n",
       "10     10  0.824281    822\n",
       "11     11  0.812727   1695\n",
       "12     12  0.804734    305\n",
       "13     13  0.833333    355\n",
       "14     14  0.832117    193\n",
       "15     15  0.808696    448\n",
       "16     16  0.837838    150\n",
       "17     17  0.783333    107\n",
       "18     18  0.820513    127\n",
       "19     19  0.862745    238\n",
       "20     20  0.809524     91\n",
       "21     21  0.850000     62\n",
       "22     22  0.836735     82\n",
       "23     23  0.873016    183"
      ]
     },
     "execution_count": 66,
     "metadata": {},
     "output_type": "execute_result"
    }
   ],
   "source": [
    "# calculate probability of being assigned to text massaging\n",
    "df[['treat_any_txt','hh_id','block']].\\\n",
    "    drop_duplicates().groupby(by = ['block']).\\\n",
    "    treat_any_txt.agg([('prob','mean')]).\\\n",
    "merge( df[['treat_any_txt','hh_id','block']].groupby('block').treat_any_txt.agg([('n', 'size')]),\n",
    "      left_index=True, \n",
    "      right_index=True).reset_index()"
   ]
  },
  {
   "cell_type": "code",
   "execution_count": 67,
   "metadata": {},
   "outputs": [],
   "source": [
    "# merge the probability to dataset\n",
    "df['prob'] = df[['block']].\\\n",
    "merge( \n",
    "    df[['treat_any_txt','hh_id','block']].\\\n",
    "    drop_duplicates().groupby(by = ['block']).\\\n",
    "    treat_any_txt.agg([('prob','mean')]).reset_index(),\n",
    "                   how='left',\n",
    "                   on='block').prob"
   ]
  },
  {
   "cell_type": "code",
   "execution_count": 68,
   "metadata": {},
   "outputs": [],
   "source": [
    "# the inverse probability weight (ipw) for each individual\n",
    "df['ipw'] = 1/df['prob']"
   ]
  },
  {
   "cell_type": "code",
   "execution_count": 69,
   "metadata": {},
   "outputs": [
    {
     "data": {
      "image/png": "[encoded data removed]",
      "text/plain": [
       "<Figure size 648x432 with 1 Axes>"
      ]
     },
     "metadata": {
      "needs_background": "light"
     },
     "output_type": "display_data"
    }
   ],
   "source": [
    "# histogram od inverse probability weight\n",
    "plt.figure(figsize=(9,6))\n",
    "ax = plt.hist(df.ipw)\n",
    "plt.title('inverse probability weight')\n",
    "plt.show(ax)"
   ]
  },
  {
   "cell_type": "markdown",
   "metadata": {},
   "source": [
    "## Intervention Description"
   ]
  },
  {
   "cell_type": "markdown",
   "metadata": {},
   "source": [
    "One Arizona identified 250,629 voters it was prepared to text as part of the experiment who had mobile phone numbers.  "
   ]
  },
  {
   "cell_type": "code",
   "execution_count": 70,
   "metadata": {
    "scrolled": true
   },
   "outputs": [
    {
     "data": {
      "text/plain": [
       "(250629, 86)"
      ]
     },
     "execution_count": 70,
     "metadata": {},
     "output_type": "execute_result"
    }
   ],
   "source": [
    "# Dimension of Data\n",
    "df.shape"
   ]
  },
  {
   "cell_type": "code",
   "execution_count": 6,
   "metadata": {},
   "outputs": [],
   "source": [
    "def p_latex(x, cap):\n",
    "    latex_string = '\\\\begin{table}[ht]\\\\centering\\n\\\\caption{' + cap +'}\\n'  \n",
    "    latex_string = latex_string+x.to_latex().\\\n",
    "    replace('\\\\toprule','\\\\hline\\\\hline\\\\\\\\[-1em]').\\\n",
    "    replace('\\\\bottomrule', '\\\\hline \\\\hline') +'\\\\end{table}'\n",
    "    return Latex(latex_string)"
   ]
  },
  {
   "cell_type": "code",
   "execution_count": 72,
   "metadata": {
    "scrolled": false
   },
   "outputs": [],
   "source": [
    "# description of assignment and compliance\n",
    "def f(x):\n",
    "    d = {}\n",
    "    d['Group Size'] = x['got_any_text'].count()\n",
    "    d['Compliance Rate'] = ((x['treat_any_txt']==x['got_any_text']).sum())/x['got_any_text'].count()\n",
    "    d['Proportion to Subject Pool'] =  x['got_any_text'].count()/df.shape[0] \n",
    "\n",
    "    return pd.Series(d, index=[ 'Group Size',\n",
    "                               'Compliance Rate',\n",
    "                               'Proportion to Subject Pool'])"
   ]
  },
  {
   "cell_type": "markdown",
   "metadata": {},
   "source": [
    "**Document report**:\n",
    "\n",
    "One Arizona was randomly assigned to text 205,358 a Get Out The Vote message using Hustle. Of these target voters, 200,442 were successfully sent a message as part of the program (some numbers were invalid). Thus, the “compliance rate” is 20,0442 / 205,358 = 97.6%."
   ]
  },
  {
   "cell_type": "code",
   "execution_count": 73,
   "metadata": {
    "scrolled": true
   },
   "outputs": [
    {
     "data": {
      "text/html": [
       "<div>\n",
       "<style scoped>\n",
       "    .dataframe tbody tr th:only-of-type {\n",
       "        vertical-align: middle;\n",
       "    }\n",
       "\n",
       "    .dataframe tbody tr th {\n",
       "        vertical-align: top;\n",
       "    }\n",
       "\n",
       "    .dataframe thead th {\n",
       "        text-align: right;\n",
       "    }\n",
       "</style>\n",
       "<table border=\"1\" class=\"dataframe\">\n",
       "  <thead>\n",
       "    <tr style=\"text-align: right;\">\n",
       "      <th></th>\n",
       "      <th>Group Size</th>\n",
       "      <th>Compliance Rate</th>\n",
       "      <th>Proportion to Subject Pool</th>\n",
       "    </tr>\n",
       "    <tr>\n",
       "      <th>Assignment</th>\n",
       "      <th></th>\n",
       "      <th></th>\n",
       "      <th></th>\n",
       "    </tr>\n",
       "  </thead>\n",
       "  <tbody>\n",
       "    <tr>\n",
       "      <th>control</th>\n",
       "      <td>45271.0</td>\n",
       "      <td>1.000000</td>\n",
       "      <td>0.18063</td>\n",
       "    </tr>\n",
       "    <tr>\n",
       "      <th>treatment</th>\n",
       "      <td>205358.0</td>\n",
       "      <td>0.976061</td>\n",
       "      <td>0.81937</td>\n",
       "    </tr>\n",
       "  </tbody>\n",
       "</table>\n",
       "</div>"
      ],
      "text/plain": [
       "            Group Size  Compliance Rate  Proportion to Subject Pool\n",
       "Assignment                                                         \n",
       "control        45271.0         1.000000                     0.18063\n",
       "treatment     205358.0         0.976061                     0.81937"
      ]
     },
     "execution_count": 73,
     "metadata": {},
     "output_type": "execute_result"
    }
   ],
   "source": [
    "df[['treat_any_txt',\n",
    "    'got_any_text',\n",
    "   'vf_g2016']].groupby('treat_any_txt').apply(f).rename_axis(\"Assignment\").rename(index={0: 'control',\n",
    "                                                                                         1: 'treatment'})"
   ]
  },
  {
   "cell_type": "code",
   "execution_count": 74,
   "metadata": {},
   "outputs": [],
   "source": [
    "to_p = df[['treat_any_txt',\n",
    "    'got_any_text',\n",
    "   'vf_g2016']].groupby('treat_any_txt').apply(f).rename_axis(\"Assignment\").rename(index={0: 'control',\n",
    "                                                                                         1: 'treatment'})"
   ]
  },
  {
   "cell_type": "code",
   "execution_count": 75,
   "metadata": {
    "scrolled": false
   },
   "outputs": [
    {
     "data": {
      "text/latex": [
       "\\begin{table}[ht]\\centering\n",
       "\\caption{Non-compliance in One Arizona}\n",
       "\\begin{tabular}{lrrr}\n",
       "\\hline\\hline\\\\[-1em]\n",
       "{} &  Group Size &  Compliance Rate &  Proportion to Subject Pool \\\\\n",
       "Assignment &             &                  &                             \\\\\n",
       "\\midrule\n",
       "control    &     45271.0 &         1.000000 &                     0.18063 \\\\\n",
       "treatment  &    205358.0 &         0.976061 &                     0.81937 \\\\\n",
       "\\hline \\hline\n",
       "\\end{tabular}\n",
       "\\end{table}"
      ],
      "text/plain": [
       "<IPython.core.display.Latex object>"
      ]
     },
     "execution_count": 75,
     "metadata": {},
     "output_type": "execute_result"
    }
   ],
   "source": [
    "p_latex(to_p, 'Non-compliance in One Arizona')"
   ]
  },
  {
   "cell_type": "code",
   "execution_count": 76,
   "metadata": {},
   "outputs": [
    {
     "data": {
      "text/plain": [
       "23631"
      ]
     },
     "execution_count": 76,
     "metadata": {},
     "output_type": "execute_result"
    }
   ],
   "source": [
    "df.vf_g2016.isna().sum()"
   ]
  },
  {
   "cell_type": "code",
   "execution_count": 77,
   "metadata": {},
   "outputs": [],
   "source": [
    "# outcome missing by assignemnt and compliance\n",
    "def f(x):\n",
    "    d = {}\n",
    "    d['Assignment Group'] =  x['got_any_text'].count()\n",
    "    d['Outcome Missing'] =  (x['vf_g2016'].isna()).sum()\n",
    "    d['Outcome Missing Complaints'] = (pd.isnull(x['vf_g2016']) & (x['treat_any_txt']==x['got_any_text'])).sum()\n",
    "    d['Outcome Available Complaints'] = ((pd.isnull(x['vf_g2016'])==False) & (x['treat_any_txt']==x['got_any_text'])).sum()\n",
    "\n",
    "    return pd.Series(d, index=[ 'Assignment Group',\n",
    "                               'Outcome Missing',\n",
    "                               'Outcome Missing Complaints',\n",
    "                               'Outcome Available Complaints'])"
   ]
  },
  {
   "cell_type": "code",
   "execution_count": 78,
   "metadata": {},
   "outputs": [
    {
     "data": {
      "text/html": [
       "<div>\n",
       "<style scoped>\n",
       "    .dataframe tbody tr th:only-of-type {\n",
       "        vertical-align: middle;\n",
       "    }\n",
       "\n",
       "    .dataframe tbody tr th {\n",
       "        vertical-align: top;\n",
       "    }\n",
       "\n",
       "    .dataframe thead th {\n",
       "        text-align: right;\n",
       "    }\n",
       "</style>\n",
       "<table border=\"1\" class=\"dataframe\">\n",
       "  <thead>\n",
       "    <tr style=\"text-align: right;\">\n",
       "      <th></th>\n",
       "      <th>Assignment Group</th>\n",
       "      <th>Outcome Missing</th>\n",
       "      <th>Outcome Missing Complaints</th>\n",
       "      <th>Outcome Available Complaints</th>\n",
       "    </tr>\n",
       "    <tr>\n",
       "      <th>Assignment</th>\n",
       "      <th></th>\n",
       "      <th></th>\n",
       "      <th></th>\n",
       "      <th></th>\n",
       "    </tr>\n",
       "  </thead>\n",
       "  <tbody>\n",
       "    <tr>\n",
       "      <th>control</th>\n",
       "      <td>45271</td>\n",
       "      <td>4158</td>\n",
       "      <td>4158</td>\n",
       "      <td>41113</td>\n",
       "    </tr>\n",
       "    <tr>\n",
       "      <th>treatment</th>\n",
       "      <td>205358</td>\n",
       "      <td>19473</td>\n",
       "      <td>19031</td>\n",
       "      <td>181411</td>\n",
       "    </tr>\n",
       "  </tbody>\n",
       "</table>\n",
       "</div>"
      ],
      "text/plain": [
       "            Assignment Group  Outcome Missing  Outcome Missing Complaints  \\\n",
       "Assignment                                                                  \n",
       "control                45271             4158                        4158   \n",
       "treatment             205358            19473                       19031   \n",
       "\n",
       "            Outcome Available Complaints  \n",
       "Assignment                                \n",
       "control                            41113  \n",
       "treatment                         181411  "
      ]
     },
     "execution_count": 78,
     "metadata": {},
     "output_type": "execute_result"
    }
   ],
   "source": [
    "df[['treat_any_txt',\n",
    "    'got_any_text',\n",
    "   'vf_g2016']].groupby('treat_any_txt').apply(f).rename_axis(\"Assignment\").rename(index={0: 'control',\n",
    "                                                                                         1: 'treatment'})"
   ]
  },
  {
   "cell_type": "markdown",
   "metadata": {},
   "source": [
    "Turnout rate by Treatment Assignment (drop subject without turnout record)"
   ]
  },
  {
   "cell_type": "code",
   "execution_count": 79,
   "metadata": {
    "scrolled": true
   },
   "outputs": [],
   "source": [
    "# Turnout Comparison by Assignment\n",
    "# Subjects without turnout record are dropped\n",
    "to_p = df[df.vf_g2016.isna()==False][['treat_any_txt','got_any_text','vf_g2016']]. \\\n",
    "groupby('treat_any_txt')[\"vf_g2016\"].\\\n",
    "agg({'Turnout Rate':'mean',\n",
    "    'Assignment Group': 'count'}).\\\n",
    "rename_axis(\"Assignment\").\\\n",
    "rename(index={0: 'control',1: 'treatment'})"
   ]
  },
  {
   "cell_type": "code",
   "execution_count": 80,
   "metadata": {},
   "outputs": [
    {
     "data": {
      "text/latex": [
       "\\begin{table}[ht]\\centering\n",
       "\\caption{Turnout Comparison in One Arizona}\n",
       "\\begin{tabular}{lrr}\n",
       "\\hline\\hline\\\\[-1em]\n",
       "{} &  Turnout Rate &  Assignment Group \\\\\n",
       "Assignment &               &                   \\\\\n",
       "\\midrule\n",
       "control    &      0.638873 &             41113 \\\\\n",
       "treatment  &      0.644103 &            185885 \\\\\n",
       "\\hline \\hline\n",
       "\\end{tabular}\n",
       "\\end{table}"
      ],
      "text/plain": [
       "<IPython.core.display.Latex object>"
      ]
     },
     "execution_count": 80,
     "metadata": {},
     "output_type": "execute_result"
    }
   ],
   "source": [
    "p_latex(to_p, 'Turnout Comparison in One Arizona')"
   ]
  },
  {
   "cell_type": "code",
   "execution_count": 81,
   "metadata": {},
   "outputs": [
    {
     "data": {
      "text/plain": [
       "0.6431554463034916"
      ]
     },
     "execution_count": 81,
     "metadata": {},
     "output_type": "execute_result"
    }
   ],
   "source": [
    "df[df.vf_g2016.isna()==False].vf_g2016.mean()"
   ]
  },
  {
   "cell_type": "markdown",
   "metadata": {},
   "source": [
    "## Vote Propensity: The probability of voting based on vote history"
   ]
  },
  {
   "cell_type": "code",
   "execution_count": 82,
   "metadata": {
    "scrolled": true
   },
   "outputs": [],
   "source": [
    "pro_data = pd.concat([df.treat_any_txt,\n",
    "                      # outcome\n",
    "                      df.vf_g2016, \n",
    "                      # vote history\n",
    "                      df.loc[:,'vf_g2014':'vf_pp2000']], axis=1).dropna()\n"
   ]
  },
  {
   "cell_type": "code",
   "execution_count": 83,
   "metadata": {},
   "outputs": [
    {
     "data": {
      "text/plain": [
       "(226998, 40)"
      ]
     },
     "execution_count": 83,
     "metadata": {},
     "output_type": "execute_result"
    }
   ],
   "source": [
    "pro_data.shape"
   ]
  },
  {
   "cell_type": "code",
   "execution_count": 84,
   "metadata": {},
   "outputs": [],
   "source": [
    "y = pro_data[pro_data.treat_any_txt==0].vf_g2016\n",
    "X = pro_data[pro_data.treat_any_txt==0].loc[:,'vf_g2014':'vf_pp2000']"
   ]
  },
  {
   "cell_type": "code",
   "execution_count": 85,
   "metadata": {},
   "outputs": [
    {
     "data": {
      "text/plain": [
       "(41113,)"
      ]
     },
     "execution_count": 85,
     "metadata": {},
     "output_type": "execute_result"
    }
   ],
   "source": [
    "y.shape"
   ]
  },
  {
   "cell_type": "code",
   "execution_count": 86,
   "metadata": {},
   "outputs": [],
   "source": [
    "# Create interaction terms between vote histories\n",
    "from sklearn.preprocessing import PolynomialFeatures\n",
    "poly = PolynomialFeatures(interaction_only=True,include_bias = False)\n",
    "X_in = poly.fit_transform(X)"
   ]
  },
  {
   "cell_type": "code",
   "execution_count": 87,
   "metadata": {},
   "outputs": [
    {
     "data": {
      "text/plain": [
       "(41113, 741)"
      ]
     },
     "execution_count": 87,
     "metadata": {},
     "output_type": "execute_result"
    }
   ],
   "source": [
    "X_in.shape"
   ]
  },
  {
   "cell_type": "code",
   "execution_count": 88,
   "metadata": {},
   "outputs": [],
   "source": [
    "from sklearn.linear_model import LogisticRegression\n",
    "# Note: logistic regression in sklearn is preset to be a regularization model with C=100).\n",
    "# C is the tuning parameter like alpha in Reidge and Lasso regression Reguilization\n",
    "logreg = LogisticRegression(C=1e90).fit(X_in, y)"
   ]
  },
  {
   "cell_type": "code",
   "execution_count": 89,
   "metadata": {},
   "outputs": [],
   "source": [
    "all_in=poly.fit_transform(pro_data.loc[:,'vf_g2014':'vf_pp2000'])"
   ]
  },
  {
   "cell_type": "code",
   "execution_count": 90,
   "metadata": {},
   "outputs": [],
   "source": [
    "vp = logreg.predict_proba(all_in)"
   ]
  },
  {
   "cell_type": "code",
   "execution_count": 91,
   "metadata": {},
   "outputs": [],
   "source": [
    "vp_df = pd.DataFrame(data={'vote_propensity': vp[:,1]}, index = pro_data.index)\n",
    "df = pd.merge(df, vp_df,left_index=True,\n",
    "    right_index=True,how='left')"
   ]
  },
  {
   "cell_type": "code",
   "execution_count": 92,
   "metadata": {},
   "outputs": [
    {
     "data": {
      "image/png": "[encoded data removed]",
      "text/plain": [
       "<Figure size 648x432 with 1 Axes>"
      ]
     },
     "metadata": {
      "needs_background": "light"
     },
     "output_type": "display_data"
    }
   ],
   "source": [
    "\n",
    "import matplotlib.pylab as pylab\n",
    "params = {\n",
    "        'axes.labelsize': 'x-large',\n",
    "         'axes.titlesize':'x-large',\n",
    "         'xtick.labelsize':'x-large',\n",
    "         'ytick.labelsize':'x-large'}\n",
    "pylab.rcParams.update(params)\n",
    "\n",
    "plt.figure(figsize=(9,6))\n",
    "ax = plt.hist(df.vote_propensity, \n",
    "         30,color='#558b2f')\n",
    "plt.xlabel(\"Vote Propensity\")\n",
    "plt.ylabel(\"Weighted Frequency\")\n",
    "plt.title(\"One Arizona Vote Propensity\") # You can comment this line out if you don't need title\n",
    "plt.show(ax)"
   ]
  },
  {
   "cell_type": "code",
   "execution_count": 93,
   "metadata": {},
   "outputs": [],
   "source": [
    "df.to_csv('../../Machine Learing HTE/1_data/az_one/az_one_add.csv', index=False)"
   ]
  },
  {
   "cell_type": "code",
   "execution_count": 94,
   "metadata": {},
   "outputs": [],
   "source": [
    "# Cut vote propensity score into 10 bins\n",
    "df['vp_10']=pd.cut(df.vote_propensity, np.arange(0,1.1,0.1))"
   ]
  },
  {
   "cell_type": "code",
   "execution_count": 95,
   "metadata": {},
   "outputs": [],
   "source": [
    "def f(x):\n",
    "    d = {}\n",
    "    d['weighted size'] = x['ipw'].sum()\n",
    "    d['size'] = x['ipw'].count()\n",
    "    d['turnout'] = x['vf_g2016'].mean()\n",
    "    d['proportion to available outcome'] = x['ipw'].count()/df[df.vote_propensity.isna()==False].shape[0]\n",
    "    \n",
    "    return pd.Series(d,\n",
    "                    index =['weighted size', 'size','turnout','proportion to available outcome'])"
   ]
  },
  {
   "cell_type": "code",
   "execution_count": 96,
   "metadata": {},
   "outputs": [],
   "source": [
    "df_vp =df[['vp_10','vf_g2016','ipw']]. \\\n",
    "groupby(['vp_10']). \\\n",
    "apply(f).reset_index()"
   ]
  },
  {
   "cell_type": "code",
   "execution_count": 97,
   "metadata": {},
   "outputs": [
    {
     "data": {
      "text/html": [
       "<div>\n",
       "<style scoped>\n",
       "    .dataframe tbody tr th:only-of-type {\n",
       "        vertical-align: middle;\n",
       "    }\n",
       "\n",
       "    .dataframe tbody tr th {\n",
       "        vertical-align: top;\n",
       "    }\n",
       "\n",
       "    .dataframe thead th {\n",
       "        text-align: right;\n",
       "    }\n",
       "</style>\n",
       "<table border=\"1\" class=\"dataframe\">\n",
       "  <thead>\n",
       "    <tr style=\"text-align: right;\">\n",
       "      <th></th>\n",
       "      <th>vp_10</th>\n",
       "      <th>weighted size</th>\n",
       "      <th>size</th>\n",
       "      <th>turnout</th>\n",
       "      <th>proportion to available outcome</th>\n",
       "    </tr>\n",
       "  </thead>\n",
       "  <tbody>\n",
       "    <tr>\n",
       "      <th>0</th>\n",
       "      <td>(0.0, 0.1]</td>\n",
       "      <td>633.695985</td>\n",
       "      <td>519.0</td>\n",
       "      <td>0.670520</td>\n",
       "      <td>0.002286</td>\n",
       "    </tr>\n",
       "    <tr>\n",
       "      <th>1</th>\n",
       "      <td>(0.1, 0.2]</td>\n",
       "      <td>302.758849</td>\n",
       "      <td>248.0</td>\n",
       "      <td>0.612903</td>\n",
       "      <td>0.001093</td>\n",
       "    </tr>\n",
       "    <tr>\n",
       "      <th>2</th>\n",
       "      <td>(0.2, 0.3]</td>\n",
       "      <td>435.804926</td>\n",
       "      <td>357.0</td>\n",
       "      <td>0.507003</td>\n",
       "      <td>0.001573</td>\n",
       "    </tr>\n",
       "    <tr>\n",
       "      <th>3</th>\n",
       "      <td>(0.3, 0.4]</td>\n",
       "      <td>640.865471</td>\n",
       "      <td>525.0</td>\n",
       "      <td>0.584762</td>\n",
       "      <td>0.002313</td>\n",
       "    </tr>\n",
       "    <tr>\n",
       "      <th>4</th>\n",
       "      <td>(0.4, 0.5]</td>\n",
       "      <td>3257.491164</td>\n",
       "      <td>2668.0</td>\n",
       "      <td>0.467016</td>\n",
       "      <td>0.011753</td>\n",
       "    </tr>\n",
       "    <tr>\n",
       "      <th>5</th>\n",
       "      <td>(0.5, 0.6]</td>\n",
       "      <td>164665.287166</td>\n",
       "      <td>134914.0</td>\n",
       "      <td>0.554968</td>\n",
       "      <td>0.594340</td>\n",
       "    </tr>\n",
       "    <tr>\n",
       "      <th>6</th>\n",
       "      <td>(0.6, 0.7]</td>\n",
       "      <td>31784.586947</td>\n",
       "      <td>26035.0</td>\n",
       "      <td>0.664183</td>\n",
       "      <td>0.114693</td>\n",
       "    </tr>\n",
       "    <tr>\n",
       "      <th>7</th>\n",
       "      <td>(0.7, 0.8]</td>\n",
       "      <td>22216.698270</td>\n",
       "      <td>18198.0</td>\n",
       "      <td>0.760853</td>\n",
       "      <td>0.080168</td>\n",
       "    </tr>\n",
       "    <tr>\n",
       "      <th>8</th>\n",
       "      <td>(0.8, 0.9]</td>\n",
       "      <td>35506.324971</td>\n",
       "      <td>29089.0</td>\n",
       "      <td>0.846196</td>\n",
       "      <td>0.128147</td>\n",
       "    </tr>\n",
       "    <tr>\n",
       "      <th>9</th>\n",
       "      <td>(0.9, 1.0]</td>\n",
       "      <td>17635.078003</td>\n",
       "      <td>14445.0</td>\n",
       "      <td>0.909311</td>\n",
       "      <td>0.063635</td>\n",
       "    </tr>\n",
       "  </tbody>\n",
       "</table>\n",
       "</div>"
      ],
      "text/plain": [
       "        vp_10  weighted size      size   turnout  \\\n",
       "0  (0.0, 0.1]     633.695985     519.0  0.670520   \n",
       "1  (0.1, 0.2]     302.758849     248.0  0.612903   \n",
       "2  (0.2, 0.3]     435.804926     357.0  0.507003   \n",
       "3  (0.3, 0.4]     640.865471     525.0  0.584762   \n",
       "4  (0.4, 0.5]    3257.491164    2668.0  0.467016   \n",
       "5  (0.5, 0.6]  164665.287166  134914.0  0.554968   \n",
       "6  (0.6, 0.7]   31784.586947   26035.0  0.664183   \n",
       "7  (0.7, 0.8]   22216.698270   18198.0  0.760853   \n",
       "8  (0.8, 0.9]   35506.324971   29089.0  0.846196   \n",
       "9  (0.9, 1.0]   17635.078003   14445.0  0.909311   \n",
       "\n",
       "   proportion to available outcome  \n",
       "0                         0.002286  \n",
       "1                         0.001093  \n",
       "2                         0.001573  \n",
       "3                         0.002313  \n",
       "4                         0.011753  \n",
       "5                         0.594340  \n",
       "6                         0.114693  \n",
       "7                         0.080168  \n",
       "8                         0.128147  \n",
       "9                         0.063635  "
      ]
     },
     "execution_count": 97,
     "metadata": {},
     "output_type": "execute_result"
    }
   ],
   "source": [
    "df_vp"
   ]
  },
  {
   "cell_type": "code",
   "execution_count": 31,
   "metadata": {},
   "outputs": [
    {
     "data": {
      "image/png": "[encoded data removed]",
      "text/plain": [
       "<Figure size 720x432 with 1 Axes>"
      ]
     },
     "metadata": {
      "needs_background": "light"
     },
     "output_type": "display_data"
    }
   ],
   "source": [
    "plt.figure(figsize=(10,6))\n",
    "ax = sns.barplot(x=\"vp_10\", y=\"size\", data=df_vp, color='cadetblue',orient='v')\n",
    "plt.xlabel(\"Vote Propensity Range\")\n",
    "plt.ylabel(\"Frequency\")\n",
    "plt.title(\"Distribution of Vote Propensity\") # You can comment this line out if you don't need title\n",
    "plt.show(ax)"
   ]
  },
  {
   "cell_type": "code",
   "execution_count": 32,
   "metadata": {},
   "outputs": [
    {
     "data": {
      "image/png": "[encoded data removed]",
      "text/plain": [
       "<Figure size 720x432 with 1 Axes>"
      ]
     },
     "metadata": {
      "needs_background": "light"
     },
     "output_type": "display_data"
    }
   ],
   "source": [
    "plt.figure(figsize=(10,6))\n",
    "ax = sns.barplot(x=\"vp_10\", y=\"weighted size\", data=df_vp, color='lightslategrey',orient='v')\n",
    "plt.xlabel(\"Vote Propensity Range\")\n",
    "plt.ylabel(\"Weighted Frequency\")\n",
    "plt.title(\"Distribution of Vote Propensity (Weighted)\") # You can comment this line out if you don't need title\n",
    "plt.show(ax)"
   ]
  },
  {
   "cell_type": "code",
   "execution_count": 98,
   "metadata": {},
   "outputs": [],
   "source": [
    "def get_bins_table():\n",
    "    pd.options.display.float_format = '{:.3%}'.format\n",
    "    a = df[['vp_10','vf_g2016','treat_any_txt']].\\\n",
    "    groupby(['vp_10',\"treat_any_txt\"]). \\\n",
    "    vf_g2016.agg([('Size','count'),\n",
    "              ('Turnout',np.mean),\n",
    "                ('Proportion', lambda x: x.count()/df[df.vote_propensity.isna()==False].shape[0])]).reset_index()\n",
    "    \n",
    "    b = df[['vp_10','vf_g2016','treat_any_txt']].\\\n",
    "    groupby(['vp_10',\"treat_any_txt\"]). \\\n",
    "    vf_g2016.agg([('Size','count'),\n",
    "              ('Turnout',np.mean)]).reset_index().groupby('vp_10').Turnout.agg([('Effect','diff')])\n",
    "    \n",
    "    r = pd.concat([a,b], axis=1)\n",
    "    r.rename(columns={'vp_10': 'Vote Propensity Range'}, inplace = True)\n",
    "    r.Effect.fillna(\" \", inplace=True)\n",
    "    r.treat_any_txt.replace([0,1],['Control', 'Treatment'], inplace=True)\n",
    "    return r\n",
    "  "
   ]
  },
  {
   "cell_type": "code",
   "execution_count": 99,
   "metadata": {},
   "outputs": [
    {
     "data": {
      "text/html": [
       "<div>\n",
       "<style scoped>\n",
       "    .dataframe tbody tr th:only-of-type {\n",
       "        vertical-align: middle;\n",
       "    }\n",
       "\n",
       "    .dataframe tbody tr th {\n",
       "        vertical-align: top;\n",
       "    }\n",
       "\n",
       "    .dataframe thead th {\n",
       "        text-align: right;\n",
       "    }\n",
       "</style>\n",
       "<table border=\"1\" class=\"dataframe\">\n",
       "  <thead>\n",
       "    <tr style=\"text-align: right;\">\n",
       "      <th></th>\n",
       "      <th>Vote Propensity Range</th>\n",
       "      <th>treat_any_txt</th>\n",
       "      <th>Size</th>\n",
       "      <th>Turnout</th>\n",
       "      <th>Proportion</th>\n",
       "      <th>Effect</th>\n",
       "    </tr>\n",
       "  </thead>\n",
       "  <tbody>\n",
       "    <tr>\n",
       "      <th>0</th>\n",
       "      <td>(0.0, 0.1]</td>\n",
       "      <td>Control</td>\n",
       "      <td>61</td>\n",
       "      <td>1.639%</td>\n",
       "      <td>0.027%</td>\n",
       "      <td></td>\n",
       "    </tr>\n",
       "    <tr>\n",
       "      <th>1</th>\n",
       "      <td>(0.0, 0.1]</td>\n",
       "      <td>Treatment</td>\n",
       "      <td>458</td>\n",
       "      <td>75.764%</td>\n",
       "      <td>0.202%</td>\n",
       "      <td>74.125%</td>\n",
       "    </tr>\n",
       "    <tr>\n",
       "      <th>2</th>\n",
       "      <td>(0.1, 0.2]</td>\n",
       "      <td>Control</td>\n",
       "      <td>27</td>\n",
       "      <td>18.519%</td>\n",
       "      <td>0.012%</td>\n",
       "      <td></td>\n",
       "    </tr>\n",
       "    <tr>\n",
       "      <th>3</th>\n",
       "      <td>(0.1, 0.2]</td>\n",
       "      <td>Treatment</td>\n",
       "      <td>221</td>\n",
       "      <td>66.516%</td>\n",
       "      <td>0.097%</td>\n",
       "      <td>47.997%</td>\n",
       "    </tr>\n",
       "    <tr>\n",
       "      <th>4</th>\n",
       "      <td>(0.2, 0.3]</td>\n",
       "      <td>Control</td>\n",
       "      <td>64</td>\n",
       "      <td>18.750%</td>\n",
       "      <td>0.028%</td>\n",
       "      <td></td>\n",
       "    </tr>\n",
       "    <tr>\n",
       "      <th>5</th>\n",
       "      <td>(0.2, 0.3]</td>\n",
       "      <td>Treatment</td>\n",
       "      <td>293</td>\n",
       "      <td>57.679%</td>\n",
       "      <td>0.129%</td>\n",
       "      <td>38.929%</td>\n",
       "    </tr>\n",
       "    <tr>\n",
       "      <th>6</th>\n",
       "      <td>(0.3, 0.4]</td>\n",
       "      <td>Control</td>\n",
       "      <td>95</td>\n",
       "      <td>28.421%</td>\n",
       "      <td>0.042%</td>\n",
       "      <td></td>\n",
       "    </tr>\n",
       "    <tr>\n",
       "      <th>7</th>\n",
       "      <td>(0.3, 0.4]</td>\n",
       "      <td>Treatment</td>\n",
       "      <td>430</td>\n",
       "      <td>65.116%</td>\n",
       "      <td>0.189%</td>\n",
       "      <td>36.695%</td>\n",
       "    </tr>\n",
       "    <tr>\n",
       "      <th>8</th>\n",
       "      <td>(0.4, 0.5]</td>\n",
       "      <td>Control</td>\n",
       "      <td>495</td>\n",
       "      <td>42.424%</td>\n",
       "      <td>0.218%</td>\n",
       "      <td></td>\n",
       "    </tr>\n",
       "    <tr>\n",
       "      <th>9</th>\n",
       "      <td>(0.4, 0.5]</td>\n",
       "      <td>Treatment</td>\n",
       "      <td>2173</td>\n",
       "      <td>47.676%</td>\n",
       "      <td>0.957%</td>\n",
       "      <td>5.252%</td>\n",
       "    </tr>\n",
       "    <tr>\n",
       "      <th>10</th>\n",
       "      <td>(0.5, 0.6]</td>\n",
       "      <td>Control</td>\n",
       "      <td>24565</td>\n",
       "      <td>54.985%</td>\n",
       "      <td>10.822%</td>\n",
       "      <td></td>\n",
       "    </tr>\n",
       "    <tr>\n",
       "      <th>11</th>\n",
       "      <td>(0.5, 0.6]</td>\n",
       "      <td>Treatment</td>\n",
       "      <td>110349</td>\n",
       "      <td>55.611%</td>\n",
       "      <td>48.612%</td>\n",
       "      <td>0.626%</td>\n",
       "    </tr>\n",
       "    <tr>\n",
       "      <th>12</th>\n",
       "      <td>(0.6, 0.7]</td>\n",
       "      <td>Control</td>\n",
       "      <td>4681</td>\n",
       "      <td>66.076%</td>\n",
       "      <td>2.062%</td>\n",
       "      <td></td>\n",
       "    </tr>\n",
       "    <tr>\n",
       "      <th>13</th>\n",
       "      <td>(0.6, 0.7]</td>\n",
       "      <td>Treatment</td>\n",
       "      <td>21354</td>\n",
       "      <td>66.493%</td>\n",
       "      <td>9.407%</td>\n",
       "      <td>0.418%</td>\n",
       "    </tr>\n",
       "    <tr>\n",
       "      <th>14</th>\n",
       "      <td>(0.7, 0.8]</td>\n",
       "      <td>Control</td>\n",
       "      <td>3285</td>\n",
       "      <td>75.556%</td>\n",
       "      <td>1.447%</td>\n",
       "      <td></td>\n",
       "    </tr>\n",
       "    <tr>\n",
       "      <th>15</th>\n",
       "      <td>(0.7, 0.8]</td>\n",
       "      <td>Treatment</td>\n",
       "      <td>14913</td>\n",
       "      <td>76.202%</td>\n",
       "      <td>6.570%</td>\n",
       "      <td>0.646%</td>\n",
       "    </tr>\n",
       "    <tr>\n",
       "      <th>16</th>\n",
       "      <td>(0.8, 0.9]</td>\n",
       "      <td>Control</td>\n",
       "      <td>5303</td>\n",
       "      <td>85.046%</td>\n",
       "      <td>2.336%</td>\n",
       "      <td></td>\n",
       "    </tr>\n",
       "    <tr>\n",
       "      <th>17</th>\n",
       "      <td>(0.8, 0.9]</td>\n",
       "      <td>Treatment</td>\n",
       "      <td>23786</td>\n",
       "      <td>84.525%</td>\n",
       "      <td>10.479%</td>\n",
       "      <td>-0.522%</td>\n",
       "    </tr>\n",
       "    <tr>\n",
       "      <th>18</th>\n",
       "      <td>(0.9, 1.0]</td>\n",
       "      <td>Control</td>\n",
       "      <td>2537</td>\n",
       "      <td>95.349%</td>\n",
       "      <td>1.118%</td>\n",
       "      <td></td>\n",
       "    </tr>\n",
       "    <tr>\n",
       "      <th>19</th>\n",
       "      <td>(0.9, 1.0]</td>\n",
       "      <td>Treatment</td>\n",
       "      <td>11908</td>\n",
       "      <td>89.990%</td>\n",
       "      <td>5.246%</td>\n",
       "      <td>-5.359%</td>\n",
       "    </tr>\n",
       "  </tbody>\n",
       "</table>\n",
       "</div>"
      ],
      "text/plain": [
       "   Vote Propensity Range treat_any_txt    Size  Turnout  Proportion  Effect\n",
       "0             (0.0, 0.1]       Control      61   1.639%      0.027%        \n",
       "1             (0.0, 0.1]     Treatment     458  75.764%      0.202% 74.125%\n",
       "2             (0.1, 0.2]       Control      27  18.519%      0.012%        \n",
       "3             (0.1, 0.2]     Treatment     221  66.516%      0.097% 47.997%\n",
       "4             (0.2, 0.3]       Control      64  18.750%      0.028%        \n",
       "5             (0.2, 0.3]     Treatment     293  57.679%      0.129% 38.929%\n",
       "6             (0.3, 0.4]       Control      95  28.421%      0.042%        \n",
       "7             (0.3, 0.4]     Treatment     430  65.116%      0.189% 36.695%\n",
       "8             (0.4, 0.5]       Control     495  42.424%      0.218%        \n",
       "9             (0.4, 0.5]     Treatment    2173  47.676%      0.957%  5.252%\n",
       "10            (0.5, 0.6]       Control   24565  54.985%     10.822%        \n",
       "11            (0.5, 0.6]     Treatment  110349  55.611%     48.612%  0.626%\n",
       "12            (0.6, 0.7]       Control    4681  66.076%      2.062%        \n",
       "13            (0.6, 0.7]     Treatment   21354  66.493%      9.407%  0.418%\n",
       "14            (0.7, 0.8]       Control    3285  75.556%      1.447%        \n",
       "15            (0.7, 0.8]     Treatment   14913  76.202%      6.570%  0.646%\n",
       "16            (0.8, 0.9]       Control    5303  85.046%      2.336%        \n",
       "17            (0.8, 0.9]     Treatment   23786  84.525%     10.479% -0.522%\n",
       "18            (0.9, 1.0]       Control    2537  95.349%      1.118%        \n",
       "19            (0.9, 1.0]     Treatment   11908  89.990%      5.246% -5.359%"
      ]
     },
     "execution_count": 99,
     "metadata": {},
     "output_type": "execute_result"
    }
   ],
   "source": [
    "get_bins_table()"
   ]
  },
  {
   "cell_type": "code",
   "execution_count": 104,
   "metadata": {},
   "outputs": [],
   "source": [
    "def p_latex(x, cap):\n",
    "    latex_string = '\\\\begin{table}[ht]\\\\centering\\n\\\\caption{' + cap +'}\\n'  \n",
    "    latex_string = latex_string+x.to_latex(index=False).\\\n",
    "    replace('\\\\toprule','\\\\hline\\\\hline\\\\\\\\[-1em]').\\\n",
    "    replace('\\\\bottomrule', '\\\\hline \\\\hline') +'\\\\end{table}'\n",
    "    return Latex(latex_string)"
   ]
  },
  {
   "cell_type": "code",
   "execution_count": 103,
   "metadata": {},
   "outputs": [
    {
     "data": {
      "text/latex": [
       "\\begin{tabular}{llrrrl}\n",
       "\\toprule\n",
       "Vote Propensity Range & treat\\_any\\_txt &    Size &  Turnout &  Proportion &  Effect \\\\\n",
       "\\midrule\n",
       "           (0.0, 0.1] &       Control &      61 &   1.639\\% &      0.027\\% &         \\\\\n",
       "           (0.0, 0.1] &     Treatment &     458 &  75.764\\% &      0.202\\% & 74.125\\% \\\\\n",
       "           (0.1, 0.2] &       Control &      27 &  18.519\\% &      0.012\\% &         \\\\\n",
       "           (0.1, 0.2] &     Treatment &     221 &  66.516\\% &      0.097\\% & 47.997\\% \\\\\n",
       "           (0.2, 0.3] &       Control &      64 &  18.750\\% &      0.028\\% &         \\\\\n",
       "           (0.2, 0.3] &     Treatment &     293 &  57.679\\% &      0.129\\% & 38.929\\% \\\\\n",
       "           (0.3, 0.4] &       Control &      95 &  28.421\\% &      0.042\\% &         \\\\\n",
       "           (0.3, 0.4] &     Treatment &     430 &  65.116\\% &      0.189\\% & 36.695\\% \\\\\n",
       "           (0.4, 0.5] &       Control &     495 &  42.424\\% &      0.218\\% &         \\\\\n",
       "           (0.4, 0.5] &     Treatment &    2173 &  47.676\\% &      0.957\\% &  5.252\\% \\\\\n",
       "           (0.5, 0.6] &       Control &   24565 &  54.985\\% &     10.822\\% &         \\\\\n",
       "           (0.5, 0.6] &     Treatment &  110349 &  55.611\\% &     48.612\\% &  0.626\\% \\\\\n",
       "           (0.6, 0.7] &       Control &    4681 &  66.076\\% &      2.062\\% &         \\\\\n",
       "           (0.6, 0.7] &     Treatment &   21354 &  66.493\\% &      9.407\\% &  0.418\\% \\\\\n",
       "           (0.7, 0.8] &       Control &    3285 &  75.556\\% &      1.447\\% &         \\\\\n",
       "           (0.7, 0.8] &     Treatment &   14913 &  76.202\\% &      6.570\\% &  0.646\\% \\\\\n",
       "           (0.8, 0.9] &       Control &    5303 &  85.046\\% &      2.336\\% &         \\\\\n",
       "           (0.8, 0.9] &     Treatment &   23786 &  84.525\\% &     10.479\\% & -0.522\\% \\\\\n",
       "           (0.9, 1.0] &       Control &    2537 &  95.349\\% &      1.118\\% &         \\\\\n",
       "           (0.9, 1.0] &     Treatment &   11908 &  89.990\\% &      5.246\\% & -5.359\\% \\\\\n",
       "\\bottomrule\n",
       "\\end{tabular}\n"
      ],
      "text/plain": [
       "<IPython.core.display.Latex object>"
      ]
     },
     "execution_count": 103,
     "metadata": {},
     "output_type": "execute_result"
    }
   ],
   "source": [
    "# Vote trunout by vote propensity socre and treatment assignment\n",
    "Latex(get_bins_table().to_latex(index=False))"
   ]
  },
  {
   "cell_type": "markdown",
   "metadata": {},
   "source": [
    "## Balance checks"
   ]
  },
  {
   "cell_type": "markdown",
   "metadata": {},
   "source": [
    "Predict probabiltiy of voting for Balance Check"
   ]
  },
  {
   "cell_type": "code",
   "execution_count": 106,
   "metadata": {},
   "outputs": [],
   "source": [
    "# display and export regression table\n",
    "from stargazer.stargazer import Stargazer\n",
    "from IPython.core.display import HTML\n",
    "from IPython.display import Latex"
   ]
  },
  {
   "cell_type": "code",
   "execution_count": 107,
   "metadata": {},
   "outputs": [],
   "source": [
    "prob_balance = []\n",
    "prob_balance.append(smf.ols(formula='vote_propensity ~ treat_any_txt', data=df).fit())"
   ]
  },
  {
   "cell_type": "code",
   "execution_count": 108,
   "metadata": {},
   "outputs": [],
   "source": [
    "stargazer = Stargazer(prob_balance)\n",
    "stargazer.significant_digits(4)\n",
    "stargazer.title('Balance on Propensity')"
   ]
  },
  {
   "cell_type": "code",
   "execution_count": 109,
   "metadata": {},
   "outputs": [
    {
     "data": {
      "text/html": [
       "Balance on Propensity<br><table style=\"text-align:center\"><tr><td colspan=\"2\" style=\"border-bottom: 1px solid black\"></td></tr><tr><td style=\"text-align:left\"></td><td colspan=\"1\"><em>Dependent variable:</em></td></tr><tr><td style=\"text-align:left\"></td><tr><td colspan=\"2\" style=\"border-bottom: 1px solid black\"></td></tr><tr><td style=\"text-align:left\">Intercept</td><td>0.6389<sup>***</sup></td></tr><tr><td style=\"text-align:left\"></td><td>(0.0007)</td></tr><tr><td style=\"text-align:left\">treat_any_txt</td><td>0.0003<sup></sup></td></tr><tr><td style=\"text-align:left\"></td><td>(0.0008)</td></tr><td colspan=\"2\" style=\"border-bottom: 1px solid black\"></td></tr><tr><td style=\"text-align: left\">Observations</td><td>226998.0</td></tr><tr><td style=\"text-align: left\">R<sup>2</sup></td><td>0.0</td></tr><tr><td style=\"text-align: left\">Adjusted R<sup>2</sup></td><td>-0.0</td></tr><tr><td style=\"text-align: left\">Residual Std. Error</td><td>0.1423(df = 226996.0)</td></tr><tr><td style=\"text-align: left\">F Statistic</td><td>0.164<sup></sup>(df = 1.0; 226996.0)</td></tr><tr><td colspan=\"2\" style=\"border-bottom: 1px solid black\"></td></tr><tr><td style=\"text-align: left\">Note:</td><td colspan=\"1\" style=\"text-align: right\"><em>p&lt;0.1</em>; <b>p&lt;0.05</b>; p&lt;0.01</td></tr></table>"
      ],
      "text/plain": [
       "<IPython.core.display.HTML object>"
      ]
     },
     "execution_count": 109,
     "metadata": {},
     "output_type": "execute_result"
    }
   ],
   "source": [
    "HTML(stargazer.render_html())"
   ]
  },
  {
   "cell_type": "code",
   "execution_count": 110,
   "metadata": {},
   "outputs": [],
   "source": [
    "df_group = df.groupby('univ')"
   ]
  },
  {
   "cell_type": "code",
   "execution_count": 111,
   "metadata": {},
   "outputs": [],
   "source": [
    "prob_balance = []\n",
    "for k, g in df_group:\n",
    "    model = smf.ols('vote_propensity ~ treat_any_txt', g)\n",
    "    results = model.fit()\n",
    "    prob_balance.append(results)"
   ]
  },
  {
   "cell_type": "code",
   "execution_count": 112,
   "metadata": {},
   "outputs": [],
   "source": [
    "stargazer = Stargazer(prob_balance)\n",
    "stargazer.significant_digits(4)\n",
    "stargazer.title('Balance on Propensity by univ')\n",
    "stargazer.custom_columns(list(df_group.groups), [1,1,1])"
   ]
  },
  {
   "cell_type": "code",
   "execution_count": 113,
   "metadata": {},
   "outputs": [
    {
     "data": {
      "text/html": [
       "Balance on Propensity by univ<br><table style=\"text-align:center\"><tr><td colspan=\"4\" style=\"border-bottom: 1px solid black\"></td></tr><tr><td style=\"text-align:left\"></td><td colspan=\"3\"><em>Dependent variable:</em></td></tr><tr><td style=\"text-align:left\"></td><tr><td colspan=\"1\">dwids</td><td colspan=\"1\">uniqueids</td><td colspan=\"1\">vanids</td></tr><tr><td colspan=\"4\" style=\"border-bottom: 1px solid black\"></td></tr><tr><td style=\"text-align:left\">Intercept</td><td>0.6407<sup>***</sup></td><td>0.5903<sup>***</sup></td><td>0.6505<sup>***</sup></td></tr><tr><td style=\"text-align:left\"></td><td>(0.0007)</td><td>(0.0026)</td><td>(0.0047)</td></tr><tr><td style=\"text-align:left\">treat_any_txt</td><td>0.0007<sup></sup></td><td>-0.0029<sup></sup></td><td>-0.0057<sup></sup></td></tr><tr><td style=\"text-align:left\"></td><td>(0.0008)</td><td>(0.0029)</td><td>(0.0051)</td></tr><td colspan=\"4\" style=\"border-bottom: 1px solid black\"></td></tr><tr><td style=\"text-align: left\">Observations</td><td>211499.0</td><td>9612.0</td><td>5887.0</td></tr><tr><td style=\"text-align: left\">R<sup>2</sup></td><td>0.0</td><td>0.0001</td><td>0.0002</td></tr><tr><td style=\"text-align: left\">Adjusted R<sup>2</sup></td><td>-0.0</td><td>0.0</td><td>0.0</td></tr><tr><td style=\"text-align: left\">Residual Std. Error</td><td>0.143(df = 211497.0)</td><td>0.1061(df = 9610.0)</td><td>0.1518(df = 5885.0)</td></tr><tr><td style=\"text-align: left\">F Statistic</td><td>0.8159<sup></sup>(df = 1.0; 211497.0)</td><td>1.0206<sup></sup>(df = 1.0; 9610.0)</td><td>1.2193<sup></sup>(df = 1.0; 5885.0)</td></tr><tr><td colspan=\"4\" style=\"border-bottom: 1px solid black\"></td></tr><tr><td style=\"text-align: left\">Note:</td><td colspan=\"3\" style=\"text-align: right\"><em>p&lt;0.1</em>; <b>p&lt;0.05</b>; p&lt;0.01</td></tr></table>"
      ],
      "text/plain": [
       "<IPython.core.display.HTML object>"
      ]
     },
     "execution_count": 113,
     "metadata": {},
     "output_type": "execute_result"
    }
   ],
   "source": [
    "HTML(stargazer.render_html())"
   ]
  },
  {
   "cell_type": "code",
   "execution_count": 114,
   "metadata": {},
   "outputs": [],
   "source": [
    "prob_balance = []\n",
    "for k, g in df_group:\n",
    "    model = smf.ols('missing ~ treat_any_txt', g)\n",
    "    results = model.fit()\n",
    "    prob_balance.append(results)"
   ]
  },
  {
   "cell_type": "code",
   "execution_count": 115,
   "metadata": {},
   "outputs": [],
   "source": [
    "stargazer = Stargazer(prob_balance)\n",
    "stargazer.significant_digits(4)\n",
    "stargazer.title('Balance on Missing by univ')\n",
    "stargazer.custom_columns(list(df_group.groups), [1,1,1])"
   ]
  },
  {
   "cell_type": "code",
   "execution_count": 116,
   "metadata": {},
   "outputs": [
    {
     "data": {
      "text/html": [
       "Balance on Missing by univ<br><table style=\"text-align:center\"><tr><td colspan=\"4\" style=\"border-bottom: 1px solid black\"></td></tr><tr><td style=\"text-align:left\"></td><td colspan=\"3\"><em>Dependent variable:</em></td></tr><tr><td style=\"text-align:left\"></td><tr><td colspan=\"1\">dwids</td><td colspan=\"1\">uniqueids</td><td colspan=\"1\">vanids</td></tr><tr><td colspan=\"4\" style=\"border-bottom: 1px solid black\"></td></tr><tr><td style=\"text-align:left\">Intercept</td><td>0.0219<sup>***</sup></td><td>0.6323<sup>***</sup></td><td>0.2815<sup>***</sup></td></tr><tr><td style=\"text-align:left\"></td><td>(0.0007)</td><td>(0.0071)</td><td>(0.0119)</td></tr><tr><td style=\"text-align:left\">treat_any_txt</td><td>0.0002<sup></sup></td><td>-0.0024<sup></sup></td><td>0.0188<sup></sup></td></tr><tr><td style=\"text-align:left\"></td><td>(0.0008)</td><td>(0.0079)</td><td>(0.0131)</td></tr><td colspan=\"4\" style=\"border-bottom: 1px solid black\"></td></tr><tr><td style=\"text-align: left\">Observations</td><td>216256.0</td><td>26000.0</td><td>8373.0</td></tr><tr><td style=\"text-align: left\">R<sup>2</sup></td><td>0.0</td><td>0.0</td><td>0.0002</td></tr><tr><td style=\"text-align: left\">Adjusted R<sup>2</sup></td><td>-0.0</td><td>-0.0</td><td>0.0001</td></tr><tr><td style=\"text-align: left\">Residual Std. Error</td><td>0.1467(df = 216254.0)</td><td>0.4827(df = 25998.0)</td><td>0.4569(df = 8371.0)</td></tr><tr><td style=\"text-align: left\">F Statistic</td><td>0.036<sup></sup>(df = 1.0; 216254.0)</td><td>0.0959<sup></sup>(df = 1.0; 25998.0)</td><td>2.0511<sup></sup>(df = 1.0; 8371.0)</td></tr><tr><td colspan=\"4\" style=\"border-bottom: 1px solid black\"></td></tr><tr><td style=\"text-align: left\">Note:</td><td colspan=\"3\" style=\"text-align: right\"><em>p&lt;0.1</em>; <b>p&lt;0.05</b>; p&lt;0.01</td></tr></table>"
      ],
      "text/plain": [
       "<IPython.core.display.HTML object>"
      ]
     },
     "execution_count": 116,
     "metadata": {},
     "output_type": "execute_result"
    }
   ],
   "source": [
    "HTML(stargazer.render_html())"
   ]
  },
  {
   "cell_type": "code",
   "execution_count": 117,
   "metadata": {},
   "outputs": [],
   "source": [
    "prob_balance = []\n",
    "for k, g in df_group:\n",
    "    model = smf.ols('missing ~ C(treat_ind)', g)\n",
    "    results = model.fit()\n",
    "    prob_balance.append(results)"
   ]
  },
  {
   "cell_type": "code",
   "execution_count": 118,
   "metadata": {},
   "outputs": [],
   "source": [
    "stargazer = Stargazer(prob_balance)\n",
    "stargazer.significant_digits(4)\n",
    "stargazer.title('Balance on Missing by univ')\n",
    "stargazer.custom_columns(list(df_group.groups), [1,1,1])\n",
    "stargazer.covariate_order(['Intercept'])"
   ]
  },
  {
   "cell_type": "code",
   "execution_count": 119,
   "metadata": {
    "scrolled": false
   },
   "outputs": [
    {
     "data": {
      "text/html": [
       "Balance on Missing by univ<br><table style=\"text-align:center\"><tr><td colspan=\"4\" style=\"border-bottom: 1px solid black\"></td></tr><tr><td style=\"text-align:left\"></td><td colspan=\"3\"><em>Dependent variable:</em></td></tr><tr><td style=\"text-align:left\"></td><tr><td colspan=\"1\">dwids</td><td colspan=\"1\">uniqueids</td><td colspan=\"1\">vanids</td></tr><tr><td colspan=\"4\" style=\"border-bottom: 1px solid black\"></td></tr><tr><td style=\"text-align:left\">Intercept</td><td>0.022<sup>***</sup></td><td>0.629<sup>***</sup></td><td>0.2852<sup>***</sup></td></tr><tr><td style=\"text-align:left\"></td><td>(0.001)</td><td>(0.0099)</td><td>(0.0163)</td></tr><td colspan=\"4\" style=\"border-bottom: 1px solid black\"></td></tr><tr><td style=\"text-align: left\">Observations</td><td>216256.0</td><td>26000.0</td><td>8373.0</td></tr><tr><td style=\"text-align: left\">R<sup>2</sup></td><td>0.0</td><td>0.0004</td><td>0.0015</td></tr><tr><td style=\"text-align: left\">Adjusted R<sup>2</sup></td><td>-0.0</td><td>-0.0</td><td>0.0003</td></tr><tr><td style=\"text-align: left\">Residual Std. Error</td><td>0.1467(df = 216245.0)</td><td>0.4827(df = 25989.0)</td><td>0.4569(df = 8362.0)</td></tr><tr><td style=\"text-align: left\">F Statistic</td><td>0.3439<sup></sup>(df = 10.0; 216245.0)</td><td>0.9474<sup></sup>(df = 10.0; 25989.0)</td><td>1.2613<sup></sup>(df = 10.0; 8362.0)</td></tr><tr><td colspan=\"4\" style=\"border-bottom: 1px solid black\"></td></tr><tr><td style=\"text-align: left\">Note:</td><td colspan=\"3\" style=\"text-align: right\"><em>p&lt;0.1</em>; <b>p&lt;0.05</b>; p&lt;0.01</td></tr></table>"
      ],
      "text/plain": [
       "<IPython.core.display.HTML object>"
      ]
     },
     "execution_count": 119,
     "metadata": {},
     "output_type": "execute_result"
    }
   ],
   "source": [
    "HTML(stargazer.render_html())"
   ]
  },
  {
   "cell_type": "markdown",
   "metadata": {},
   "source": [
    "Save added columns to new dataset (Dec 11:36AM)"
   ]
  },
  {
   "cell_type": "markdown",
   "metadata": {},
   "source": [
    "## Main Result"
   ]
  },
  {
   "cell_type": "markdown",
   "metadata": {},
   "source": [
    "### OLS (without covariates, clustered SE)"
   ]
  },
  {
   "cell_type": "code",
   "execution_count": 120,
   "metadata": {},
   "outputs": [],
   "source": [
    "vote = df.loc[:,'vf_g2014':'vf_pp2000']\n",
    "ols_data= pd.concat([df.vf_g2016, df.treat_any_txt, vote, df.hh_id, df.ipw], axis=1).dropna()"
   ]
  },
  {
   "cell_type": "code",
   "execution_count": 121,
   "metadata": {},
   "outputs": [
    {
     "data": {
      "text/plain": [
       "(226998, 42)"
      ]
     },
     "execution_count": 121,
     "metadata": {},
     "output_type": "execute_result"
    }
   ],
   "source": [
    "ols_data.shape"
   ]
  },
  {
   "cell_type": "code",
   "execution_count": 122,
   "metadata": {},
   "outputs": [],
   "source": [
    "import statsmodels.api as sm"
   ]
  },
  {
   "cell_type": "code",
   "execution_count": 123,
   "metadata": {},
   "outputs": [],
   "source": [
    "X = ols_data[['treat_any_txt']]"
   ]
  },
  {
   "cell_type": "code",
   "execution_count": 66,
   "metadata": {},
   "outputs": [],
   "source": [
    "X = sm.add_constant(X)"
   ]
  },
  {
   "cell_type": "code",
   "execution_count": 67,
   "metadata": {},
   "outputs": [],
   "source": [
    "y = ols_data['vf_g2016']"
   ]
  },
  {
   "cell_type": "code",
   "execution_count": 68,
   "metadata": {},
   "outputs": [],
   "source": [
    "# use ipw for \n",
    "ols_cluster = sm.WLS(y, X).fit(cov_type='cluster', cov_kwds={'groups': ols_data['hh_id']})"
   ]
  },
  {
   "cell_type": "code",
   "execution_count": 69,
   "metadata": {},
   "outputs": [],
   "source": [
    "main_effect= []"
   ]
  },
  {
   "cell_type": "code",
   "execution_count": 70,
   "metadata": {},
   "outputs": [],
   "source": [
    "main_effect.append(ols_cluster)\n",
    "stargazer = Stargazer(main_effect)\n",
    "stargazer.significant_digits(4)\n",
    "stargazer.title('Main Effect')"
   ]
  },
  {
   "cell_type": "code",
   "execution_count": 71,
   "metadata": {
    "scrolled": true
   },
   "outputs": [
    {
     "data": {
      "text/html": [
       "Main Effect<br><table style=\"text-align:center\"><tr><td colspan=\"2\" style=\"border-bottom: 1px solid black\"></td></tr><tr><td style=\"text-align:left\"></td><td colspan=\"1\"><em>Dependent variable:</em></td></tr><tr><td style=\"text-align:left\"></td><tr><td style=\"text-align:left\"></td><td>(1)</td></tr><tr><td colspan=\"2\" style=\"border-bottom: 1px solid black\"></td></tr><tr><td style=\"text-align:left\">const</td><td>0.6389<sup>***</sup></td></tr><tr><td style=\"text-align:left\"></td><td>(0.0024)</td></tr><tr><td style=\"text-align:left\">treat_any_txt</td><td>0.0052<sup>*</sup></td></tr><tr><td style=\"text-align:left\"></td><td>(0.0027)</td></tr><td colspan=\"2\" style=\"border-bottom: 1px solid black\"></td></tr><tr><td style=\"text-align: left\">Observations</td><td>226998.0</td></tr><tr><td style=\"text-align: left\">R<sup>2</sup></td><td>0.0</td></tr><tr><td style=\"text-align: left\">Adjusted R<sup>2</sup></td><td>0.0</td></tr><tr><td style=\"text-align: left\">Residual Std. Error</td><td>0.4791(df = 226996.0)</td></tr><tr><td style=\"text-align: left\">F Statistic</td><td>[[3.7901]]<sup>*</sup>(df = 1.0; 226996.0)</td></tr><tr><td colspan=\"2\" style=\"border-bottom: 1px solid black\"></td></tr><tr><td style=\"text-align: left\">Note:</td><td colspan=\"1\" style=\"text-align: right\"><em>p&lt;0.1</em>; <b>p&lt;0.05</b>; p&lt;0.01</td></tr></table>"
      ],
      "text/plain": [
       "<IPython.core.display.HTML object>"
      ]
     },
     "execution_count": 71,
     "metadata": {},
     "output_type": "execute_result"
    }
   ],
   "source": [
    "HTML(stargazer.render_html())"
   ]
  },
  {
   "cell_type": "markdown",
   "metadata": {},
   "source": [
    "### OLS (control voting history, clustered SE)"
   ]
  },
  {
   "cell_type": "code",
   "execution_count": 72,
   "metadata": {},
   "outputs": [],
   "source": [
    "ols_ind=list(ols_data.loc[:,'treat_any_txt':'vf_pp2004'].head().columns)"
   ]
  },
  {
   "cell_type": "code",
   "execution_count": 73,
   "metadata": {},
   "outputs": [],
   "source": [
    "X = ols_data[ols_ind]"
   ]
  },
  {
   "cell_type": "code",
   "execution_count": 74,
   "metadata": {},
   "outputs": [],
   "source": [
    "X = sm.add_constant(X)"
   ]
  },
  {
   "cell_type": "code",
   "execution_count": 75,
   "metadata": {},
   "outputs": [],
   "source": [
    "y = ols_data['vf_g2016']"
   ]
  },
  {
   "cell_type": "code",
   "execution_count": 76,
   "metadata": {},
   "outputs": [],
   "source": [
    "ols_hist = sm.WLS(y, X).fit(cov_type='cluster', cov_kwds={'groups': ols_data['hh_id']})"
   ]
  },
  {
   "cell_type": "code",
   "execution_count": 77,
   "metadata": {},
   "outputs": [],
   "source": [
    "main_effect.append(ols_hist)\n",
    "stargazer = Stargazer(main_effect)\n",
    "stargazer.significant_digits(4)\n",
    "stargazer.custom_columns(['OLS', 'Control Past Vote'], [1,1])\n",
    "stargazer.covariate_order(['const', 'treat_any_txt'])\n",
    "stargazer.title('Main Effect')"
   ]
  },
  {
   "cell_type": "code",
   "execution_count": 86,
   "metadata": {},
   "outputs": [
    {
     "data": {
      "text/latex": [
       "\\begin{table}[!htbp] \\centering\n",
       "  \\caption{Main Effect}\n",
       "  \\label{}\n",
       "\\begin{tabular}{@{\\extracolsep{5pt}}lcc}\n",
       "\\\\[-1.8ex]\\hline\n",
       "\\hline \\\\[-1.8ex]\n",
       "& \\multicolumn{2}{c}{\\textit{Dependent variable:}} \\\n",
       "\\cr \\cline{2-3}\n",
       "\\\\[-1.8ex] & \\multicolumn{1}{c}{OLS} & \\multicolumn{1}{c}{Control Past Vote}  \\\\\n",
       "\\\\[-1.8ex] & (1) & (2) \\\\\n",
       "\\hline \\\\[-1.8ex]\n",
       " const & 0.6389$^{***}$ & 0.5529$^{***}$ \\\\\n",
       "  & (0.0024) & (0.0025) \\\\\n",
       "  & & \\\\\n",
       " treat_any_txt & 0.0052$^{*}$ & 0.0044$^{*}$ \\\\\n",
       "  & (0.0027) & (0.0026) \\\\\n",
       "  & & \\\\\n",
       "\\hline \\\\[-1.8ex]\n",
       " Observations & 226998.0 & 226998.0 \\\\\n",
       " R${2}$ & 0.0 & 0.0675 \\\\\n",
       " Adjusted R${2}$ & 0.0 & 0.0673 \\\\\n",
       " Residual Std. Error & 0.4791(df = 226996.0) & 0.4627(df = 226959.0)  \\\\\n",
       " F Statistic & [[3.7901]]$^{*}$ (df = 1.0; 226996.0) & [[708.4098]]$^{***}$ (df = 38.0; 226959.0) \\\\\n",
       "\\hline\n",
       "\\hline \\\\[-1.8ex]\n",
       "\\textit{Note:} & \\multicolumn{2}{r}{$^{*}$p$<$0.1; $^{**}$p$<$0.05; $^{***}$p$<$0.01} \\\\\n",
       "\\end{tabular}\n",
       "\\end{table}"
      ],
      "text/plain": [
       "<IPython.core.display.Latex object>"
      ]
     },
     "execution_count": 86,
     "metadata": {},
     "output_type": "execute_result"
    }
   ],
   "source": [
    "Latex(stargazer.render_latex())"
   ]
  },
  {
   "cell_type": "code",
   "execution_count": 78,
   "metadata": {},
   "outputs": [
    {
     "data": {
      "text/html": [
       "Main Effect<br><table style=\"text-align:center\"><tr><td colspan=\"3\" style=\"border-bottom: 1px solid black\"></td></tr><tr><td style=\"text-align:left\"></td><td colspan=\"2\"><em>Dependent variable:</em></td></tr><tr><td style=\"text-align:left\"></td><tr><td colspan=\"1\">OLS</td><td colspan=\"1\">Control Past Vote</td></tr><tr><td style=\"text-align:left\"></td><td>(1)</td><td>(2)</td></tr><tr><td colspan=\"3\" style=\"border-bottom: 1px solid black\"></td></tr><tr><td style=\"text-align:left\">const</td><td>0.6389<sup>***</sup></td><td>0.5529<sup>***</sup></td></tr><tr><td style=\"text-align:left\"></td><td>(0.0024)</td><td>(0.0025)</td></tr><tr><td style=\"text-align:left\">treat_any_txt</td><td>0.0052<sup>*</sup></td><td>0.0044<sup>*</sup></td></tr><tr><td style=\"text-align:left\"></td><td>(0.0027)</td><td>(0.0026)</td></tr><td colspan=\"3\" style=\"border-bottom: 1px solid black\"></td></tr><tr><td style=\"text-align: left\">Observations</td><td>226998.0</td><td>226998.0</td></tr><tr><td style=\"text-align: left\">R<sup>2</sup></td><td>0.0</td><td>0.0675</td></tr><tr><td style=\"text-align: left\">Adjusted R<sup>2</sup></td><td>0.0</td><td>0.0673</td></tr><tr><td style=\"text-align: left\">Residual Std. Error</td><td>0.4791(df = 226996.0)</td><td>0.4627(df = 226959.0)</td></tr><tr><td style=\"text-align: left\">F Statistic</td><td>[[3.7901]]<sup>*</sup>(df = 1.0; 226996.0)</td><td>[[708.4098]]<sup>***</sup>(df = 38.0; 226959.0)</td></tr><tr><td colspan=\"3\" style=\"border-bottom: 1px solid black\"></td></tr><tr><td style=\"text-align: left\">Note:</td><td colspan=\"2\" style=\"text-align: right\"><em>p&lt;0.1</em>; <b>p&lt;0.05</b>; p&lt;0.01</td></tr></table>"
      ],
      "text/plain": [
       "<IPython.core.display.HTML object>"
      ]
     },
     "execution_count": 78,
     "metadata": {},
     "output_type": "execute_result"
    }
   ],
   "source": [
    "HTML(stargazer.render_html())"
   ]
  },
  {
   "cell_type": "markdown",
   "metadata": {},
   "source": [
    "### 2SLS (assignemnt as instrument, control vote history and clustered SE)"
   ]
  },
  {
   "cell_type": "code",
   "execution_count": 79,
   "metadata": {},
   "outputs": [],
   "source": [
    "from linearmodels.iv import IV2SLS"
   ]
  },
  {
   "cell_type": "code",
   "execution_count": 80,
   "metadata": {},
   "outputs": [],
   "source": [
    "iv1_data= pd.concat([df.vf_g2016,df.got_any_text, \n",
    "                    df.treat_any_txt,df.hh_id,\n",
    "                    df.loc[:,'vf_g2014':'vf_pp2004']], axis=1).dropna()\n",
    "iv1_data['_cons'] = 1"
   ]
  },
  {
   "cell_type": "code",
   "execution_count": 81,
   "metadata": {},
   "outputs": [],
   "source": [
    "# exogenous regressors\n",
    "iv1w = list(iv1_data.loc[:,'vf_g2014':'_cons'].head().columns)"
   ]
  },
  {
   "cell_type": "code",
   "execution_count": 82,
   "metadata": {},
   "outputs": [],
   "source": [
    "ivresult1=IV2SLS(dependent=iv1_data['vf_g2016'],\n",
    "            exog=iv1_data[iv1w],\n",
    "            endog=iv1_data['got_any_text'],\n",
    "            instruments=iv1_data[['treat_any_txt']]).fit(cov_type='clustered', \n",
    "                                                         clusters=iv1_data.hh_id)"
   ]
  },
  {
   "cell_type": "code",
   "execution_count": 83,
   "metadata": {
    "scrolled": true
   },
   "outputs": [
    {
     "data": {
      "text/plain": [
       "'R square: 0.0675507'"
      ]
     },
     "execution_count": 83,
     "metadata": {},
     "output_type": "execute_result"
    }
   ],
   "source": [
    "# Report the R square\n",
    "'R square: {:.7f}'.format(ivresult1.rsquared)"
   ]
  },
  {
   "cell_type": "code",
   "execution_count": 84,
   "metadata": {},
   "outputs": [
    {
     "data": {
      "text/plain": [
       "'Total N: 226998'"
      ]
     },
     "execution_count": 84,
     "metadata": {},
     "output_type": "execute_result"
    }
   ],
   "source": [
    "'Total N: {}'.format(ivresult1.nobs)"
   ]
  },
  {
   "cell_type": "code",
   "execution_count": 85,
   "metadata": {
    "scrolled": false
   },
   "outputs": [
    {
     "data": {
      "text/html": [
       "<div>\n",
       "<style scoped>\n",
       "    .dataframe tbody tr th:only-of-type {\n",
       "        vertical-align: middle;\n",
       "    }\n",
       "\n",
       "    .dataframe tbody tr th {\n",
       "        vertical-align: top;\n",
       "    }\n",
       "\n",
       "    .dataframe thead th {\n",
       "        text-align: right;\n",
       "    }\n",
       "</style>\n",
       "<table border=\"1\" class=\"dataframe\">\n",
       "  <thead>\n",
       "    <tr style=\"text-align: right;\">\n",
       "      <th></th>\n",
       "      <th>Parameter</th>\n",
       "      <th>Std. Err.</th>\n",
       "      <th>T-stat</th>\n",
       "      <th>P-value</th>\n",
       "      <th>Lower CI</th>\n",
       "      <th>Upper CI</th>\n",
       "    </tr>\n",
       "  </thead>\n",
       "  <tbody>\n",
       "    <tr>\n",
       "      <td>got_any_text</td>\n",
       "      <td>0.0045</td>\n",
       "      <td>0.0027</td>\n",
       "      <td>1.7075</td>\n",
       "      <td>0.0877</td>\n",
       "      <td>-0.0007</td>\n",
       "      <td>0.0097</td>\n",
       "    </tr>\n",
       "    <tr>\n",
       "      <td>_cons</td>\n",
       "      <td>0.5529</td>\n",
       "      <td>0.0025</td>\n",
       "      <td>221.8300</td>\n",
       "      <td>0.0000</td>\n",
       "      <td>0.5480</td>\n",
       "      <td>0.5578</td>\n",
       "    </tr>\n",
       "  </tbody>\n",
       "</table>\n",
       "</div>"
      ],
      "text/plain": [
       "              Parameter  Std. Err.    T-stat  P-value  Lower CI  Upper CI\n",
       "got_any_text     0.0045     0.0027    1.7075   0.0877   -0.0007    0.0097\n",
       "_cons            0.5529     0.0025  221.8300   0.0000    0.5480    0.5578"
      ]
     },
     "execution_count": 85,
     "metadata": {},
     "output_type": "execute_result"
    }
   ],
   "source": [
    "# coefficients\n",
    "pd.read_html(ivresult1.summary.tables[1].as_html(), header=0, index_col=0)[0].loc[['got_any_text','_cons'],:]"
   ]
  },
  {
   "cell_type": "markdown",
   "metadata": {},
   "source": [
    "### Reported Result: 2SLS (`treat_ind` as instrument, control vote history and clustered SE)"
   ]
  },
  {
   "cell_type": "markdown",
   "metadata": {},
   "source": [
    "We used an instrumental variables regression with controls for past vote history in the 2014 through 2000 elections and clustered standard errors at the household level to estimate the effect of receiving a text on voter turnout. ​We estimate that receiving a message increased voter turnout among those who had operative phone numbers by **0.553 percentage points (standard error = 0.263, ​z​ = 2.10, one-tailed ​p​ = 0.017)**"
   ]
  },
  {
   "cell_type": "code",
   "execution_count": 92,
   "metadata": {},
   "outputs": [],
   "source": [
    "# 2SLS data\n",
    "i_treat_ind=pd.get_dummies(df.treat_ind, prefix='treat_ind')\n",
    "\n",
    "iv_data= pd.concat([df.vf_g2016,df.got_any_text, \n",
    "                    i_treat_ind,df.hh_id,\n",
    "                    df.loc[:,'vf_g2014':'vf_pp2004']], axis=1).dropna()\n",
    "\n",
    "\n",
    "iv_data['_cons']=1\n",
    "\n"
   ]
  },
  {
   "cell_type": "code",
   "execution_count": 93,
   "metadata": {},
   "outputs": [],
   "source": [
    "# exogenous regressors\n",
    "ivw = list(iv_data.loc[:,'vf_g2014':'_cons'].head().columns)\n",
    "\n",
    "# instrument(s)\n",
    "ivz = list(iv_data.loc[:,'treat_ind_2':'treat_ind_11'].head().columns)"
   ]
  },
  {
   "cell_type": "code",
   "execution_count": 94,
   "metadata": {},
   "outputs": [],
   "source": [
    "ivresult=IV2SLS(dependent=iv_data['vf_g2016'],\n",
    "            exog=iv_data[ivw],\n",
    "            endog=iv_data['got_any_text'],\n",
    "            instruments=iv_data[ivz]).fit(cov_type='clustered', \n",
    "                                                         clusters=iv_data.hh_id)"
   ]
  },
  {
   "cell_type": "code",
   "execution_count": 101,
   "metadata": {},
   "outputs": [
    {
     "data": {
      "text/plain": [
       "0.4626411352369512"
      ]
     },
     "execution_count": 101,
     "metadata": {},
     "output_type": "execute_result"
    }
   ],
   "source": [
    "((ivresult.resids**2).sum()/226959)**0.5"
   ]
  },
  {
   "cell_type": "code",
   "execution_count": 100,
   "metadata": {},
   "outputs": [
    {
     "data": {
      "text/plain": [
       "Model F-statistic\n",
       "H0: All parameters ex. constant are zero\n",
       "Statistic: 26926.6534\n",
       "P-value: 0.0000\n",
       "Distributed: chi2(38)\n",
       "WaldTestStatistic, id: 0x1c2ef75210"
      ]
     },
     "execution_count": 100,
     "metadata": {},
     "output_type": "execute_result"
    }
   ],
   "source": [
    "ivresult.f_statistic"
   ]
  },
  {
   "cell_type": "code",
   "execution_count": 98,
   "metadata": {},
   "outputs": [
    {
     "data": {
      "text/html": [
       "<table class=\"simpletable\">\n",
       "<caption>IV-2SLS Estimation Summary</caption>\n",
       "<tr>\n",
       "  <th>Dep. Variable:</th>        <td>vf_g2016</td>     <th>  R-squared:         </th>  <td>0.0676</td>  \n",
       "</tr>\n",
       "<tr>\n",
       "  <th>Estimator:</th>             <td>IV-2SLS</td>     <th>  Adj. R-squared:    </th>  <td>0.0674</td>  \n",
       "</tr>\n",
       "<tr>\n",
       "  <th>No. Observations:</th>      <td>226998</td>      <th>  F-statistic:       </th> <td>2.693e+04</td>\n",
       "</tr>\n",
       "<tr>\n",
       "  <th>Date:</th>             <td>Sat, Dec 14 2019</td> <th>  P-value (F-stat)   </th>  <td>0.0000</td>  \n",
       "</tr>\n",
       "<tr>\n",
       "  <th>Time:</th>                 <td>22:27:08</td>     <th>  Distribution:      </th> <td>chi2(38)</td> \n",
       "</tr>\n",
       "<tr>\n",
       "  <th>Cov. Estimator:</th>       <td>clustered</td>    <th>                     </th>     <td></td>     \n",
       "</tr>\n",
       "<tr>\n",
       "  <th></th>                          <td></td>         <th>                     </th>     <td></td>     \n",
       "</tr>\n",
       "</table>\n",
       "<table class=\"simpletable\">\n",
       "<caption>Parameter Estimates</caption>\n",
       "<tr>\n",
       "         <td></td>         <th>Parameter</th> <th>Std. Err.</th> <th>T-stat</th>  <th>P-value</th> <th>Lower CI</th> <th>Upper CI</th>\n",
       "</tr>\n",
       "<tr>\n",
       "  <th>vf_g2014</th>         <td>0.1322</td>    <td>0.0033</td>   <td>40.601</td>  <td>0.0000</td>   <td>0.1258</td>   <td>0.1386</td> \n",
       "</tr>\n",
       "<tr>\n",
       "  <th>vf_g2012</th>         <td>0.1241</td>    <td>0.0026</td>   <td>47.908</td>  <td>0.0000</td>   <td>0.1190</td>   <td>0.1291</td> \n",
       "</tr>\n",
       "<tr>\n",
       "  <th>vf_g2010</th>         <td>0.0387</td>    <td>0.0035</td>   <td>11.188</td>  <td>0.0000</td>   <td>0.0319</td>   <td>0.0455</td> \n",
       "</tr>\n",
       "<tr>\n",
       "  <th>vf_g2008</th>         <td>0.0392</td>    <td>0.0032</td>   <td>12.173</td>  <td>0.0000</td>   <td>0.0329</td>   <td>0.0455</td> \n",
       "</tr>\n",
       "<tr>\n",
       "  <th>vf_g2006</th>         <td>0.0320</td>    <td>0.0046</td>   <td>6.9734</td>  <td>0.0000</td>   <td>0.0230</td>   <td>0.0410</td> \n",
       "</tr>\n",
       "<tr>\n",
       "  <th>vf_g2004</th>         <td>0.0162</td>    <td>0.0042</td>   <td>3.8198</td>  <td>0.0001</td>   <td>0.0079</td>   <td>0.0245</td> \n",
       "</tr>\n",
       "<tr>\n",
       "  <th>vf_g2002</th>         <td>-0.0026</td>   <td>0.0062</td>   <td>-0.4174</td> <td>0.6764</td>   <td>-0.0147</td>  <td>0.0095</td> \n",
       "</tr>\n",
       "<tr>\n",
       "  <th>vf_g2000</th>         <td>0.0141</td>    <td>0.0055</td>   <td>2.5825</td>  <td>0.0098</td>   <td>0.0034</td>   <td>0.0248</td> \n",
       "</tr>\n",
       "<tr>\n",
       "  <th>vf_p2014</th>         <td>-0.0240</td>   <td>0.0101</td>   <td>-2.3699</td> <td>0.0178</td>   <td>-0.0438</td>  <td>-0.0041</td>\n",
       "</tr>\n",
       "<tr>\n",
       "  <th>vf_p2014_party</th>   <td>0.0388</td>    <td>0.0111</td>   <td>3.4938</td>  <td>0.0005</td>   <td>0.0170</td>   <td>0.0606</td> \n",
       "</tr>\n",
       "<tr>\n",
       "  <th>vf_p2012</th>         <td>-0.0482</td>   <td>0.0077</td>   <td>-6.2835</td> <td>0.0000</td>   <td>-0.0633</td>  <td>-0.0332</td>\n",
       "</tr>\n",
       "<tr>\n",
       "  <th>vf_p2012_party</th>   <td>0.0272</td>    <td>0.0091</td>   <td>2.9960</td>  <td>0.0027</td>   <td>0.0094</td>   <td>0.0450</td> \n",
       "</tr>\n",
       "<tr>\n",
       "  <th>vf_p2010</th>         <td>-0.0512</td>   <td>0.0093</td>   <td>-5.5004</td> <td>0.0000</td>   <td>-0.0694</td>  <td>-0.0329</td>\n",
       "</tr>\n",
       "<tr>\n",
       "  <th>vf_p2010_party</th>   <td>0.0437</td>    <td>0.0101</td>   <td>4.3474</td>  <td>0.0000</td>   <td>0.0240</td>   <td>0.0634</td> \n",
       "</tr>\n",
       "<tr>\n",
       "  <th>vf_p2008</th>         <td>-0.0378</td>   <td>0.0112</td>   <td>-3.3832</td> <td>0.0007</td>   <td>-0.0596</td>  <td>-0.0159</td>\n",
       "</tr>\n",
       "<tr>\n",
       "  <th>vf_p2008_party</th>   <td>-0.0079</td>   <td>0.0134</td>   <td>-0.5905</td> <td>0.5548</td>   <td>-0.0341</td>  <td>0.0183</td> \n",
       "</tr>\n",
       "<tr>\n",
       "  <th>vf_p2006</th>         <td>-0.0284</td>   <td>0.0111</td>   <td>-2.5691</td> <td>0.0102</td>   <td>-0.0501</td>  <td>-0.0067</td>\n",
       "</tr>\n",
       "<tr>\n",
       "  <th>vf_p2006_party</th>   <td>0.0116</td>    <td>0.0137</td>   <td>0.8484</td>  <td>0.3962</td>   <td>-0.0152</td>  <td>0.0384</td> \n",
       "</tr>\n",
       "<tr>\n",
       "  <th>vf_p2004</th>         <td>-0.0160</td>   <td>0.0115</td>   <td>-1.3928</td> <td>0.1637</td>   <td>-0.0385</td>  <td>0.0065</td> \n",
       "</tr>\n",
       "<tr>\n",
       "  <th>vf_p2004_party</th>   <td>-0.0192</td>   <td>0.0142</td>   <td>-1.3487</td> <td>0.1774</td>   <td>-0.0471</td>  <td>0.0087</td> \n",
       "</tr>\n",
       "<tr>\n",
       "  <th>vf_p2002</th>         <td>-0.0097</td>   <td>0.0086</td>   <td>-1.1281</td> <td>0.2593</td>   <td>-0.0267</td>  <td>0.0072</td> \n",
       "</tr>\n",
       "<tr>\n",
       "  <th>vf_p2002_party</th>   <td>0.0092</td>    <td>0.0428</td>   <td>0.2162</td>  <td>0.8289</td>   <td>-0.0746</td>  <td>0.0930</td> \n",
       "</tr>\n",
       "<tr>\n",
       "  <th>vf_p2000</th>         <td>-0.0273</td>   <td>0.0099</td>   <td>-2.7588</td> <td>0.0058</td>   <td>-0.0468</td>  <td>-0.0079</td>\n",
       "</tr>\n",
       "<tr>\n",
       "  <th>vf_p2000_party</th>   <td>-0.0788</td>   <td>0.0497</td>   <td>-1.5858</td> <td>0.1128</td>   <td>-0.1762</td>  <td>0.0186</td> \n",
       "</tr>\n",
       "<tr>\n",
       "  <th>vf_m2015</th>         <td>0.1349</td>    <td>0.0065</td>   <td>20.852</td>  <td>0.0000</td>   <td>0.1222</td>   <td>0.1476</td> \n",
       "</tr>\n",
       "<tr>\n",
       "  <th>vf_m2013</th>         <td>0.0089</td>    <td>0.0060</td>   <td>1.4835</td>  <td>0.1380</td>   <td>-0.0028</td>  <td>0.0206</td> \n",
       "</tr>\n",
       "<tr>\n",
       "  <th>vf_m2012</th>         <td>-0.0384</td>   <td>0.0188</td>   <td>-2.0384</td> <td>0.0415</td>   <td>-0.0753</td>  <td>-0.0015</td>\n",
       "</tr>\n",
       "<tr>\n",
       "  <th>vf_m2011</th>         <td>-0.0059</td>   <td>0.0058</td>   <td>-1.0188</td> <td>0.3083</td>   <td>-0.0172</td>  <td>0.0054</td> \n",
       "</tr>\n",
       "<tr>\n",
       "  <th>vf_m2010</th>         <td>-0.0111</td>   <td>0.0105</td>   <td>-1.0537</td> <td>0.2920</td>   <td>-0.0317</td>  <td>0.0095</td> \n",
       "</tr>\n",
       "<tr>\n",
       "  <th>vf_m2009</th>         <td>-0.0655</td>   <td>0.0148</td>   <td>-4.4197</td> <td>0.0000</td>   <td>-0.0946</td>  <td>-0.0365</td>\n",
       "</tr>\n",
       "<tr>\n",
       "  <th>vf_m2007</th>         <td>-0.0104</td>   <td>0.0218</td>   <td>-0.4782</td> <td>0.6325</td>   <td>-0.0530</td>  <td>0.0322</td> \n",
       "</tr>\n",
       "<tr>\n",
       "  <th>vf_pp2016</th>        <td>0.2482</td>    <td>0.0042</td>   <td>58.992</td>  <td>0.0000</td>   <td>0.2400</td>   <td>0.2565</td> \n",
       "</tr>\n",
       "<tr>\n",
       "  <th>vf_pp2016_party</th>  <td>-0.0046</td>   <td>0.0050</td>   <td>-0.9226</td> <td>0.3562</td>   <td>-0.0143</td>  <td>0.0051</td> \n",
       "</tr>\n",
       "<tr>\n",
       "  <th>vf_pp2012</th>        <td>-0.0277</td>   <td>0.0170</td>   <td>-1.6320</td> <td>0.1027</td>   <td>-0.0610</td>  <td>0.0056</td> \n",
       "</tr>\n",
       "<tr>\n",
       "  <th>vf_pp2008</th>        <td>0.0369</td>    <td>0.0070</td>   <td>5.2372</td>  <td>0.0000</td>   <td>0.0231</td>   <td>0.0507</td> \n",
       "</tr>\n",
       "<tr>\n",
       "  <th>vf_pp2008_party</th>  <td>-0.0253</td>   <td>0.0084</td>   <td>-2.9988</td> <td>0.0027</td>   <td>-0.0419</td>  <td>-0.0088</td>\n",
       "</tr>\n",
       "<tr>\n",
       "  <th>vf_pp2004</th>        <td>-0.0100</td>   <td>0.0093</td>   <td>-1.0825</td> <td>0.2790</td>   <td>-0.0282</td>  <td>0.0081</td> \n",
       "</tr>\n",
       "<tr>\n",
       "  <th>_cons</th>            <td>0.5521</td>    <td>0.0025</td>   <td>223.19</td>  <td>0.0000</td>   <td>0.5472</td>   <td>0.5569</td> \n",
       "</tr>\n",
       "<tr>\n",
       "  <th>got_any_text</th>     <td>0.0055</td>    <td>0.0026</td>   <td>2.1045</td>  <td>0.0353</td>   <td>0.0004</td>   <td>0.0107</td> \n",
       "</tr>\n",
       "</table><br/><br/>Endogenous: got_any_text<br/>Instruments: treat_ind_2, treat_ind_3, treat_ind_4, treat_ind_5, treat_ind_6, treat_ind_7, treat_ind_8, treat_ind_9, treat_ind_10, treat_ind_11<br/>Clustered Covariance (One-Way)<br/>Debiased: False<br/>Num Clusters: 207769<br/>id: 0x1c2ef754d0"
      ],
      "text/plain": [
       "                          IV-2SLS Estimation Summary                          \n",
       "==============================================================================\n",
       "Dep. Variable:               vf_g2016   R-squared:                      0.0676\n",
       "Estimator:                    IV-2SLS   Adj. R-squared:                 0.0674\n",
       "No. Observations:              226998   F-statistic:                 2.693e+04\n",
       "Date:                Sat, Dec 14 2019   P-value (F-stat)                0.0000\n",
       "Time:                        22:27:08   Distribution:                 chi2(38)\n",
       "Cov. Estimator:             clustered                                         \n",
       "                                                                              \n",
       "                                Parameter Estimates                                \n",
       "===================================================================================\n",
       "                 Parameter  Std. Err.     T-stat    P-value    Lower CI    Upper CI\n",
       "-----------------------------------------------------------------------------------\n",
       "vf_g2014            0.1322     0.0033     40.601     0.0000      0.1258      0.1386\n",
       "vf_g2012            0.1241     0.0026     47.908     0.0000      0.1190      0.1291\n",
       "vf_g2010            0.0387     0.0035     11.188     0.0000      0.0319      0.0455\n",
       "vf_g2008            0.0392     0.0032     12.173     0.0000      0.0329      0.0455\n",
       "vf_g2006            0.0320     0.0046     6.9734     0.0000      0.0230      0.0410\n",
       "vf_g2004            0.0162     0.0042     3.8198     0.0001      0.0079      0.0245\n",
       "vf_g2002           -0.0026     0.0062    -0.4174     0.6764     -0.0147      0.0095\n",
       "vf_g2000            0.0141     0.0055     2.5825     0.0098      0.0034      0.0248\n",
       "vf_p2014           -0.0240     0.0101    -2.3699     0.0178     -0.0438     -0.0041\n",
       "vf_p2014_party      0.0388     0.0111     3.4938     0.0005      0.0170      0.0606\n",
       "vf_p2012           -0.0482     0.0077    -6.2835     0.0000     -0.0633     -0.0332\n",
       "vf_p2012_party      0.0272     0.0091     2.9960     0.0027      0.0094      0.0450\n",
       "vf_p2010           -0.0512     0.0093    -5.5004     0.0000     -0.0694     -0.0329\n",
       "vf_p2010_party      0.0437     0.0101     4.3474     0.0000      0.0240      0.0634\n",
       "vf_p2008           -0.0378     0.0112    -3.3832     0.0007     -0.0596     -0.0159\n",
       "vf_p2008_party     -0.0079     0.0134    -0.5905     0.5548     -0.0341      0.0183\n",
       "vf_p2006           -0.0284     0.0111    -2.5691     0.0102     -0.0501     -0.0067\n",
       "vf_p2006_party      0.0116     0.0137     0.8484     0.3962     -0.0152      0.0384\n",
       "vf_p2004           -0.0160     0.0115    -1.3928     0.1637     -0.0385      0.0065\n",
       "vf_p2004_party     -0.0192     0.0142    -1.3487     0.1774     -0.0471      0.0087\n",
       "vf_p2002           -0.0097     0.0086    -1.1281     0.2593     -0.0267      0.0072\n",
       "vf_p2002_party      0.0092     0.0428     0.2162     0.8289     -0.0746      0.0930\n",
       "vf_p2000           -0.0273     0.0099    -2.7588     0.0058     -0.0468     -0.0079\n",
       "vf_p2000_party     -0.0788     0.0497    -1.5858     0.1128     -0.1762      0.0186\n",
       "vf_m2015            0.1349     0.0065     20.852     0.0000      0.1222      0.1476\n",
       "vf_m2013            0.0089     0.0060     1.4835     0.1380     -0.0028      0.0206\n",
       "vf_m2012           -0.0384     0.0188    -2.0384     0.0415     -0.0753     -0.0015\n",
       "vf_m2011           -0.0059     0.0058    -1.0188     0.3083     -0.0172      0.0054\n",
       "vf_m2010           -0.0111     0.0105    -1.0537     0.2920     -0.0317      0.0095\n",
       "vf_m2009           -0.0655     0.0148    -4.4197     0.0000     -0.0946     -0.0365\n",
       "vf_m2007           -0.0104     0.0218    -0.4782     0.6325     -0.0530      0.0322\n",
       "vf_pp2016           0.2482     0.0042     58.992     0.0000      0.2400      0.2565\n",
       "vf_pp2016_party    -0.0046     0.0050    -0.9226     0.3562     -0.0143      0.0051\n",
       "vf_pp2012          -0.0277     0.0170    -1.6320     0.1027     -0.0610      0.0056\n",
       "vf_pp2008           0.0369     0.0070     5.2372     0.0000      0.0231      0.0507\n",
       "vf_pp2008_party    -0.0253     0.0084    -2.9988     0.0027     -0.0419     -0.0088\n",
       "vf_pp2004          -0.0100     0.0093    -1.0825     0.2790     -0.0282      0.0081\n",
       "_cons               0.5521     0.0025     223.19     0.0000      0.5472      0.5569\n",
       "got_any_text        0.0055     0.0026     2.1045     0.0353      0.0004      0.0107\n",
       "===================================================================================\n",
       "\n",
       "Endogenous: got_any_text\n",
       "Instruments: treat_ind_2, treat_ind_3, treat_ind_4, treat_ind_5, treat_ind_6, treat_ind_7, treat_ind_8, treat_ind_9, treat_ind_10, treat_ind_11\n",
       "Clustered Covariance (One-Way)\n",
       "Debiased: False\n",
       "Num Clusters: 207769\n",
       "IVResults, id: 0x1c2ef754d0"
      ]
     },
     "execution_count": 98,
     "metadata": {},
     "output_type": "execute_result"
    }
   ],
   "source": [
    "ivresult"
   ]
  },
  {
   "cell_type": "code",
   "execution_count": 96,
   "metadata": {
    "scrolled": true
   },
   "outputs": [
    {
     "data": {
      "text/plain": [
       "'R square: 0.0675644'"
      ]
     },
     "execution_count": 96,
     "metadata": {},
     "output_type": "execute_result"
    }
   ],
   "source": [
    "# Report the R square\n",
    "'R square: {:.7f}'.format(ivresult.rsquared)"
   ]
  },
  {
   "cell_type": "code",
   "execution_count": 160,
   "metadata": {},
   "outputs": [
    {
     "data": {
      "text/plain": [
       "'Total N: 226998'"
      ]
     },
     "execution_count": 160,
     "metadata": {},
     "output_type": "execute_result"
    }
   ],
   "source": [
    "'Total N: {}'.format(ivresult.nobs)"
   ]
  },
  {
   "cell_type": "code",
   "execution_count": 161,
   "metadata": {
    "scrolled": true
   },
   "outputs": [
    {
     "data": {
      "text/html": [
       "<div>\n",
       "<style scoped>\n",
       "    .dataframe tbody tr th:only-of-type {\n",
       "        vertical-align: middle;\n",
       "    }\n",
       "\n",
       "    .dataframe tbody tr th {\n",
       "        vertical-align: top;\n",
       "    }\n",
       "\n",
       "    .dataframe thead th {\n",
       "        text-align: right;\n",
       "    }\n",
       "</style>\n",
       "<table border=\"1\" class=\"dataframe\">\n",
       "  <thead>\n",
       "    <tr style=\"text-align: right;\">\n",
       "      <th></th>\n",
       "      <th>Parameter</th>\n",
       "      <th>Std. Err.</th>\n",
       "      <th>T-stat</th>\n",
       "      <th>P-value</th>\n",
       "      <th>Lower CI</th>\n",
       "      <th>Upper CI</th>\n",
       "    </tr>\n",
       "  </thead>\n",
       "  <tbody>\n",
       "    <tr>\n",
       "      <td>got_any_text</td>\n",
       "      <td>0.0055</td>\n",
       "      <td>0.0026</td>\n",
       "      <td>2.1045</td>\n",
       "      <td>0.0353</td>\n",
       "      <td>0.0004</td>\n",
       "      <td>0.0107</td>\n",
       "    </tr>\n",
       "    <tr>\n",
       "      <td>_cons</td>\n",
       "      <td>0.5521</td>\n",
       "      <td>0.0025</td>\n",
       "      <td>223.1900</td>\n",
       "      <td>0.0000</td>\n",
       "      <td>0.5472</td>\n",
       "      <td>0.5569</td>\n",
       "    </tr>\n",
       "  </tbody>\n",
       "</table>\n",
       "</div>"
      ],
      "text/plain": [
       "              Parameter  Std. Err.   T-stat  P-value  Lower CI  Upper CI\n",
       "got_any_text     0.0055     0.0026   2.1045   0.0353    0.0004    0.0107\n",
       "_cons            0.5521     0.0025 223.1900   0.0000    0.5472    0.5569"
      ]
     },
     "execution_count": 161,
     "metadata": {},
     "output_type": "execute_result"
    }
   ],
   "source": [
    "# coefficients\n",
    "pd.read_html(ivresult.summary.tables[1].as_html(), header=0, index_col=0)[0].loc[['got_any_text','_cons'],:]"
   ]
  },
  {
   "cell_type": "markdown",
   "metadata": {},
   "source": [
    "# Machine Learning"
   ]
  },
  {
   "cell_type": "markdown",
   "metadata": {},
   "source": [
    "## Meta-Learners"
   ]
  },
  {
   "cell_type": "markdown",
   "metadata": {},
   "source": [
    "Metalearners are binary treatment Conditional Average Treatment Effect (CATE) estimators, which build on base algorithms such as random forests (RFs), Bayesian additive regression trees (BARTs) to estimate the CATE."
   ]
  },
  {
   "cell_type": "markdown",
   "metadata": {},
   "source": [
    "Following the recommendation in [paper](https://arxiv.org/pdf/1706.03461.pdf), we use the Random Forest as the base algorithm for the super-learner (T-learner and X-learner)"
   ]
  },
  {
   "cell_type": "markdown",
   "metadata": {},
   "source": [
    "Compute potential untreated outcome for treatment group, potential treated outcome for control group, and calculate individual treatment effects (ITEs)"
   ]
  },
  {
   "cell_type": "code",
   "execution_count": 35,
   "metadata": {
    "code_folding": []
   },
   "outputs": [],
   "source": [
    "# Outcome: Voter Turn out in 2016\n",
    "Y = np.array(df[df.vf_g2016.isna()==False]['vf_g2016'].astype(int))\n",
    "\n",
    "# Treatment: Text Messaging\n",
    "T = np.array(df[df.vf_g2016.isna()==False]['treat_any_txt'])\n",
    "\n",
    "# Covariates\n",
    "X =np.array(df.loc[df.vf_g2016.isna()==False,['vote_propensity']])\n",
    "\n",
    "# Meta Learner Library\n",
    "from econml.metalearners import XLearner\n",
    "\n",
    "# Base Algorithm Library\n",
    "from sklearn.ensemble import RandomForestRegressor, RandomForestClassifier, GradientBoostingRegressor\n",
    "import matplotlib.pyplot as plt\n",
    "import seaborn as sns\n",
    "\n",
    "n=X.shape[0]"
   ]
  },
  {
   "cell_type": "code",
   "execution_count": 36,
   "metadata": {},
   "outputs": [],
   "source": [
    "# Instantiate X learner\n",
    "controls_model = GradientBoostingRegressor(n_estimators=100, \n",
    "                                           max_depth=6, \n",
    "                                           min_samples_leaf=int(n/1000))\n",
    "treated_model = GradientBoostingRegressor(n_estimators=100, \n",
    "                                          max_depth=6, \n",
    "                                          min_samples_leaf=int(n/1000))\n",
    "propensity_model = RandomForestClassifier(n_estimators=100, \n",
    "                                          max_depth=6, \n",
    "                                        min_samples_leaf=int(n/1000),\n",
    "                                        class_weight='balanced_subsample')\n",
    "X_learner = XLearner(controls_model=controls_model, \n",
    "                     treated_model=treated_model, \n",
    "                     propensity_model=propensity_model)\n",
    "# Train X_learner\n",
    "X_learner.fit(Y, T, X)\n",
    "# Estimate treatment effects on test data\n",
    "X_te = X_learner.effect(X)"
   ]
  },
  {
   "cell_type": "markdown",
   "metadata": {},
   "source": [
    "## Cross tables vote propensity and estimated ITE"
   ]
  },
  {
   "cell_type": "code",
   "execution_count": 3,
   "metadata": {},
   "outputs": [],
   "source": [
    "learner_df = pd.read_csv('../../Machine Learing HTE/1_data/az_one/AZ_one_with_ITEs.csv')"
   ]
  },
  {
   "cell_type": "code",
   "execution_count": 38,
   "metadata": {},
   "outputs": [],
   "source": [
    "learner_df = pd.DataFrame({'Propensity': X[:, 0],\n",
    "                          'ITE':X_te,\n",
    "                         'Treatment':T,\n",
    "                         'Turnout': Y,\n",
    "             'hh_id': df[df.vf_g2016.isna()==False]['hh_id']})"
   ]
  },
  {
   "cell_type": "code",
   "execution_count": 5,
   "metadata": {
    "scrolled": true
   },
   "outputs": [
    {
     "data": {
      "text/plain": [
       "(226998, 7)"
      ]
     },
     "execution_count": 5,
     "metadata": {},
     "output_type": "execute_result"
    }
   ],
   "source": [
    "learner_df.shape"
   ]
  },
  {
   "cell_type": "code",
   "execution_count": 4,
   "metadata": {},
   "outputs": [
    {
     "data": {
      "text/html": [
       "<div>\n",
       "<style scoped>\n",
       "    .dataframe tbody tr th:only-of-type {\n",
       "        vertical-align: middle;\n",
       "    }\n",
       "\n",
       "    .dataframe tbody tr th {\n",
       "        vertical-align: top;\n",
       "    }\n",
       "\n",
       "    .dataframe thead th {\n",
       "        text-align: right;\n",
       "    }\n",
       "</style>\n",
       "<table border=\"1\" class=\"dataframe\">\n",
       "  <thead>\n",
       "    <tr style=\"text-align: right;\">\n",
       "      <th></th>\n",
       "      <th>Propensity</th>\n",
       "      <th>ITE</th>\n",
       "      <th>Treatment</th>\n",
       "      <th>Turnout</th>\n",
       "      <th>hh_id</th>\n",
       "      <th>Propensity_square</th>\n",
       "      <th>Propensity Range</th>\n",
       "    </tr>\n",
       "  </thead>\n",
       "  <tbody>\n",
       "    <tr>\n",
       "      <td>0</td>\n",
       "      <td>0.836493</td>\n",
       "      <td>0.009200</td>\n",
       "      <td>1</td>\n",
       "      <td>0</td>\n",
       "      <td>24321</td>\n",
       "      <td>0.699721</td>\n",
       "      <td>(0.8, 0.9]</td>\n",
       "    </tr>\n",
       "    <tr>\n",
       "      <td>1</td>\n",
       "      <td>0.549410</td>\n",
       "      <td>0.005665</td>\n",
       "      <td>1</td>\n",
       "      <td>0</td>\n",
       "      <td>54491</td>\n",
       "      <td>0.301851</td>\n",
       "      <td>(0.5, 0.6]</td>\n",
       "    </tr>\n",
       "    <tr>\n",
       "      <td>2</td>\n",
       "      <td>0.659421</td>\n",
       "      <td>0.004999</td>\n",
       "      <td>1</td>\n",
       "      <td>0</td>\n",
       "      <td>167763</td>\n",
       "      <td>0.434837</td>\n",
       "      <td>(0.6, 0.7]</td>\n",
       "    </tr>\n",
       "    <tr>\n",
       "      <td>3</td>\n",
       "      <td>0.549410</td>\n",
       "      <td>0.005665</td>\n",
       "      <td>1</td>\n",
       "      <td>0</td>\n",
       "      <td>233259</td>\n",
       "      <td>0.301851</td>\n",
       "      <td>(0.5, 0.6]</td>\n",
       "    </tr>\n",
       "    <tr>\n",
       "      <td>4</td>\n",
       "      <td>0.549410</td>\n",
       "      <td>0.005665</td>\n",
       "      <td>0</td>\n",
       "      <td>1</td>\n",
       "      <td>2300</td>\n",
       "      <td>0.301851</td>\n",
       "      <td>(0.5, 0.6]</td>\n",
       "    </tr>\n",
       "  </tbody>\n",
       "</table>\n",
       "</div>"
      ],
      "text/plain": [
       "   Propensity       ITE  Treatment  Turnout   hh_id  Propensity_square  \\\n",
       "0    0.836493  0.009200          1        0   24321           0.699721   \n",
       "1    0.549410  0.005665          1        0   54491           0.301851   \n",
       "2    0.659421  0.004999          1        0  167763           0.434837   \n",
       "3    0.549410  0.005665          1        0  233259           0.301851   \n",
       "4    0.549410  0.005665          0        1    2300           0.301851   \n",
       "\n",
       "  Propensity Range  \n",
       "0       (0.8, 0.9]  \n",
       "1       (0.5, 0.6]  \n",
       "2       (0.6, 0.7]  \n",
       "3       (0.5, 0.6]  \n",
       "4       (0.5, 0.6]  "
      ]
     },
     "execution_count": 4,
     "metadata": {},
     "output_type": "execute_result"
    }
   ],
   "source": [
    "learner_df.head()"
   ]
  },
  {
   "cell_type": "code",
   "execution_count": 126,
   "metadata": {},
   "outputs": [],
   "source": [
    "learner_df.to_csv('../../Machine Learing HTE/1_data/az_one/AZ_one_with_ITEs.csv', index=False)"
   ]
  },
  {
   "cell_type": "code",
   "execution_count": 7,
   "metadata": {},
   "outputs": [],
   "source": [
    "learner_df['Propensity Range']=pd.cut(learner_df['Propensity'], np.arange(0,1.1,0.1))"
   ]
  },
  {
   "cell_type": "code",
   "execution_count": 8,
   "metadata": {},
   "outputs": [],
   "source": [
    "def p_latex(x, cap):\n",
    "    latex_string = '\\\\begin{table}[ht]\\\\centering\\n\\\\caption{' + cap +'}\\n'  \n",
    "    latex_string = latex_string+x.to_latex().\\\n",
    "    replace('\\\\toprule','\\\\hline\\\\hline\\\\\\\\[-1em]').\\\n",
    "    replace('\\\\bottomrule', '\\\\hline \\\\hline') +'\\\\end{table}'\n",
    "    return Latex(latex_string)"
   ]
  },
  {
   "cell_type": "code",
   "execution_count": 16,
   "metadata": {
    "scrolled": true
   },
   "outputs": [],
   "source": [
    "# Vote trunout by vote propensity socre and treatment assignment\n",
    "\n",
    "ct_ite = learner_df.\\\n",
    "groupby(['Propensity Range']).ITE. \\\n",
    "agg({\n",
    "     'ITE':[('Average Estimated ITE',np.mean),\n",
    "                         ('Group Size','count'),\n",
    "                         ('Proportion to Subject Pool', lambda x: x.size/226998)]})"
   ]
  },
  {
   "cell_type": "code",
   "execution_count": 17,
   "metadata": {},
   "outputs": [],
   "source": [
    "pd.options.display.float_format = '{:.3%}'.format"
   ]
  },
  {
   "cell_type": "code",
   "execution_count": 18,
   "metadata": {},
   "outputs": [
    {
     "data": {
      "text/latex": [
       "\\begin{table}[ht]\\centering\n",
       "\\caption{Cross table between vote propensity and estimated ITE}\n",
       "\\begin{tabular}{lrrr}\n",
       "\\hline\\hline\\\\[-1em]\n",
       "{} & \\multicolumn{3}{l}{ITE} \\\\\n",
       "{} & Average Estimated ITE & Group Size & Proportion to Subject Pool \\\\\n",
       "Propensity Range &                       &            &                            \\\\\n",
       "\\midrule\n",
       "(0.0, 0.1]       &               53.412\\% &        519 &                     0.229\\% \\\\\n",
       "(0.1, 0.2]       &               49.705\\% &        248 &                     0.109\\% \\\\\n",
       "(0.2, 0.3]       &               46.143\\% &        357 &                     0.157\\% \\\\\n",
       "(0.3, 0.4]       &               42.569\\% &        525 &                     0.231\\% \\\\\n",
       "(0.4, 0.5]       &                5.198\\% &       2668 &                     1.175\\% \\\\\n",
       "(0.5, 0.6]       &                0.613\\% &     134914 &                    59.434\\% \\\\\n",
       "(0.6, 0.7]       &                0.423\\% &      26035 &                    11.469\\% \\\\\n",
       "(0.7, 0.8]       &                0.661\\% &      18198 &                     8.017\\% \\\\\n",
       "(0.8, 0.9]       &               -0.558\\% &      29089 &                    12.815\\% \\\\\n",
       "(0.9, 1.0]       &               -5.514\\% &      14445 &                     6.363\\% \\\\\n",
       "\\hline \\hline\n",
       "\\end{tabular}\n",
       "\\end{table}"
      ],
      "text/plain": [
       "<IPython.core.display.Latex object>"
      ]
     },
     "execution_count": 18,
     "metadata": {},
     "output_type": "execute_result"
    }
   ],
   "source": [
    "p_latex(ct_ite, \"Cross table between vote propensity and estimated ITE\")"
   ]
  },
  {
   "cell_type": "markdown",
   "metadata": {},
   "source": [
    "## Fit on Estimated ITE"
   ]
  },
  {
   "cell_type": "code",
   "execution_count": 19,
   "metadata": {},
   "outputs": [],
   "source": [
    "learner_df['Propensity_square'] = learner_df.Propensity*learner_df.Propensity"
   ]
  },
  {
   "cell_type": "code",
   "execution_count": 28,
   "metadata": {},
   "outputs": [],
   "source": [
    "y = learner_df['ITE']"
   ]
  },
  {
   "cell_type": "code",
   "execution_count": 35,
   "metadata": {
    "scrolled": true
   },
   "outputs": [
    {
     "data": {
      "text/html": [
       "<div>\n",
       "<style scoped>\n",
       "    .dataframe tbody tr th:only-of-type {\n",
       "        vertical-align: middle;\n",
       "    }\n",
       "\n",
       "    .dataframe tbody tr th {\n",
       "        vertical-align: top;\n",
       "    }\n",
       "\n",
       "    .dataframe thead th {\n",
       "        text-align: right;\n",
       "    }\n",
       "</style>\n",
       "<table border=\"1\" class=\"dataframe\">\n",
       "  <thead>\n",
       "    <tr style=\"text-align: right;\">\n",
       "      <th></th>\n",
       "      <th>Propensity</th>\n",
       "      <th>ITE</th>\n",
       "      <th>Treatment</th>\n",
       "      <th>Turnout</th>\n",
       "      <th>hh_id</th>\n",
       "      <th>Propensity_square</th>\n",
       "      <th>Propensity Range</th>\n",
       "    </tr>\n",
       "  </thead>\n",
       "  <tbody>\n",
       "    <tr>\n",
       "      <td>0</td>\n",
       "      <td>83.649%</td>\n",
       "      <td>0.920%</td>\n",
       "      <td>1</td>\n",
       "      <td>0</td>\n",
       "      <td>24321</td>\n",
       "      <td>69.972%</td>\n",
       "      <td>(0.8, 0.9]</td>\n",
       "    </tr>\n",
       "    <tr>\n",
       "      <td>1</td>\n",
       "      <td>54.941%</td>\n",
       "      <td>0.567%</td>\n",
       "      <td>1</td>\n",
       "      <td>0</td>\n",
       "      <td>54491</td>\n",
       "      <td>30.185%</td>\n",
       "      <td>(0.5, 0.6]</td>\n",
       "    </tr>\n",
       "    <tr>\n",
       "      <td>2</td>\n",
       "      <td>65.942%</td>\n",
       "      <td>0.500%</td>\n",
       "      <td>1</td>\n",
       "      <td>0</td>\n",
       "      <td>167763</td>\n",
       "      <td>43.484%</td>\n",
       "      <td>(0.6, 0.7]</td>\n",
       "    </tr>\n",
       "    <tr>\n",
       "      <td>3</td>\n",
       "      <td>54.941%</td>\n",
       "      <td>0.567%</td>\n",
       "      <td>1</td>\n",
       "      <td>0</td>\n",
       "      <td>233259</td>\n",
       "      <td>30.185%</td>\n",
       "      <td>(0.5, 0.6]</td>\n",
       "    </tr>\n",
       "    <tr>\n",
       "      <td>4</td>\n",
       "      <td>54.941%</td>\n",
       "      <td>0.567%</td>\n",
       "      <td>0</td>\n",
       "      <td>1</td>\n",
       "      <td>2300</td>\n",
       "      <td>30.185%</td>\n",
       "      <td>(0.5, 0.6]</td>\n",
       "    </tr>\n",
       "  </tbody>\n",
       "</table>\n",
       "</div>"
      ],
      "text/plain": [
       "   Propensity    ITE  Treatment  Turnout   hh_id  Propensity_square  \\\n",
       "0     83.649% 0.920%          1        0   24321            69.972%   \n",
       "1     54.941% 0.567%          1        0   54491            30.185%   \n",
       "2     65.942% 0.500%          1        0  167763            43.484%   \n",
       "3     54.941% 0.567%          1        0  233259            30.185%   \n",
       "4     54.941% 0.567%          0        1    2300            30.185%   \n",
       "\n",
       "  Propensity Range  \n",
       "0       (0.8, 0.9]  \n",
       "1       (0.5, 0.6]  \n",
       "2       (0.6, 0.7]  \n",
       "3       (0.5, 0.6]  \n",
       "4       (0.5, 0.6]  "
      ]
     },
     "execution_count": 35,
     "metadata": {},
     "output_type": "execute_result"
    }
   ],
   "source": [
    "learner_df.head()"
   ]
  },
  {
   "cell_type": "code",
   "execution_count": 53,
   "metadata": {},
   "outputs": [],
   "source": [
    "X = learner_df[['Propensity']]\n",
    "X = sm.add_constant(X)"
   ]
  },
  {
   "cell_type": "code",
   "execution_count": 82,
   "metadata": {},
   "outputs": [],
   "source": [
    "ols = sm.OLS(y, X).fit(cov_type='cluster', cov_kwds={'groups': learner_df['hh_id']})"
   ]
  },
  {
   "cell_type": "code",
   "execution_count": 32,
   "metadata": {},
   "outputs": [],
   "source": [
    "X = learner_df[learner_df.Propensity>0.5][['Propensity']]\n",
    "X = sm.add_constant(X)\n",
    "y = learner_df[learner_df.Propensity>0.5]['ITE']"
   ]
  },
  {
   "cell_type": "code",
   "execution_count": 33,
   "metadata": {},
   "outputs": [],
   "source": [
    "ols_above = sm.OLS(y, X).fit(cov_type='cluster', cov_kwds={'groups': learner_df[learner_df.Propensity>0.5]['hh_id']})"
   ]
  },
  {
   "cell_type": "code",
   "execution_count": 68,
   "metadata": {},
   "outputs": [],
   "source": [
    "y = learner_df['ITE']\n",
    "X = learner_df[['Propensity_square','Propensity']]\n",
    "X = sm.add_constant(X)"
   ]
  },
  {
   "cell_type": "code",
   "execution_count": 69,
   "metadata": {},
   "outputs": [],
   "source": [
    "ols2 = sm.OLS(y, X).fit(cov_type='cluster', cov_kwds={'groups': learner_df['hh_id']})"
   ]
  },
  {
   "cell_type": "code",
   "execution_count": 54,
   "metadata": {},
   "outputs": [
    {
     "data": {
      "text/plain": [
       "-0.05426738476376394"
      ]
     },
     "execution_count": 54,
     "metadata": {},
     "output_type": "execute_result"
    }
   ],
   "source": [
    "min(ols.predict(X))"
   ]
  },
  {
   "cell_type": "code",
   "execution_count": 51,
   "metadata": {},
   "outputs": [
    {
     "data": {
      "text/plain": [
       "-0.031100132944546367"
      ]
     },
     "execution_count": 51,
     "metadata": {},
     "output_type": "execute_result"
    }
   ],
   "source": [
    "min(ols2.predict(X))"
   ]
  },
  {
   "cell_type": "code",
   "execution_count": 39,
   "metadata": {},
   "outputs": [],
   "source": [
    "X = learner_df[learner_df.Propensity>0.5][['Propensity_square','Propensity']]\n",
    "X = sm.add_constant(X)\n",
    "y = learner_df[learner_df.Propensity>0.5]['ITE']"
   ]
  },
  {
   "cell_type": "code",
   "execution_count": 40,
   "metadata": {},
   "outputs": [],
   "source": [
    "ols2_above = sm.OLS(y, X).fit(cov_type='cluster', cov_kwds={'groups': learner_df[learner_df.Propensity>0.5]['hh_id']})"
   ]
  },
  {
   "cell_type": "code",
   "execution_count": 47,
   "metadata": {},
   "outputs": [],
   "source": [
    "stargazer = Stargazer([ols, ols2])\n",
    "stargazer.significant_digits(4)\n",
    "stargazer.title('Regress ITE on Vote Propensity')"
   ]
  },
  {
   "cell_type": "code",
   "execution_count": 48,
   "metadata": {},
   "outputs": [
    {
     "data": {
      "text/latex": [
       "\\begin{table}[!htbp] \\centering\n",
       "  \\caption{Regress ITE on Vote Propensity}\n",
       "  \\label{}\n",
       "\\begin{tabular}{@{\\extracolsep{5pt}}lcc}\n",
       "\\\\[-1.8ex]\\hline\n",
       "\\hline \\\\[-1.8ex]\n",
       "& \\multicolumn{2}{c}{\\textit{Dependent variable:}} \\\n",
       "\\cr \\cline{2-3}\n",
       "\\\\[-1.8ex] & (1) & (2) \\\\\n",
       "\\hline \\\\[-1.8ex]\n",
       " Propensity & -0.1629$^{***}$ & -1.273$^{***}$ \\\\\n",
       "  & (0.0018) & (0.0128) \\\\\n",
       "  & & \\\\\n",
       " Propensity_square & & 0.8008$^{***}$ \\\\\n",
       "  & & (0.0088) \\\\\n",
       "  & & \\\\\n",
       " const & 0.1086$^{***}$ & 0.4748$^{***}$ \\\\\n",
       "  & (0.0012) & (0.0044) \\\\\n",
       "  & & \\\\\n",
       "\\hline \\\\[-1.8ex]\n",
       " Observations & 226998.0 & 226998.0 \\\\\n",
       " R${2}$ & 0.2523 & 0.5086 \\\\\n",
       " Adjusted R${2}$ & 0.2523 & 0.5086 \\\\\n",
       " Residual Std. Error & 0.0399(df = 226996.0) & 0.0324(df = 226995.0)  \\\\\n",
       " F Statistic & [[8585.8722]]$^{***}$ (df = 1.0; 226996.0) & [[14021.9121]]$^{***}$ (df = 2.0; 226995.0) \\\\\n",
       "\\hline\n",
       "\\hline \\\\[-1.8ex]\n",
       "\\textit{Note:} & \\multicolumn{2}{r}{$^{*}$p$<$0.1; $^{**}$p$<$0.05; $^{***}$p$<$0.01} \\\\\n",
       "\\end{tabular}\n",
       "\\end{table}"
      ],
      "text/plain": [
       "<IPython.core.display.Latex object>"
      ]
     },
     "execution_count": 48,
     "metadata": {},
     "output_type": "execute_result"
    }
   ],
   "source": [
    "Latex(stargazer.render_latex())"
   ]
  },
  {
   "cell_type": "code",
   "execution_count": 55,
   "metadata": {},
   "outputs": [
    {
     "data": {
      "text/plain": [
       "0.7948301698301699"
      ]
     },
     "execution_count": 55,
     "metadata": {},
     "output_type": "execute_result"
    }
   ],
   "source": [
    "-1.273/(-0.8008*2)"
   ]
  },
  {
   "cell_type": "code",
   "execution_count": 46,
   "metadata": {
    "scrolled": true
   },
   "outputs": [
    {
     "data": {
      "text/html": [
       "ITE<br><table style=\"text-align:center\"><tr><td colspan=\"3\" style=\"border-bottom: 1px solid black\"></td></tr><tr><td style=\"text-align:left\"></td><td colspan=\"2\"><em>Dependent variable:</em></td></tr><tr><td style=\"text-align:left\"></td><tr><td style=\"text-align:left\"></td><td>(1)</td><td>(2)</td></tr><tr><td colspan=\"3\" style=\"border-bottom: 1px solid black\"></td></tr><tr><td style=\"text-align:left\">Propensity</td><td>-0.1629<sup>***</sup></td><td>-1.273<sup>***</sup></td></tr><tr><td style=\"text-align:left\"></td><td>(0.0018)</td><td>(0.0128)</td></tr><tr><td style=\"text-align:left\">Propensity_square</td><td></td><td>0.8008<sup>***</sup></td></tr><tr><td style=\"text-align:left\"></td><td></td><td>(0.0088)</td></tr><tr><td style=\"text-align:left\">const</td><td>0.1086<sup>***</sup></td><td>0.4748<sup>***</sup></td></tr><tr><td style=\"text-align:left\"></td><td>(0.0012)</td><td>(0.0044)</td></tr><td colspan=\"3\" style=\"border-bottom: 1px solid black\"></td></tr><tr><td style=\"text-align: left\">Observations</td><td>226998.0</td><td>226998.0</td></tr><tr><td style=\"text-align: left\">R<sup>2</sup></td><td>0.2523</td><td>0.5086</td></tr><tr><td style=\"text-align: left\">Adjusted R<sup>2</sup></td><td>0.2523</td><td>0.5086</td></tr><tr><td style=\"text-align: left\">Residual Std. Error</td><td>0.0399(df = 226996.0)</td><td>0.0324(df = 226995.0)</td></tr><tr><td style=\"text-align: left\">F Statistic</td><td>[[8585.8722]]<sup>***</sup>(df = 1.0; 226996.0)</td><td>[[14021.9121]]<sup>***</sup>(df = 2.0; 226995.0)</td></tr><tr><td colspan=\"3\" style=\"border-bottom: 1px solid black\"></td></tr><tr><td style=\"text-align: left\">Note:</td><td colspan=\"2\" style=\"text-align: right\"><em>p&lt;0.1</em>; <b>p&lt;0.05</b>; p&lt;0.01</td></tr></table>"
      ],
      "text/plain": [
       "<IPython.core.display.HTML object>"
      ]
     },
     "execution_count": 46,
     "metadata": {},
     "output_type": "execute_result"
    }
   ],
   "source": [
    "HTML(stargazer.render_html())"
   ]
  },
  {
   "cell_type": "code",
   "execution_count": 58,
   "metadata": {},
   "outputs": [
    {
     "data": {
      "image/png": "[encoded data removed]",
      "text/plain": [
       "<Figure size 720x576 with 1 Axes>"
      ]
     },
     "metadata": {
      "needs_background": "light"
     },
     "output_type": "display_data"
    }
   ],
   "source": [
    "import matplotlib.pylab as pylab\n",
    "params = {\n",
    "        'axes.labelsize': '18',\n",
    "         'axes.titlesize':'x-large',\n",
    "         'xtick.labelsize':'x-large',\n",
    "         'ytick.labelsize':'x-large'}\n",
    "pylab.rcParams.update(params)\n",
    "\n",
    "plt.figure(figsize=(10, 8))\n",
    "ax = sns.regplot(x='Propensity', y='ITE',\n",
    "                 data=learner_df, \n",
    "                 order=1,\n",
    "                 ci=100, \n",
    "                 marker=\"+\",\n",
    "                 scatter_kws={'color':'#9CCC65',\"s\": 50}, \n",
    "                 line_kws={'color':'#FF5722'})\n",
    "\n",
    "plt.xlabel(\"Vote Propensity\")\n",
    "plt.ylabel(\"Individual Treatment Effect (ITE)\")\n",
    "\n",
    "plt.title('Arizona ITE by Vote Propensity (Linear Fit)',\n",
    "          {'fontsize': 20,\n",
    "        'fontweight' : 5})\n",
    "plt.tight_layout()\n",
    "plt.savefig('AZ One with Line', dpi=800)"
   ]
  },
  {
   "cell_type": "code",
   "execution_count": 59,
   "metadata": {},
   "outputs": [
    {
     "data": {
      "image/png": "[encoded data removed]",
      "text/plain": [
       "<Figure size 720x576 with 1 Axes>"
      ]
     },
     "metadata": {
      "needs_background": "light"
     },
     "output_type": "display_data"
    }
   ],
   "source": [
    "plt.figure(figsize=(10, 8))\n",
    "ax = sns.regplot(x='Propensity', y='ITE',\n",
    "                 data=learner_df[learner_df.Propensity>0.5], \n",
    "                 order=1,\n",
    "                 ci=100, \n",
    "                 marker=\"+\",\n",
    "                 scatter_kws={'color':'#9CCC65',\"s\": 50}, \n",
    "                 line_kws={'color':'#FF5722'})\n",
    "\n",
    "plt.xlabel(\"Vote Propensity\")\n",
    "plt.ylabel(\"Individual Treatment Effect (ITE)\")\n",
    "\n",
    "plt.title('Arizona ITE by Vote Propensity (Linear Fit Propensity above 0.5)',\n",
    "          {'fontsize': 20,\n",
    "        'fontweight' : 5})\n",
    "plt.tight_layout()\n",
    "plt.savefig('AZ One Higher Half with Line', dpi=800)"
   ]
  },
  {
   "cell_type": "code",
   "execution_count": 60,
   "metadata": {},
   "outputs": [
    {
     "data": {
      "image/png": "[encoded data removed]",
      "text/plain": [
       "<Figure size 720x576 with 1 Axes>"
      ]
     },
     "metadata": {
      "needs_background": "light"
     },
     "output_type": "display_data"
    }
   ],
   "source": [
    "plt.figure(figsize=(10, 8))\n",
    "ax = sns.regplot(x='Propensity', y='ITE',\n",
    "                 data=learner_df, \n",
    "                 order=2,\n",
    "                 ci=100, \n",
    "                 marker=\"+\",\n",
    "                 scatter_kws={'color':'#039be5',\"s\": 50}, \n",
    "                 line_kws={'color':'#FF5722'})\n",
    "\n",
    "plt.xlabel(\"Vote Propensity\")\n",
    "plt.ylabel(\"Individual Treatment Effect (ITE)\")\n",
    "\n",
    "plt.title('Arizona ITE by Vote Propensity',\n",
    "          {'fontsize': 20,\n",
    "        'fontweight' : 5})\n",
    "plt.tight_layout()\n",
    "plt.savefig('AZ One with Parabola', dpi=800)"
   ]
  },
  {
   "cell_type": "code",
   "execution_count": 61,
   "metadata": {},
   "outputs": [
    {
     "data": {
      "image/png": "[encoded data removed]",
      "text/plain": [
       "<Figure size 720x576 with 1 Axes>"
      ]
     },
     "metadata": {
      "needs_background": "light"
     },
     "output_type": "display_data"
    }
   ],
   "source": [
    "plt.figure(figsize=(10, 8))\n",
    "ax = sns.regplot(x='Propensity', y='ITE',\n",
    "                 data=learner_df[learner_df.Propensity>0.5], \n",
    "                 order=2,\n",
    "                 ci=100, \n",
    "                 marker=\"+\",\n",
    "                 scatter_kws={'color':'#039be5',\"s\": 50}, \n",
    "                 line_kws={'color':'#FF5722'})\n",
    "\n",
    "plt.xlabel(\"Vote Propensity\")\n",
    "plt.ylabel(\"Individual Treatment Effect (ITE)\")\n",
    "\n",
    "plt.title('Arizona ITE by Vote Propensity (Parabola Fit Propensity above 0.5)',\n",
    "          {'fontsize': 20,\n",
    "        'fontweight' : 5})\n",
    "plt.tight_layout()\n",
    "plt.savefig('AZ One Higher Half with Parabola', dpi=800)"
   ]
  },
  {
   "cell_type": "code",
   "execution_count": 62,
   "metadata": {
    "scrolled": true
   },
   "outputs": [],
   "source": [
    "import numpy as np\n",
    "import matplotlib.pyplot as plt\n",
    "from scipy.optimize import curve_fit\n",
    "\n",
    "def sigmoid(x, a, b, c, d):\n",
    "    # a adjusts amplitude\n",
    "    # b adjusts y offset\n",
    "    # c adjusts x offset\n",
    "    # d adjusts slope\n",
    "    return ((a - b) / (1. + np.exp(x - (c / 2)) ** d)) + b\n",
    "\n",
    "\n",
    "xdata = np.array(learner_df.Propensity)\n",
    "ydata = np.array(learner_df.ITE)\n",
    "\n",
    "\n",
    "p0 = [max(ydata), min(ydata),max(xdata), 1]\n",
    "\n",
    "# fit the data\n",
    "popt, pcov = curve_fit(sigmoid, xdata, ydata, p0)\n"
   ]
  },
  {
   "cell_type": "code",
   "execution_count": 66,
   "metadata": {},
   "outputs": [],
   "source": [
    "np.set_printoptions(suppress=True) #prevent numpy exponential \n",
    "                                   #notation on print, default False"
   ]
  },
  {
   "cell_type": "code",
   "execution_count": 67,
   "metadata": {},
   "outputs": [
    {
     "data": {
      "text/plain": [
       "array([ 0.53030111, -0.00706242,  0.76054555, 22.51102556])"
      ]
     },
     "execution_count": 67,
     "metadata": {},
     "output_type": "execute_result"
    }
   ],
   "source": [
    "popt"
   ]
  },
  {
   "cell_type": "code",
   "execution_count": 63,
   "metadata": {},
   "outputs": [
    {
     "name": "stdout",
     "output_type": "stream",
     "text": [
      "\n",
      ": boolean\n",
      "    use_inf_as_null had been deprecated and will be removed in a future\n",
      "    version. Use `use_inf_as_na` instead.\n",
      "\n"
     ]
    }
   ],
   "source": [
    "pd.reset_option(\"all\")"
   ]
  },
  {
   "cell_type": "code",
   "execution_count": 405,
   "metadata": {},
   "outputs": [],
   "source": [
    "pd.DataFrame({'az_sigmoid': popt}).to_csv('../../Machine Learing HTE/1_data/az_one/AZ_one_sigmoid.csv', index=False)"
   ]
  },
  {
   "cell_type": "code",
   "execution_count": 80,
   "metadata": {},
   "outputs": [],
   "source": [
    "X = learner_df[['Propensity']]\n",
    "X = sm.add_constant(X)"
   ]
  },
  {
   "cell_type": "code",
   "execution_count": 396,
   "metadata": {},
   "outputs": [
    {
     "data": {
      "text/plain": [
       "'sigmoid fit MSE'"
      ]
     },
     "execution_count": 396,
     "metadata": {},
     "output_type": "execute_result"
    }
   ],
   "source": [
    "from sklearn.metrics import mean_squared_error\n",
    "\n",
    "ols_mse = mean_squared_error(ydata, np.array(ols.predict(X)))\n",
    "sig_mes = mean_squared_error(ydata, np.array(sigmoid(xdata, *popt)))\n",
    "\n"
   ]
  },
  {
   "cell_type": "code",
   "execution_count": 71,
   "metadata": {},
   "outputs": [],
   "source": [
    "from sklearn.metrics import mean_squared_error"
   ]
  },
  {
   "cell_type": "code",
   "execution_count": 84,
   "metadata": {},
   "outputs": [],
   "source": [
    "ols_mse = mean_squared_error(ydata, np.array(ols.predict(X)))"
   ]
  },
  {
   "cell_type": "code",
   "execution_count": 72,
   "metadata": {},
   "outputs": [],
   "source": [
    "ols2_mse = mean_squared_error(ydata, np.array(ols2.predict(X)))"
   ]
  },
  {
   "cell_type": "code",
   "execution_count": 75,
   "metadata": {},
   "outputs": [],
   "source": [
    "sig_mes = mean_squared_error(ydata, np.array(sigmoid(xdata, *popt)))"
   ]
  },
  {
   "cell_type": "code",
   "execution_count": 85,
   "metadata": {},
   "outputs": [
    {
     "data": {
      "text/plain": [
       "'linear fit MSE: 0.001593'"
      ]
     },
     "execution_count": 85,
     "metadata": {},
     "output_type": "execute_result"
    }
   ],
   "source": [
    "'linear fit MSE: {:.6f}'.format(ols_mse)"
   ]
  },
  {
   "cell_type": "code",
   "execution_count": 86,
   "metadata": {
    "scrolled": false
   },
   "outputs": [
    {
     "data": {
      "text/plain": [
       "'Sigmoid fit MSE: 0.000420'"
      ]
     },
     "execution_count": 86,
     "metadata": {},
     "output_type": "execute_result"
    }
   ],
   "source": [
    "'Sigmoid fit MSE: {:.6f}'.format(sig_mes)"
   ]
  },
  {
   "cell_type": "code",
   "execution_count": 77,
   "metadata": {},
   "outputs": [
    {
     "data": {
      "text/plain": [
       "'Sigmoid fit MSE: 0.001047'"
      ]
     },
     "execution_count": 77,
     "metadata": {},
     "output_type": "execute_result"
    }
   ],
   "source": [
    "'Sigmoid fit MSE: {:.6f}'.format(ols2_mse)"
   ]
  },
  {
   "cell_type": "code",
   "execution_count": 78,
   "metadata": {},
   "outputs": [
    {
     "data": {
      "text/plain": [
       "'Sigmoid fit reduce MSE by 59.87%'"
      ]
     },
     "execution_count": 78,
     "metadata": {},
     "output_type": "execute_result"
    }
   ],
   "source": [
    "'Sigmoid fit reduce MSE by {:.2%}'.format(1-sig_mes/ols2_mse)"
   ]
  },
  {
   "cell_type": "code",
   "execution_count": 87,
   "metadata": {},
   "outputs": [
    {
     "data": {
      "text/plain": [
       "'Sigmoid fit reduce MSE by 73.63%'"
      ]
     },
     "execution_count": 87,
     "metadata": {},
     "output_type": "execute_result"
    }
   ],
   "source": [
    "'Sigmoid fit reduce MSE by {:.2%}'.format(1-sig_mes/ols_mse)"
   ]
  },
  {
   "cell_type": "code",
   "execution_count": 64,
   "metadata": {},
   "outputs": [
    {
     "data": {
      "image/png": "[encoded data removed]",
      "text/plain": [
       "<Figure size 720x576 with 1 Axes>"
      ]
     },
     "metadata": {
      "needs_background": "light"
     },
     "output_type": "display_data"
    }
   ],
   "source": [
    "plt.figure(figsize=(10, 8))\n",
    "# plot data\n",
    "plt.plot(xdata, ydata, '+',c='#039be5',label='data')\n",
    "\n",
    "# plot linear fit\n",
    "plt.plot(xdata, np.array(ols.predict(X)), '-',c='#7b1fa2', label='linear fit')\n",
    "\n",
    "# plot sigmoid fit\n",
    "xdata_new = np.linspace(0, 1, 1000)\n",
    "plt.plot(xdata_new, sigmoid(xdata_new, *popt), 'r-', label='sigmoid fit')\n",
    "\n",
    "\n",
    "plt.legend(loc='best')\n",
    "plt.xlabel(\"Vote Propensity\")\n",
    "plt.ylabel(\"Individual Treatment Effect (ITE)\")\n",
    "\n",
    "plt.title('Arizona ITE by Vote Propensity (linear & sigmoid Fit)',\n",
    "          {'fontsize': 20,\n",
    "        'fontweight' : 5})\n",
    "plt.tight_layout()\n",
    "plt.savefig('AZ One with both fit', dpi=800)\n",
    "plt.show()"
   ]
  },
  {
   "cell_type": "code",
   "execution_count": 375,
   "metadata": {},
   "outputs": [
    {
     "data": {
      "image/png": "[encoded data removed]",
      "text/plain": [
       "<Figure size 720x576 with 1 Axes>"
      ]
     },
     "metadata": {
      "needs_background": "light"
     },
     "output_type": "display_data"
    }
   ],
   "source": [
    "plt.figure(figsize=(10, 8))\n",
    "# plot data\n",
    "plt.plot(xdata, ydata, '+',c='#039be5',label='data')\n",
    "\n",
    "# plot the result\n",
    "xdata_new = np.linspace(0, 1, 1000)\n",
    "plt.plot(xdata_new, sigmoid(xdata_new, *popt), 'r-', label='fit')\n",
    "\n",
    "plt.legend(loc='best')\n",
    "plt.xlabel(\"Vote Propensity\")\n",
    "plt.ylabel(\"Individual Treatment Effect (ITE)\")\n",
    "\n",
    "plt.title('ITE by Vote Propensity (Sigmoid Fit)',\n",
    "          {'fontsize': 20,\n",
    "        'fontweight' : 5})\n",
    "plt.tight_layout()\n",
    "plt.savefig('AZ One with Sigmoid', dpi=800)\n",
    "plt.show()"
   ]
  },
  {
   "cell_type": "code",
   "execution_count": 391,
   "metadata": {},
   "outputs": [
    {
     "data": {
      "text/html": [
       "<div>\n",
       "<style scoped>\n",
       "    .dataframe tbody tr th:only-of-type {\n",
       "        vertical-align: middle;\n",
       "    }\n",
       "\n",
       "    .dataframe tbody tr th {\n",
       "        vertical-align: top;\n",
       "    }\n",
       "\n",
       "    .dataframe thead th {\n",
       "        text-align: right;\n",
       "    }\n",
       "</style>\n",
       "<table border=\"1\" class=\"dataframe\">\n",
       "  <thead>\n",
       "    <tr style=\"text-align: right;\">\n",
       "      <th></th>\n",
       "      <th>Propensity</th>\n",
       "      <th>ITE</th>\n",
       "      <th>Treatment</th>\n",
       "      <th>Turnout</th>\n",
       "      <th>IPW</th>\n",
       "      <th>hh_id</th>\n",
       "      <th>Propensity_square</th>\n",
       "    </tr>\n",
       "  </thead>\n",
       "  <tbody>\n",
       "    <tr>\n",
       "      <td>0</td>\n",
       "      <td>83.637%</td>\n",
       "      <td>0.914%</td>\n",
       "      <td>1</td>\n",
       "      <td>0</td>\n",
       "      <td>121.977%</td>\n",
       "      <td>24321</td>\n",
       "      <td>69.952%</td>\n",
       "    </tr>\n",
       "    <tr>\n",
       "      <td>1</td>\n",
       "      <td>54.941%</td>\n",
       "      <td>0.564%</td>\n",
       "      <td>1</td>\n",
       "      <td>0</td>\n",
       "      <td>121.799%</td>\n",
       "      <td>54491</td>\n",
       "      <td>30.185%</td>\n",
       "    </tr>\n",
       "    <tr>\n",
       "      <td>2</td>\n",
       "      <td>65.946%</td>\n",
       "      <td>0.494%</td>\n",
       "      <td>1</td>\n",
       "      <td>0</td>\n",
       "      <td>122.044%</td>\n",
       "      <td>167763</td>\n",
       "      <td>43.489%</td>\n",
       "    </tr>\n",
       "    <tr>\n",
       "      <td>3</td>\n",
       "      <td>54.941%</td>\n",
       "      <td>0.564%</td>\n",
       "      <td>1</td>\n",
       "      <td>0</td>\n",
       "      <td>121.977%</td>\n",
       "      <td>233259</td>\n",
       "      <td>30.185%</td>\n",
       "    </tr>\n",
       "    <tr>\n",
       "      <td>5</td>\n",
       "      <td>54.941%</td>\n",
       "      <td>0.564%</td>\n",
       "      <td>0</td>\n",
       "      <td>1</td>\n",
       "      <td>121.851%</td>\n",
       "      <td>2300</td>\n",
       "      <td>30.185%</td>\n",
       "    </tr>\n",
       "  </tbody>\n",
       "</table>\n",
       "</div>"
      ],
      "text/plain": [
       "   Propensity    ITE  Treatment  Turnout      IPW   hh_id  Propensity_square\n",
       "0     83.637% 0.914%          1        0 121.977%   24321            69.952%\n",
       "1     54.941% 0.564%          1        0 121.799%   54491            30.185%\n",
       "2     65.946% 0.494%          1        0 122.044%  167763            43.489%\n",
       "3     54.941% 0.564%          1        0 121.977%  233259            30.185%\n",
       "5     54.941% 0.564%          0        1 121.851%    2300            30.185%"
      ]
     },
     "execution_count": 391,
     "metadata": {},
     "output_type": "execute_result"
    }
   ],
   "source": [
    "learner_df.head()"
   ]
  },
  {
   "cell_type": "markdown",
   "metadata": {},
   "source": [
    "# Simulation"
   ]
  },
  {
   "cell_type": "code",
   "execution_count": 3,
   "metadata": {
    "scrolled": true
   },
   "outputs": [],
   "source": [
    "learner_df = pd.read_csv('../../Machine Learing HTE/1_data/az_one/AZ_one_with_ITEs.csv')"
   ]
  },
  {
   "cell_type": "code",
   "execution_count": 4,
   "metadata": {},
   "outputs": [
    {
     "data": {
      "text/plain": [
       "1    185885\n",
       "0     41113\n",
       "Name: Treatment, dtype: int64"
      ]
     },
     "execution_count": 4,
     "metadata": {},
     "output_type": "execute_result"
    }
   ],
   "source": [
    "learner_df.Treatment.value_counts()"
   ]
  },
  {
   "cell_type": "code",
   "execution_count": 5,
   "metadata": {
    "scrolled": true
   },
   "outputs": [
    {
     "data": {
      "text/plain": [
       "<matplotlib.axes._subplots.AxesSubplot at 0x101cde7f0>"
      ]
     },
     "execution_count": 5,
     "metadata": {},
     "output_type": "execute_result"
    },
    {
     "data": {
      "image/png": "[encoded data removed]",
      "text/plain": [
       "<Figure size 432x288 with 1 Axes>"
      ]
     },
     "metadata": {
      "needs_background": "light"
     },
     "output_type": "display_data"
    }
   ],
   "source": [
    "\n",
    "\n",
    "sim = learner_df.sort_values('Propensity',ascending=True).reset_index(drop=True)\n",
    "\n",
    "sim.Treatment.value_counts()\n",
    "\n",
    "sim.Propensity.plot('hist')"
   ]
  },
  {
   "cell_type": "code",
   "execution_count": 6,
   "metadata": {
    "scrolled": true
   },
   "outputs": [
    {
     "data": {
      "text/html": [
       "<div>\n",
       "<style scoped>\n",
       "    .dataframe tbody tr th:only-of-type {\n",
       "        vertical-align: middle;\n",
       "    }\n",
       "\n",
       "    .dataframe tbody tr th {\n",
       "        vertical-align: top;\n",
       "    }\n",
       "\n",
       "    .dataframe thead th {\n",
       "        text-align: right;\n",
       "    }\n",
       "</style>\n",
       "<table border=\"1\" class=\"dataframe\">\n",
       "  <thead>\n",
       "    <tr style=\"text-align: right;\">\n",
       "      <th></th>\n",
       "      <th>Propensity</th>\n",
       "      <th>ITE</th>\n",
       "      <th>Treatment</th>\n",
       "      <th>Turnout</th>\n",
       "      <th>hh_id</th>\n",
       "      <th>Propensity_square</th>\n",
       "      <th>Propensity Range</th>\n",
       "    </tr>\n",
       "  </thead>\n",
       "  <tbody>\n",
       "    <tr>\n",
       "      <th>226993</th>\n",
       "      <td>1.0</td>\n",
       "      <td>-0.079373</td>\n",
       "      <td>1</td>\n",
       "      <td>1</td>\n",
       "      <td>143051</td>\n",
       "      <td>1.0</td>\n",
       "      <td>(0.9, 1.0]</td>\n",
       "    </tr>\n",
       "    <tr>\n",
       "      <th>226994</th>\n",
       "      <td>1.0</td>\n",
       "      <td>-0.079373</td>\n",
       "      <td>1</td>\n",
       "      <td>1</td>\n",
       "      <td>130827</td>\n",
       "      <td>1.0</td>\n",
       "      <td>(0.9, 1.0]</td>\n",
       "    </tr>\n",
       "    <tr>\n",
       "      <th>226995</th>\n",
       "      <td>1.0</td>\n",
       "      <td>-0.079373</td>\n",
       "      <td>1</td>\n",
       "      <td>1</td>\n",
       "      <td>10810</td>\n",
       "      <td>1.0</td>\n",
       "      <td>(0.9, 1.0]</td>\n",
       "    </tr>\n",
       "    <tr>\n",
       "      <th>226996</th>\n",
       "      <td>1.0</td>\n",
       "      <td>-0.079373</td>\n",
       "      <td>1</td>\n",
       "      <td>1</td>\n",
       "      <td>95115</td>\n",
       "      <td>1.0</td>\n",
       "      <td>(0.9, 1.0]</td>\n",
       "    </tr>\n",
       "    <tr>\n",
       "      <th>226997</th>\n",
       "      <td>1.0</td>\n",
       "      <td>-0.079373</td>\n",
       "      <td>1</td>\n",
       "      <td>1</td>\n",
       "      <td>222331</td>\n",
       "      <td>1.0</td>\n",
       "      <td>(0.9, 1.0]</td>\n",
       "    </tr>\n",
       "  </tbody>\n",
       "</table>\n",
       "</div>"
      ],
      "text/plain": [
       "        Propensity       ITE  Treatment  Turnout   hh_id  Propensity_square  \\\n",
       "226993         1.0 -0.079373          1        1  143051                1.0   \n",
       "226994         1.0 -0.079373          1        1  130827                1.0   \n",
       "226995         1.0 -0.079373          1        1   10810                1.0   \n",
       "226996         1.0 -0.079373          1        1   95115                1.0   \n",
       "226997         1.0 -0.079373          1        1  222331                1.0   \n",
       "\n",
       "       Propensity Range  \n",
       "226993       (0.9, 1.0]  \n",
       "226994       (0.9, 1.0]  \n",
       "226995       (0.9, 1.0]  \n",
       "226996       (0.9, 1.0]  \n",
       "226997       (0.9, 1.0]  "
      ]
     },
     "execution_count": 6,
     "metadata": {},
     "output_type": "execute_result"
    }
   ],
   "source": [
    "sim.tail()"
   ]
  },
  {
   "cell_type": "code",
   "execution_count": 7,
   "metadata": {},
   "outputs": [],
   "source": [
    "sim.loc[0: 185885,'sim_treat'] = 1\n",
    "\n",
    "sim.loc[185885:,'sim_treat'] = 0"
   ]
  },
  {
   "cell_type": "code",
   "execution_count": 8,
   "metadata": {},
   "outputs": [],
   "source": [
    "# display and export regression table\n",
    "from stargazer.stargazer import Stargazer\n",
    "from IPython.core.display import HTML\n",
    "from IPython.display import Latex"
   ]
  },
  {
   "cell_type": "code",
   "execution_count": 9,
   "metadata": {},
   "outputs": [
    {
     "data": {
      "text/html": [
       "ITE vs Simulation (Arizona One)<br><table style=\"text-align:center\"><tr><td colspan=\"3\" style=\"border-bottom: 1px solid black\"></td></tr><tr><td style=\"text-align:left\"></td><td colspan=\"2\"><em>Dependent variable:</em></td></tr><tr><td style=\"text-align:left\"></td><tr><td colspan=\"1\">Treatment Assignment</td><td colspan=\"1\">Optimized</td></tr><tr><td colspan=\"3\" style=\"border-bottom: 1px solid black\"></td></tr><tr><td style=\"text-align:left\">Intercept</td><td>0.0041<sup>***</sup></td><td>-0.023<sup>***</sup></td></tr><tr><td style=\"text-align:left\"></td><td>(0.0002)</td><td>(0.0002)</td></tr><tr><td style=\"text-align:left\">Treatment</td><td>0.0005<sup>**</sup></td><td></td></tr><tr><td style=\"text-align:left\"></td><td>(0.0002)</td><td></td></tr><tr><td style=\"text-align:left\">Optimized Alloaction</td><td></td><td>0.0336<sup>***</sup></td></tr><tr><td style=\"text-align:left\"></td><td></td><td>(0.0002)</td></tr><td colspan=\"3\" style=\"border-bottom: 1px solid black\"></td></tr><tr><td style=\"text-align: left\">Observations</td><td>226998.0</td><td>226998.0</td></tr><tr><td style=\"text-align: left\">R<sup>2</sup></td><td>0.0</td><td>0.0786</td></tr><tr><td style=\"text-align: left\">Adjusted R<sup>2</sup></td><td>0.0</td><td>0.0786</td></tr><tr><td style=\"text-align: left\">Residual Std. Error</td><td>0.0462(df = 226996.0)</td><td>0.0443(df = 226996.0)</td></tr><tr><td style=\"text-align: left\">F Statistic</td><td>[[4.6853]]<sup>**</sup>(df = 1.0; 226996.0)</td><td>[[32486.7879]]<sup>***</sup>(df = 1.0; 226996.0)</td></tr><tr><td colspan=\"3\" style=\"border-bottom: 1px solid black\"></td></tr><tr><td style=\"text-align: left\">Note:</td><td colspan=\"2\" style=\"text-align: right\"><em>p&lt;0.1</em>; <b>p&lt;0.05</b>; p&lt;0.01</td></tr></table>"
      ],
      "text/plain": [
       "<IPython.core.display.HTML object>"
      ]
     },
     "execution_count": 9,
     "metadata": {},
     "output_type": "execute_result"
    }
   ],
   "source": [
    "\n",
    "\n",
    "\n",
    "X = sim[['sim_treat']]\n",
    "\n",
    "X = sm.add_constant(X)\n",
    "\n",
    "y = sim['ITE']\n",
    "\n",
    "sm_az = sm.OLS(y, X).fit(cov_type='cluster', cov_kwds={'groups': sim['hh_id']})\n",
    "\n",
    "X = sim[['Treatment']]\n",
    "\n",
    "X = sm.add_constant(X)\n",
    "\n",
    "y = sim['ITE']\n",
    "\n",
    "\n",
    "ite_il = sm.OLS(y, X).fit(cov_type='cluster', cov_kwds={'groups': sim['hh_id']})\n",
    "\n",
    "stargazer = Stargazer([ite_il,sm_az])\n",
    "stargazer.significant_digits(4)\n",
    "stargazer.title('ITE vs Simulation (Arizona One)')\n",
    "stargazer.covariate_order(['const',  'Treatment','sim_treat'])\n",
    "\n",
    "stargazer.rename_covariates({'const': 'Intercept',\n",
    "                            'sim_treat': 'Optimized Alloaction'})\n",
    "\n",
    "\n",
    "stargazer.custom_columns(['Treatment Assignment', 'Optimized'], [1,1])\n",
    "HTML(stargazer.render_html())"
   ]
  },
  {
   "cell_type": "code",
   "execution_count": 10,
   "metadata": {},
   "outputs": [
    {
     "data": {
      "text/latex": [
       "\\begin{table}[!htbp] \\centering\n",
       "  \\caption{ITE vs Simulation (Arizona One)}\n",
       "  \\label{}\n",
       "\\begin{tabular}{@{\\extracolsep{5pt}}lcc}\n",
       "\\\\[-1.8ex]\\hline\n",
       "\\hline \\\\[-1.8ex]\n",
       "& \\multicolumn{2}{c}{\\textit{Dependent variable:}} \\\n",
       "\\cr \\cline{2-3}\n",
       "\\\\[-1.8ex] & \\multicolumn{1}{c}{Treatment Assignment} & \\multicolumn{1}{c}{Optimized}  \\\\\n",
       "\\hline \\\\[-1.8ex]\n",
       " Intercept & 0.0041$^{***}$ & -0.023$^{***}$ \\\\\n",
       "  & (0.0002) & (0.0002) \\\\\n",
       "  & & \\\\\n",
       " Treatment & 0.0005$^{**}$ & \\\\\n",
       "  & (0.0002) & \\\\\n",
       "  & & \\\\\n",
       " Optimized Alloaction & & 0.0336$^{***}$ \\\\\n",
       "  & & (0.0002) \\\\\n",
       "  & & \\\\\n",
       "\\hline \\\\[-1.8ex]\n",
       " Observations & 226998.0 & 226998.0 \\\\\n",
       " R${2}$ & 0.0 & 0.0786 \\\\\n",
       " Adjusted R${2}$ & 0.0 & 0.0786 \\\\\n",
       " Residual Std. Error & 0.0462(df = 226996.0) & 0.0443(df = 226996.0)  \\\\\n",
       " F Statistic & [[4.6853]]$^{**}$ (df = 1.0; 226996.0) & [[32486.7879]]$^{***}$ (df = 1.0; 226996.0) \\\\\n",
       "\\hline\n",
       "\\hline \\\\[-1.8ex]\n",
       "\\textit{Note:} & \\multicolumn{2}{r}{$^{*}$p$<$0.1; $^{**}$p$<$0.05; $^{***}$p$<$0.01} \\\\\n",
       "\\end{tabular}\n",
       "\\end{table}"
      ],
      "text/plain": [
       "<IPython.core.display.Latex object>"
      ]
     },
     "execution_count": 10,
     "metadata": {},
     "output_type": "execute_result"
    }
   ],
   "source": [
    "Latex(stargazer.render_latex())"
   ]
  },
  {
   "cell_type": "code",
   "execution_count": null,
   "metadata": {},
   "outputs": [],
   "source": []
  }
 ],
 "metadata": {
  "kernelspec": {
   "display_name": "Python 3",
   "language": "python",
   "name": "python3"
  },
  "language_info": {
   "codemirror_mode": {
    "name": "ipython",
    "version": 3
   },
   "file_extension": ".py",
   "mimetype": "text/x-python",
   "name": "python",
   "nbconvert_exporter": "python",
   "pygments_lexer": "ipython3",
   "version": "3.7.3"
  },
  "toc": {
   "base_numbering": 1,
   "nav_menu": {},
   "number_sections": true,
   "sideBar": true,
   "skip_h1_title": false,
   "title_cell": "Table of Contents",
   "title_sidebar": "Contents",
   "toc_cell": true,
   "toc_position": {},
   "toc_section_display": true,
   "toc_window_display": false
  }
 },
 "nbformat": 4,
 "nbformat_minor": 2
}
